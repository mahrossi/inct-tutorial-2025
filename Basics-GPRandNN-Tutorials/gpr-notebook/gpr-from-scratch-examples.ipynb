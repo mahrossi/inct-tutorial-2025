{
 "cells": [
  {
   "cell_type": "markdown",
   "id": "117d3726",
   "metadata": {
    "editable": true,
    "slideshow": {
     "slide_type": "slide"
    },
    "tags": []
   },
   "source": [
    "# Gaussian process regression - hands on implementation"
   ]
  },
  {
   "cell_type": "markdown",
   "id": "87a6f995",
   "metadata": {
    "editable": true,
    "slideshow": {
     "slide_type": ""
    },
    "tags": []
   },
   "source": [
    "## Overview"
   ]
  },
  {
   "cell_type": "markdown",
   "id": "dcb462c6",
   "metadata": {
    "editable": true,
    "slideshow": {
     "slide_type": ""
    },
    "tags": []
   },
   "source": [
    "Disclaimer: This book is based on the original notebook from https://gitlab.com/youtube-optimization-geeks/uncertainty-quantification @fabrang-paretos\n",
    "\n",
    "In this notebook, we will present an implmentation of a Gaussian Process Regressor (GPR) \"from scratch\", using a squared exponential kernel. \n",
    "\n",
    "The notebook intends to increase the understanding and intuition about how GPR can be used in regression problems. It is _not_ intended as a theoretical introduction to GPRs.\n",
    "The book of Rasmussen and Williams, _Gaussian Processes for Machine Learning_, contains perhaps the best theoretical introduction to GPR and a pdf version of the book can be accessed [here](http://www.gaussianprocess.org/gpml/chapters/RW.pdf). \n",
    "\n",
    "Optimized implementations of GPR's are available, for example, in the [gpytorch](https://gpytorch.ai) package or in the [scikit-learn](https://scikit-learn.org/stable/) package."
   ]
  },
  {
   "cell_type": "markdown",
   "id": "bfc98796",
   "metadata": {
    "editable": true,
    "slideshow": {
     "slide_type": "slide"
    },
    "tags": []
   },
   "source": [
    "## Packages"
   ]
  },
  {
   "cell_type": "code",
   "execution_count": 1,
   "id": "b48ebe22",
   "metadata": {
    "editable": true,
    "slideshow": {
     "slide_type": ""
    },
    "tags": []
   },
   "outputs": [],
   "source": [
    "import numpy as np\n",
    "import plotly.graph_objects as go\n",
    "import matplotlib.pyplot as plt\n",
    "from ipywidgets import interact, widgets"
   ]
  },
  {
   "cell_type": "markdown",
   "id": "4575ccbd",
   "metadata": {
    "editable": true,
    "jp-MarkdownHeadingCollapsed": true,
    "slideshow": {
     "slide_type": ""
    },
    "tags": []
   },
   "source": [
    "## Plotting helper functions"
   ]
  },
  {
   "cell_type": "markdown",
   "id": "caa8c0bf",
   "metadata": {
    "editable": true,
    "slideshow": {
     "slide_type": ""
    },
    "tags": []
   },
   "source": [
    "To have nice visualizations of the later GPR, we use Plotly and to have structured and lean code, we define a few commonly used 'helpers' here. "
   ]
  },
  {
   "cell_type": "code",
   "execution_count": 2,
   "id": "ad8a0219",
   "metadata": {
    "code_folding": [
     0
    ],
    "editable": true,
    "slideshow": {
     "slide_type": ""
    },
    "tags": []
   },
   "outputs": [],
   "source": [
    "def update_layout_of_graph(fig: go.Figure,title: str = 'Plot')->go.Figure:\n",
    "    fig.update_layout(\n",
    "        width=800,\n",
    "        height=600,\n",
    "        autosize=False,\n",
    "        plot_bgcolor='rgba(0,0,0,0)',\n",
    "        title=title,\n",
    "        \n",
    "    )\n",
    "    fig.update_layout(plot_bgcolor='rgba(0,0,0,0)',\n",
    "                      xaxis_title = 'input values',\n",
    "                      yaxis_title = 'output values',\n",
    "                      legend=dict(yanchor=\"top\",\n",
    "                                  y=0.3,\n",
    "                                  xanchor=\"right\",\n",
    "                                  x=0.95),\n",
    "                      title={\n",
    "                          'x': 0.5,\n",
    "                          'xanchor': 'center'\n",
    "                      })\n",
    "    fig.update_xaxes(showline=True, linewidth=1, linecolor='black')\n",
    "    fig.update_yaxes(showline=True, linewidth=1, linecolor='black')\n",
    "    return fig"
   ]
  },
  {
   "cell_type": "code",
   "execution_count": 3,
   "id": "66e5a661",
   "metadata": {
    "code_folding": [
     0,
     6
    ],
    "editable": true,
    "slideshow": {
     "slide_type": ""
    },
    "tags": []
   },
   "outputs": [],
   "source": [
    "def line_scatter(\n",
    "    visible: bool = True,\n",
    "    x_lines: np.array = np.array([]),\n",
    "    y_lines: np.array = np.array([]),\n",
    "    name_line: str = 'Predicted function',\n",
    "    showlegend: bool = True,\n",
    ") -> go.Scatter:\n",
    "    # Adding the lines\n",
    "    return go.Scatter(\n",
    "        visible=visible,\n",
    "        line=dict(color=\"blue\", width=2),\n",
    "        x=x_lines,\n",
    "        y=y_lines,\n",
    "        name=name_line,\n",
    "        showlegend= showlegend\n",
    "    )"
   ]
  },
  {
   "cell_type": "code",
   "execution_count": 4,
   "id": "f0b4e5ac",
   "metadata": {
    "code_folding": [
     0,
     6
    ]
   },
   "outputs": [],
   "source": [
    "def dot_scatter(\n",
    "    visible: bool = True,\n",
    "    x_dots: np.array = np.array([]),\n",
    "    y_dots: np.array = np.array([]),\n",
    "    name_dots: str = 'Training points',\n",
    "    showlegend: bool = True\n",
    ") -> go.Scatter:\n",
    "    # Adding the dots\n",
    "    return go.Scatter(\n",
    "        x=x_dots,\n",
    "        visible=visible,\n",
    "        y=y_dots,\n",
    "        mode=\"markers\",\n",
    "        name=name_dots,\n",
    "        marker=dict(color='red', size=8),\n",
    "        showlegend=showlegend\n",
    "    )"
   ]
  },
  {
   "cell_type": "code",
   "execution_count": 5,
   "id": "a50951ad",
   "metadata": {},
   "outputs": [],
   "source": [
    "def dot_scatter2(\n",
    "    visible: bool = True,\n",
    "    x_dots: np.array = np.array([]),\n",
    "    y_dots: np.array = np.array([]),\n",
    "    name_dots: str = 'True function',\n",
    "    showlegend: bool = True\n",
    ") -> go.Scatter:\n",
    "    # Adding the dots\n",
    "    return go.Scatter(\n",
    "        x=x_dots,\n",
    "        visible=visible,\n",
    "        y=y_dots,\n",
    "        line=dict(color=\"pink\", width=2),\n",
    "#        mode=\"markers\",\n",
    "        name=name_dots,\n",
    "#        marker=dict(color='red', size=8),\n",
    "        showlegend=showlegend\n",
    "    )"
   ]
  },
  {
   "cell_type": "code",
   "execution_count": 6,
   "id": "8dda25c4",
   "metadata": {
    "code_folding": [
     0,
     6
    ]
   },
   "outputs": [],
   "source": [
    "def uncertainty_area_scatter(\n",
    "        visible: bool = True,\n",
    "        x_lines: np.array = np.array([]),\n",
    "        y_upper: np.array = np.array([]),\n",
    "        y_lower: np.array = np.array([]),\n",
    "        name: str = \"mean plus/minus standard deviation\",\n",
    ") -> go.Scatter:\n",
    "\n",
    "    return go.Scatter(\n",
    "        visible=visible,\n",
    "        x=np.concatenate((x_lines, x_lines[::-1])),  # x, then x reversed\n",
    "        # upper, then lower reversed\n",
    "        y=np.concatenate((y_upper, y_lower[::-1])),\n",
    "        fill='toself',\n",
    "        fillcolor='rgba(189,195,199,0.5)',\n",
    "        line=dict(color='rgba(200,200,200,0)'),\n",
    "        hoverinfo=\"skip\",\n",
    "        showlegend=True,\n",
    "        name= name,\n",
    "    )"
   ]
  },
  {
   "cell_type": "code",
   "execution_count": 7,
   "id": "6a0be169",
   "metadata": {
    "code_folding": [
     0
    ]
   },
   "outputs": [],
   "source": [
    "def add_slider_GPR(figure: go.Figure, parameters):\n",
    "    figure.data[0].visible = True\n",
    "    figure.data[1].visible = True\n",
    "\n",
    "    # Create and add slider\n",
    "    steps = []\n",
    "    for i in range(int((len(figure.data) - 1) / 2)):\n",
    "        step = dict(\n",
    "            method=\"update\",\n",
    "            label=f'{parameters[i]: .2f}',\n",
    "            args=[{\n",
    "                \"visible\": [False] * (len(figure.data) - 1) + [True]\n",
    "            }],\n",
    "        )\n",
    "        step[\"args\"][0][\"visible\"][2 *\n",
    "                                   i] = True  # Toggle i'th trace to \"visible\"\n",
    "        step[\"args\"][0][\"visible\"][2 * i + 1] = True\n",
    "        steps.append(step)\n",
    "\n",
    "    sliders = [dict(\n",
    "        active=0,\n",
    "        pad={\"t\": 50},\n",
    "        steps=steps,\n",
    "    )]\n",
    "    figure.update_layout(sliders=sliders, )\n",
    "    return figure"
   ]
  },
  {
   "cell_type": "code",
   "execution_count": 8,
   "id": "cf44e383",
   "metadata": {
    "code_folding": [
     0
    ]
   },
   "outputs": [],
   "source": [
    "def add_slider_to_function(figure:go.Figure, parameters):\n",
    "    figure.data[0].visible = True\n",
    "\n",
    "    # Create and add slider\n",
    "    steps = []\n",
    "    for i in range(len(figure.data)):\n",
    "        step = dict(\n",
    "            method=\"update\",\n",
    "            label=f'{parameters[i]: .2f}',\n",
    "            args=[{\n",
    "                \"visible\": [False] *len(figure.data) \n",
    "            }],\n",
    "        )\n",
    "        step[\"args\"][0][\"visible\"][i] = True  # Toggle i'th trace to \"visible\"\n",
    "        steps.append(step)\n",
    "\n",
    "    sliders = [dict(\n",
    "        active=0,\n",
    "        pad={\"t\": 50},\n",
    "        steps=steps,\n",
    "    )]\n",
    "    figure.update_layout(sliders=sliders, )\n",
    "    return figure"
   ]
  },
  {
   "cell_type": "markdown",
   "id": "9058664e",
   "metadata": {},
   "source": [
    "## Implementation of GPR with squared exponential kernel"
   ]
  },
  {
   "cell_type": "markdown",
   "id": "db40cace-ee4b-46d5-a975-d50b10298ee3",
   "metadata": {},
   "source": [
    "### The kernel (or covariance) function"
   ]
  },
  {
   "cell_type": "markdown",
   "id": "fa792ab3",
   "metadata": {},
   "source": [
    "As discussed in the lecture, the definition of a gaussian process regressor (GPR) relies on the definition of the kernel, which can also be called the covariance function. There are many possible choices for this function. \n",
    "\n",
    "In this notebook we choose the popular _squared exponential_ kernel:\n",
    "$$ k(x_1,x_2):= \\sigma^2*\\exp[-(x_1-x_2)^2/(2*l^2)]$$\n",
    "with $$l>0$$ the lengthscale and $$\\sigma^2>0$$ the signal variance. The squared exponential kernel is really a Gaussian function, but this should not be confused with the _Gaussian process_ that we will define below. A _Gaussian process_ can be defined with many different kernels. \n",
    "\n",
    "**Bonus exercise**: Could you implement a different kernel and see the difference in the resulting GPR? Some examples are the [Dot Product kernel](https://scikit-learn.org/stable/modules/generated/sklearn.gaussian_process.kernels.DotProduct.html#sklearn.gaussian_process.kernels.DotProduct) or the [Rational Quadratic kernel](https://scikit-learn.org/stable/modules/generated/sklearn.gaussian_process.kernels.RationalQuadratic.html#sklearn.gaussian_process.kernels.RationalQuadratic). Examples of how GPRs look with different kernels can be found [here](https://scikit-learn.org/stable/modules/gaussian_process.html)."
   ]
  },
  {
   "cell_type": "code",
   "execution_count": 9,
   "id": "cbc55090",
   "metadata": {},
   "outputs": [],
   "source": [
    "class SquaredExponentialKernel:\n",
    "    def __init__(self, sigma_f: float = 1, length: float = 0.5):\n",
    "        self.sigma_f = sigma_f\n",
    "        self.length = length\n",
    "\n",
    "    def __call__(self, argument_1: np.array, argument_2: np.array) -> float:\n",
    "        return float(self.sigma_f *\n",
    "                     np.exp(-(np.linalg.norm(argument_1 - argument_2)**2) /\n",
    "                            (2 * self.length**2)))"
   ]
  },
  {
   "cell_type": "markdown",
   "id": "b23258da",
   "metadata": {},
   "source": [
    "Let us visualize this kernel."
   ]
  },
  {
   "cell_type": "code",
   "execution_count": 10,
   "id": "e1cd79c0",
   "metadata": {},
   "outputs": [
    {
     "data": {
      "application/vnd.jupyter.widget-view+json": {
       "model_id": "4047084cb7b342fca3b1a5a2eee6191e",
       "version_major": 2,
       "version_minor": 0
      },
      "text/plain": [
       "interactive(children=(FloatSlider(value=1.0, description='length', max=3.0, min=0.1), FloatSlider(value=1.0, d…"
      ]
     },
     "metadata": {},
     "output_type": "display_data"
    },
    {
     "data": {
      "application/vnd.jupyter.widget-view+json": {
       "model_id": "62199eac40254069a86d43b2213839d2",
       "version_major": 2,
       "version_minor": 0
      },
      "text/plain": [
       "FigureWidget({\n",
       "    'data': [{'line': {'color': 'blue', 'width': 2},\n",
       "              'name': 'Predicted function',\n",
       "              'showlegend': True,\n",
       "              'type': 'scatter',\n",
       "              'uid': '0f5e9314-523f-4b76-90f5-a8b7e2734361',\n",
       "              'visible': True,\n",
       "              'x': array([-1.00000000e+01, -9.90000000e+00, -9.80000000e+00, -9.70000000e+00,\n",
       "                          -9.60000000e+00, -9.50000000e+00, -9.40000000e+00, -9.30000000e+00,\n",
       "                          -9.20000000e+00, -9.10000000e+00, -9.00000000e+00, -8.90000000e+00,\n",
       "                          -8.80000000e+00, -8.70000000e+00, -8.60000000e+00, -8.50000000e+00,\n",
       "                          -8.40000000e+00, -8.30000000e+00, -8.20000000e+00, -8.10000000e+00,\n",
       "                          -8.00000000e+00, -7.90000000e+00, -7.80000000e+00, -7.70000000e+00,\n",
       "                          -7.60000000e+00, -7.50000000e+00, -7.40000000e+00, -7.30000000e+00,\n",
       "                          -7.20000000e+00, -7.10000000e+00, -7.00000000e+00, -6.90000000e+00,\n",
       "                          -6.80000000e+00, -6.70000000e+00, -6.60000000e+00, -6.50000000e+00,\n",
       "                          -6.40000000e+00, -6.30000000e+00, -6.20000000e+00, -6.10000000e+00,\n",
       "                          -6.00000000e+00, -5.90000000e+00, -5.80000000e+00, -5.70000000e+00,\n",
       "                          -5.60000000e+00, -5.50000000e+00, -5.40000000e+00, -5.30000000e+00,\n",
       "                          -5.20000000e+00, -5.10000000e+00, -5.00000000e+00, -4.90000000e+00,\n",
       "                          -4.80000000e+00, -4.70000000e+00, -4.60000000e+00, -4.50000000e+00,\n",
       "                          -4.40000000e+00, -4.30000000e+00, -4.20000000e+00, -4.10000000e+00,\n",
       "                          -4.00000000e+00, -3.90000000e+00, -3.80000000e+00, -3.70000000e+00,\n",
       "                          -3.60000000e+00, -3.50000000e+00, -3.40000000e+00, -3.30000000e+00,\n",
       "                          -3.20000000e+00, -3.10000000e+00, -3.00000000e+00, -2.90000000e+00,\n",
       "                          -2.80000000e+00, -2.70000000e+00, -2.60000000e+00, -2.50000000e+00,\n",
       "                          -2.40000000e+00, -2.30000000e+00, -2.20000000e+00, -2.10000000e+00,\n",
       "                          -2.00000000e+00, -1.90000000e+00, -1.80000000e+00, -1.70000000e+00,\n",
       "                          -1.60000000e+00, -1.50000000e+00, -1.40000000e+00, -1.30000000e+00,\n",
       "                          -1.20000000e+00, -1.10000000e+00, -1.00000000e+00, -9.00000000e-01,\n",
       "                          -8.00000000e-01, -7.00000000e-01, -6.00000000e-01, -5.00000000e-01,\n",
       "                          -4.00000000e-01, -3.00000000e-01, -2.00000000e-01, -1.00000000e-01,\n",
       "                          -3.55271368e-14,  1.00000000e-01,  2.00000000e-01,  3.00000000e-01,\n",
       "                           4.00000000e-01,  5.00000000e-01,  6.00000000e-01,  7.00000000e-01,\n",
       "                           8.00000000e-01,  9.00000000e-01,  1.00000000e+00,  1.10000000e+00,\n",
       "                           1.20000000e+00,  1.30000000e+00,  1.40000000e+00,  1.50000000e+00,\n",
       "                           1.60000000e+00,  1.70000000e+00,  1.80000000e+00,  1.90000000e+00,\n",
       "                           2.00000000e+00,  2.10000000e+00,  2.20000000e+00,  2.30000000e+00,\n",
       "                           2.40000000e+00,  2.50000000e+00,  2.60000000e+00,  2.70000000e+00,\n",
       "                           2.80000000e+00,  2.90000000e+00,  3.00000000e+00,  3.10000000e+00,\n",
       "                           3.20000000e+00,  3.30000000e+00,  3.40000000e+00,  3.50000000e+00,\n",
       "                           3.60000000e+00,  3.70000000e+00,  3.80000000e+00,  3.90000000e+00,\n",
       "                           4.00000000e+00,  4.10000000e+00,  4.20000000e+00,  4.30000000e+00,\n",
       "                           4.40000000e+00,  4.50000000e+00,  4.60000000e+00,  4.70000000e+00,\n",
       "                           4.80000000e+00,  4.90000000e+00,  5.00000000e+00,  5.10000000e+00,\n",
       "                           5.20000000e+00,  5.30000000e+00,  5.40000000e+00,  5.50000000e+00,\n",
       "                           5.60000000e+00,  5.70000000e+00,  5.80000000e+00,  5.90000000e+00,\n",
       "                           6.00000000e+00,  6.10000000e+00,  6.20000000e+00,  6.30000000e+00,\n",
       "                           6.40000000e+00,  6.50000000e+00,  6.60000000e+00,  6.70000000e+00,\n",
       "                           6.80000000e+00,  6.90000000e+00,  7.00000000e+00,  7.10000000e+00,\n",
       "                           7.20000000e+00,  7.30000000e+00,  7.40000000e+00,  7.50000000e+00,\n",
       "                           7.60000000e+00,  7.70000000e+00,  7.80000000e+00,  7.90000000e+00,\n",
       "                           8.00000000e+00,  8.10000000e+00,  8.20000000e+00,  8.30000000e+00,\n",
       "                           8.40000000e+00,  8.50000000e+00,  8.60000000e+00,  8.70000000e+00,\n",
       "                           8.80000000e+00,  8.90000000e+00,  9.00000000e+00,  9.10000000e+00,\n",
       "                           9.20000000e+00,  9.30000000e+00,  9.40000000e+00,  9.50000000e+00,\n",
       "                           9.60000000e+00,  9.70000000e+00,  9.80000000e+00,  9.90000000e+00]),\n",
       "              'y': array([1.92874985e-22, 5.21673666e-22, 1.39694394e-21, 3.70353198e-21,\n",
       "                          9.72098502e-21, 2.52616378e-20, 6.49934797e-20, 1.65552266e-19,\n",
       "                          4.17501006e-19, 1.04240618e-18, 2.57675711e-18, 6.30618989e-18,\n",
       "                          1.52797997e-17, 3.66543340e-17, 8.70542662e-17, 2.04697171e-16,\n",
       "                          4.76530474e-16, 1.09831413e-15, 2.50622189e-15, 5.66199552e-15,\n",
       "                          1.26641655e-14, 2.80440474e-14, 6.14839641e-14, 1.33456608e-13,\n",
       "                          2.86797501e-13, 6.10193668e-13, 1.28533723e-12, 2.68054764e-12,\n",
       "                          5.53461007e-12, 1.13137762e-11, 2.28973485e-11, 4.58796249e-11,\n",
       "                          9.10147076e-11, 1.78755887e-10, 3.47589128e-10, 6.69158609e-10,\n",
       "                          1.27540763e-09, 2.40672244e-09, 4.49634946e-09, 8.31670246e-09,\n",
       "                          1.52299797e-08, 2.76124246e-08, 4.95640532e-08, 8.80817920e-08,\n",
       "                          1.54975314e-07, 2.69957850e-07, 4.65571572e-07, 7.94939362e-07,\n",
       "                          1.34381228e-06, 2.24905597e-06, 3.72665317e-06, 6.11356797e-06,\n",
       "                          9.92950431e-06, 1.59667839e-05, 2.54193465e-05, 4.00652974e-05,\n",
       "                          6.25215038e-05, 9.65934137e-05, 1.47748360e-04, 2.23745794e-04,\n",
       "                          3.35462628e-04, 4.97955422e-04, 7.31802419e-04, 1.06476624e-03,\n",
       "                          1.53381068e-03, 2.18749112e-03, 3.08871541e-03, 4.31784001e-03,\n",
       "                          5.97602290e-03, 8.18870101e-03, 1.11089965e-02, 1.49207861e-02,\n",
       "                          1.98410947e-02, 2.61214099e-02, 3.40474547e-02, 4.39369336e-02,\n",
       "                          5.61347628e-02, 7.10053537e-02, 8.89216175e-02, 1.10250525e-01,\n",
       "                          1.35335283e-01, 1.64474457e-01, 1.97898699e-01, 2.35746077e-01,\n",
       "                          2.78037300e-01, 3.24652467e-01, 3.75311099e-01, 4.29557358e-01,\n",
       "                          4.86752256e-01, 5.46074427e-01, 6.06530660e-01, 6.66976811e-01,\n",
       "                          7.26149037e-01, 7.82704538e-01, 8.35270211e-01, 8.82496903e-01,\n",
       "                          9.23116346e-01, 9.55997482e-01, 9.80198673e-01, 9.95012479e-01,\n",
       "                          1.00000000e+00, 9.95012479e-01, 9.80198673e-01, 9.55997482e-01,\n",
       "                          9.23116346e-01, 8.82496903e-01, 8.35270211e-01, 7.82704538e-01,\n",
       "                          7.26149037e-01, 6.66976811e-01, 6.06530660e-01, 5.46074427e-01,\n",
       "                          4.86752256e-01, 4.29557358e-01, 3.75311099e-01, 3.24652467e-01,\n",
       "                          2.78037300e-01, 2.35746077e-01, 1.97898699e-01, 1.64474457e-01,\n",
       "                          1.35335283e-01, 1.10250525e-01, 8.89216175e-02, 7.10053537e-02,\n",
       "                          5.61347628e-02, 4.39369336e-02, 3.40474547e-02, 2.61214099e-02,\n",
       "                          1.98410947e-02, 1.49207861e-02, 1.11089965e-02, 8.18870101e-03,\n",
       "                          5.97602290e-03, 4.31784001e-03, 3.08871541e-03, 2.18749112e-03,\n",
       "                          1.53381068e-03, 1.06476624e-03, 7.31802419e-04, 4.97955422e-04,\n",
       "                          3.35462628e-04, 2.23745794e-04, 1.47748360e-04, 9.65934137e-05,\n",
       "                          6.25215038e-05, 4.00652974e-05, 2.54193465e-05, 1.59667839e-05,\n",
       "                          9.92950431e-06, 6.11356797e-06, 3.72665317e-06, 2.24905597e-06,\n",
       "                          1.34381228e-06, 7.94939362e-07, 4.65571572e-07, 2.69957850e-07,\n",
       "                          1.54975314e-07, 8.80817920e-08, 4.95640532e-08, 2.76124246e-08,\n",
       "                          1.52299797e-08, 8.31670246e-09, 4.49634946e-09, 2.40672244e-09,\n",
       "                          1.27540763e-09, 6.69158609e-10, 3.47589128e-10, 1.78755887e-10,\n",
       "                          9.10147076e-11, 4.58796249e-11, 2.28973485e-11, 1.13137762e-11,\n",
       "                          5.53461007e-12, 2.68054764e-12, 1.28533723e-12, 6.10193668e-13,\n",
       "                          2.86797501e-13, 1.33456608e-13, 6.14839641e-14, 2.80440474e-14,\n",
       "                          1.26641655e-14, 5.66199552e-15, 2.50622189e-15, 1.09831413e-15,\n",
       "                          4.76530474e-16, 2.04697171e-16, 8.70542662e-17, 3.66543340e-17,\n",
       "                          1.52797997e-17, 6.30618989e-18, 2.57675711e-18, 1.04240618e-18,\n",
       "                          4.17501006e-19, 1.65552266e-19, 6.49934797e-20, 2.52616378e-20,\n",
       "                          9.72098502e-21, 3.70353198e-21, 1.39694394e-21, 5.21673666e-22])}],\n",
       "    'layout': {'autosize': False,\n",
       "               'height': 600,\n",
       "               'legend': {'x': 0.95, 'xanchor': 'right', 'y': 0.3, 'yanchor': 'top'},\n",
       "               'plot_bgcolor': 'rgba(0,0,0,0)',\n",
       "               'template': '...',\n",
       "               'title': {'text': 'Squared exponential kernel', 'x': 0.5, 'xanchor': 'center'},\n",
       "               'width': 800,\n",
       "               'xaxis': {'linecolor': 'black', 'linewidth': 1, 'showline': True, 'title': {'text': 'input values'}},\n",
       "               'yaxis': {'linecolor': 'black',\n",
       "                         'linewidth': 1,\n",
       "                         'range': [0, 5.0],\n",
       "                         'showline': True,\n",
       "                         'title': {'text': 'output values'}}}\n",
       "})"
      ]
     },
     "execution_count": 10,
     "metadata": {},
     "output_type": "execute_result"
    }
   ],
   "source": [
    "x_lines = np.arange(-10, 10, 0.1)\n",
    "kernel = SquaredExponentialKernel(length=1)\n",
    "\n",
    "fig0 = go.FigureWidget(data=[\n",
    "    line_scatter(\n",
    "        x_lines=x_lines,\n",
    "        y_lines=np.array([kernel(x, 0) for x in x_lines]),\n",
    "    )\n",
    "])\n",
    "\n",
    "fig0 = update_layout_of_graph(fig0, title='Squared exponential kernel')\n",
    "\n",
    "\n",
    "@interact(length=(0.1, 3, 0.1), sigma_f=(1, 5, 0.5))\n",
    "def update(length=1, sigma_f=1):\n",
    "    with fig0.batch_update():\n",
    "        kernel = SquaredExponentialKernel(length=length, sigma_f=sigma_f)\n",
    "        fig0.data[0].y = np.array([kernel(x, 0) for x in x_lines])\n",
    "\n",
    "fig0.update_yaxes(range=(0, 5.0))\n",
    "fig0\n",
    "#fig0.write_image(\"fig1.png\", scale=2)"
   ]
  },
  {
   "cell_type": "markdown",
   "id": "a05f015e-1ff5-44cf-b9cc-b4808417da24",
   "metadata": {},
   "source": [
    "### The GPR"
   ]
  },
  {
   "cell_type": "markdown",
   "id": "613a3946",
   "metadata": {},
   "source": [
    "In practical implementations of the GPR you will likely face a couple of stability problems. Among others, numeric approximations in dealing with matrix operations may lead to non-invertible/non-positive-semi-definite covariance matrices which result in errors when calculating the GPR. \n",
    "\n",
    "In order to prevent this error we add the _machine epsilon_ to the diagonal of the later covariance matrix:"
   ]
  },
  {
   "cell_type": "code",
   "execution_count": 11,
   "id": "517a082d",
   "metadata": {},
   "outputs": [
    {
     "name": "stdout",
     "output_type": "stream",
     "text": [
      "Double precision: 2.220446049250313e-16\n",
      "Single precision: 1.1920929e-07\n"
     ]
    }
   ],
   "source": [
    "print(\"Double precision:\", np.finfo(float).eps)\n",
    "# 2.22044604925e-16\n",
    "\n",
    "print(\"Single precision:\", np.finfo(np.float32).eps)\n",
    "# 1.19209e-07"
   ]
  },
  {
   "cell_type": "markdown",
   "id": "18f81bfc",
   "metadata": {},
   "source": [
    "!! CHECK THIS !!\n",
    "\n",
    "Let us shortly recall the formula to define the GPR:\n",
    "Given training points $x_1,...,x_n\\in \\mathbb{R}^m$ with values $y_1,...,y_n\\in \\mathbb{R}$, $y = (y_i)\\in \\mathbb{R}^n$ and with noise in each point $\\mathcal{N}_{0,\\sigma}$ and points $x_{n+1},...,x_k\\in \\mathbb{R}^m$ for which we want to predict the output, adapting our probability distribution based on the training points leads to:\n",
    "\n",
    "$$\\mathcal{N}(K_*K^{-1}y,K_{**}-K_*K^{-1}K_*^T),$$\n",
    "meaning that we defined a normal (Gaussian) distribtion with mean vector $K_*K^{-1}y$ and covariance matrix $K_{**}-K_*K^{-1}K_*^T$, where \n",
    "$$K= (k(x_i,x_j))_{i,j\\leq n}+\\sigma^2*\\mathbb{1}_n$$\n",
    "$$K_*= (k(x_{i*},x_{j}))_{n+1\\leq i*, j\\leq n}$$\n",
    "$$K_{**}= (k(x_{i*},x_{j*}))_{n+1\\leq i*,j*}$$\n",
    "\n",
    "Above, $K$ is the covariance (kernel) matrix of the training set, $K_*$ the covariance matrix between training and test/prediction set, and $K_{**}$ the covariance of the test set. In practice, the mean on a new point $x_*$ is your prediction."
   ]
  },
  {
   "cell_type": "code",
   "execution_count": 12,
   "id": "06c65a7a",
   "metadata": {},
   "outputs": [],
   "source": [
    "# Helper function to calculate the respective covariance matrices\n",
    "def cov_matrix(x1, x2, cov_function) -> np.array:\n",
    "    return np.array([[cov_function(a, b) for a in x1] for b in x2])"
   ]
  },
  {
   "cell_type": "code",
   "execution_count": 13,
   "id": "d9bdfc5b",
   "metadata": {},
   "outputs": [],
   "source": [
    "class GPR:\n",
    "    def __init__(self,\n",
    "                 data_x: np.array,\n",
    "                 data_y: np.array,\n",
    "                 covariance_function=SquaredExponentialKernel(),\n",
    "                 white_noise_sigma: float = 0):\n",
    "        self.noise = white_noise_sigma\n",
    "        self.data_x = data_x\n",
    "        self.data_y = data_y\n",
    "        self.covariance_function = covariance_function\n",
    "\n",
    "        # Store the inverse of covariance matrix of input (+ machine epsilon on diagonal) since it is needed for every prediction\n",
    "        self._inverse_of_covariance_matrix_of_input = np.linalg.inv(\n",
    "            cov_matrix(data_x, data_x, covariance_function) +\n",
    "            (3e-7 + self.noise) * np.identity(len(self.data_x)))\n",
    "\n",
    "        self._memory = None\n",
    "\n",
    "    # function to predict output at new input values. Store the mean and covariance matrix in memory.\n",
    "\n",
    "    def predict(self, at_values: np.array) -> np.array:\n",
    "        k_lower_left = cov_matrix(self.data_x, at_values,\n",
    "                                  self.covariance_function)\n",
    "        k_lower_right = cov_matrix(at_values, at_values,\n",
    "                                   self.covariance_function)\n",
    "\n",
    "        # Mean.\n",
    "        mean_at_values = np.dot(\n",
    "            k_lower_left,\n",
    "            np.dot(self.data_y,\n",
    "                   self._inverse_of_covariance_matrix_of_input.T).T).flatten()\n",
    "\n",
    "        # Covariance.\n",
    "        cov_at_values = k_lower_right - \\\n",
    "            np.dot(k_lower_left, np.dot(\n",
    "                self._inverse_of_covariance_matrix_of_input, k_lower_left.T))\n",
    "\n",
    "        # Adding value larger than machine epsilon to ensure positive semi definite\n",
    "        cov_at_values = cov_at_values + 3e-7 * np.ones(\n",
    "            np.shape(cov_at_values)[0])\n",
    "\n",
    "        var_at_values = np.diag(cov_at_values)\n",
    "\n",
    "        self._memory = {\n",
    "            'mean': mean_at_values,\n",
    "            'covariance_matrix': cov_at_values,\n",
    "            'variance': var_at_values\n",
    "        }\n",
    "        return mean_at_values"
   ]
  },
  {
   "cell_type": "markdown",
   "id": "9e6b586e",
   "metadata": {},
   "source": [
    "That's it. The GPR is ready to be used! "
   ]
  },
  {
   "cell_type": "markdown",
   "id": "a5e2f744",
   "metadata": {},
   "source": [
    "## Testing"
   ]
  },
  {
   "cell_type": "markdown",
   "id": "9beaf81e-fcd3-4521-9693-cd050a7bdbf6",
   "metadata": {},
   "source": [
    "### Defining the training set by subsampling"
   ]
  },
  {
   "cell_type": "markdown",
   "id": "4a9aa377",
   "metadata": {},
   "source": [
    "First, let us load the training data and plot it. Can you guess what this simple training data corresponds to?"
   ]
  },
  {
   "cell_type": "code",
   "execution_count": 14,
   "id": "12f59452",
   "metadata": {},
   "outputs": [
    {
     "name": "stdout",
     "output_type": "stream",
     "text": [
      "Size of training set:  120035\n"
     ]
    },
    {
     "data": {
      "image/png": "[encoded data removed]",
      "text/plain": [
       "<Figure size 800x500 with 1 Axes>"
      ]
     },
     "metadata": {},
     "output_type": "display_data"
    }
   ],
   "source": [
    "fulldata = np.loadtxt('dists-energies/combineddata.dat')\n",
    "fullx = fulldata.T[0]\n",
    "fully = fulldata.T[1]\n",
    "zero=fully[-1]\n",
    "fully = fully - zero\n",
    "print(\"Size of training set: \", len(fully))\n",
    "plt.figure(figsize=(8, 5))\n",
    "plt.xlim([0.1,7.0])\n",
    "plt.scatter(fullx, fully, marker='o', s=10)\n",
    "plt.ylabel('energy (eV)', fontsize=14)\n",
    "plt.xlabel('distance (A)', fontsize=14)\n",
    "plt.yticks(fontsize=12)\n",
    "plt.xticks(fontsize=12)\n",
    "#plt.scatter(curvex, curvey, marker='o', s=50)\n",
    "plt.show()"
   ]
  },
  {
   "cell_type": "markdown",
   "id": "eeef3b40-26a8-4acc-a444-7464c03d2c1f",
   "metadata": {},
   "source": [
    "It is clear that there should be much simpler ways to fit this training data than using GPR, but here we will see how GPR performs for illustration purposes."
   ]
  },
  {
   "cell_type": "markdown",
   "id": "153fc7d5-1002-4e9e-9f31-bd464c601cc2",
   "metadata": {},
   "source": [
    "### Sub-selecting points randomly"
   ]
  },
  {
   "cell_type": "markdown",
   "id": "880a62b0-be76-4218-bd11-c83a8f686cbe",
   "metadata": {},
   "source": [
    "Instead of using all the data, because the GPR model is non-parametric, meaning that the kernel matrices (amount of parameters) grow with the amount of training data points, we will tran the GPR with a small subsampled set of the 120035 datapoints that we have in total.\n",
    "\n",
    "We will start by seeing what happens if we just take a random subset of points on this dataset."
   ]
  },
  {
   "cell_type": "code",
   "execution_count": 17,
   "id": "1cf4458d-69d1-415f-9877-5ebb23fd1854",
   "metadata": {},
   "outputs": [
    {
     "data": {
      "image/png": "[encoded data removed]",
      "text/plain": [
       "<Figure size 800x500 with 1 Axes>"
      ]
     },
     "metadata": {},
     "output_type": "display_data"
    }
   ],
   "source": [
    "nsamples = 30\n",
    "# Check if nsamples is not greater than the length of the array\n",
    "if nsamples > len(fullx):\n",
    "    raise ValueError(\"nsamples cannot be greater than the length of the array.\")\n",
    "# Draw nsample random indices\n",
    "indices = np.random.choice(len(fullx), nsamples, replace=False)\n",
    "# Select items from your array using these indices\n",
    "selected_x = fullx[indices]\n",
    "selected_y = fully[indices]\n",
    "x_valuesrando=selected_x\n",
    "y_valuesrando=selected_y\n",
    "plt.figure(figsize=(8, 5))\n",
    "plt.xlim([0.1,7.0])\n",
    "plt.scatter(fullx, fully, marker='o', s=10)\n",
    "plt.scatter(x_valuesrando, y_valuesrando, marker='o', s=50)\n",
    "plt.ylabel('energy (eV)', fontsize=14)\n",
    "plt.xlabel('distance (A)', fontsize=14)\n",
    "plt.yticks(fontsize=12)\n",
    "plt.xticks(fontsize=12)\n",
    "plt.show()"
   ]
  },
  {
   "cell_type": "markdown",
   "id": "f0530ccb-6683-4e79-8351-5f05484d9622",
   "metadata": {},
   "source": [
    "Because we have not fixed a random seed, every time you press enter on the cell above, a different random selection of 30 points will be chosen. \n",
    "\n",
    "**Question**: Choose the points many times. Where are they localized? Can you understand why a random selection \"always\" select points only in that region?"
   ]
  },
  {
   "cell_type": "markdown",
   "id": "ef27e427-766c-4562-9ade-74a792196452",
   "metadata": {},
   "source": [
    "### Selecting by FPS"
   ]
  },
  {
   "cell_type": "markdown",
   "id": "67dc4338-1d43-42b2-adab-0fa014b0ab0e",
   "metadata": {},
   "source": [
    "A better way to avoid the bias of the random selection for datasets that are much denser in a particular part of phase space than others, thus ensuring diversity in the training set, is to use techniques such as [farthest-point-sampling](https://minibatchai.com/2021/08/07/FPS.html) (FPS). The first point is selected randomly, and each subsequent point is selected as being the most distant (in a given metric) from the previously selected ones. \n",
    "\n",
    "A simple FPS implementation follows."
   ]
  },
  {
   "cell_type": "code",
   "execution_count": 18,
   "id": "7506b7de",
   "metadata": {},
   "outputs": [],
   "source": [
    "def simple_fps(datax, nsamples):\n",
    "    n=len(datax)\n",
    "    distances=np.zeros((n,), dtype=float)\n",
    "    sampled=np.zeros((nsamples,), dtype=int)\n",
    "    distances[:]=1e10\n",
    "    index=np.random.choice(1, 1, replace=False)[0]\n",
    "    sampled[0]=index\n",
    "    for i in range(nsamples):\n",
    "        for j in range(n):\n",
    "            dist=np.abs(datax[j]-datax[index])\n",
    "            if dist <= distances[j]:\n",
    "                distances[j]=dist\n",
    "        index=np.argmax(distances)\n",
    "        sampled[i]=index\n",
    "    return sampled\n",
    "    "
   ]
  },
  {
   "cell_type": "markdown",
   "id": "68bebd7a-e09d-4ca6-b76a-d0a04e6f806a",
   "metadata": {},
   "source": [
    "Now let us see how FPS chooses 30 points from our training set:"
   ]
  },
  {
   "cell_type": "code",
   "execution_count": 19,
   "id": "f68fa124-ccc3-4ca2-acc0-16ac39b5f251",
   "metadata": {},
   "outputs": [
    {
     "data": {
      "image/png": "[encoded data removed]",
      "text/plain": [
       "<Figure size 800x500 with 1 Axes>"
      ]
     },
     "metadata": {},
     "output_type": "display_data"
    }
   ],
   "source": [
    "nsamples = 30\n",
    "# Check if nsamples is not greater than the length of the array\n",
    "if nsamples > len(fullx):\n",
    "    raise ValueError(\"nsamples cannot be greater than the length of the array.\")\n",
    "# Call fps\n",
    "indices = simple_fps(fullx, nsamples)\n",
    "# print(indices)\n",
    "# Select items from your array using these indices\n",
    "selected_x_fps = fullx[indices]\n",
    "selected_y_fps = fully[indices]\n",
    "x_values=selected_x_fps\n",
    "y_values=selected_y_fps\n",
    "plt.figure(figsize=(8, 5))\n",
    "plt.xlim([0.1,7.0])\n",
    "plt.ylabel('energy (eV)', fontsize=14)\n",
    "plt.xlabel('distance (A)', fontsize=14)\n",
    "plt.yticks(fontsize=12)\n",
    "plt.xticks(fontsize=12)\n",
    "plt.scatter(fullx, fully, marker='o', s=10)\n",
    "plt.scatter(x_values, y_values, marker='o', s=50)\n",
    "plt.show()"
   ]
  },
  {
   "cell_type": "markdown",
   "id": "8410f233",
   "metadata": {},
   "source": [
    "### Training the GPR"
   ]
  },
  {
   "cell_type": "markdown",
   "id": "fe426230",
   "metadata": {},
   "source": [
    "Let us define a helper function which returns a list of all plots of data points, mean, etc. needed to plot a GPR."
   ]
  },
  {
   "cell_type": "code",
   "execution_count": 20,
   "id": "b99b06c2",
   "metadata": {},
   "outputs": [],
   "source": [
    "def plot_GPR(data_x, data_y, model, x, visible=True) -> list:\n",
    "    mean = model.predict(x)\n",
    "\n",
    "    std = np.sqrt(model._memory['variance'])\n",
    "    data = []\n",
    "\n",
    "    for i in range(1, 4):\n",
    "        data.append(\n",
    "            uncertainty_area_scatter(\n",
    "                x_lines=x,\n",
    "                y_lower=mean - i * std,\n",
    "                y_upper=mean + i * std,\n",
    "                name=f\"mean plus/minus {i}*standard deviation\",\n",
    "                visible=visible))\n",
    "\n",
    "    data.append(line_scatter(x_lines=x, y_lines=mean, visible=visible))\n",
    "    data.append(dot_scatter(x_dots=data_x, y_dots=data_y, visible=visible))\n",
    "    data.append(dot_scatter2(x_dots=curvex, y_dots=curvey, visible=visible))\n",
    "    return data"
   ]
  },
  {
   "cell_type": "markdown",
   "id": "51cd9df1",
   "metadata": {},
   "source": [
    "Now, we can visualize our first GPR. \n",
    "\n",
    "**Exercise**: Please comment and uncomment the lines below as suggested in order to see how the GPR evolves as you give more data to it"
   ]
  },
  {
   "cell_type": "code",
   "execution_count": 24,
   "id": "9a82c61f",
   "metadata": {},
   "outputs": [
    {
     "data": {
      "application/vnd.plotly.v1+json": {
       "config": {
        "plotlyServerURL": "https://plot.ly"
       },
       "data": [
        {
         "fill": "toself",
         "fillcolor": "rgba(189,195,199,0.5)",
         "hoverinfo": "skip",
         "line": {
          "color": "rgba(200,200,200,0)"
         },
         "name": "mean plus/minus 1*standard deviation",
         "showlegend": true,
         "type": "scatter",
         "visible": true,
         "x": [
          0.1,
          0.15000000000000002,
          0.20000000000000004,
          0.25000000000000006,
          0.30000000000000004,
          0.3500000000000001,
          0.40000000000000013,
          0.45000000000000007,
          0.5000000000000001,
          0.5500000000000002,
          0.6000000000000002,
          0.6500000000000001,
          0.7000000000000002,
          0.7500000000000002,
          0.8000000000000002,
          0.8500000000000002,
          0.9000000000000002,
          0.9500000000000003,
          1.0000000000000004,
          1.0500000000000003,
          1.1000000000000005,
          1.1500000000000004,
          1.2000000000000004,
          1.2500000000000004,
          1.3000000000000005,
          1.3500000000000005,
          1.4000000000000006,
          1.4500000000000006,
          1.5000000000000004,
          1.5500000000000005,
          1.6000000000000005,
          1.6500000000000006,
          1.7000000000000006,
          1.7500000000000007,
          1.8000000000000007,
          1.8500000000000008,
          1.9000000000000008,
          1.9500000000000006,
          2.0000000000000004,
          2.0500000000000007,
          2.100000000000001,
          2.150000000000001,
          2.2000000000000006,
          2.250000000000001,
          2.3000000000000007,
          2.350000000000001,
          2.400000000000001,
          2.450000000000001,
          2.500000000000001,
          2.5500000000000007,
          2.600000000000001,
          2.650000000000001,
          2.700000000000001,
          2.750000000000001,
          2.800000000000001,
          2.850000000000001,
          2.900000000000001,
          2.950000000000001,
          3.000000000000001,
          3.050000000000001,
          3.100000000000001,
          3.1500000000000012,
          3.200000000000001,
          3.2500000000000013,
          3.300000000000001,
          3.350000000000001,
          3.4000000000000012,
          3.450000000000001,
          3.5000000000000013,
          3.550000000000001,
          3.6000000000000014,
          3.6500000000000012,
          3.7000000000000015,
          3.7500000000000013,
          3.800000000000001,
          3.8500000000000014,
          3.9000000000000012,
          3.9500000000000015,
          4.000000000000001,
          4.050000000000002,
          4.100000000000001,
          4.150000000000001,
          4.200000000000001,
          4.250000000000001,
          4.300000000000001,
          4.350000000000001,
          4.400000000000001,
          4.450000000000001,
          4.500000000000001,
          4.550000000000001,
          4.600000000000001,
          4.650000000000001,
          4.700000000000001,
          4.750000000000001,
          4.800000000000002,
          4.850000000000001,
          4.900000000000001,
          4.950000000000001,
          5.000000000000001,
          5.050000000000002,
          5.100000000000001,
          5.150000000000001,
          5.200000000000001,
          5.250000000000002,
          5.300000000000002,
          5.350000000000001,
          5.400000000000001,
          5.450000000000001,
          5.500000000000002,
          5.550000000000002,
          5.600000000000001,
          5.650000000000001,
          5.700000000000001,
          5.750000000000002,
          5.800000000000002,
          5.850000000000001,
          5.900000000000001,
          5.950000000000002,
          6.000000000000002,
          6.050000000000002,
          6.100000000000001,
          6.150000000000001,
          6.200000000000002,
          6.250000000000002,
          6.300000000000002,
          6.350000000000001,
          6.400000000000002,
          6.450000000000002,
          6.500000000000002,
          6.550000000000002,
          6.600000000000001,
          6.650000000000002,
          6.700000000000002,
          6.750000000000002,
          6.800000000000002,
          6.850000000000002,
          6.900000000000002,
          6.950000000000002,
          6.950000000000002,
          6.900000000000002,
          6.850000000000002,
          6.800000000000002,
          6.750000000000002,
          6.700000000000002,
          6.650000000000002,
          6.600000000000001,
          6.550000000000002,
          6.500000000000002,
          6.450000000000002,
          6.400000000000002,
          6.350000000000001,
          6.300000000000002,
          6.250000000000002,
          6.200000000000002,
          6.150000000000001,
          6.100000000000001,
          6.050000000000002,
          6.000000000000002,
          5.950000000000002,
          5.900000000000001,
          5.850000000000001,
          5.800000000000002,
          5.750000000000002,
          5.700000000000001,
          5.650000000000001,
          5.600000000000001,
          5.550000000000002,
          5.500000000000002,
          5.450000000000001,
          5.400000000000001,
          5.350000000000001,
          5.300000000000002,
          5.250000000000002,
          5.200000000000001,
          5.150000000000001,
          5.100000000000001,
          5.050000000000002,
          5.000000000000001,
          4.950000000000001,
          4.900000000000001,
          4.850000000000001,
          4.800000000000002,
          4.750000000000001,
          4.700000000000001,
          4.650000000000001,
          4.600000000000001,
          4.550000000000001,
          4.500000000000001,
          4.450000000000001,
          4.400000000000001,
          4.350000000000001,
          4.300000000000001,
          4.250000000000001,
          4.200000000000001,
          4.150000000000001,
          4.100000000000001,
          4.050000000000002,
          4.000000000000001,
          3.9500000000000015,
          3.9000000000000012,
          3.8500000000000014,
          3.800000000000001,
          3.7500000000000013,
          3.7000000000000015,
          3.6500000000000012,
          3.6000000000000014,
          3.550000000000001,
          3.5000000000000013,
          3.450000000000001,
          3.4000000000000012,
          3.350000000000001,
          3.300000000000001,
          3.2500000000000013,
          3.200000000000001,
          3.1500000000000012,
          3.100000000000001,
          3.050000000000001,
          3.000000000000001,
          2.950000000000001,
          2.900000000000001,
          2.850000000000001,
          2.800000000000001,
          2.750000000000001,
          2.700000000000001,
          2.650000000000001,
          2.600000000000001,
          2.5500000000000007,
          2.500000000000001,
          2.450000000000001,
          2.400000000000001,
          2.350000000000001,
          2.3000000000000007,
          2.250000000000001,
          2.2000000000000006,
          2.150000000000001,
          2.100000000000001,
          2.0500000000000007,
          2.0000000000000004,
          1.9500000000000006,
          1.9000000000000008,
          1.8500000000000008,
          1.8000000000000007,
          1.7500000000000007,
          1.7000000000000006,
          1.6500000000000006,
          1.6000000000000005,
          1.5500000000000005,
          1.5000000000000004,
          1.4500000000000006,
          1.4000000000000006,
          1.3500000000000005,
          1.3000000000000005,
          1.2500000000000004,
          1.2000000000000004,
          1.1500000000000004,
          1.1000000000000005,
          1.0500000000000003,
          1.0000000000000004,
          0.9500000000000003,
          0.9000000000000002,
          0.8500000000000002,
          0.8000000000000002,
          0.7500000000000002,
          0.7000000000000002,
          0.6500000000000001,
          0.6000000000000002,
          0.5500000000000002,
          0.5000000000000001,
          0.45000000000000007,
          0.40000000000000013,
          0.3500000000000001,
          0.30000000000000004,
          0.25000000000000006,
          0.20000000000000004,
          0.15000000000000002,
          0.1
         ],
         "y": [
          44.13940190657819,
          31.49874121716985,
          21.086280090388698,
          12.830795125834815,
          6.541287098945358,
          1.9448081001076838,
          -1.2722067353082187,
          -3.425693792812012,
          -4.804925790352463,
          -5.652409103171153,
          -6.154292175415758,
          -6.440568800237691,
          -6.592644830056677,
          -6.655141273168119,
          -6.648906726671887,
          -6.582732394324338,
          -6.462052674832433,
          -6.293947993908973,
          -6.088714309705227,
          -5.8589217105201445,
          -5.617200220873624,
          -5.373973024736155,
          -5.13598946078174,
          -4.906025711050931,
          -4.683671454775575,
          -4.466776732453362,
          -4.253033167057442,
          -4.041179741102286,
          -3.8315525581561807,
          -3.625941831417041,
          -3.4268987211719164,
          -3.236868655379245,
          -3.0574156688147878,
          -2.888847167348073,
          -2.730270141333961,
          -2.5800230286586623,
          -2.4363017488788206,
          -2.297742232070627,
          -2.1637671418316025,
          -2.034647718765786,
          -1.9112291337032379,
          -1.7945259091703658,
          -1.6852591543811606,
          -1.583573464852286,
          -1.4889446225493337,
          -1.400341442663343,
          -1.3165386834264765,
          -1.2364694247629529,
          -1.1595076103984518,
          -1.0855746948873655,
          -1.0150678379570173,
          -0.9486236578485391,
          -0.8868194123127517,
          -0.82990792597642,
          -0.7776820549503035,
          -0.7294986724191374,
          -0.6844563327019728,
          -0.6416472299110829,
          -0.6004034660009582,
          -0.5604504936881721,
          -0.5219398253914794,
          -0.4853489525556413,
          -0.4512753671422872,
          -0.42018188298314346,
          -0.3921744920735588,
          -0.36690301435238837,
          -0.34363360909167723,
          -0.3214628474224142,
          -0.29954827795128924,
          -0.27728259327015264,
          -0.25435188930251645,
          -0.23091545862332852,
          -0.20793064636704736,
          -0.18675037481913542,
          -0.16870258727751175,
          -0.15479167425104778,
          -0.14543507352826332,
          -0.14027213957350423,
          -0.13729055307646632,
          -0.13305650702494123,
          -0.12804164328260678,
          -0.12141262926066526,
          -0.1125445321617805,
          -0.10135175910269542,
          -0.0883047042496738,
          -0.07430054050743941,
          -0.058381243125384404,
          -0.036360817112145616,
          -0.016444388363775195,
          -0.0010536005115824552,
          0.007995676409937723,
          0.009592296723686198,
          0.0034794165676056664,
          -0.009696553639665073,
          -0.023602048498903957,
          -0.021230956772723648,
          -0.01672148446356286,
          -0.0102049819392286,
          -0.002233500257065618,
          0.006226760764108247,
          0.01394863275700399,
          0.019645880094417367,
          0.022189809026089177,
          0.020807936468419233,
          0.015236956744159168,
          0.005813289692054427,
          0.0033117269330236636,
          0.03301504383133228,
          0.057834295424873436,
          0.07505529586253423,
          0.0824199052655187,
          0.07823723737205023,
          0.061483271584913145,
          0.031850452184926104,
          0.00729811700420261,
          0.04649789764447737,
          0.09531675193775396,
          0.1525803176995359,
          0.21670534951432113,
          0.2858078452978593,
          0.357844673299915,
          0.4307548385657086,
          0.5025881803053215,
          0.5716123152077083,
          0.6363917516930665,
          0.6958363057559118,
          0.749218968914241,
          0.7961659703473687,
          0.836623771297756,
          0.8708090401740867,
          0.89914825957468,
          0.9222135452123662,
          0.9406605899559479,
          0.9551735016003308,
          0.9664198349492124,
          0.9750175131928321,
          0.9815137922604137,
          0.9863751341374893,
          -1.0027674489143077,
          -1.0017168598703414,
          -0.999621599484135,
          -0.9960204669690988,
          -0.9903434510040346,
          -0.981915092328516,
          -0.9699692979921778,
          -0.9536774263349255,
          -0.9321902717458102,
          -0.9046930885010844,
          -0.8704711740918616,
          -0.8289819687955728,
          -0.7799282914473431,
          -0.7233263670726368,
          -0.6595618268873767,
          -0.5894269625009073,
          -0.5141332483141834,
          -0.43529452155688564,
          -0.3548781873061707,
          -0.2751242931745953,
          -0.1984351308542176,
          -0.12724097675774376,
          -0.06385078434228392,
          -0.010318889555528767,
          -0.021768203769042312,
          -0.040563175999444,
          -0.04974574587740831,
          -0.05049605990580344,
          -0.044482410311993736,
          -0.03371590604167789,
          -0.020370689828684764,
          -0.006620790517721399,
          -0.028547359960609656,
          -0.059431133062197626,
          -0.08672710756048337,
          -0.10814525682826874,
          -0.122009028934709,
          -0.1273917138740337,
          -0.12419514384198463,
          -0.113156510777462,
          -0.09577782102313025,
          -0.07417999707463369,
          -0.050893249938598714,
          -0.028672975338278787,
          -0.024637963531850625,
          -0.024747194603355196,
          -0.025209413389792965,
          -0.02711569613808664,
          -0.03136355857040482,
          -0.03846394025859963,
          -0.04843457564129633,
          -0.06094115878290662,
          -0.08088762142685134,
          -0.10076723908378576,
          -0.11683412518303551,
          -0.12821017600067522,
          -0.13491663599033193,
          -0.137824560658125,
          -0.13849199278894783,
          -0.1390825351205669,
          -0.14330971613291157,
          -0.15061415581723572,
          -0.1609621548655542,
          -0.17474524951056114,
          -0.1918465352262813,
          -0.21167281445145994,
          -0.23334481664225903,
          -0.2559738864284456,
          -0.2787988007344974,
          -0.30118658072777205,
          -0.32310878653795355,
          -0.34518822421074974,
          -0.36838235936873787,
          -0.39364922605816477,
          -0.4216816905784246,
          -0.45277931830985085,
          -0.48683070396161404,
          -0.5233999361468643,
          -0.5619072643976825,
          -0.6018678721474627,
          -0.6431131894337376,
          -0.6859127234795437,
          -0.7309464483296354,
          -0.7791283928194453,
          -0.8313555310100694,
          -0.8882568652103606,
          -0.9500340093055725,
          -1.0164375287611755,
          -1.0869045634653578,
          -1.1608103377094614,
          -1.23776257687735,
          -1.3178303873543726,
          -1.4016351717655522,
          -1.4902371333336852,
          -1.5848641174137654,
          -1.6865493296754401,
          -1.7958140056351883,
          -1.9125205815408104,
          -2.0359362150748943,
          -2.1650576781362467,
          -2.2990293287060606,
          -2.4375923505765353,
          -2.581312534060952,
          -2.7315593393010995,
          -2.8901380239849765,
          -3.058707073863484,
          -3.23816103698014,
          -3.4281932654091847,
          -3.6272330935585693,
          -3.8328506059773653,
          -4.042490882221711,
          -4.25437025779625,
          -4.468138288055562,
          -4.685048437044062,
          -4.90741195962208,
          -5.137380975523673,
          -5.375371554237096,
          -5.618602361766111,
          -5.8603206136593595,
          -6.0901120319040105,
          -6.295374251945446,
          -6.463562757141277,
          -6.584361265252157,
          -6.650628092067743,
          -6.656869105466904,
          -6.594277352446945,
          -6.442058313717404,
          -6.155692450017813,
          -5.653813399087453,
          -4.8063593634821515,
          -3.427136299319614,
          -1.2736989144120068,
          1.9432740290164026,
          6.539829568363021,
          12.82766618064215,
          21.077506725439946,
          31.479119142130543,
          44.1018796231939
         ]
        },
        {
         "fill": "toself",
         "fillcolor": "rgba(189,195,199,0.5)",
         "hoverinfo": "skip",
         "line": {
          "color": "rgba(200,200,200,0)"
         },
         "name": "mean plus/minus 2*standard deviation",
         "showlegend": true,
         "type": "scatter",
         "visible": true,
         "x": [
          0.1,
          0.15000000000000002,
          0.20000000000000004,
          0.25000000000000006,
          0.30000000000000004,
          0.3500000000000001,
          0.40000000000000013,
          0.45000000000000007,
          0.5000000000000001,
          0.5500000000000002,
          0.6000000000000002,
          0.6500000000000001,
          0.7000000000000002,
          0.7500000000000002,
          0.8000000000000002,
          0.8500000000000002,
          0.9000000000000002,
          0.9500000000000003,
          1.0000000000000004,
          1.0500000000000003,
          1.1000000000000005,
          1.1500000000000004,
          1.2000000000000004,
          1.2500000000000004,
          1.3000000000000005,
          1.3500000000000005,
          1.4000000000000006,
          1.4500000000000006,
          1.5000000000000004,
          1.5500000000000005,
          1.6000000000000005,
          1.6500000000000006,
          1.7000000000000006,
          1.7500000000000007,
          1.8000000000000007,
          1.8500000000000008,
          1.9000000000000008,
          1.9500000000000006,
          2.0000000000000004,
          2.0500000000000007,
          2.100000000000001,
          2.150000000000001,
          2.2000000000000006,
          2.250000000000001,
          2.3000000000000007,
          2.350000000000001,
          2.400000000000001,
          2.450000000000001,
          2.500000000000001,
          2.5500000000000007,
          2.600000000000001,
          2.650000000000001,
          2.700000000000001,
          2.750000000000001,
          2.800000000000001,
          2.850000000000001,
          2.900000000000001,
          2.950000000000001,
          3.000000000000001,
          3.050000000000001,
          3.100000000000001,
          3.1500000000000012,
          3.200000000000001,
          3.2500000000000013,
          3.300000000000001,
          3.350000000000001,
          3.4000000000000012,
          3.450000000000001,
          3.5000000000000013,
          3.550000000000001,
          3.6000000000000014,
          3.6500000000000012,
          3.7000000000000015,
          3.7500000000000013,
          3.800000000000001,
          3.8500000000000014,
          3.9000000000000012,
          3.9500000000000015,
          4.000000000000001,
          4.050000000000002,
          4.100000000000001,
          4.150000000000001,
          4.200000000000001,
          4.250000000000001,
          4.300000000000001,
          4.350000000000001,
          4.400000000000001,
          4.450000000000001,
          4.500000000000001,
          4.550000000000001,
          4.600000000000001,
          4.650000000000001,
          4.700000000000001,
          4.750000000000001,
          4.800000000000002,
          4.850000000000001,
          4.900000000000001,
          4.950000000000001,
          5.000000000000001,
          5.050000000000002,
          5.100000000000001,
          5.150000000000001,
          5.200000000000001,
          5.250000000000002,
          5.300000000000002,
          5.350000000000001,
          5.400000000000001,
          5.450000000000001,
          5.500000000000002,
          5.550000000000002,
          5.600000000000001,
          5.650000000000001,
          5.700000000000001,
          5.750000000000002,
          5.800000000000002,
          5.850000000000001,
          5.900000000000001,
          5.950000000000002,
          6.000000000000002,
          6.050000000000002,
          6.100000000000001,
          6.150000000000001,
          6.200000000000002,
          6.250000000000002,
          6.300000000000002,
          6.350000000000001,
          6.400000000000002,
          6.450000000000002,
          6.500000000000002,
          6.550000000000002,
          6.600000000000001,
          6.650000000000002,
          6.700000000000002,
          6.750000000000002,
          6.800000000000002,
          6.850000000000002,
          6.900000000000002,
          6.950000000000002,
          6.950000000000002,
          6.900000000000002,
          6.850000000000002,
          6.800000000000002,
          6.750000000000002,
          6.700000000000002,
          6.650000000000002,
          6.600000000000001,
          6.550000000000002,
          6.500000000000002,
          6.450000000000002,
          6.400000000000002,
          6.350000000000001,
          6.300000000000002,
          6.250000000000002,
          6.200000000000002,
          6.150000000000001,
          6.100000000000001,
          6.050000000000002,
          6.000000000000002,
          5.950000000000002,
          5.900000000000001,
          5.850000000000001,
          5.800000000000002,
          5.750000000000002,
          5.700000000000001,
          5.650000000000001,
          5.600000000000001,
          5.550000000000002,
          5.500000000000002,
          5.450000000000001,
          5.400000000000001,
          5.350000000000001,
          5.300000000000002,
          5.250000000000002,
          5.200000000000001,
          5.150000000000001,
          5.100000000000001,
          5.050000000000002,
          5.000000000000001,
          4.950000000000001,
          4.900000000000001,
          4.850000000000001,
          4.800000000000002,
          4.750000000000001,
          4.700000000000001,
          4.650000000000001,
          4.600000000000001,
          4.550000000000001,
          4.500000000000001,
          4.450000000000001,
          4.400000000000001,
          4.350000000000001,
          4.300000000000001,
          4.250000000000001,
          4.200000000000001,
          4.150000000000001,
          4.100000000000001,
          4.050000000000002,
          4.000000000000001,
          3.9500000000000015,
          3.9000000000000012,
          3.8500000000000014,
          3.800000000000001,
          3.7500000000000013,
          3.7000000000000015,
          3.6500000000000012,
          3.6000000000000014,
          3.550000000000001,
          3.5000000000000013,
          3.450000000000001,
          3.4000000000000012,
          3.350000000000001,
          3.300000000000001,
          3.2500000000000013,
          3.200000000000001,
          3.1500000000000012,
          3.100000000000001,
          3.050000000000001,
          3.000000000000001,
          2.950000000000001,
          2.900000000000001,
          2.850000000000001,
          2.800000000000001,
          2.750000000000001,
          2.700000000000001,
          2.650000000000001,
          2.600000000000001,
          2.5500000000000007,
          2.500000000000001,
          2.450000000000001,
          2.400000000000001,
          2.350000000000001,
          2.3000000000000007,
          2.250000000000001,
          2.2000000000000006,
          2.150000000000001,
          2.100000000000001,
          2.0500000000000007,
          2.0000000000000004,
          1.9500000000000006,
          1.9000000000000008,
          1.8500000000000008,
          1.8000000000000007,
          1.7500000000000007,
          1.7000000000000006,
          1.6500000000000006,
          1.6000000000000005,
          1.5500000000000005,
          1.5000000000000004,
          1.4500000000000006,
          1.4000000000000006,
          1.3500000000000005,
          1.3000000000000005,
          1.2500000000000004,
          1.2000000000000004,
          1.1500000000000004,
          1.1000000000000005,
          1.0500000000000003,
          1.0000000000000004,
          0.9500000000000003,
          0.9000000000000002,
          0.8500000000000002,
          0.8000000000000002,
          0.7500000000000002,
          0.7000000000000002,
          0.6500000000000001,
          0.6000000000000002,
          0.5500000000000002,
          0.5000000000000001,
          0.45000000000000007,
          0.40000000000000013,
          0.3500000000000001,
          0.30000000000000004,
          0.25000000000000006,
          0.20000000000000004,
          0.15000000000000002,
          0.1
         ],
         "y": [
          44.15816304827034,
          31.508552254689505,
          21.09066677286307,
          12.832359598431147,
          6.542015864236527,
          1.9455751356533246,
          -1.2714606457563244,
          -3.424972539558211,
          -4.804209003787619,
          -5.651706955213004,
          -6.153592038114731,
          -6.439824043497834,
          -6.591828568861542,
          -6.654277357018726,
          -6.64804604397396,
          -6.581917958860429,
          -6.461297633678011,
          -6.293234864890738,
          -6.088015448605835,
          -5.858222258950537,
          -5.61649915042738,
          -5.373273759985684,
          -5.135293703410774,
          -4.905332586765357,
          -4.682982963641331,
          -4.466095954652262,
          -4.252364621688039,
          -4.040524170542574,
          -3.830903534245588,
          -3.625296200346277,
          -3.4262514490532823,
          -3.236222464578797,
          -3.0567699662904397,
          -2.8882017390296206,
          -2.7296255423503917,
          -2.5793782759575175,
          -2.4356564480299636,
          -2.29709868375291,
          -2.1631218736792803,
          -2.034003470611232,
          -1.9105834097844516,
          -1.7938818609379543,
          -1.6846140667340208,
          -1.5829281385715461,
          -1.488298367157158,
          -1.3996945781122383,
          -1.3158928314625282,
          -1.2358228487057543,
          -1.158856246742947,
          -1.084909760598369,
          -1.0143829925549381,
          -0.9479184821200224,
          -0.8861006858639472,
          -0.8291841234595954,
          -0.7769588860157326,
          -0.7287747844638883,
          -0.6837281373131874,
          -0.6409142501497556,
          -0.599671262927706,
          -0.5597221083334171,
          -0.521209770013787,
          -0.4846080768526549,
          -0.4505233915585054,
          -0.4194319791855029,
          -0.39143712508125583,
          -0.3661633418442136,
          -0.342856301532141,
          -0.3206398778646445,
          -0.29872912656304784,
          -0.2765244895379802,
          -0.2535408907395519,
          -0.22970077961386326,
          -0.20605956232484107,
          -0.18420229461556248,
          -0.16568125616098708,
          -0.15170643394379454,
          -0.14284553238377712,
          -0.1387533512938006,
          -0.136394562054416,
          -0.13033876414293794,
          -0.12315018459484768,
          -0.11466062589583192,
          -0.10471171024233313,
          -0.09361057606252536,
          -0.08207343683261782,
          -0.07100700004773346,
          -0.05710128529662329,
          -0.03032393784757026,
          -0.005434612416362981,
          0.014101378517828729,
          0.025551362683949905,
          0.02699315178042578,
          0.017592722153086097,
          -0.002225848693572296,
          -0.021066585079216542,
          -0.006399810189786116,
          0.012007771841972555,
          0.032581437602722224,
          0.05322800500313257,
          0.07143771306715468,
          0.08461880607252284,
          0.09047333460898055,
          0.08735734195326814,
          0.07457545848287053,
          0.052571001647337565,
          0.022993614518386468,
          0.008277985658396195,
          0.059707910661340804,
          0.1036093961581491,
          0.13482414894979822,
          0.14887788785117978,
          0.1422287289967795,
          0.11250649537709172,
          0.058659780161910306,
          0.0161066202840683,
          0.10167223863785801,
          0.20659561628550283,
          0.3280880419764126,
          0.4626201708587794,
          0.6061508615998743,
          0.7544142707283152,
          0.9031988820056546,
          1.0485957517084359,
          1.1871993862552508,
          1.3162508110759181,
          1.4337186043575392,
          1.5383194377691478,
          1.629484542566984,
          1.7072822011971762,
          1.772308696134035,
          1.8255611025294827,
          1.8683049668146383,
          1.90194843109818,
          1.9279319779025135,
          1.947639985908368,
          1.9623370695313158,
          1.9731291183257913,
          1.9809464256633877,
          -1.9973387404402063,
          -1.9933321859357191,
          -1.9869411558226184,
          -1.9772406179282545,
          -1.9631019273062174,
          -1.943202933470748,
          -1.9160607195944497,
          -1.8800902692897283,
          -1.8336899277057586,
          -1.7753515184005046,
          -1.7037897463114766,
          -1.6180824376504799,
          -1.5178105900489707,
          -1.4031854264554884,
          -1.2751488979349193,
          -1.1354345339040217,
          -0.9865772917541294,
          -0.831864118985286,
          -0.6752212036081857,
          -0.5210391145190535,
          -0.3739428551310944,
          -0.23851984110549262,
          -0.11902512533566456,
          -0.019127392835394455,
          -0.04857753174602652,
          -0.09158639979162257,
          -0.11373723750213757,
          -0.11695404249146452,
          -0.10425126339925772,
          -0.07949100677495355,
          -0.04706355665869329,
          -0.01158704924309393,
          -0.0457276847869417,
          -0.09676517796537602,
          -0.14049462957493467,
          -0.1733127897554477,
          -0.19283648344927218,
          -0.19806188718955256,
          -0.18940609614503107,
          -0.1686180160376602,
          -0.13856424056508107,
          -0.1029092533801691,
          -0.06572439652153625,
          -0.031208438757966202,
          -0.0321086684779434,
          -0.03886050018883563,
          -0.04261026844653255,
          -0.04467138241209882,
          -0.04651853759981601,
          -0.04947371620601185,
          -0.054471454905871686,
          -0.06222111661166773,
          -0.08418116188655729,
          -0.10699850650084174,
          -0.12457530822320557,
          -0.13604299792012256,
          -0.14166863935516527,
          -0.14271601934588413,
          -0.14120973567095113,
          -0.13997852614261722,
          -0.14482850441261522,
          -0.15320369696172192,
          -0.16404739517280745,
          -0.1777665806270858,
          -0.19439461542985426,
          -0.21354389849366623,
          -0.2345594956517243,
          -0.25678488499141017,
          -0.27955690446666986,
          -0.30200573211601345,
          -0.3239317560957233,
          -0.345965531770286,
          -0.3691220318769126,
          -0.39438659305046775,
          -0.42243159437606514,
          -0.45353129389363267,
          -0.48757157966460046,
          -0.5241299915245567,
          -0.5626356497524375,
          -0.6026000752207149,
          -0.643846169195065,
          -0.6866409188683291,
          -0.7316703362848844,
          -0.7798515617540163,
          -0.8320793335268941,
          -0.8889755916591652,
          -0.9507391850340892,
          -1.0171223741632547,
          -1.0875694977543542,
          -1.1614617013649662,
          -1.2384091529345485,
          -1.318476239318321,
          -1.4022820363166568,
          -1.490883388725861,
          -1.5855094436945052,
          -1.68719441732258,
          -1.7964580538675998,
          -1.9131663054595966,
          -2.0365804632294484,
          -2.165702946288569,
          -2.2996728770237778,
          -2.4382376514253923,
          -2.581957286762097,
          -2.732203938284669,
          -2.890783452303429,
          -3.059352776387832,
          -3.238807227780588,
          -3.428840537527819,
          -3.6278787246293334,
          -3.833499629887958,
          -4.043146452781422,
          -4.255038803165653,
          -4.468819065856662,
          -4.685736928178306,
          -4.908105083907654,
          -5.138076732894639,
          -5.376070818987566,
          -5.619303432212355,
          -5.861020065228967,
          -6.090810893003403,
          -6.296087380963681,
          -6.4643177982957,
          -6.585175700716065,
          -6.65148877476567,
          -6.657733021616297,
          -6.59509361364208,
          -6.442803070457261,
          -6.156392587318841,
          -5.6545155470456026,
          -4.807076150046996,
          -3.427857552573415,
          -1.274445003963901,
          1.9425069934707617,
          6.539100803071852,
          12.826101708045819,
          21.073120042965574,
          31.46930810461089,
          44.08311848150176
         ]
        },
        {
         "fill": "toself",
         "fillcolor": "rgba(189,195,199,0.5)",
         "hoverinfo": "skip",
         "line": {
          "color": "rgba(200,200,200,0)"
         },
         "name": "mean plus/minus 3*standard deviation",
         "showlegend": true,
         "type": "scatter",
         "visible": true,
         "x": [
          0.1,
          0.15000000000000002,
          0.20000000000000004,
          0.25000000000000006,
          0.30000000000000004,
          0.3500000000000001,
          0.40000000000000013,
          0.45000000000000007,
          0.5000000000000001,
          0.5500000000000002,
          0.6000000000000002,
          0.6500000000000001,
          0.7000000000000002,
          0.7500000000000002,
          0.8000000000000002,
          0.8500000000000002,
          0.9000000000000002,
          0.9500000000000003,
          1.0000000000000004,
          1.0500000000000003,
          1.1000000000000005,
          1.1500000000000004,
          1.2000000000000004,
          1.2500000000000004,
          1.3000000000000005,
          1.3500000000000005,
          1.4000000000000006,
          1.4500000000000006,
          1.5000000000000004,
          1.5500000000000005,
          1.6000000000000005,
          1.6500000000000006,
          1.7000000000000006,
          1.7500000000000007,
          1.8000000000000007,
          1.8500000000000008,
          1.9000000000000008,
          1.9500000000000006,
          2.0000000000000004,
          2.0500000000000007,
          2.100000000000001,
          2.150000000000001,
          2.2000000000000006,
          2.250000000000001,
          2.3000000000000007,
          2.350000000000001,
          2.400000000000001,
          2.450000000000001,
          2.500000000000001,
          2.5500000000000007,
          2.600000000000001,
          2.650000000000001,
          2.700000000000001,
          2.750000000000001,
          2.800000000000001,
          2.850000000000001,
          2.900000000000001,
          2.950000000000001,
          3.000000000000001,
          3.050000000000001,
          3.100000000000001,
          3.1500000000000012,
          3.200000000000001,
          3.2500000000000013,
          3.300000000000001,
          3.350000000000001,
          3.4000000000000012,
          3.450000000000001,
          3.5000000000000013,
          3.550000000000001,
          3.6000000000000014,
          3.6500000000000012,
          3.7000000000000015,
          3.7500000000000013,
          3.800000000000001,
          3.8500000000000014,
          3.9000000000000012,
          3.9500000000000015,
          4.000000000000001,
          4.050000000000002,
          4.100000000000001,
          4.150000000000001,
          4.200000000000001,
          4.250000000000001,
          4.300000000000001,
          4.350000000000001,
          4.400000000000001,
          4.450000000000001,
          4.500000000000001,
          4.550000000000001,
          4.600000000000001,
          4.650000000000001,
          4.700000000000001,
          4.750000000000001,
          4.800000000000002,
          4.850000000000001,
          4.900000000000001,
          4.950000000000001,
          5.000000000000001,
          5.050000000000002,
          5.100000000000001,
          5.150000000000001,
          5.200000000000001,
          5.250000000000002,
          5.300000000000002,
          5.350000000000001,
          5.400000000000001,
          5.450000000000001,
          5.500000000000002,
          5.550000000000002,
          5.600000000000001,
          5.650000000000001,
          5.700000000000001,
          5.750000000000002,
          5.800000000000002,
          5.850000000000001,
          5.900000000000001,
          5.950000000000002,
          6.000000000000002,
          6.050000000000002,
          6.100000000000001,
          6.150000000000001,
          6.200000000000002,
          6.250000000000002,
          6.300000000000002,
          6.350000000000001,
          6.400000000000002,
          6.450000000000002,
          6.500000000000002,
          6.550000000000002,
          6.600000000000001,
          6.650000000000002,
          6.700000000000002,
          6.750000000000002,
          6.800000000000002,
          6.850000000000002,
          6.900000000000002,
          6.950000000000002,
          6.950000000000002,
          6.900000000000002,
          6.850000000000002,
          6.800000000000002,
          6.750000000000002,
          6.700000000000002,
          6.650000000000002,
          6.600000000000001,
          6.550000000000002,
          6.500000000000002,
          6.450000000000002,
          6.400000000000002,
          6.350000000000001,
          6.300000000000002,
          6.250000000000002,
          6.200000000000002,
          6.150000000000001,
          6.100000000000001,
          6.050000000000002,
          6.000000000000002,
          5.950000000000002,
          5.900000000000001,
          5.850000000000001,
          5.800000000000002,
          5.750000000000002,
          5.700000000000001,
          5.650000000000001,
          5.600000000000001,
          5.550000000000002,
          5.500000000000002,
          5.450000000000001,
          5.400000000000001,
          5.350000000000001,
          5.300000000000002,
          5.250000000000002,
          5.200000000000001,
          5.150000000000001,
          5.100000000000001,
          5.050000000000002,
          5.000000000000001,
          4.950000000000001,
          4.900000000000001,
          4.850000000000001,
          4.800000000000002,
          4.750000000000001,
          4.700000000000001,
          4.650000000000001,
          4.600000000000001,
          4.550000000000001,
          4.500000000000001,
          4.450000000000001,
          4.400000000000001,
          4.350000000000001,
          4.300000000000001,
          4.250000000000001,
          4.200000000000001,
          4.150000000000001,
          4.100000000000001,
          4.050000000000002,
          4.000000000000001,
          3.9500000000000015,
          3.9000000000000012,
          3.8500000000000014,
          3.800000000000001,
          3.7500000000000013,
          3.7000000000000015,
          3.6500000000000012,
          3.6000000000000014,
          3.550000000000001,
          3.5000000000000013,
          3.450000000000001,
          3.4000000000000012,
          3.350000000000001,
          3.300000000000001,
          3.2500000000000013,
          3.200000000000001,
          3.1500000000000012,
          3.100000000000001,
          3.050000000000001,
          3.000000000000001,
          2.950000000000001,
          2.900000000000001,
          2.850000000000001,
          2.800000000000001,
          2.750000000000001,
          2.700000000000001,
          2.650000000000001,
          2.600000000000001,
          2.5500000000000007,
          2.500000000000001,
          2.450000000000001,
          2.400000000000001,
          2.350000000000001,
          2.3000000000000007,
          2.250000000000001,
          2.2000000000000006,
          2.150000000000001,
          2.100000000000001,
          2.0500000000000007,
          2.0000000000000004,
          1.9500000000000006,
          1.9000000000000008,
          1.8500000000000008,
          1.8000000000000007,
          1.7500000000000007,
          1.7000000000000006,
          1.6500000000000006,
          1.6000000000000005,
          1.5500000000000005,
          1.5000000000000004,
          1.4500000000000006,
          1.4000000000000006,
          1.3500000000000005,
          1.3000000000000005,
          1.2500000000000004,
          1.2000000000000004,
          1.1500000000000004,
          1.1000000000000005,
          1.0500000000000003,
          1.0000000000000004,
          0.9500000000000003,
          0.9000000000000002,
          0.8500000000000002,
          0.8000000000000002,
          0.7500000000000002,
          0.7000000000000002,
          0.6500000000000001,
          0.6000000000000002,
          0.5500000000000002,
          0.5000000000000001,
          0.45000000000000007,
          0.40000000000000013,
          0.3500000000000001,
          0.30000000000000004,
          0.25000000000000006,
          0.20000000000000004,
          0.15000000000000002,
          0.1
         ],
         "y": [
          44.17692418996248,
          31.51836329220916,
          21.095053455337446,
          12.833924071027479,
          6.542744629527696,
          1.9463421711989652,
          -1.2707145562044304,
          -3.42425128630441,
          -4.803492217222774,
          -5.6510048072548535,
          -6.152891900813703,
          -6.439079286757978,
          -6.591012307666409,
          -6.6534134408693335,
          -6.6471853612760325,
          -6.58110352339652,
          -6.460542592523589,
          -6.292521735872501,
          -6.087316587506443,
          -5.857522807380929,
          -5.615798079981136,
          -5.372574495235214,
          -5.134597946039807,
          -4.904639462479782,
          -4.682294472507088,
          -4.465415176851162,
          -4.251696076318635,
          -4.039868599982862,
          -3.8302545103349956,
          -3.6246505692755133,
          -3.4256041769346486,
          -3.2355762737783493,
          -3.0561242637660917,
          -2.887556310711169,
          -2.728980943366823,
          -2.5787335232563726,
          -2.4350111471811062,
          -2.296455135435193,
          -2.1624766055269586,
          -2.033359222456678,
          -1.9099376858656654,
          -1.793237812705543,
          -1.683968979086881,
          -1.5822828122908064,
          -1.487652111764982,
          -1.3990477135611337,
          -1.3152469794985802,
          -1.2351762726485558,
          -1.1582048830874425,
          -1.084244826309373,
          -1.013698147152859,
          -0.9472133063915058,
          -0.8853819594151427,
          -0.8284603209427707,
          -0.7762357170811617,
          -0.7280508965086393,
          -0.6829999419244019,
          -0.6401812703884281,
          -0.5989390598544537,
          -0.5589937229786619,
          -0.5204797146360945,
          -0.4838672011496685,
          -0.4497714159747236,
          -0.4186820753878623,
          -0.39069975808895285,
          -0.36542366933603887,
          -0.3420789939726047,
          -0.3198169083068748,
          -0.29790997517480644,
          -0.2757663858058078,
          -0.2527298921765873,
          -0.228486100604398,
          -0.20418847828263478,
          -0.1816542144119895,
          -0.1626599250444624,
          -0.14862119363654133,
          -0.14025599123929092,
          -0.13723456301409692,
          -0.1354985710323657,
          -0.12762102126093464,
          -0.11825872590708858,
          -0.1079086225309986,
          -0.09687888832288577,
          -0.08586939302235531,
          -0.07584216941556185,
          -0.06771345958802749,
          -0.05582132746786218,
          -0.024287058582994906,
          0.005575163531049233,
          0.029256357547239917,
          0.04310704895796209,
          0.044394006837165365,
          0.031706027738566525,
          0.005244856252520483,
          -0.018531121659529127,
          0.008431336393151412,
          0.04073702814750797,
          0.07536785714467303,
          0.10868951026333076,
          0.13664866537020112,
          0.1552889793880417,
          0.16130078912354373,
          0.15252487488044708,
          0.12834298049732185,
          0.08990504655051595,
          0.04017393934471851,
          0.013244244383768727,
          0.08640077749134933,
          0.14938449689142475,
          0.1945930020370622,
          0.21533587043684085,
          0.20622022062150874,
          0.16352971916927028,
          0.08546910813889451,
          0.024915123563933987,
          0.15684657963123866,
          0.3178744806332517,
          0.5035957662532894,
          0.7085349922032376,
          0.9264938779018893,
          1.1509838681567157,
          1.3756429254456006,
          1.5946033231115502,
          1.8027864573027932,
          1.9961098704587699,
          2.1716009029591667,
          2.327419906624055,
          2.462803114786599,
          2.577940631096596,
          2.6738083520939835,
          2.7519739454842855,
          2.81439638841691,
          2.863236272240412,
          2.900690454204696,
          2.9288601368675233,
          2.949656625869799,
          2.964744444391169,
          2.975517717189286,
          -2.9919100319661047,
          -2.9849475120010966,
          -2.974260712161102,
          -2.95846076888741,
          -2.9358604036084,
          -2.90449077461298,
          -2.8621521411967215,
          -2.8065031122445308,
          -2.735189583665707,
          -2.646009948299925,
          -2.537108318531092,
          -2.407182906505387,
          -2.2556928886505982,
          -2.0830444858383403,
          -1.8907359689824617,
          -1.681442105307136,
          -1.4590213351940755,
          -1.2284337164136863,
          -0.9955642199102007,
          -0.7669539358635118,
          -0.549450579407971,
          -0.3497987054532415,
          -0.1741994663290452,
          -0.027935896115260143,
          -0.07538685972301072,
          -0.14260962358380114,
          -0.17772872912686682,
          -0.1834120250771256,
          -0.1640201164865217,
          -0.1252661075082292,
          -0.07375642348870182,
          -0.016553307968466463,
          -0.06290800961327374,
          -0.1340992228685544,
          -0.19426215158938598,
          -0.23848032268262664,
          -0.26366393796383536,
          -0.2687320605050714,
          -0.25461704844807753,
          -0.22407952129785838,
          -0.18135066010703188,
          -0.1316385096857045,
          -0.08055554310447377,
          -0.03374390217765362,
          -0.03957937342403618,
          -0.052973805774316055,
          -0.06001112350327213,
          -0.062227068686111005,
          -0.061673516629227196,
          -0.06048349215342406,
          -0.06050833417044704,
          -0.06350107444042884,
          -0.08747470234626326,
          -0.11322977391789771,
          -0.13231649126337564,
          -0.14387581983956993,
          -0.1484206427199986,
          -0.1476074780336432,
          -0.14392747855295443,
          -0.1408745171646675,
          -0.1463472926923189,
          -0.15579323810620813,
          -0.16713263548006066,
          -0.1807879117436105,
          -0.19694269563342723,
          -0.21541498253587252,
          -0.23577417466118955,
          -0.25759588355437474,
          -0.28031500819884225,
          -0.30282488350425485,
          -0.32475472565349295,
          -0.34674283932982225,
          -0.36986170438508736,
          -0.3951239600427707,
          -0.42318149817370576,
          -0.4542832694774145,
          -0.48831245536758683,
          -0.5248600469022492,
          -0.5633640351071927,
          -0.6033322782939672,
          -0.6445791489563925,
          -0.6873691142571146,
          -0.7323942242401335,
          -0.7805747306885872,
          -0.8328031360437188,
          -0.8896943181079696,
          -0.9514443607626057,
          -1.0178072195653338,
          -1.0882344320433504,
          -1.1621130650204707,
          -1.239055728991747,
          -1.319122091282269,
          -1.4029289008677615,
          -1.491529644118037,
          -1.586154769975245,
          -1.6878395049697197,
          -1.797102102100011,
          -1.913812029378383,
          -2.0372247113840025,
          -2.1663482144408905,
          -2.3003164253414945,
          -2.4388829522742497,
          -2.5826020394632416,
          -2.7328485372682376,
          -2.8914288806218806,
          -3.05999847891218,
          -3.2394534185810357,
          -3.4294878096464525,
          -3.628524355700097,
          -3.8341486537985503,
          -4.043802023341135,
          -4.255707348535057,
          -4.469499843657762,
          -4.686425419312549,
          -4.908798208193229,
          -5.138772490265606,
          -5.3767700837380366,
          -5.620004502658599,
          -5.861719516798575,
          -6.091509754102795,
          -6.296800509981917,
          -6.465072839450122,
          -6.585990136179975,
          -6.652349457463598,
          -6.658596937765689,
          -6.595909874837213,
          -6.443547827197118,
          -6.157092724619869,
          -5.655217695003753,
          -4.807792936611841,
          -3.428578805827216,
          -1.275191093515795,
          1.941739957925121,
          6.538372037780683,
          12.824537235449487,
          21.068733360491198,
          31.459497067091235,
          44.06435733980962
         ]
        },
        {
         "line": {
          "color": "blue",
          "width": 2
         },
         "name": "Predicted function",
         "showlegend": true,
         "type": "scatter",
         "visible": true,
         "x": [
          0.1,
          0.15000000000000002,
          0.20000000000000004,
          0.25000000000000006,
          0.30000000000000004,
          0.3500000000000001,
          0.40000000000000013,
          0.45000000000000007,
          0.5000000000000001,
          0.5500000000000002,
          0.6000000000000002,
          0.6500000000000001,
          0.7000000000000002,
          0.7500000000000002,
          0.8000000000000002,
          0.8500000000000002,
          0.9000000000000002,
          0.9500000000000003,
          1.0000000000000004,
          1.0500000000000003,
          1.1000000000000005,
          1.1500000000000004,
          1.2000000000000004,
          1.2500000000000004,
          1.3000000000000005,
          1.3500000000000005,
          1.4000000000000006,
          1.4500000000000006,
          1.5000000000000004,
          1.5500000000000005,
          1.6000000000000005,
          1.6500000000000006,
          1.7000000000000006,
          1.7500000000000007,
          1.8000000000000007,
          1.8500000000000008,
          1.9000000000000008,
          1.9500000000000006,
          2.0000000000000004,
          2.0500000000000007,
          2.100000000000001,
          2.150000000000001,
          2.2000000000000006,
          2.250000000000001,
          2.3000000000000007,
          2.350000000000001,
          2.400000000000001,
          2.450000000000001,
          2.500000000000001,
          2.5500000000000007,
          2.600000000000001,
          2.650000000000001,
          2.700000000000001,
          2.750000000000001,
          2.800000000000001,
          2.850000000000001,
          2.900000000000001,
          2.950000000000001,
          3.000000000000001,
          3.050000000000001,
          3.100000000000001,
          3.1500000000000012,
          3.200000000000001,
          3.2500000000000013,
          3.300000000000001,
          3.350000000000001,
          3.4000000000000012,
          3.450000000000001,
          3.5000000000000013,
          3.550000000000001,
          3.6000000000000014,
          3.6500000000000012,
          3.7000000000000015,
          3.7500000000000013,
          3.800000000000001,
          3.8500000000000014,
          3.9000000000000012,
          3.9500000000000015,
          4.000000000000001,
          4.050000000000002,
          4.100000000000001,
          4.150000000000001,
          4.200000000000001,
          4.250000000000001,
          4.300000000000001,
          4.350000000000001,
          4.400000000000001,
          4.450000000000001,
          4.500000000000001,
          4.550000000000001,
          4.600000000000001,
          4.650000000000001,
          4.700000000000001,
          4.750000000000001,
          4.800000000000002,
          4.850000000000001,
          4.900000000000001,
          4.950000000000001,
          5.000000000000001,
          5.050000000000002,
          5.100000000000001,
          5.150000000000001,
          5.200000000000001,
          5.250000000000002,
          5.300000000000002,
          5.350000000000001,
          5.400000000000001,
          5.450000000000001,
          5.500000000000002,
          5.550000000000002,
          5.600000000000001,
          5.650000000000001,
          5.700000000000001,
          5.750000000000002,
          5.800000000000002,
          5.850000000000001,
          5.900000000000001,
          5.950000000000002,
          6.000000000000002,
          6.050000000000002,
          6.100000000000001,
          6.150000000000001,
          6.200000000000002,
          6.250000000000002,
          6.300000000000002,
          6.350000000000001,
          6.400000000000002,
          6.450000000000002,
          6.500000000000002,
          6.550000000000002,
          6.600000000000001,
          6.650000000000002,
          6.700000000000002,
          6.750000000000002,
          6.800000000000002,
          6.850000000000002,
          6.900000000000002,
          6.950000000000002
         ],
         "y": [
          44.12064076488605,
          31.488930179650197,
          21.081893407914322,
          12.829230653238483,
          6.5405583336541895,
          1.9440410645620432,
          -1.2729528248601127,
          -3.426415046065813,
          -4.8056425769173075,
          -5.653111251129303,
          -6.154992312716786,
          -6.441313556977548,
          -6.593461091251811,
          -6.656005189317511,
          -6.649767409369815,
          -6.583546829788247,
          -6.462807715986855,
          -6.294661122927209,
          -6.089413170804619,
          -5.859621162089752,
          -5.617901291319868,
          -5.374672289486625,
          -5.1366852181527065,
          -4.906718835336505,
          -4.684359945909819,
          -4.467457510254462,
          -4.253701712426846,
          -4.041835311661998,
          -3.832201582066773,
          -3.626587462487805,
          -3.4275459932905505,
          -3.2375148461796925,
          -3.058061371339136,
          -2.8894925956665247,
          -2.7309147403175302,
          -2.580667781359807,
          -2.436947049727678,
          -2.298385780388344,
          -2.1644124099839246,
          -2.03529196692034,
          -1.9118748576220241,
          -1.795169957402777,
          -1.6859042420283004,
          -1.5842187911330257,
          -1.4895908779415095,
          -1.4009883072144476,
          -1.3171845353904246,
          -1.2371160008201514,
          -1.1601589740539566,
          -1.0862396291763616,
          -1.0157526833590964,
          -0.9493288335770558,
          -0.8875381387615562,
          -0.8306317284932447,
          -0.7784052238848744,
          -0.7302225603743864,
          -0.6851845280907582,
          -0.6423802096724103,
          -0.6011356690742105,
          -0.5611788790429273,
          -0.5226698807691719,
          -0.4860898282586277,
          -0.45202734272606904,
          -0.420931786780784,
          -0.3929118590658618,
          -0.3676426868605631,
          -0.3444109166512135,
          -0.3222858169801839,
          -0.30036742933953064,
          -0.27804069700232503,
          -0.255162887865481,
          -0.23213013763279378,
          -0.20980173040925365,
          -0.18929845502270837,
          -0.17172391839403645,
          -0.157876914558301,
          -0.14802461467274952,
          -0.1417909278532079,
          -0.1381865440985166,
          -0.13577424990694453,
          -0.1329331019703659,
          -0.1281646326254986,
          -0.12037735408122785,
          -0.10909294214286547,
          -0.09453597166672978,
          -0.07759408096714537,
          -0.05966120095414551,
          -0.04239769637672097,
          -0.027454164311187412,
          -0.01620857954099364,
          -0.009560009864074459,
          -0.007808558333053384,
          -0.010633889017874765,
          -0.01716725858575785,
          -0.026137511918591372,
          -0.03606210335566118,
          -0.045450740769098275,
          -0.05299140148117942,
          -0.05769500551726381,
          -0.05898419153893819,
          -0.05672154055851486,
          -0.051181574420145814,
          -0.04297772390108978,
          -0.032959585546032066,
          -0.02209708815901923,
          -0.011367035134277614,
          -0.0016545317923488678,
          0.006322177001323759,
          0.012059194691597774,
          0.015286442775270248,
          0.015961922679857632,
          0.01424574574732096,
          0.010460047792734573,
          0.005041124207941894,
          -0.0015103862756630781,
          -0.008676443348903273,
          -0.0159621124099949,
          -0.022927406577340853,
          -0.029209471830137085,
          -0.03453517100415568,
          -0.03872492412848533,
          -0.0416892048742374,
          -0.04341939109779294,
          -0.04397475583983424,
          -0.04346730768978518,
          -0.04204599284571567,
          -0.039881499940665935,
          -0.03715260187224642,
          -0.034034658601664214,
          -0.03069061578586172,
          -0.02726458338012277,
          -0.023877876389905753,
          -0.02062725118628401,
          -0.017584974701851948,
          -0.01480031600994324,
          -0.012302043145651382,
          -0.010101533804963893,
          -0.008196157388409179
         ]
        },
        {
         "marker": {
          "color": "red",
          "size": 8
         },
         "mode": "markers",
         "name": "Training points",
         "showlegend": true,
         "type": "scatter",
         "visible": true,
         "x": [
          5.789011774065019,
          3.1890177942845357,
          4.389014129421709,
          1.9890258812452397,
          2.5890209007003793,
          1.3890351645165082,
          0.2891522613838655,
          5.38901232214804,
          4.789013315941333,
          3.989015106046028,
          3.5890163003618976,
          1.0719149307852758,
          2.2890230645983896,
          1.6890296984551227,
          0.5224711870448977,
          3.3890170032420026,
          2.9890186911866916,
          2.7890197167218815,
          0.9129802213227155,
          1.226009944241065,
          0.6382551523366189,
          2.4890215640414612,
          2.3890222829147914,
          2.1890239177001707,
          2.0890248524762463,
          1.8890270189341927,
          1.7890282838075544,
          1.5890312911530102,
          1.489033097772982,
          0.3891142611925234
         ],
         "y": [
          0,
          -0.4614966804297005,
          -0.06360573355020094,
          -2.1873964687144998,
          -1.0311521395875012,
          -4.293239790203302,
          7.768548062944898,
          -0.0036619567789024643,
          -0.02403130818260024,
          -0.13880486390100089,
          -0.26045902363910045,
          -5.751334940733901,
          -1.512899700815602,
          -3.1049248894996992,
          -5.1544351645245,
          -0.34842525636150157,
          -0.6065915124077996,
          -0.792933480363402,
          -6.4059202857595,
          -5.034605189136801,
          -6.447769448783699,
          -1.1734520451894994,
          -1.333427961933502,
          -1.713749753485402,
          -1.9379328744996016,
          -2.4639937487285017,
          -2.769407687643401,
          -3.4712173673584026,
          -3.8679647626182003,
          -0.7293387378510019
         ]
        },
        {
         "line": {
          "color": "pink",
          "width": 2
         },
         "name": "True function",
         "showlegend": true,
         "type": "scatter",
         "visible": true,
         "x": [
          0.2891522613838655,
          0.3891142611925234,
          0.4890917973789821,
          0.5890769595421326,
          0.6890664280484163,
          0.7890585658006655,
          0.8890524721653966,
          0.9890476107161894,
          1.0890436420380054,
          1.18904034088983,
          1.2890375519213562,
          1.3890351645165082,
          1.489033097772982,
          1.5890312911530102,
          1.6890296984551227,
          1.7890282838075544,
          1.8890270189341927,
          1.9890258812452397,
          2.0890248524762463,
          2.1890239177001707,
          2.2890230645983896,
          2.3890222829147914,
          2.4890215640414612,
          2.5890209007003793,
          2.7890197167218815,
          2.9890186911866916,
          3.1890177942845357,
          3.3890170032420026,
          3.5890163003618976,
          3.989015106046028,
          4.389014129421709,
          4.789013315941333,
          5.38901232214804,
          5.789011774065019
         ],
         "y": [
          7.768548062944898,
          -0.7293387378510019,
          -4.451645301694899,
          -6.0691337854804,
          -6.6566226379277005,
          -6.7113534465391,
          -6.485169821945,
          -6.113701719524901,
          -5.673165765260499,
          -5.207558879405102,
          -4.742593917006502,
          -4.293239790203302,
          -3.8679647626182003,
          -3.4712173673584026,
          -3.1049248894996992,
          -2.769407687643401,
          -2.4639937487285017,
          -2.1873964687144998,
          -1.9379328744996016,
          -1.713749753485402,
          -1.512899700815602,
          -1.333427961933502,
          -1.1734520451894994,
          -1.0311521395875012,
          -0.792933480363402,
          -0.6065915124077996,
          -0.4614966804297005,
          -0.34842525636150157,
          -0.26045902363910045,
          -0.13880486390100089,
          -0.06360573355020094,
          -0.02403130818260024,
          -0.0036619567789024643,
          0
         ]
        }
       ],
       "layout": {
        "autosize": false,
        "height": 600,
        "legend": {
         "x": 0.95,
         "xanchor": "right",
         "y": 0.3,
         "yanchor": "top"
        },
        "plot_bgcolor": "rgba(0,0,0,0)",
        "template": {
         "data": {
          "bar": [
           {
            "error_x": {
             "color": "#2a3f5f"
            },
            "error_y": {
             "color": "#2a3f5f"
            },
            "marker": {
             "line": {
              "color": "#E5ECF6",
              "width": 0.5
             },
             "pattern": {
              "fillmode": "overlay",
              "size": 10,
              "solidity": 0.2
             }
            },
            "type": "bar"
           }
          ],
          "barpolar": [
           {
            "marker": {
             "line": {
              "color": "#E5ECF6",
              "width": 0.5
             },
             "pattern": {
              "fillmode": "overlay",
              "size": 10,
              "solidity": 0.2
             }
            },
            "type": "barpolar"
           }
          ],
          "carpet": [
           {
            "aaxis": {
             "endlinecolor": "#2a3f5f",
             "gridcolor": "white",
             "linecolor": "white",
             "minorgridcolor": "white",
             "startlinecolor": "#2a3f5f"
            },
            "baxis": {
             "endlinecolor": "#2a3f5f",
             "gridcolor": "white",
             "linecolor": "white",
             "minorgridcolor": "white",
             "startlinecolor": "#2a3f5f"
            },
            "type": "carpet"
           }
          ],
          "choropleth": [
           {
            "colorbar": {
             "outlinewidth": 0,
             "ticks": ""
            },
            "type": "choropleth"
           }
          ],
          "contour": [
           {
            "colorbar": {
             "outlinewidth": 0,
             "ticks": ""
            },
            "colorscale": [
             [
              0,
              "#0d0887"
             ],
             [
              0.1111111111111111,
              "#46039f"
             ],
             [
              0.2222222222222222,
              "#7201a8"
             ],
             [
              0.3333333333333333,
              "#9c179e"
             ],
             [
              0.4444444444444444,
              "#bd3786"
             ],
             [
              0.5555555555555556,
              "#d8576b"
             ],
             [
              0.6666666666666666,
              "#ed7953"
             ],
             [
              0.7777777777777778,
              "#fb9f3a"
             ],
             [
              0.8888888888888888,
              "#fdca26"
             ],
             [
              1,
              "#f0f921"
             ]
            ],
            "type": "contour"
           }
          ],
          "contourcarpet": [
           {
            "colorbar": {
             "outlinewidth": 0,
             "ticks": ""
            },
            "type": "contourcarpet"
           }
          ],
          "heatmap": [
           {
            "colorbar": {
             "outlinewidth": 0,
             "ticks": ""
            },
            "colorscale": [
             [
              0,
              "#0d0887"
             ],
             [
              0.1111111111111111,
              "#46039f"
             ],
             [
              0.2222222222222222,
              "#7201a8"
             ],
             [
              0.3333333333333333,
              "#9c179e"
             ],
             [
              0.4444444444444444,
              "#bd3786"
             ],
             [
              0.5555555555555556,
              "#d8576b"
             ],
             [
              0.6666666666666666,
              "#ed7953"
             ],
             [
              0.7777777777777778,
              "#fb9f3a"
             ],
             [
              0.8888888888888888,
              "#fdca26"
             ],
             [
              1,
              "#f0f921"
             ]
            ],
            "type": "heatmap"
           }
          ],
          "heatmapgl": [
           {
            "colorbar": {
             "outlinewidth": 0,
             "ticks": ""
            },
            "colorscale": [
             [
              0,
              "#0d0887"
             ],
             [
              0.1111111111111111,
              "#46039f"
             ],
             [
              0.2222222222222222,
              "#7201a8"
             ],
             [
              0.3333333333333333,
              "#9c179e"
             ],
             [
              0.4444444444444444,
              "#bd3786"
             ],
             [
              0.5555555555555556,
              "#d8576b"
             ],
             [
              0.6666666666666666,
              "#ed7953"
             ],
             [
              0.7777777777777778,
              "#fb9f3a"
             ],
             [
              0.8888888888888888,
              "#fdca26"
             ],
             [
              1,
              "#f0f921"
             ]
            ],
            "type": "heatmapgl"
           }
          ],
          "histogram": [
           {
            "marker": {
             "pattern": {
              "fillmode": "overlay",
              "size": 10,
              "solidity": 0.2
             }
            },
            "type": "histogram"
           }
          ],
          "histogram2d": [
           {
            "colorbar": {
             "outlinewidth": 0,
             "ticks": ""
            },
            "colorscale": [
             [
              0,
              "#0d0887"
             ],
             [
              0.1111111111111111,
              "#46039f"
             ],
             [
              0.2222222222222222,
              "#7201a8"
             ],
             [
              0.3333333333333333,
              "#9c179e"
             ],
             [
              0.4444444444444444,
              "#bd3786"
             ],
             [
              0.5555555555555556,
              "#d8576b"
             ],
             [
              0.6666666666666666,
              "#ed7953"
             ],
             [
              0.7777777777777778,
              "#fb9f3a"
             ],
             [
              0.8888888888888888,
              "#fdca26"
             ],
             [
              1,
              "#f0f921"
             ]
            ],
            "type": "histogram2d"
           }
          ],
          "histogram2dcontour": [
           {
            "colorbar": {
             "outlinewidth": 0,
             "ticks": ""
            },
            "colorscale": [
             [
              0,
              "#0d0887"
             ],
             [
              0.1111111111111111,
              "#46039f"
             ],
             [
              0.2222222222222222,
              "#7201a8"
             ],
             [
              0.3333333333333333,
              "#9c179e"
             ],
             [
              0.4444444444444444,
              "#bd3786"
             ],
             [
              0.5555555555555556,
              "#d8576b"
             ],
             [
              0.6666666666666666,
              "#ed7953"
             ],
             [
              0.7777777777777778,
              "#fb9f3a"
             ],
             [
              0.8888888888888888,
              "#fdca26"
             ],
             [
              1,
              "#f0f921"
             ]
            ],
            "type": "histogram2dcontour"
           }
          ],
          "mesh3d": [
           {
            "colorbar": {
             "outlinewidth": 0,
             "ticks": ""
            },
            "type": "mesh3d"
           }
          ],
          "parcoords": [
           {
            "line": {
             "colorbar": {
              "outlinewidth": 0,
              "ticks": ""
             }
            },
            "type": "parcoords"
           }
          ],
          "pie": [
           {
            "automargin": true,
            "type": "pie"
           }
          ],
          "scatter": [
           {
            "fillpattern": {
             "fillmode": "overlay",
             "size": 10,
             "solidity": 0.2
            },
            "type": "scatter"
           }
          ],
          "scatter3d": [
           {
            "line": {
             "colorbar": {
              "outlinewidth": 0,
              "ticks": ""
             }
            },
            "marker": {
             "colorbar": {
              "outlinewidth": 0,
              "ticks": ""
             }
            },
            "type": "scatter3d"
           }
          ],
          "scattercarpet": [
           {
            "marker": {
             "colorbar": {
              "outlinewidth": 0,
              "ticks": ""
             }
            },
            "type": "scattercarpet"
           }
          ],
          "scattergeo": [
           {
            "marker": {
             "colorbar": {
              "outlinewidth": 0,
              "ticks": ""
             }
            },
            "type": "scattergeo"
           }
          ],
          "scattergl": [
           {
            "marker": {
             "colorbar": {
              "outlinewidth": 0,
              "ticks": ""
             }
            },
            "type": "scattergl"
           }
          ],
          "scattermapbox": [
           {
            "marker": {
             "colorbar": {
              "outlinewidth": 0,
              "ticks": ""
             }
            },
            "type": "scattermapbox"
           }
          ],
          "scatterpolar": [
           {
            "marker": {
             "colorbar": {
              "outlinewidth": 0,
              "ticks": ""
             }
            },
            "type": "scatterpolar"
           }
          ],
          "scatterpolargl": [
           {
            "marker": {
             "colorbar": {
              "outlinewidth": 0,
              "ticks": ""
             }
            },
            "type": "scatterpolargl"
           }
          ],
          "scatterternary": [
           {
            "marker": {
             "colorbar": {
              "outlinewidth": 0,
              "ticks": ""
             }
            },
            "type": "scatterternary"
           }
          ],
          "surface": [
           {
            "colorbar": {
             "outlinewidth": 0,
             "ticks": ""
            },
            "colorscale": [
             [
              0,
              "#0d0887"
             ],
             [
              0.1111111111111111,
              "#46039f"
             ],
             [
              0.2222222222222222,
              "#7201a8"
             ],
             [
              0.3333333333333333,
              "#9c179e"
             ],
             [
              0.4444444444444444,
              "#bd3786"
             ],
             [
              0.5555555555555556,
              "#d8576b"
             ],
             [
              0.6666666666666666,
              "#ed7953"
             ],
             [
              0.7777777777777778,
              "#fb9f3a"
             ],
             [
              0.8888888888888888,
              "#fdca26"
             ],
             [
              1,
              "#f0f921"
             ]
            ],
            "type": "surface"
           }
          ],
          "table": [
           {
            "cells": {
             "fill": {
              "color": "#EBF0F8"
             },
             "line": {
              "color": "white"
             }
            },
            "header": {
             "fill": {
              "color": "#C8D4E3"
             },
             "line": {
              "color": "white"
             }
            },
            "type": "table"
           }
          ]
         },
         "layout": {
          "annotationdefaults": {
           "arrowcolor": "#2a3f5f",
           "arrowhead": 0,
           "arrowwidth": 1
          },
          "autotypenumbers": "strict",
          "coloraxis": {
           "colorbar": {
            "outlinewidth": 0,
            "ticks": ""
           }
          },
          "colorscale": {
           "diverging": [
            [
             0,
             "#8e0152"
            ],
            [
             0.1,
             "#c51b7d"
            ],
            [
             0.2,
             "#de77ae"
            ],
            [
             0.3,
             "#f1b6da"
            ],
            [
             0.4,
             "#fde0ef"
            ],
            [
             0.5,
             "#f7f7f7"
            ],
            [
             0.6,
             "#e6f5d0"
            ],
            [
             0.7,
             "#b8e186"
            ],
            [
             0.8,
             "#7fbc41"
            ],
            [
             0.9,
             "#4d9221"
            ],
            [
             1,
             "#276419"
            ]
           ],
           "sequential": [
            [
             0,
             "#0d0887"
            ],
            [
             0.1111111111111111,
             "#46039f"
            ],
            [
             0.2222222222222222,
             "#7201a8"
            ],
            [
             0.3333333333333333,
             "#9c179e"
            ],
            [
             0.4444444444444444,
             "#bd3786"
            ],
            [
             0.5555555555555556,
             "#d8576b"
            ],
            [
             0.6666666666666666,
             "#ed7953"
            ],
            [
             0.7777777777777778,
             "#fb9f3a"
            ],
            [
             0.8888888888888888,
             "#fdca26"
            ],
            [
             1,
             "#f0f921"
            ]
           ],
           "sequentialminus": [
            [
             0,
             "#0d0887"
            ],
            [
             0.1111111111111111,
             "#46039f"
            ],
            [
             0.2222222222222222,
             "#7201a8"
            ],
            [
             0.3333333333333333,
             "#9c179e"
            ],
            [
             0.4444444444444444,
             "#bd3786"
            ],
            [
             0.5555555555555556,
             "#d8576b"
            ],
            [
             0.6666666666666666,
             "#ed7953"
            ],
            [
             0.7777777777777778,
             "#fb9f3a"
            ],
            [
             0.8888888888888888,
             "#fdca26"
            ],
            [
             1,
             "#f0f921"
            ]
           ]
          },
          "colorway": [
           "#636efa",
           "#EF553B",
           "#00cc96",
           "#ab63fa",
           "#FFA15A",
           "#19d3f3",
           "#FF6692",
           "#B6E880",
           "#FF97FF",
           "#FECB52"
          ],
          "font": {
           "color": "#2a3f5f"
          },
          "geo": {
           "bgcolor": "white",
           "lakecolor": "white",
           "landcolor": "#E5ECF6",
           "showlakes": true,
           "showland": true,
           "subunitcolor": "white"
          },
          "hoverlabel": {
           "align": "left"
          },
          "hovermode": "closest",
          "mapbox": {
           "style": "light"
          },
          "paper_bgcolor": "white",
          "plot_bgcolor": "#E5ECF6",
          "polar": {
           "angularaxis": {
            "gridcolor": "white",
            "linecolor": "white",
            "ticks": ""
           },
           "bgcolor": "#E5ECF6",
           "radialaxis": {
            "gridcolor": "white",
            "linecolor": "white",
            "ticks": ""
           }
          },
          "scene": {
           "xaxis": {
            "backgroundcolor": "#E5ECF6",
            "gridcolor": "white",
            "gridwidth": 2,
            "linecolor": "white",
            "showbackground": true,
            "ticks": "",
            "zerolinecolor": "white"
           },
           "yaxis": {
            "backgroundcolor": "#E5ECF6",
            "gridcolor": "white",
            "gridwidth": 2,
            "linecolor": "white",
            "showbackground": true,
            "ticks": "",
            "zerolinecolor": "white"
           },
           "zaxis": {
            "backgroundcolor": "#E5ECF6",
            "gridcolor": "white",
            "gridwidth": 2,
            "linecolor": "white",
            "showbackground": true,
            "ticks": "",
            "zerolinecolor": "white"
           }
          },
          "shapedefaults": {
           "line": {
            "color": "#2a3f5f"
           }
          },
          "ternary": {
           "aaxis": {
            "gridcolor": "white",
            "linecolor": "white",
            "ticks": ""
           },
           "baxis": {
            "gridcolor": "white",
            "linecolor": "white",
            "ticks": ""
           },
           "bgcolor": "#E5ECF6",
           "caxis": {
            "gridcolor": "white",
            "linecolor": "white",
            "ticks": ""
           }
          },
          "title": {
           "x": 0.05
          },
          "xaxis": {
           "automargin": true,
           "gridcolor": "white",
           "linecolor": "white",
           "ticks": "",
           "title": {
            "standoff": 15
           },
           "zerolinecolor": "white",
           "zerolinewidth": 2
          },
          "yaxis": {
           "automargin": true,
           "gridcolor": "white",
           "linecolor": "white",
           "ticks": "",
           "title": {
            "standoff": 15
           },
           "zerolinecolor": "white",
           "zerolinewidth": 2
          }
         }
        },
        "title": {
         "text": "GPR analysis",
         "x": 0.5,
         "xanchor": "center"
        },
        "width": 800,
        "xaxis": {
         "linecolor": "black",
         "linewidth": 1,
         "range": [
          0.2,
          7
         ],
         "showline": true,
         "title": {
          "text": "input values"
         }
        },
        "yaxis": {
         "linecolor": "black",
         "linewidth": 1,
         "range": [
          -15,
          20
         ],
         "showline": true,
         "title": {
          "text": "output values"
         }
        }
       }
      },
      "image/png": "[encoded data removed]",
      "text/html": [
       "<div>                            <div id=\"788126e2-bdd4-4287-a0aa-53d300470cf4\" class=\"plotly-graph-div\" style=\"height:600px; width:800px;\"></div>            <script type=\"text/javascript\">                require([\"plotly\"], function(Plotly) {                    window.PLOTLYENV=window.PLOTLYENV || {};                                    if (document.getElementById(\"788126e2-bdd4-4287-a0aa-53d300470cf4\")) {                    Plotly.newPlot(                        \"788126e2-bdd4-4287-a0aa-53d300470cf4\",                        [{\"fill\":\"toself\",\"fillcolor\":\"rgba(189,195,199,0.5)\",\"hoverinfo\":\"skip\",\"line\":{\"color\":\"rgba(200,200,200,0)\"},\"name\":\"mean plus\\u002fminus 1*standard deviation\",\"showlegend\":true,\"visible\":true,\"x\":[0.1,0.15000000000000002,0.20000000000000004,0.25000000000000006,0.30000000000000004,0.3500000000000001,0.40000000000000013,0.45000000000000007,0.5000000000000001,0.5500000000000002,0.6000000000000002,0.6500000000000001,0.7000000000000002,0.7500000000000002,0.8000000000000002,0.8500000000000002,0.9000000000000002,0.9500000000000003,1.0000000000000004,1.0500000000000003,1.1000000000000005,1.1500000000000004,1.2000000000000004,1.2500000000000004,1.3000000000000005,1.3500000000000005,1.4000000000000006,1.4500000000000006,1.5000000000000004,1.5500000000000005,1.6000000000000005,1.6500000000000006,1.7000000000000006,1.7500000000000007,1.8000000000000007,1.8500000000000008,1.9000000000000008,1.9500000000000006,2.0000000000000004,2.0500000000000007,2.100000000000001,2.150000000000001,2.2000000000000006,2.250000000000001,2.3000000000000007,2.350000000000001,2.400000000000001,2.450000000000001,2.500000000000001,2.5500000000000007,2.600000000000001,2.650000000000001,2.700000000000001,2.750000000000001,2.800000000000001,2.850000000000001,2.900000000000001,2.950000000000001,3.000000000000001,3.050000000000001,3.100000000000001,3.1500000000000012,3.200000000000001,3.2500000000000013,3.300000000000001,3.350000000000001,3.4000000000000012,3.450000000000001,3.5000000000000013,3.550000000000001,3.6000000000000014,3.6500000000000012,3.7000000000000015,3.7500000000000013,3.800000000000001,3.8500000000000014,3.9000000000000012,3.9500000000000015,4.000000000000001,4.050000000000002,4.100000000000001,4.150000000000001,4.200000000000001,4.250000000000001,4.300000000000001,4.350000000000001,4.400000000000001,4.450000000000001,4.500000000000001,4.550000000000001,4.600000000000001,4.650000000000001,4.700000000000001,4.750000000000001,4.800000000000002,4.850000000000001,4.900000000000001,4.950000000000001,5.000000000000001,5.050000000000002,5.100000000000001,5.150000000000001,5.200000000000001,5.250000000000002,5.300000000000002,5.350000000000001,5.400000000000001,5.450000000000001,5.500000000000002,5.550000000000002,5.600000000000001,5.650000000000001,5.700000000000001,5.750000000000002,5.800000000000002,5.850000000000001,5.900000000000001,5.950000000000002,6.000000000000002,6.050000000000002,6.100000000000001,6.150000000000001,6.200000000000002,6.250000000000002,6.300000000000002,6.350000000000001,6.400000000000002,6.450000000000002,6.500000000000002,6.550000000000002,6.600000000000001,6.650000000000002,6.700000000000002,6.750000000000002,6.800000000000002,6.850000000000002,6.900000000000002,6.950000000000002,6.950000000000002,6.900000000000002,6.850000000000002,6.800000000000002,6.750000000000002,6.700000000000002,6.650000000000002,6.600000000000001,6.550000000000002,6.500000000000002,6.450000000000002,6.400000000000002,6.350000000000001,6.300000000000002,6.250000000000002,6.200000000000002,6.150000000000001,6.100000000000001,6.050000000000002,6.000000000000002,5.950000000000002,5.900000000000001,5.850000000000001,5.800000000000002,5.750000000000002,5.700000000000001,5.650000000000001,5.600000000000001,5.550000000000002,5.500000000000002,5.450000000000001,5.400000000000001,5.350000000000001,5.300000000000002,5.250000000000002,5.200000000000001,5.150000000000001,5.100000000000001,5.050000000000002,5.000000000000001,4.950000000000001,4.900000000000001,4.850000000000001,4.800000000000002,4.750000000000001,4.700000000000001,4.650000000000001,4.600000000000001,4.550000000000001,4.500000000000001,4.450000000000001,4.400000000000001,4.350000000000001,4.300000000000001,4.250000000000001,4.200000000000001,4.150000000000001,4.100000000000001,4.050000000000002,4.000000000000001,3.9500000000000015,3.9000000000000012,3.8500000000000014,3.800000000000001,3.7500000000000013,3.7000000000000015,3.6500000000000012,3.6000000000000014,3.550000000000001,3.5000000000000013,3.450000000000001,3.4000000000000012,3.350000000000001,3.300000000000001,3.2500000000000013,3.200000000000001,3.1500000000000012,3.100000000000001,3.050000000000001,3.000000000000001,2.950000000000001,2.900000000000001,2.850000000000001,2.800000000000001,2.750000000000001,2.700000000000001,2.650000000000001,2.600000000000001,2.5500000000000007,2.500000000000001,2.450000000000001,2.400000000000001,2.350000000000001,2.3000000000000007,2.250000000000001,2.2000000000000006,2.150000000000001,2.100000000000001,2.0500000000000007,2.0000000000000004,1.9500000000000006,1.9000000000000008,1.8500000000000008,1.8000000000000007,1.7500000000000007,1.7000000000000006,1.6500000000000006,1.6000000000000005,1.5500000000000005,1.5000000000000004,1.4500000000000006,1.4000000000000006,1.3500000000000005,1.3000000000000005,1.2500000000000004,1.2000000000000004,1.1500000000000004,1.1000000000000005,1.0500000000000003,1.0000000000000004,0.9500000000000003,0.9000000000000002,0.8500000000000002,0.8000000000000002,0.7500000000000002,0.7000000000000002,0.6500000000000001,0.6000000000000002,0.5500000000000002,0.5000000000000001,0.45000000000000007,0.40000000000000013,0.3500000000000001,0.30000000000000004,0.25000000000000006,0.20000000000000004,0.15000000000000002,0.1],\"y\":[44.13940190657819,31.49874121716985,21.086280090388698,12.830795125834815,6.541287098945358,1.9448081001076838,-1.2722067353082187,-3.425693792812012,-4.804925790352463,-5.652409103171153,-6.154292175415758,-6.440568800237691,-6.592644830056677,-6.655141273168119,-6.648906726671887,-6.582732394324338,-6.462052674832433,-6.293947993908973,-6.088714309705227,-5.8589217105201445,-5.617200220873624,-5.373973024736155,-5.13598946078174,-4.906025711050931,-4.683671454775575,-4.466776732453362,-4.253033167057442,-4.041179741102286,-3.8315525581561807,-3.625941831417041,-3.4268987211719164,-3.236868655379245,-3.0574156688147878,-2.888847167348073,-2.730270141333961,-2.5800230286586623,-2.4363017488788206,-2.297742232070627,-2.1637671418316025,-2.034647718765786,-1.9112291337032379,-1.7945259091703658,-1.6852591543811606,-1.583573464852286,-1.4889446225493337,-1.400341442663343,-1.3165386834264765,-1.2364694247629529,-1.1595076103984518,-1.0855746948873655,-1.0150678379570173,-0.9486236578485391,-0.8868194123127517,-0.82990792597642,-0.7776820549503035,-0.7294986724191374,-0.6844563327019728,-0.6416472299110829,-0.6004034660009582,-0.5604504936881721,-0.5219398253914794,-0.4853489525556413,-0.4512753671422872,-0.42018188298314346,-0.3921744920735588,-0.36690301435238837,-0.34363360909167723,-0.3214628474224142,-0.29954827795128924,-0.27728259327015264,-0.25435188930251645,-0.23091545862332852,-0.20793064636704736,-0.18675037481913542,-0.16870258727751175,-0.15479167425104778,-0.14543507352826332,-0.14027213957350423,-0.13729055307646632,-0.13305650702494123,-0.12804164328260678,-0.12141262926066526,-0.1125445321617805,-0.10135175910269542,-0.0883047042496738,-0.07430054050743941,-0.058381243125384404,-0.036360817112145616,-0.016444388363775195,-0.0010536005115824552,0.007995676409937723,0.009592296723686198,0.0034794165676056664,-0.009696553639665073,-0.023602048498903957,-0.021230956772723648,-0.01672148446356286,-0.0102049819392286,-0.002233500257065618,0.006226760764108247,0.01394863275700399,0.019645880094417367,0.022189809026089177,0.020807936468419233,0.015236956744159168,0.005813289692054427,0.0033117269330236636,0.03301504383133228,0.057834295424873436,0.07505529586253423,0.0824199052655187,0.07823723737205023,0.061483271584913145,0.031850452184926104,0.00729811700420261,0.04649789764447737,0.09531675193775396,0.1525803176995359,0.21670534951432113,0.2858078452978593,0.357844673299915,0.4307548385657086,0.5025881803053215,0.5716123152077083,0.6363917516930665,0.6958363057559118,0.749218968914241,0.7961659703473687,0.836623771297756,0.8708090401740867,0.89914825957468,0.9222135452123662,0.9406605899559479,0.9551735016003308,0.9664198349492124,0.9750175131928321,0.9815137922604137,0.9863751341374893,-1.0027674489143077,-1.0017168598703414,-0.999621599484135,-0.9960204669690988,-0.9903434510040346,-0.981915092328516,-0.9699692979921778,-0.9536774263349255,-0.9321902717458102,-0.9046930885010844,-0.8704711740918616,-0.8289819687955728,-0.7799282914473431,-0.7233263670726368,-0.6595618268873767,-0.5894269625009073,-0.5141332483141834,-0.43529452155688564,-0.3548781873061707,-0.2751242931745953,-0.1984351308542176,-0.12724097675774376,-0.06385078434228392,-0.010318889555528767,-0.021768203769042312,-0.040563175999444,-0.04974574587740831,-0.05049605990580344,-0.044482410311993736,-0.03371590604167789,-0.020370689828684764,-0.006620790517721399,-0.028547359960609656,-0.059431133062197626,-0.08672710756048337,-0.10814525682826874,-0.122009028934709,-0.1273917138740337,-0.12419514384198463,-0.113156510777462,-0.09577782102313025,-0.07417999707463369,-0.050893249938598714,-0.028672975338278787,-0.024637963531850625,-0.024747194603355196,-0.025209413389792965,-0.02711569613808664,-0.03136355857040482,-0.03846394025859963,-0.04843457564129633,-0.06094115878290662,-0.08088762142685134,-0.10076723908378576,-0.11683412518303551,-0.12821017600067522,-0.13491663599033193,-0.137824560658125,-0.13849199278894783,-0.1390825351205669,-0.14330971613291157,-0.15061415581723572,-0.1609621548655542,-0.17474524951056114,-0.1918465352262813,-0.21167281445145994,-0.23334481664225903,-0.2559738864284456,-0.2787988007344974,-0.30118658072777205,-0.32310878653795355,-0.34518822421074974,-0.36838235936873787,-0.39364922605816477,-0.4216816905784246,-0.45277931830985085,-0.48683070396161404,-0.5233999361468643,-0.5619072643976825,-0.6018678721474627,-0.6431131894337376,-0.6859127234795437,-0.7309464483296354,-0.7791283928194453,-0.8313555310100694,-0.8882568652103606,-0.9500340093055725,-1.0164375287611755,-1.0869045634653578,-1.1608103377094614,-1.23776257687735,-1.3178303873543726,-1.4016351717655522,-1.4902371333336852,-1.5848641174137654,-1.6865493296754401,-1.7958140056351883,-1.9125205815408104,-2.0359362150748943,-2.1650576781362467,-2.2990293287060606,-2.4375923505765353,-2.581312534060952,-2.7315593393010995,-2.8901380239849765,-3.058707073863484,-3.23816103698014,-3.4281932654091847,-3.6272330935585693,-3.8328506059773653,-4.042490882221711,-4.25437025779625,-4.468138288055562,-4.685048437044062,-4.90741195962208,-5.137380975523673,-5.375371554237096,-5.618602361766111,-5.8603206136593595,-6.0901120319040105,-6.295374251945446,-6.463562757141277,-6.584361265252157,-6.650628092067743,-6.656869105466904,-6.594277352446945,-6.442058313717404,-6.155692450017813,-5.653813399087453,-4.8063593634821515,-3.427136299319614,-1.2736989144120068,1.9432740290164026,6.539829568363021,12.82766618064215,21.077506725439946,31.479119142130543,44.1018796231939],\"type\":\"scatter\"},{\"fill\":\"toself\",\"fillcolor\":\"rgba(189,195,199,0.5)\",\"hoverinfo\":\"skip\",\"line\":{\"color\":\"rgba(200,200,200,0)\"},\"name\":\"mean plus\\u002fminus 2*standard deviation\",\"showlegend\":true,\"visible\":true,\"x\":[0.1,0.15000000000000002,0.20000000000000004,0.25000000000000006,0.30000000000000004,0.3500000000000001,0.40000000000000013,0.45000000000000007,0.5000000000000001,0.5500000000000002,0.6000000000000002,0.6500000000000001,0.7000000000000002,0.7500000000000002,0.8000000000000002,0.8500000000000002,0.9000000000000002,0.9500000000000003,1.0000000000000004,1.0500000000000003,1.1000000000000005,1.1500000000000004,1.2000000000000004,1.2500000000000004,1.3000000000000005,1.3500000000000005,1.4000000000000006,1.4500000000000006,1.5000000000000004,1.5500000000000005,1.6000000000000005,1.6500000000000006,1.7000000000000006,1.7500000000000007,1.8000000000000007,1.8500000000000008,1.9000000000000008,1.9500000000000006,2.0000000000000004,2.0500000000000007,2.100000000000001,2.150000000000001,2.2000000000000006,2.250000000000001,2.3000000000000007,2.350000000000001,2.400000000000001,2.450000000000001,2.500000000000001,2.5500000000000007,2.600000000000001,2.650000000000001,2.700000000000001,2.750000000000001,2.800000000000001,2.850000000000001,2.900000000000001,2.950000000000001,3.000000000000001,3.050000000000001,3.100000000000001,3.1500000000000012,3.200000000000001,3.2500000000000013,3.300000000000001,3.350000000000001,3.4000000000000012,3.450000000000001,3.5000000000000013,3.550000000000001,3.6000000000000014,3.6500000000000012,3.7000000000000015,3.7500000000000013,3.800000000000001,3.8500000000000014,3.9000000000000012,3.9500000000000015,4.000000000000001,4.050000000000002,4.100000000000001,4.150000000000001,4.200000000000001,4.250000000000001,4.300000000000001,4.350000000000001,4.400000000000001,4.450000000000001,4.500000000000001,4.550000000000001,4.600000000000001,4.650000000000001,4.700000000000001,4.750000000000001,4.800000000000002,4.850000000000001,4.900000000000001,4.950000000000001,5.000000000000001,5.050000000000002,5.100000000000001,5.150000000000001,5.200000000000001,5.250000000000002,5.300000000000002,5.350000000000001,5.400000000000001,5.450000000000001,5.500000000000002,5.550000000000002,5.600000000000001,5.650000000000001,5.700000000000001,5.750000000000002,5.800000000000002,5.850000000000001,5.900000000000001,5.950000000000002,6.000000000000002,6.050000000000002,6.100000000000001,6.150000000000001,6.200000000000002,6.250000000000002,6.300000000000002,6.350000000000001,6.400000000000002,6.450000000000002,6.500000000000002,6.550000000000002,6.600000000000001,6.650000000000002,6.700000000000002,6.750000000000002,6.800000000000002,6.850000000000002,6.900000000000002,6.950000000000002,6.950000000000002,6.900000000000002,6.850000000000002,6.800000000000002,6.750000000000002,6.700000000000002,6.650000000000002,6.600000000000001,6.550000000000002,6.500000000000002,6.450000000000002,6.400000000000002,6.350000000000001,6.300000000000002,6.250000000000002,6.200000000000002,6.150000000000001,6.100000000000001,6.050000000000002,6.000000000000002,5.950000000000002,5.900000000000001,5.850000000000001,5.800000000000002,5.750000000000002,5.700000000000001,5.650000000000001,5.600000000000001,5.550000000000002,5.500000000000002,5.450000000000001,5.400000000000001,5.350000000000001,5.300000000000002,5.250000000000002,5.200000000000001,5.150000000000001,5.100000000000001,5.050000000000002,5.000000000000001,4.950000000000001,4.900000000000001,4.850000000000001,4.800000000000002,4.750000000000001,4.700000000000001,4.650000000000001,4.600000000000001,4.550000000000001,4.500000000000001,4.450000000000001,4.400000000000001,4.350000000000001,4.300000000000001,4.250000000000001,4.200000000000001,4.150000000000001,4.100000000000001,4.050000000000002,4.000000000000001,3.9500000000000015,3.9000000000000012,3.8500000000000014,3.800000000000001,3.7500000000000013,3.7000000000000015,3.6500000000000012,3.6000000000000014,3.550000000000001,3.5000000000000013,3.450000000000001,3.4000000000000012,3.350000000000001,3.300000000000001,3.2500000000000013,3.200000000000001,3.1500000000000012,3.100000000000001,3.050000000000001,3.000000000000001,2.950000000000001,2.900000000000001,2.850000000000001,2.800000000000001,2.750000000000001,2.700000000000001,2.650000000000001,2.600000000000001,2.5500000000000007,2.500000000000001,2.450000000000001,2.400000000000001,2.350000000000001,2.3000000000000007,2.250000000000001,2.2000000000000006,2.150000000000001,2.100000000000001,2.0500000000000007,2.0000000000000004,1.9500000000000006,1.9000000000000008,1.8500000000000008,1.8000000000000007,1.7500000000000007,1.7000000000000006,1.6500000000000006,1.6000000000000005,1.5500000000000005,1.5000000000000004,1.4500000000000006,1.4000000000000006,1.3500000000000005,1.3000000000000005,1.2500000000000004,1.2000000000000004,1.1500000000000004,1.1000000000000005,1.0500000000000003,1.0000000000000004,0.9500000000000003,0.9000000000000002,0.8500000000000002,0.8000000000000002,0.7500000000000002,0.7000000000000002,0.6500000000000001,0.6000000000000002,0.5500000000000002,0.5000000000000001,0.45000000000000007,0.40000000000000013,0.3500000000000001,0.30000000000000004,0.25000000000000006,0.20000000000000004,0.15000000000000002,0.1],\"y\":[44.15816304827034,31.508552254689505,21.09066677286307,12.832359598431147,6.542015864236527,1.9455751356533246,-1.2714606457563244,-3.424972539558211,-4.804209003787619,-5.651706955213004,-6.153592038114731,-6.439824043497834,-6.591828568861542,-6.654277357018726,-6.64804604397396,-6.581917958860429,-6.461297633678011,-6.293234864890738,-6.088015448605835,-5.858222258950537,-5.61649915042738,-5.373273759985684,-5.135293703410774,-4.905332586765357,-4.682982963641331,-4.466095954652262,-4.252364621688039,-4.040524170542574,-3.830903534245588,-3.625296200346277,-3.4262514490532823,-3.236222464578797,-3.0567699662904397,-2.8882017390296206,-2.7296255423503917,-2.5793782759575175,-2.4356564480299636,-2.29709868375291,-2.1631218736792803,-2.034003470611232,-1.9105834097844516,-1.7938818609379543,-1.6846140667340208,-1.5829281385715461,-1.488298367157158,-1.3996945781122383,-1.3158928314625282,-1.2358228487057543,-1.158856246742947,-1.084909760598369,-1.0143829925549381,-0.9479184821200224,-0.8861006858639472,-0.8291841234595954,-0.7769588860157326,-0.7287747844638883,-0.6837281373131874,-0.6409142501497556,-0.599671262927706,-0.5597221083334171,-0.521209770013787,-0.4846080768526549,-0.4505233915585054,-0.4194319791855029,-0.39143712508125583,-0.3661633418442136,-0.342856301532141,-0.3206398778646445,-0.29872912656304784,-0.2765244895379802,-0.2535408907395519,-0.22970077961386326,-0.20605956232484107,-0.18420229461556248,-0.16568125616098708,-0.15170643394379454,-0.14284553238377712,-0.1387533512938006,-0.136394562054416,-0.13033876414293794,-0.12315018459484768,-0.11466062589583192,-0.10471171024233313,-0.09361057606252536,-0.08207343683261782,-0.07100700004773346,-0.05710128529662329,-0.03032393784757026,-0.005434612416362981,0.014101378517828729,0.025551362683949905,0.02699315178042578,0.017592722153086097,-0.002225848693572296,-0.021066585079216542,-0.006399810189786116,0.012007771841972555,0.032581437602722224,0.05322800500313257,0.07143771306715468,0.08461880607252284,0.09047333460898055,0.08735734195326814,0.07457545848287053,0.052571001647337565,0.022993614518386468,0.008277985658396195,0.059707910661340804,0.1036093961581491,0.13482414894979822,0.14887788785117978,0.1422287289967795,0.11250649537709172,0.058659780161910306,0.0161066202840683,0.10167223863785801,0.20659561628550283,0.3280880419764126,0.4626201708587794,0.6061508615998743,0.7544142707283152,0.9031988820056546,1.0485957517084359,1.1871993862552508,1.3162508110759181,1.4337186043575392,1.5383194377691478,1.629484542566984,1.7072822011971762,1.772308696134035,1.8255611025294827,1.8683049668146383,1.90194843109818,1.9279319779025135,1.947639985908368,1.9623370695313158,1.9731291183257913,1.9809464256633877,-1.9973387404402063,-1.9933321859357191,-1.9869411558226184,-1.9772406179282545,-1.9631019273062174,-1.943202933470748,-1.9160607195944497,-1.8800902692897283,-1.8336899277057586,-1.7753515184005046,-1.7037897463114766,-1.6180824376504799,-1.5178105900489707,-1.4031854264554884,-1.2751488979349193,-1.1354345339040217,-0.9865772917541294,-0.831864118985286,-0.6752212036081857,-0.5210391145190535,-0.3739428551310944,-0.23851984110549262,-0.11902512533566456,-0.019127392835394455,-0.04857753174602652,-0.09158639979162257,-0.11373723750213757,-0.11695404249146452,-0.10425126339925772,-0.07949100677495355,-0.04706355665869329,-0.01158704924309393,-0.0457276847869417,-0.09676517796537602,-0.14049462957493467,-0.1733127897554477,-0.19283648344927218,-0.19806188718955256,-0.18940609614503107,-0.1686180160376602,-0.13856424056508107,-0.1029092533801691,-0.06572439652153625,-0.031208438757966202,-0.0321086684779434,-0.03886050018883563,-0.04261026844653255,-0.04467138241209882,-0.04651853759981601,-0.04947371620601185,-0.054471454905871686,-0.06222111661166773,-0.08418116188655729,-0.10699850650084174,-0.12457530822320557,-0.13604299792012256,-0.14166863935516527,-0.14271601934588413,-0.14120973567095113,-0.13997852614261722,-0.14482850441261522,-0.15320369696172192,-0.16404739517280745,-0.1777665806270858,-0.19439461542985426,-0.21354389849366623,-0.2345594956517243,-0.25678488499141017,-0.27955690446666986,-0.30200573211601345,-0.3239317560957233,-0.345965531770286,-0.3691220318769126,-0.39438659305046775,-0.42243159437606514,-0.45353129389363267,-0.48757157966460046,-0.5241299915245567,-0.5626356497524375,-0.6026000752207149,-0.643846169195065,-0.6866409188683291,-0.7316703362848844,-0.7798515617540163,-0.8320793335268941,-0.8889755916591652,-0.9507391850340892,-1.0171223741632547,-1.0875694977543542,-1.1614617013649662,-1.2384091529345485,-1.318476239318321,-1.4022820363166568,-1.490883388725861,-1.5855094436945052,-1.68719441732258,-1.7964580538675998,-1.9131663054595966,-2.0365804632294484,-2.165702946288569,-2.2996728770237778,-2.4382376514253923,-2.581957286762097,-2.732203938284669,-2.890783452303429,-3.059352776387832,-3.238807227780588,-3.428840537527819,-3.6278787246293334,-3.833499629887958,-4.043146452781422,-4.255038803165653,-4.468819065856662,-4.685736928178306,-4.908105083907654,-5.138076732894639,-5.376070818987566,-5.619303432212355,-5.861020065228967,-6.090810893003403,-6.296087380963681,-6.4643177982957,-6.585175700716065,-6.65148877476567,-6.657733021616297,-6.59509361364208,-6.442803070457261,-6.156392587318841,-5.6545155470456026,-4.807076150046996,-3.427857552573415,-1.274445003963901,1.9425069934707617,6.539100803071852,12.826101708045819,21.073120042965574,31.46930810461089,44.08311848150176],\"type\":\"scatter\"},{\"fill\":\"toself\",\"fillcolor\":\"rgba(189,195,199,0.5)\",\"hoverinfo\":\"skip\",\"line\":{\"color\":\"rgba(200,200,200,0)\"},\"name\":\"mean plus\\u002fminus 3*standard deviation\",\"showlegend\":true,\"visible\":true,\"x\":[0.1,0.15000000000000002,0.20000000000000004,0.25000000000000006,0.30000000000000004,0.3500000000000001,0.40000000000000013,0.45000000000000007,0.5000000000000001,0.5500000000000002,0.6000000000000002,0.6500000000000001,0.7000000000000002,0.7500000000000002,0.8000000000000002,0.8500000000000002,0.9000000000000002,0.9500000000000003,1.0000000000000004,1.0500000000000003,1.1000000000000005,1.1500000000000004,1.2000000000000004,1.2500000000000004,1.3000000000000005,1.3500000000000005,1.4000000000000006,1.4500000000000006,1.5000000000000004,1.5500000000000005,1.6000000000000005,1.6500000000000006,1.7000000000000006,1.7500000000000007,1.8000000000000007,1.8500000000000008,1.9000000000000008,1.9500000000000006,2.0000000000000004,2.0500000000000007,2.100000000000001,2.150000000000001,2.2000000000000006,2.250000000000001,2.3000000000000007,2.350000000000001,2.400000000000001,2.450000000000001,2.500000000000001,2.5500000000000007,2.600000000000001,2.650000000000001,2.700000000000001,2.750000000000001,2.800000000000001,2.850000000000001,2.900000000000001,2.950000000000001,3.000000000000001,3.050000000000001,3.100000000000001,3.1500000000000012,3.200000000000001,3.2500000000000013,3.300000000000001,3.350000000000001,3.4000000000000012,3.450000000000001,3.5000000000000013,3.550000000000001,3.6000000000000014,3.6500000000000012,3.7000000000000015,3.7500000000000013,3.800000000000001,3.8500000000000014,3.9000000000000012,3.9500000000000015,4.000000000000001,4.050000000000002,4.100000000000001,4.150000000000001,4.200000000000001,4.250000000000001,4.300000000000001,4.350000000000001,4.400000000000001,4.450000000000001,4.500000000000001,4.550000000000001,4.600000000000001,4.650000000000001,4.700000000000001,4.750000000000001,4.800000000000002,4.850000000000001,4.900000000000001,4.950000000000001,5.000000000000001,5.050000000000002,5.100000000000001,5.150000000000001,5.200000000000001,5.250000000000002,5.300000000000002,5.350000000000001,5.400000000000001,5.450000000000001,5.500000000000002,5.550000000000002,5.600000000000001,5.650000000000001,5.700000000000001,5.750000000000002,5.800000000000002,5.850000000000001,5.900000000000001,5.950000000000002,6.000000000000002,6.050000000000002,6.100000000000001,6.150000000000001,6.200000000000002,6.250000000000002,6.300000000000002,6.350000000000001,6.400000000000002,6.450000000000002,6.500000000000002,6.550000000000002,6.600000000000001,6.650000000000002,6.700000000000002,6.750000000000002,6.800000000000002,6.850000000000002,6.900000000000002,6.950000000000002,6.950000000000002,6.900000000000002,6.850000000000002,6.800000000000002,6.750000000000002,6.700000000000002,6.650000000000002,6.600000000000001,6.550000000000002,6.500000000000002,6.450000000000002,6.400000000000002,6.350000000000001,6.300000000000002,6.250000000000002,6.200000000000002,6.150000000000001,6.100000000000001,6.050000000000002,6.000000000000002,5.950000000000002,5.900000000000001,5.850000000000001,5.800000000000002,5.750000000000002,5.700000000000001,5.650000000000001,5.600000000000001,5.550000000000002,5.500000000000002,5.450000000000001,5.400000000000001,5.350000000000001,5.300000000000002,5.250000000000002,5.200000000000001,5.150000000000001,5.100000000000001,5.050000000000002,5.000000000000001,4.950000000000001,4.900000000000001,4.850000000000001,4.800000000000002,4.750000000000001,4.700000000000001,4.650000000000001,4.600000000000001,4.550000000000001,4.500000000000001,4.450000000000001,4.400000000000001,4.350000000000001,4.300000000000001,4.250000000000001,4.200000000000001,4.150000000000001,4.100000000000001,4.050000000000002,4.000000000000001,3.9500000000000015,3.9000000000000012,3.8500000000000014,3.800000000000001,3.7500000000000013,3.7000000000000015,3.6500000000000012,3.6000000000000014,3.550000000000001,3.5000000000000013,3.450000000000001,3.4000000000000012,3.350000000000001,3.300000000000001,3.2500000000000013,3.200000000000001,3.1500000000000012,3.100000000000001,3.050000000000001,3.000000000000001,2.950000000000001,2.900000000000001,2.850000000000001,2.800000000000001,2.750000000000001,2.700000000000001,2.650000000000001,2.600000000000001,2.5500000000000007,2.500000000000001,2.450000000000001,2.400000000000001,2.350000000000001,2.3000000000000007,2.250000000000001,2.2000000000000006,2.150000000000001,2.100000000000001,2.0500000000000007,2.0000000000000004,1.9500000000000006,1.9000000000000008,1.8500000000000008,1.8000000000000007,1.7500000000000007,1.7000000000000006,1.6500000000000006,1.6000000000000005,1.5500000000000005,1.5000000000000004,1.4500000000000006,1.4000000000000006,1.3500000000000005,1.3000000000000005,1.2500000000000004,1.2000000000000004,1.1500000000000004,1.1000000000000005,1.0500000000000003,1.0000000000000004,0.9500000000000003,0.9000000000000002,0.8500000000000002,0.8000000000000002,0.7500000000000002,0.7000000000000002,0.6500000000000001,0.6000000000000002,0.5500000000000002,0.5000000000000001,0.45000000000000007,0.40000000000000013,0.3500000000000001,0.30000000000000004,0.25000000000000006,0.20000000000000004,0.15000000000000002,0.1],\"y\":[44.17692418996248,31.51836329220916,21.095053455337446,12.833924071027479,6.542744629527696,1.9463421711989652,-1.2707145562044304,-3.42425128630441,-4.803492217222774,-5.6510048072548535,-6.152891900813703,-6.439079286757978,-6.591012307666409,-6.6534134408693335,-6.6471853612760325,-6.58110352339652,-6.460542592523589,-6.292521735872501,-6.087316587506443,-5.857522807380929,-5.615798079981136,-5.372574495235214,-5.134597946039807,-4.904639462479782,-4.682294472507088,-4.465415176851162,-4.251696076318635,-4.039868599982862,-3.8302545103349956,-3.6246505692755133,-3.4256041769346486,-3.2355762737783493,-3.0561242637660917,-2.887556310711169,-2.728980943366823,-2.5787335232563726,-2.4350111471811062,-2.296455135435193,-2.1624766055269586,-2.033359222456678,-1.9099376858656654,-1.793237812705543,-1.683968979086881,-1.5822828122908064,-1.487652111764982,-1.3990477135611337,-1.3152469794985802,-1.2351762726485558,-1.1582048830874425,-1.084244826309373,-1.013698147152859,-0.9472133063915058,-0.8853819594151427,-0.8284603209427707,-0.7762357170811617,-0.7280508965086393,-0.6829999419244019,-0.6401812703884281,-0.5989390598544537,-0.5589937229786619,-0.5204797146360945,-0.4838672011496685,-0.4497714159747236,-0.4186820753878623,-0.39069975808895285,-0.36542366933603887,-0.3420789939726047,-0.3198169083068748,-0.29790997517480644,-0.2757663858058078,-0.2527298921765873,-0.228486100604398,-0.20418847828263478,-0.1816542144119895,-0.1626599250444624,-0.14862119363654133,-0.14025599123929092,-0.13723456301409692,-0.1354985710323657,-0.12762102126093464,-0.11825872590708858,-0.1079086225309986,-0.09687888832288577,-0.08586939302235531,-0.07584216941556185,-0.06771345958802749,-0.05582132746786218,-0.024287058582994906,0.005575163531049233,0.029256357547239917,0.04310704895796209,0.044394006837165365,0.031706027738566525,0.005244856252520483,-0.018531121659529127,0.008431336393151412,0.04073702814750797,0.07536785714467303,0.10868951026333076,0.13664866537020112,0.1552889793880417,0.16130078912354373,0.15252487488044708,0.12834298049732185,0.08990504655051595,0.04017393934471851,0.013244244383768727,0.08640077749134933,0.14938449689142475,0.1945930020370622,0.21533587043684085,0.20622022062150874,0.16352971916927028,0.08546910813889451,0.024915123563933987,0.15684657963123866,0.3178744806332517,0.5035957662532894,0.7085349922032376,0.9264938779018893,1.1509838681567157,1.3756429254456006,1.5946033231115502,1.8027864573027932,1.9961098704587699,2.1716009029591667,2.327419906624055,2.462803114786599,2.577940631096596,2.6738083520939835,2.7519739454842855,2.81439638841691,2.863236272240412,2.900690454204696,2.9288601368675233,2.949656625869799,2.964744444391169,2.975517717189286,-2.9919100319661047,-2.9849475120010966,-2.974260712161102,-2.95846076888741,-2.9358604036084,-2.90449077461298,-2.8621521411967215,-2.8065031122445308,-2.735189583665707,-2.646009948299925,-2.537108318531092,-2.407182906505387,-2.2556928886505982,-2.0830444858383403,-1.8907359689824617,-1.681442105307136,-1.4590213351940755,-1.2284337164136863,-0.9955642199102007,-0.7669539358635118,-0.549450579407971,-0.3497987054532415,-0.1741994663290452,-0.027935896115260143,-0.07538685972301072,-0.14260962358380114,-0.17772872912686682,-0.1834120250771256,-0.1640201164865217,-0.1252661075082292,-0.07375642348870182,-0.016553307968466463,-0.06290800961327374,-0.1340992228685544,-0.19426215158938598,-0.23848032268262664,-0.26366393796383536,-0.2687320605050714,-0.25461704844807753,-0.22407952129785838,-0.18135066010703188,-0.1316385096857045,-0.08055554310447377,-0.03374390217765362,-0.03957937342403618,-0.052973805774316055,-0.06001112350327213,-0.062227068686111005,-0.061673516629227196,-0.06048349215342406,-0.06050833417044704,-0.06350107444042884,-0.08747470234626326,-0.11322977391789771,-0.13231649126337564,-0.14387581983956993,-0.1484206427199986,-0.1476074780336432,-0.14392747855295443,-0.1408745171646675,-0.1463472926923189,-0.15579323810620813,-0.16713263548006066,-0.1807879117436105,-0.19694269563342723,-0.21541498253587252,-0.23577417466118955,-0.25759588355437474,-0.28031500819884225,-0.30282488350425485,-0.32475472565349295,-0.34674283932982225,-0.36986170438508736,-0.3951239600427707,-0.42318149817370576,-0.4542832694774145,-0.48831245536758683,-0.5248600469022492,-0.5633640351071927,-0.6033322782939672,-0.6445791489563925,-0.6873691142571146,-0.7323942242401335,-0.7805747306885872,-0.8328031360437188,-0.8896943181079696,-0.9514443607626057,-1.0178072195653338,-1.0882344320433504,-1.1621130650204707,-1.239055728991747,-1.319122091282269,-1.4029289008677615,-1.491529644118037,-1.586154769975245,-1.6878395049697197,-1.797102102100011,-1.913812029378383,-2.0372247113840025,-2.1663482144408905,-2.3003164253414945,-2.4388829522742497,-2.5826020394632416,-2.7328485372682376,-2.8914288806218806,-3.05999847891218,-3.2394534185810357,-3.4294878096464525,-3.628524355700097,-3.8341486537985503,-4.043802023341135,-4.255707348535057,-4.469499843657762,-4.686425419312549,-4.908798208193229,-5.138772490265606,-5.3767700837380366,-5.620004502658599,-5.861719516798575,-6.091509754102795,-6.296800509981917,-6.465072839450122,-6.585990136179975,-6.652349457463598,-6.658596937765689,-6.595909874837213,-6.443547827197118,-6.157092724619869,-5.655217695003753,-4.807792936611841,-3.428578805827216,-1.275191093515795,1.941739957925121,6.538372037780683,12.824537235449487,21.068733360491198,31.459497067091235,44.06435733980962],\"type\":\"scatter\"},{\"line\":{\"color\":\"blue\",\"width\":2},\"name\":\"Predicted function\",\"showlegend\":true,\"visible\":true,\"x\":[0.1,0.15000000000000002,0.20000000000000004,0.25000000000000006,0.30000000000000004,0.3500000000000001,0.40000000000000013,0.45000000000000007,0.5000000000000001,0.5500000000000002,0.6000000000000002,0.6500000000000001,0.7000000000000002,0.7500000000000002,0.8000000000000002,0.8500000000000002,0.9000000000000002,0.9500000000000003,1.0000000000000004,1.0500000000000003,1.1000000000000005,1.1500000000000004,1.2000000000000004,1.2500000000000004,1.3000000000000005,1.3500000000000005,1.4000000000000006,1.4500000000000006,1.5000000000000004,1.5500000000000005,1.6000000000000005,1.6500000000000006,1.7000000000000006,1.7500000000000007,1.8000000000000007,1.8500000000000008,1.9000000000000008,1.9500000000000006,2.0000000000000004,2.0500000000000007,2.100000000000001,2.150000000000001,2.2000000000000006,2.250000000000001,2.3000000000000007,2.350000000000001,2.400000000000001,2.450000000000001,2.500000000000001,2.5500000000000007,2.600000000000001,2.650000000000001,2.700000000000001,2.750000000000001,2.800000000000001,2.850000000000001,2.900000000000001,2.950000000000001,3.000000000000001,3.050000000000001,3.100000000000001,3.1500000000000012,3.200000000000001,3.2500000000000013,3.300000000000001,3.350000000000001,3.4000000000000012,3.450000000000001,3.5000000000000013,3.550000000000001,3.6000000000000014,3.6500000000000012,3.7000000000000015,3.7500000000000013,3.800000000000001,3.8500000000000014,3.9000000000000012,3.9500000000000015,4.000000000000001,4.050000000000002,4.100000000000001,4.150000000000001,4.200000000000001,4.250000000000001,4.300000000000001,4.350000000000001,4.400000000000001,4.450000000000001,4.500000000000001,4.550000000000001,4.600000000000001,4.650000000000001,4.700000000000001,4.750000000000001,4.800000000000002,4.850000000000001,4.900000000000001,4.950000000000001,5.000000000000001,5.050000000000002,5.100000000000001,5.150000000000001,5.200000000000001,5.250000000000002,5.300000000000002,5.350000000000001,5.400000000000001,5.450000000000001,5.500000000000002,5.550000000000002,5.600000000000001,5.650000000000001,5.700000000000001,5.750000000000002,5.800000000000002,5.850000000000001,5.900000000000001,5.950000000000002,6.000000000000002,6.050000000000002,6.100000000000001,6.150000000000001,6.200000000000002,6.250000000000002,6.300000000000002,6.350000000000001,6.400000000000002,6.450000000000002,6.500000000000002,6.550000000000002,6.600000000000001,6.650000000000002,6.700000000000002,6.750000000000002,6.800000000000002,6.850000000000002,6.900000000000002,6.950000000000002],\"y\":[44.12064076488605,31.488930179650197,21.081893407914322,12.829230653238483,6.5405583336541895,1.9440410645620432,-1.2729528248601127,-3.426415046065813,-4.8056425769173075,-5.653111251129303,-6.154992312716786,-6.441313556977548,-6.593461091251811,-6.656005189317511,-6.649767409369815,-6.583546829788247,-6.462807715986855,-6.294661122927209,-6.089413170804619,-5.859621162089752,-5.617901291319868,-5.374672289486625,-5.1366852181527065,-4.906718835336505,-4.684359945909819,-4.467457510254462,-4.253701712426846,-4.041835311661998,-3.832201582066773,-3.626587462487805,-3.4275459932905505,-3.2375148461796925,-3.058061371339136,-2.8894925956665247,-2.7309147403175302,-2.580667781359807,-2.436947049727678,-2.298385780388344,-2.1644124099839246,-2.03529196692034,-1.9118748576220241,-1.795169957402777,-1.6859042420283004,-1.5842187911330257,-1.4895908779415095,-1.4009883072144476,-1.3171845353904246,-1.2371160008201514,-1.1601589740539566,-1.0862396291763616,-1.0157526833590964,-0.9493288335770558,-0.8875381387615562,-0.8306317284932447,-0.7784052238848744,-0.7302225603743864,-0.6851845280907582,-0.6423802096724103,-0.6011356690742105,-0.5611788790429273,-0.5226698807691719,-0.4860898282586277,-0.45202734272606904,-0.420931786780784,-0.3929118590658618,-0.3676426868605631,-0.3444109166512135,-0.3222858169801839,-0.30036742933953064,-0.27804069700232503,-0.255162887865481,-0.23213013763279378,-0.20980173040925365,-0.18929845502270837,-0.17172391839403645,-0.157876914558301,-0.14802461467274952,-0.1417909278532079,-0.1381865440985166,-0.13577424990694453,-0.1329331019703659,-0.1281646326254986,-0.12037735408122785,-0.10909294214286547,-0.09453597166672978,-0.07759408096714537,-0.05966120095414551,-0.04239769637672097,-0.027454164311187412,-0.01620857954099364,-0.009560009864074459,-0.007808558333053384,-0.010633889017874765,-0.01716725858575785,-0.026137511918591372,-0.03606210335566118,-0.045450740769098275,-0.05299140148117942,-0.05769500551726381,-0.05898419153893819,-0.05672154055851486,-0.051181574420145814,-0.04297772390108978,-0.032959585546032066,-0.02209708815901923,-0.011367035134277614,-0.0016545317923488678,0.006322177001323759,0.012059194691597774,0.015286442775270248,0.015961922679857632,0.01424574574732096,0.010460047792734573,0.005041124207941894,-0.0015103862756630781,-0.008676443348903273,-0.0159621124099949,-0.022927406577340853,-0.029209471830137085,-0.03453517100415568,-0.03872492412848533,-0.0416892048742374,-0.04341939109779294,-0.04397475583983424,-0.04346730768978518,-0.04204599284571567,-0.039881499940665935,-0.03715260187224642,-0.034034658601664214,-0.03069061578586172,-0.02726458338012277,-0.023877876389905753,-0.02062725118628401,-0.017584974701851948,-0.01480031600994324,-0.012302043145651382,-0.010101533804963893,-0.008196157388409179],\"type\":\"scatter\"},{\"marker\":{\"color\":\"red\",\"size\":8},\"mode\":\"markers\",\"name\":\"Training points\",\"showlegend\":true,\"visible\":true,\"x\":[5.789011774065019,3.1890177942845357,4.389014129421709,1.9890258812452397,2.5890209007003793,1.3890351645165082,0.2891522613838655,5.38901232214804,4.789013315941333,3.989015106046028,3.5890163003618976,1.0719149307852758,2.2890230645983896,1.6890296984551227,0.5224711870448977,3.3890170032420026,2.9890186911866916,2.7890197167218815,0.9129802213227155,1.226009944241065,0.6382551523366189,2.4890215640414612,2.3890222829147914,2.1890239177001707,2.0890248524762463,1.8890270189341927,1.7890282838075544,1.5890312911530102,1.489033097772982,0.3891142611925234],\"y\":[0.0,-0.4614966804297005,-0.06360573355020094,-2.1873964687144998,-1.0311521395875012,-4.293239790203302,7.768548062944898,-0.0036619567789024643,-0.02403130818260024,-0.13880486390100089,-0.26045902363910045,-5.751334940733901,-1.512899700815602,-3.1049248894996992,-5.1544351645245,-0.34842525636150157,-0.6065915124077996,-0.792933480363402,-6.4059202857595,-5.034605189136801,-6.447769448783699,-1.1734520451894994,-1.333427961933502,-1.713749753485402,-1.9379328744996016,-2.4639937487285017,-2.769407687643401,-3.4712173673584026,-3.8679647626182003,-0.7293387378510019],\"type\":\"scatter\"},{\"line\":{\"color\":\"pink\",\"width\":2},\"name\":\"True function\",\"showlegend\":true,\"visible\":true,\"x\":[0.2891522613838655,0.3891142611925234,0.4890917973789821,0.5890769595421326,0.6890664280484163,0.7890585658006655,0.8890524721653966,0.9890476107161894,1.0890436420380054,1.18904034088983,1.2890375519213562,1.3890351645165082,1.489033097772982,1.5890312911530102,1.6890296984551227,1.7890282838075544,1.8890270189341927,1.9890258812452397,2.0890248524762463,2.1890239177001707,2.2890230645983896,2.3890222829147914,2.4890215640414612,2.5890209007003793,2.7890197167218815,2.9890186911866916,3.1890177942845357,3.3890170032420026,3.5890163003618976,3.989015106046028,4.389014129421709,4.789013315941333,5.38901232214804,5.789011774065019],\"y\":[7.768548062944898,-0.7293387378510019,-4.451645301694899,-6.0691337854804,-6.6566226379277005,-6.7113534465391,-6.485169821945,-6.113701719524901,-5.673165765260499,-5.207558879405102,-4.742593917006502,-4.293239790203302,-3.8679647626182003,-3.4712173673584026,-3.1049248894996992,-2.769407687643401,-2.4639937487285017,-2.1873964687144998,-1.9379328744996016,-1.713749753485402,-1.512899700815602,-1.333427961933502,-1.1734520451894994,-1.0311521395875012,-0.792933480363402,-0.6065915124077996,-0.4614966804297005,-0.34842525636150157,-0.26045902363910045,-0.13880486390100089,-0.06360573355020094,-0.02403130818260024,-0.0036619567789024643,0.0],\"type\":\"scatter\"}],                        {\"template\":{\"data\":{\"histogram2dcontour\":[{\"type\":\"histogram2dcontour\",\"colorbar\":{\"outlinewidth\":0,\"ticks\":\"\"},\"colorscale\":[[0.0,\"#0d0887\"],[0.1111111111111111,\"#46039f\"],[0.2222222222222222,\"#7201a8\"],[0.3333333333333333,\"#9c179e\"],[0.4444444444444444,\"#bd3786\"],[0.5555555555555556,\"#d8576b\"],[0.6666666666666666,\"#ed7953\"],[0.7777777777777778,\"#fb9f3a\"],[0.8888888888888888,\"#fdca26\"],[1.0,\"#f0f921\"]]}],\"choropleth\":[{\"type\":\"choropleth\",\"colorbar\":{\"outlinewidth\":0,\"ticks\":\"\"}}],\"histogram2d\":[{\"type\":\"histogram2d\",\"colorbar\":{\"outlinewidth\":0,\"ticks\":\"\"},\"colorscale\":[[0.0,\"#0d0887\"],[0.1111111111111111,\"#46039f\"],[0.2222222222222222,\"#7201a8\"],[0.3333333333333333,\"#9c179e\"],[0.4444444444444444,\"#bd3786\"],[0.5555555555555556,\"#d8576b\"],[0.6666666666666666,\"#ed7953\"],[0.7777777777777778,\"#fb9f3a\"],[0.8888888888888888,\"#fdca26\"],[1.0,\"#f0f921\"]]}],\"heatmap\":[{\"type\":\"heatmap\",\"colorbar\":{\"outlinewidth\":0,\"ticks\":\"\"},\"colorscale\":[[0.0,\"#0d0887\"],[0.1111111111111111,\"#46039f\"],[0.2222222222222222,\"#7201a8\"],[0.3333333333333333,\"#9c179e\"],[0.4444444444444444,\"#bd3786\"],[0.5555555555555556,\"#d8576b\"],[0.6666666666666666,\"#ed7953\"],[0.7777777777777778,\"#fb9f3a\"],[0.8888888888888888,\"#fdca26\"],[1.0,\"#f0f921\"]]}],\"heatmapgl\":[{\"type\":\"heatmapgl\",\"colorbar\":{\"outlinewidth\":0,\"ticks\":\"\"},\"colorscale\":[[0.0,\"#0d0887\"],[0.1111111111111111,\"#46039f\"],[0.2222222222222222,\"#7201a8\"],[0.3333333333333333,\"#9c179e\"],[0.4444444444444444,\"#bd3786\"],[0.5555555555555556,\"#d8576b\"],[0.6666666666666666,\"#ed7953\"],[0.7777777777777778,\"#fb9f3a\"],[0.8888888888888888,\"#fdca26\"],[1.0,\"#f0f921\"]]}],\"contourcarpet\":[{\"type\":\"contourcarpet\",\"colorbar\":{\"outlinewidth\":0,\"ticks\":\"\"}}],\"contour\":[{\"type\":\"contour\",\"colorbar\":{\"outlinewidth\":0,\"ticks\":\"\"},\"colorscale\":[[0.0,\"#0d0887\"],[0.1111111111111111,\"#46039f\"],[0.2222222222222222,\"#7201a8\"],[0.3333333333333333,\"#9c179e\"],[0.4444444444444444,\"#bd3786\"],[0.5555555555555556,\"#d8576b\"],[0.6666666666666666,\"#ed7953\"],[0.7777777777777778,\"#fb9f3a\"],[0.8888888888888888,\"#fdca26\"],[1.0,\"#f0f921\"]]}],\"surface\":[{\"type\":\"surface\",\"colorbar\":{\"outlinewidth\":0,\"ticks\":\"\"},\"colorscale\":[[0.0,\"#0d0887\"],[0.1111111111111111,\"#46039f\"],[0.2222222222222222,\"#7201a8\"],[0.3333333333333333,\"#9c179e\"],[0.4444444444444444,\"#bd3786\"],[0.5555555555555556,\"#d8576b\"],[0.6666666666666666,\"#ed7953\"],[0.7777777777777778,\"#fb9f3a\"],[0.8888888888888888,\"#fdca26\"],[1.0,\"#f0f921\"]]}],\"mesh3d\":[{\"type\":\"mesh3d\",\"colorbar\":{\"outlinewidth\":0,\"ticks\":\"\"}}],\"scatter\":[{\"fillpattern\":{\"fillmode\":\"overlay\",\"size\":10,\"solidity\":0.2},\"type\":\"scatter\"}],\"parcoords\":[{\"type\":\"parcoords\",\"line\":{\"colorbar\":{\"outlinewidth\":0,\"ticks\":\"\"}}}],\"scatterpolargl\":[{\"type\":\"scatterpolargl\",\"marker\":{\"colorbar\":{\"outlinewidth\":0,\"ticks\":\"\"}}}],\"bar\":[{\"error_x\":{\"color\":\"#2a3f5f\"},\"error_y\":{\"color\":\"#2a3f5f\"},\"marker\":{\"line\":{\"color\":\"#E5ECF6\",\"width\":0.5},\"pattern\":{\"fillmode\":\"overlay\",\"size\":10,\"solidity\":0.2}},\"type\":\"bar\"}],\"scattergeo\":[{\"type\":\"scattergeo\",\"marker\":{\"colorbar\":{\"outlinewidth\":0,\"ticks\":\"\"}}}],\"scatterpolar\":[{\"type\":\"scatterpolar\",\"marker\":{\"colorbar\":{\"outlinewidth\":0,\"ticks\":\"\"}}}],\"histogram\":[{\"marker\":{\"pattern\":{\"fillmode\":\"overlay\",\"size\":10,\"solidity\":0.2}},\"type\":\"histogram\"}],\"scattergl\":[{\"type\":\"scattergl\",\"marker\":{\"colorbar\":{\"outlinewidth\":0,\"ticks\":\"\"}}}],\"scatter3d\":[{\"type\":\"scatter3d\",\"line\":{\"colorbar\":{\"outlinewidth\":0,\"ticks\":\"\"}},\"marker\":{\"colorbar\":{\"outlinewidth\":0,\"ticks\":\"\"}}}],\"scattermapbox\":[{\"type\":\"scattermapbox\",\"marker\":{\"colorbar\":{\"outlinewidth\":0,\"ticks\":\"\"}}}],\"scatterternary\":[{\"type\":\"scatterternary\",\"marker\":{\"colorbar\":{\"outlinewidth\":0,\"ticks\":\"\"}}}],\"scattercarpet\":[{\"type\":\"scattercarpet\",\"marker\":{\"colorbar\":{\"outlinewidth\":0,\"ticks\":\"\"}}}],\"carpet\":[{\"aaxis\":{\"endlinecolor\":\"#2a3f5f\",\"gridcolor\":\"white\",\"linecolor\":\"white\",\"minorgridcolor\":\"white\",\"startlinecolor\":\"#2a3f5f\"},\"baxis\":{\"endlinecolor\":\"#2a3f5f\",\"gridcolor\":\"white\",\"linecolor\":\"white\",\"minorgridcolor\":\"white\",\"startlinecolor\":\"#2a3f5f\"},\"type\":\"carpet\"}],\"table\":[{\"cells\":{\"fill\":{\"color\":\"#EBF0F8\"},\"line\":{\"color\":\"white\"}},\"header\":{\"fill\":{\"color\":\"#C8D4E3\"},\"line\":{\"color\":\"white\"}},\"type\":\"table\"}],\"barpolar\":[{\"marker\":{\"line\":{\"color\":\"#E5ECF6\",\"width\":0.5},\"pattern\":{\"fillmode\":\"overlay\",\"size\":10,\"solidity\":0.2}},\"type\":\"barpolar\"}],\"pie\":[{\"automargin\":true,\"type\":\"pie\"}]},\"layout\":{\"autotypenumbers\":\"strict\",\"colorway\":[\"#636efa\",\"#EF553B\",\"#00cc96\",\"#ab63fa\",\"#FFA15A\",\"#19d3f3\",\"#FF6692\",\"#B6E880\",\"#FF97FF\",\"#FECB52\"],\"font\":{\"color\":\"#2a3f5f\"},\"hovermode\":\"closest\",\"hoverlabel\":{\"align\":\"left\"},\"paper_bgcolor\":\"white\",\"plot_bgcolor\":\"#E5ECF6\",\"polar\":{\"bgcolor\":\"#E5ECF6\",\"angularaxis\":{\"gridcolor\":\"white\",\"linecolor\":\"white\",\"ticks\":\"\"},\"radialaxis\":{\"gridcolor\":\"white\",\"linecolor\":\"white\",\"ticks\":\"\"}},\"ternary\":{\"bgcolor\":\"#E5ECF6\",\"aaxis\":{\"gridcolor\":\"white\",\"linecolor\":\"white\",\"ticks\":\"\"},\"baxis\":{\"gridcolor\":\"white\",\"linecolor\":\"white\",\"ticks\":\"\"},\"caxis\":{\"gridcolor\":\"white\",\"linecolor\":\"white\",\"ticks\":\"\"}},\"coloraxis\":{\"colorbar\":{\"outlinewidth\":0,\"ticks\":\"\"}},\"colorscale\":{\"sequential\":[[0.0,\"#0d0887\"],[0.1111111111111111,\"#46039f\"],[0.2222222222222222,\"#7201a8\"],[0.3333333333333333,\"#9c179e\"],[0.4444444444444444,\"#bd3786\"],[0.5555555555555556,\"#d8576b\"],[0.6666666666666666,\"#ed7953\"],[0.7777777777777778,\"#fb9f3a\"],[0.8888888888888888,\"#fdca26\"],[1.0,\"#f0f921\"]],\"sequentialminus\":[[0.0,\"#0d0887\"],[0.1111111111111111,\"#46039f\"],[0.2222222222222222,\"#7201a8\"],[0.3333333333333333,\"#9c179e\"],[0.4444444444444444,\"#bd3786\"],[0.5555555555555556,\"#d8576b\"],[0.6666666666666666,\"#ed7953\"],[0.7777777777777778,\"#fb9f3a\"],[0.8888888888888888,\"#fdca26\"],[1.0,\"#f0f921\"]],\"diverging\":[[0,\"#8e0152\"],[0.1,\"#c51b7d\"],[0.2,\"#de77ae\"],[0.3,\"#f1b6da\"],[0.4,\"#fde0ef\"],[0.5,\"#f7f7f7\"],[0.6,\"#e6f5d0\"],[0.7,\"#b8e186\"],[0.8,\"#7fbc41\"],[0.9,\"#4d9221\"],[1,\"#276419\"]]},\"xaxis\":{\"gridcolor\":\"white\",\"linecolor\":\"white\",\"ticks\":\"\",\"title\":{\"standoff\":15},\"zerolinecolor\":\"white\",\"automargin\":true,\"zerolinewidth\":2},\"yaxis\":{\"gridcolor\":\"white\",\"linecolor\":\"white\",\"ticks\":\"\",\"title\":{\"standoff\":15},\"zerolinecolor\":\"white\",\"automargin\":true,\"zerolinewidth\":2},\"scene\":{\"xaxis\":{\"backgroundcolor\":\"#E5ECF6\",\"gridcolor\":\"white\",\"linecolor\":\"white\",\"showbackground\":true,\"ticks\":\"\",\"zerolinecolor\":\"white\",\"gridwidth\":2},\"yaxis\":{\"backgroundcolor\":\"#E5ECF6\",\"gridcolor\":\"white\",\"linecolor\":\"white\",\"showbackground\":true,\"ticks\":\"\",\"zerolinecolor\":\"white\",\"gridwidth\":2},\"zaxis\":{\"backgroundcolor\":\"#E5ECF6\",\"gridcolor\":\"white\",\"linecolor\":\"white\",\"showbackground\":true,\"ticks\":\"\",\"zerolinecolor\":\"white\",\"gridwidth\":2}},\"shapedefaults\":{\"line\":{\"color\":\"#2a3f5f\"}},\"annotationdefaults\":{\"arrowcolor\":\"#2a3f5f\",\"arrowhead\":0,\"arrowwidth\":1},\"geo\":{\"bgcolor\":\"white\",\"landcolor\":\"#E5ECF6\",\"subunitcolor\":\"white\",\"showland\":true,\"showlakes\":true,\"lakecolor\":\"white\"},\"title\":{\"x\":0.05},\"mapbox\":{\"style\":\"light\"}}},\"width\":800,\"height\":600,\"autosize\":false,\"plot_bgcolor\":\"rgba(0,0,0,0)\",\"title\":{\"text\":\"GPR analysis\",\"x\":0.5,\"xanchor\":\"center\"},\"legend\":{\"yanchor\":\"top\",\"y\":0.3,\"xanchor\":\"right\",\"x\":0.95},\"xaxis\":{\"title\":{\"text\":\"input values\"},\"showline\":true,\"linewidth\":1,\"linecolor\":\"black\",\"range\":[0.2,7.0]},\"yaxis\":{\"title\":{\"text\":\"output values\"},\"showline\":true,\"linewidth\":1,\"linecolor\":\"black\",\"range\":[-15,20.0]}},                        {\"responsive\": true}                    ).then(function(){\n",
       "                            \n",
       "var gd = document.getElementById('788126e2-bdd4-4287-a0aa-53d300470cf4');\n",
       "var x = new MutationObserver(function (mutations, observer) {{\n",
       "        var display = window.getComputedStyle(gd).display;\n",
       "        if (!display || display === 'none') {{\n",
       "            console.log([gd, 'removed!']);\n",
       "            Plotly.purge(gd);\n",
       "            observer.disconnect();\n",
       "        }}\n",
       "}});\n",
       "\n",
       "// Listen for the removal of the full notebook cells\n",
       "var notebookContainer = gd.closest('#notebook-container');\n",
       "if (notebookContainer) {{\n",
       "    x.observe(notebookContainer, {childList: true});\n",
       "}}\n",
       "\n",
       "// Listen for the clearing of the current output cell\n",
       "var outputEl = gd.closest('.output');\n",
       "if (outputEl) {{\n",
       "    x.observe(outputEl, {childList: true});\n",
       "}}\n",
       "\n",
       "                        })                };                });            </script>        </div>"
      ]
     },
     "metadata": {},
     "output_type": "display_data"
    }
   ],
   "source": [
    "# First I just load a smaller dataset to make the plotting lighter\n",
    "curvedata = np.loadtxt('dists-energies/datasmall.dat')\n",
    "curvex = curvedata.T[0]\n",
    "curvey = curvedata.T[1]\n",
    "curvey = curvey - zero\n",
    "\n",
    "# Then, I define a suitable range for the x-axis\n",
    "x = np.arange(0.1,7,0.05)\n",
    "\n",
    "# Finally I put the GPR on the plot\n",
    "# Below, you should uncomment each line and plot to see the effect of adding one point at a time\n",
    "# model = GPR([-10], [10]) # With this line, you effectively have the GPR before it sees any data\n",
    "# model = GPR(x_values[:1], y_values[:1]) # With this line, you give only one training point\n",
    "# model = GPR(x_values[:3], y_values[:3]) # With this line, you give only three training point\n",
    "# model = GPR(x_values[:5], y_values[:5]) # With this line, you give only five training point\n",
    "model = GPR(x_values[:], y_values[:]) # With this line, you give all training points\n",
    "\n",
    "data = plot_GPR(data_x=x_values, data_y=y_values, x=x, model=model)\n",
    "fig4 = go.Figure(data=data)\n",
    "fig4 = update_layout_of_graph(fig=fig4,\n",
    "                              title='GPR analysis')\n",
    "fig4.update_xaxes(\n",
    "    range=(0.2, 7.0))\n",
    "fig4.update_yaxes(\n",
    "    range=(-15, 20.0))\n",
    "fig4.show()"
   ]
  },
  {
   "cell_type": "markdown",
   "id": "b409d823",
   "metadata": {},
   "source": [
    "A cool feature of the GPR is that it is a probability distribution over function - so we can literally 'draw' random functions! \n",
    "\n",
    "Click on the button \"add random function\" below the plot multiple times for each training set size.\n",
    "\n",
    "**Question**: How do you understand these random function in the \"function space\" representation of GPR?"
   ]
  },
  {
   "cell_type": "code",
   "execution_count": 27,
   "id": "045e7091",
   "metadata": {},
   "outputs": [
    {
     "data": {
      "application/vnd.jupyter.widget-view+json": {
       "model_id": "f7b098d0101743758096b5d6cbbe7ce2",
       "version_major": 2,
       "version_minor": 0
      },
      "text/plain": [
       "VBox(children=(FigureWidget({\n",
       "    'data': [{'marker': {'color': 'red', 'size': 8},\n",
       "              'mode': 'mark…"
      ]
     },
     "execution_count": 27,
     "metadata": {},
     "output_type": "execute_result"
    }
   ],
   "source": [
    "# Below, you should uncomment each line and plot to see the effect of adding one point at a time\n",
    "# model = GPR([-10],[-10])\n",
    "# model = GPR(x_values[:1], y_values[:1]) # With this line, you give only one training point\n",
    "model = GPR(x_values[:3], y_values[:3]) # With this line, you give only three training point\n",
    "# model = GPR(x_values[:5], y_values[:5]) # With this line, you give only five training point\n",
    "# model = GPR(x_values[:], y_values[:]) # With this line, you give all training points\n",
    "\n",
    "mean = model.predict(x)\n",
    "covariance_matrix = model._memory['covariance_matrix']\n",
    "\n",
    "fig1 = go.FigureWidget(data=[dot_scatter(x_dots=x_values, y_dots=y_values)])\n",
    "fig1 = update_layout_of_graph(\n",
    "    fig1,\n",
    "    title='Random drawings (i.e. random functions) of the Gaussian process')\n",
    "\n",
    "button = widgets.Button(description='Add random drawing')\n",
    "\n",
    "\n",
    "def update(_):\n",
    "    with fig1.batch_update():\n",
    "        fig1.add_trace(\n",
    "            line_scatter(x_lines=x,\n",
    "                         y_lines=np.random.multivariate_normal(\n",
    "                             mean, covariance_matrix),\n",
    "                         name_line='random function',\n",
    "                         showlegend=False))\n",
    "        fig1.add_trace(\n",
    "            dot_scatter(x_dots=x_values, y_dots=y_values, showlegend=False))\n",
    "        fig1.add_trace(\n",
    "            dot_scatter2(x_dots=curvex, y_dots=curvey, showlegend=False))\n",
    "\n",
    "\n",
    "button.on_click(update)\n",
    "widgets.VBox([fig1, button])"
   ]
  },
  {
   "cell_type": "markdown",
   "id": "876ee73f",
   "metadata": {},
   "source": [
    "The GPR predictions assume the mean function as the best guess. This is a good assumption if the predictive distribution is Gaussian. For other cases, please refer to Section 2.4 in Rasmussen and Williams. \n",
    "\n",
    "Because GPR is a probabilistic model, we get in addition a measure of the (un)certainty of our prediction. (But be careful how to interpret this uncertainty area! Believing that every 'new' point must be in the uncertainty area is simply wrong! -- This uncertainty simply tells you where the model knows best or does not know at all.)\n",
    "\n",
    "We have already seen this two plots above. Below, it is simply more interactive."
   ]
  },
  {
   "cell_type": "code",
   "execution_count": 28,
   "id": "36354bda",
   "metadata": {},
   "outputs": [
    {
     "data": {
      "application/vnd.jupyter.widget-view+json": {
       "model_id": "9743a57e4ce143149f4dc90fcd3b206b",
       "version_major": 2,
       "version_minor": 0
      },
      "text/plain": [
       "VBox(children=(FigureWidget({\n",
       "    'data': [{'fill': 'toself',\n",
       "              'fillcolor': 'rgba(189,195,199,0.5…"
      ]
     },
     "execution_count": 28,
     "metadata": {},
     "output_type": "execute_result"
    }
   ],
   "source": [
    "model = GPR(x_values[:1], y_values[:1])\n",
    "\n",
    "data = plot_GPR(data_x=[-10], data_y=[-10], x=x, model=model)\n",
    "\n",
    "fig2 = go.FigureWidget(data=data)\n",
    "fig2 = update_layout_of_graph(fig2, title='Prediction (i.e. mean) of GPR')\n",
    "fig2.update_xaxes(range=(0.2, 7.0))\n",
    "fig2.update_yaxes(range=(-15, 20.0))\n",
    "\n",
    "button = widgets.Button(description='Add data point')\n",
    "\n",
    "number_of_points = 1\n",
    "\n",
    "# we update the y values of our 4 scatter plots \n",
    "def update(_):\n",
    "    with fig2.batch_update():\n",
    "        global number_of_points\n",
    "        if number_of_points <= len(x_values):\n",
    "            model = GPR(x_values[:number_of_points],\n",
    "                        y_values[:number_of_points])\n",
    "            mean = model.predict(x)\n",
    "            fig2.data[3].y = mean\n",
    "            for i in range(1, 4):\n",
    "                y_upper = mean + i * np.sqrt(model._memory['variance'])\n",
    "                y_lower = mean - i * np.sqrt(model._memory['variance'])\n",
    "                fig2.data[i - 1].y = np.concatenate((y_upper, y_lower[::-1]))\n",
    "\n",
    "            fig2.data[4].x = x_values[:number_of_points]\n",
    "            fig2.data[4].y = y_values[:number_of_points]\n",
    "            fig2.update_xaxes(range=(0.2, 7.0))\n",
    "            fig2.update_yaxes(range=(-15, 20.0))\n",
    "            number_of_points += 1\n",
    "\n",
    "\n",
    "button.on_click(update)\n",
    "widgets.VBox([fig2, button])"
   ]
  },
  {
   "cell_type": "markdown",
   "id": "ce23fd04",
   "metadata": {},
   "source": [
    "**Bonus exercise**: You can test the GPR with different data. Try using multi-dimensional input!"
   ]
  },
  {
   "cell_type": "markdown",
   "id": "1d17146a",
   "metadata": {},
   "source": [
    "### Visualization of effect of free parameters (hyperparameters)"
   ]
  },
  {
   "cell_type": "markdown",
   "id": "e7e03650",
   "metadata": {},
   "source": [
    "Awesome! Now that we can make predictions with our GPR, lets visualize how the GPR changes if we change the free parameters of the kernel function and the GPR. There are currently three parameters: the length-scale, the variance and the white noise (regularization)."
   ]
  },
  {
   "cell_type": "code",
   "execution_count": 29,
   "id": "cd6e6019",
   "metadata": {},
   "outputs": [
    {
     "data": {
      "application/vnd.jupyter.widget-view+json": {
       "model_id": "a9965472da0c49328514129dfea13c07",
       "version_major": 2,
       "version_minor": 0
      },
      "text/plain": [
       "interactive(children=(FloatSlider(value=1.0, description='sigma', max=3.0, min=0.01, step=0.01), FloatSlider(v…"
      ]
     },
     "metadata": {},
     "output_type": "display_data"
    },
    {
     "data": {
      "application/vnd.jupyter.widget-view+json": {
       "model_id": "a058ecf8364649019c7feb895d5099d8",
       "version_major": 2,
       "version_minor": 0
      },
      "text/plain": [
       "FigureWidget({\n",
       "    'data': [{'fill': 'toself',\n",
       "              'fillcolor': 'rgba(189,195,199,0.5)',\n",
       "              'hoverinfo': 'skip',\n",
       "              'line': {'color': 'rgba(200,200,200,0)'},\n",
       "              'name': 'mean plus/minus 1*standard deviation',\n",
       "              'showlegend': True,\n",
       "              'type': 'scatter',\n",
       "              'uid': 'c19e5b9a-eeb1-44a9-8528-a5fb2fb06a84',\n",
       "              'visible': True,\n",
       "              'x': array([0.1 , 0.15, 0.2 , ..., 0.2 , 0.15, 0.1 ]),\n",
       "              'y': array([24.74658478, 19.80240057, 14.96909988, ..., 14.86527935, 19.64040918,\n",
       "                          24.51068584])},\n",
       "             {'fill': 'toself',\n",
       "              'fillcolor': 'rgba(189,195,199,0.5)',\n",
       "              'hoverinfo': 'skip',\n",
       "              'line': {'color': 'rgba(200,200,200,0)'},\n",
       "              'name': 'mean plus/minus 2*standard deviation',\n",
       "              'showlegend': True,\n",
       "              'type': 'scatter',\n",
       "              'uid': 'df7638e9-0294-40a9-84d6-6fd22a943e9f',\n",
       "              'visible': True,\n",
       "              'x': array([0.1 , 0.15, 0.2 , ..., 0.2 , 0.15, 0.1 ]),\n",
       "              'y': array([24.86453425, 19.88339626, 15.02101014, ..., 14.81336909, 19.55941349,\n",
       "                          24.39273637])},\n",
       "             {'fill': 'toself',\n",
       "              'fillcolor': 'rgba(189,195,199,0.5)',\n",
       "              'hoverinfo': 'skip',\n",
       "              'line': {'color': 'rgba(200,200,200,0)'},\n",
       "              'name': 'mean plus/minus 3*standard deviation',\n",
       "              'showlegend': True,\n",
       "              'type': 'scatter',\n",
       "              'uid': '75a6c7e4-4306-4939-b4b3-fdcccbaf3a06',\n",
       "              'visible': True,\n",
       "              'x': array([0.1 , 0.15, 0.2 , ..., 0.2 , 0.15, 0.1 ]),\n",
       "              'y': array([24.98248372, 19.96439195, 15.07292041, ..., 14.76145882, 19.4784178 ,\n",
       "                          24.2747869 ])},\n",
       "             {'line': {'color': 'blue', 'width': 2},\n",
       "              'name': 'Predicted function',\n",
       "              'showlegend': True,\n",
       "              'type': 'scatter',\n",
       "              'uid': '943d0508-d551-4784-b273-c4b2b8f93d87',\n",
       "              'visible': True,\n",
       "              'x': array([0.1 , 0.15, 0.2 , 0.25, 0.3 , 0.35, 0.4 , 0.45, 0.5 , 0.55, 0.6 , 0.65,\n",
       "                          0.7 , 0.75, 0.8 , 0.85, 0.9 , 0.95, 1.  , 1.05, 1.1 , 1.15, 1.2 , 1.25,\n",
       "                          1.3 , 1.35, 1.4 , 1.45, 1.5 , 1.55, 1.6 , 1.65, 1.7 , 1.75, 1.8 , 1.85,\n",
       "                          1.9 , 1.95, 2.  , 2.05, 2.1 , 2.15, 2.2 , 2.25, 2.3 , 2.35, 2.4 , 2.45,\n",
       "                          2.5 , 2.55, 2.6 , 2.65, 2.7 , 2.75, 2.8 , 2.85, 2.9 , 2.95, 3.  , 3.05,\n",
       "                          3.1 , 3.15, 3.2 , 3.25, 3.3 , 3.35, 3.4 , 3.45, 3.5 , 3.55, 3.6 , 3.65,\n",
       "                          3.7 , 3.75, 3.8 , 3.85, 3.9 , 3.95, 4.  , 4.05, 4.1 , 4.15, 4.2 , 4.25,\n",
       "                          4.3 , 4.35, 4.4 , 4.45, 4.5 , 4.55, 4.6 , 4.65, 4.7 , 4.75, 4.8 , 4.85,\n",
       "                          4.9 , 4.95, 5.  , 5.05, 5.1 , 5.15, 5.2 , 5.25, 5.3 , 5.35, 5.4 , 5.45,\n",
       "                          5.5 , 5.55, 5.6 , 5.65, 5.7 , 5.75, 5.8 , 5.85, 5.9 , 5.95, 6.  , 6.05,\n",
       "                          6.1 , 6.15, 6.2 , 6.25, 6.3 , 6.35, 6.4 , 6.45, 6.5 , 6.55, 6.6 , 6.65,\n",
       "                          6.7 , 6.75, 6.8 , 6.85, 6.9 , 6.95]),\n",
       "              'y': array([ 2.46286353e+01,  1.97214049e+01,  1.49171896e+01,  1.03848667e+01,\n",
       "                           6.26625191e+00,  2.66775700e+00, -3.44623022e-01, -2.74659152e+00,\n",
       "                          -4.55311622e+00, -5.81270902e+00, -6.59920470e+00, -7.00207251e+00,\n",
       "                          -7.11640707e+00, -7.03370644e+00, -6.83436763e+00, -6.58254227e+00,\n",
       "                          -6.32364296e+00, -6.08442737e+00, -5.87526485e+00, -5.69395193e+00,\n",
       "                          -5.53031740e+00, -5.37085284e+00, -5.20271099e+00, -5.01660396e+00,\n",
       "                          -4.80836997e+00, -4.57921792e+00, -4.33486538e+00, -4.08393016e+00,\n",
       "                          -3.83599973e+00, -3.59978914e+00, -3.38171607e+00, -3.18509602e+00,\n",
       "                          -3.01001731e+00, -2.85382275e+00, -2.71202366e+00, -2.57941665e+00,\n",
       "                          -2.45116783e+00, -2.32366726e+00, -2.19502587e+00, -2.06517104e+00,\n",
       "                          -1.93557762e+00, -1.80873487e+00, -1.68748604e+00, -1.57438332e+00,\n",
       "                          -1.47117968e+00, -1.37853749e+00, -1.29598272e+00, -1.22208347e+00,\n",
       "                          -1.15479165e+00, -1.09186359e+00, -1.03127043e+00, -9.71522169e-01,\n",
       "                          -9.11854402e-01, -8.52258529e-01, -7.93367894e-01, -7.36237472e-01,\n",
       "                          -6.82070107e-01, -6.31945974e-01, -5.86604756e-01, -5.46314657e-01,\n",
       "                          -5.10842608e-01, -4.79520030e-01, -4.51381960e-01, -4.25346663e-01,\n",
       "                          -4.00399416e-01, -3.75747470e-01, -3.50921969e-01, -3.25814581e-01,\n",
       "                          -3.00649220e-01, -2.75900350e-01, -2.52177123e-01, -2.30096239e-01,\n",
       "                          -2.10165729e-01, -1.92697604e-01, -1.77760618e-01, -1.65176680e-01,\n",
       "                          -1.54557111e-01, -1.45369108e-01, -1.37019176e-01, -1.28939171e-01,\n",
       "                          -1.20661822e-01, -1.11875664e-01, -1.02453439e-01, -9.24525509e-02,\n",
       "                          -8.20902821e-02, -7.16996750e-02, -6.16739730e-02, -5.24081265e-02,\n",
       "                          -4.42452711e-02, -3.74345034e-02, -3.21040851e-02, -2.82517747e-02,\n",
       "                          -2.57516625e-02, -2.43749604e-02, -2.38208335e-02, -2.37526644e-02,\n",
       "                          -2.38350705e-02, -2.37674839e-02, -2.33109980e-02, -2.23063286e-02,\n",
       "                          -2.06819594e-02, -1.84526988e-02, -1.57098483e-02, -1.26048971e-02,\n",
       "                          -9.32907519e-03, -6.09122025e-03, -3.09627153e-03, -5.26350173e-04,\n",
       "                           1.47411128e-03,  2.80829951e-03,  3.43169863e-03,  3.35173131e-03,\n",
       "                           2.62301212e-03,  1.33917373e-03, -3.77595043e-04, -2.38811310e-03,\n",
       "                          -4.54775525e-03, -6.71702693e-03, -8.77043091e-03, -1.06031465e-02,\n",
       "                          -1.21353001e-02, -1.33138451e-02, -1.41122635e-02, -1.45284538e-02,\n",
       "                          -1.45812542e-02, -1.43060896e-02, -1.37502167e-02, -1.29679888e-02,\n",
       "                          -1.20164856e-02, -1.09517567e-02, -9.82583516e-03, -8.68458243e-03,\n",
       "                          -7.56635122e-03, -6.50139163e-03, -5.51188413e-03, -4.61246094e-03,\n",
       "                          -3.81107087e-03, -3.11005016e-03])},\n",
       "             {'marker': {'color': 'red', 'size': 8},\n",
       "              'mode': 'markers',\n",
       "              'name': 'Training points',\n",
       "              'showlegend': True,\n",
       "              'type': 'scatter',\n",
       "              'uid': 'c40b88bd-5b8b-4dd8-a3a4-ed2f20595dd8',\n",
       "              'visible': True,\n",
       "              'x': array([5.78901177, 3.18901779, 4.38901413, 1.98902588, 2.5890209 , 1.38903516,\n",
       "                          0.28915226, 5.38901232, 4.78901332, 3.98901511, 3.5890163 , 1.07191493,\n",
       "                          2.28902306, 1.6890297 , 0.52247119, 3.389017  , 2.98901869, 2.78901972,\n",
       "                          0.91298022, 1.22600994, 0.63825515, 2.48902156, 2.38902228, 2.18902392,\n",
       "                          2.08902485, 1.88902702, 1.78902828, 1.58903129, 1.4890331 , 0.38911426]),\n",
       "              'y': array([ 0.00000000e+00, -4.61496680e-01, -6.36057336e-02, -2.18739647e+00,\n",
       "                          -1.03115214e+00, -4.29323979e+00,  7.76854806e+00, -3.66195678e-03,\n",
       "                          -2.40313082e-02, -1.38804864e-01, -2.60459024e-01, -5.75133494e+00,\n",
       "                          -1.51289970e+00, -3.10492489e+00, -5.15443516e+00, -3.48425256e-01,\n",
       "                          -6.06591512e-01, -7.92933480e-01, -6.40592029e+00, -5.03460519e+00,\n",
       "                          -6.44776945e+00, -1.17345205e+00, -1.33342796e+00, -1.71374975e+00,\n",
       "                          -1.93793287e+00, -2.46399375e+00, -2.76940769e+00, -3.47121737e+00,\n",
       "                          -3.86796476e+00, -7.29338738e-01])},\n",
       "             {'line': {'color': 'pink', 'width': 2},\n",
       "              'name': 'True function',\n",
       "              'showlegend': True,\n",
       "              'type': 'scatter',\n",
       "              'uid': '5ef3f26b-2256-4d80-bd5c-1ecd61a7d56e',\n",
       "              'visible': True,\n",
       "              'x': array([0.28915226, 0.38911426, 0.4890918 , 0.58907696, 0.68906643, 0.78905857,\n",
       "                          0.88905247, 0.98904761, 1.08904364, 1.18904034, 1.28903755, 1.38903516,\n",
       "                          1.4890331 , 1.58903129, 1.6890297 , 1.78902828, 1.88902702, 1.98902588,\n",
       "                          2.08902485, 2.18902392, 2.28902306, 2.38902228, 2.48902156, 2.5890209 ,\n",
       "                          2.78901972, 2.98901869, 3.18901779, 3.389017  , 3.5890163 , 3.98901511,\n",
       "                          4.38901413, 4.78901332, 5.38901232, 5.78901177]),\n",
       "              'y': array([ 7.76854806e+00, -7.29338738e-01, -4.45164530e+00, -6.06913379e+00,\n",
       "                          -6.65662264e+00, -6.71135345e+00, -6.48516982e+00, -6.11370172e+00,\n",
       "                          -5.67316577e+00, -5.20755888e+00, -4.74259392e+00, -4.29323979e+00,\n",
       "                          -3.86796476e+00, -3.47121737e+00, -3.10492489e+00, -2.76940769e+00,\n",
       "                          -2.46399375e+00, -2.18739647e+00, -1.93793287e+00, -1.71374975e+00,\n",
       "                          -1.51289970e+00, -1.33342796e+00, -1.17345205e+00, -1.03115214e+00,\n",
       "                          -7.92933480e-01, -6.06591512e-01, -4.61496680e-01, -3.48425256e-01,\n",
       "                          -2.60459024e-01, -1.38804864e-01, -6.36057336e-02, -2.40313082e-02,\n",
       "                          -3.66195678e-03,  0.00000000e+00])}],\n",
       "    'layout': {'autosize': False,\n",
       "               'height': 600,\n",
       "               'legend': {'x': 0.95, 'xanchor': 'right', 'y': 0.3, 'yanchor': 'top'},\n",
       "               'plot_bgcolor': 'rgba(0,0,0,0)',\n",
       "               'template': '...',\n",
       "               'title': {'text': 'GPR with varying length, sigma and white noise', 'x': 0.5, 'xanchor': 'center'},\n",
       "               'width': 800,\n",
       "               'xaxis': {'linecolor': 'black',\n",
       "                         'linewidth': 1,\n",
       "                         'range': [0.2, 7.0],\n",
       "                         'showline': True,\n",
       "                         'title': {'text': 'input values'}},\n",
       "               'yaxis': {'linecolor': 'black',\n",
       "                         'linewidth': 1,\n",
       "                         'range': [-15, 20.0],\n",
       "                         'showline': True,\n",
       "                         'title': {'text': 'output values'}}}\n",
       "})"
      ]
     },
     "execution_count": 29,
     "metadata": {},
     "output_type": "execute_result"
    }
   ],
   "source": [
    "model = GPR(x_values,\n",
    "            y_values,\n",
    "            covariance_function=SquaredExponentialKernel(length=0.5),\n",
    "            white_noise_sigma=0.1)\n",
    "\n",
    "data = plot_GPR(x_values, y_values, model=model, x=x)\n",
    "\n",
    "fig3 = go.FigureWidget(data=data)\n",
    "fig3.update_xaxes(range=(0.2, 7.0))\n",
    "fig3.update_yaxes(range=(-15, 20.0))\n",
    "\n",
    "\n",
    "# we update the y values of our 4 scatter plots \n",
    "@interact(sigma=(0.01, 3, 0.01), length=(0.01, 3, 0.01), noise=(0.000, 1.000, 0.0001))\n",
    "\n",
    "def update(sigma=1, length=0.5, noise=0.0005):\n",
    "    with fig3.batch_update():\n",
    "        model = GPR(x_values,\n",
    "                    y_values,\n",
    "                    covariance_function=SquaredExponentialKernel(\n",
    "                        sigma_f=sigma, length=length),\n",
    "                    white_noise_sigma=noise)\n",
    "\n",
    "        mean = model.predict(x)\n",
    "        y_upper = mean + np.sqrt(model._memory['variance'])\n",
    "        y_lower = mean - np.sqrt(model._memory['variance'])\n",
    "\n",
    "        \n",
    "        for i in range(1, 4):\n",
    "            y_upper = mean + i * np.sqrt(model._memory['variance'])\n",
    "            y_lower = mean - i * np.sqrt(model._memory['variance'])\n",
    "            fig3.data[i-1].y = np.concatenate((y_upper, y_lower[::-1]))\n",
    "            fig3.update_xaxes(range=(0.2, 7.0))\n",
    "            fig3.update_yaxes(range=(-15, 20.0))\n",
    "        \n",
    "        fig3.data[3].y = mean\n",
    "\n",
    "\n",
    "fig3 = update_layout_of_graph(\n",
    "    fig3, title=\"GPR with varying length, sigma and white noise\")\n",
    "fig3.update_xaxes(range=(0.2, 7.0))\n",
    "fig3.update_yaxes(range=(-15, 20.0))\n",
    "fig3"
   ]
  },
  {
   "cell_type": "markdown",
   "id": "188b1f24",
   "metadata": {},
   "source": [
    "Pretty impressive how many function 'shapes' we can generate with a GPR!\n",
    "\n",
    "But now we naturally raise the question:\n",
    "\n",
    "_What are the best parameters for our GPR and problem?_\n",
    "\n",
    "This question has good answers, taking advantage of the probabilistic nature of GPR. Indeed, it is possible to optimize all of these hyperparameters based on the training data. We will not have time today to go through them!\n",
    "\n",
    "In the book of Rasmussen and Williams, such techniques are covered in Chapter 5. Optimizing the marginal likelihood is an elegant way of doing this. However, it tends to be computationally expensive. In most practical implementation of GPRs, a cross-validation procedure is sufficient to find the best parameter regime. \n",
    "\n",
    "**Bonus exercise**: Following Rasmussen and Williams Chapter 5, can you write a routine that finds the optimal hyperparameters for the training data presented here? You can do it by cross-validation or by optimizing the marginal likelyhood. \n",
    "\n",
    "**Bonus exervise**: To finalize, because of the embedded estimate of uncertainty in GPR, one can also try to guess in which areas of space are worth being sampled next. This can be understood as an active learning technique. In GPR, this is often done by the definition of a so-called acquisition function, which tells the best point to be added in order to improve the model. See [this webpage](https://ekamperi.github.io/machine%20learning/2021/06/11/acquisition-functions.html) for a detailed explanation. An example of a simple function is \n",
    "\n",
    "$$ a(\\boldsymbol{x}) = \\boldsymbol{\\mu}(\\boldsymbol{x}) - \\kappa \\sqrt{\\Sigma (\\boldsymbol{x})} $$ "
   ]
  },
  {
   "cell_type": "code",
   "execution_count": null,
   "id": "0cf685b4-ec4a-4d1d-8050-bad7e7437920",
   "metadata": {},
   "outputs": [],
   "source": []
  }
 ],
 "metadata": {
  "kernelspec": {
   "display_name": "Python 3 (ipykernel)",
   "language": "python",
   "name": "python3"
  },
  "language_info": {
   "codemirror_mode": {
    "name": "ipython",
    "version": 3
   },
   "file_extension": ".py",
   "mimetype": "text/x-python",
   "name": "python",
   "nbconvert_exporter": "python",
   "pygments_lexer": "ipython3",
   "version": "3.11.3"
  },
  "toc": {
   "base_numbering": 1,
   "nav_menu": {},
   "number_sections": true,
   "sideBar": true,
   "skip_h1_title": false,
   "title_cell": "Table of Contents",
   "title_sidebar": "Contents",
   "toc_cell": false,
   "toc_position": {},
   "toc_section_display": true,
   "toc_window_display": false
  },
  "varInspector": {
   "cols": {
    "lenName": 16,
    "lenType": 16,
    "lenVar": 40
   },
   "kernels_config": {
    "python": {
     "delete_cmd_postfix": "",
     "delete_cmd_prefix": "del ",
     "library": "var_list.py",
     "varRefreshCmd": "print(var_dic_list())"
    },
    "r": {
     "delete_cmd_postfix": ") ",
     "delete_cmd_prefix": "rm(",
     "library": "var_list.r",
     "varRefreshCmd": "cat(var_dic_list()) "
    }
   },
   "types_to_exclude": [
    "module",
    "function",
    "builtin_function_or_method",
    "instance",
    "_Feature"
   ],
   "window_display": false
  }
 },
 "nbformat": 4,
 "nbformat_minor": 5
}
