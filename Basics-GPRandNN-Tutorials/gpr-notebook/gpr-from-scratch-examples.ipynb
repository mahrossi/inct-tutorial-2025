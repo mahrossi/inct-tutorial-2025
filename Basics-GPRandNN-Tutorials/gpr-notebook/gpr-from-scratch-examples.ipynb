{
 "cells": [
  {
   "cell_type": "markdown",
   "id": "117d3726",
   "metadata": {
    "editable": true,
    "slideshow": {
     "slide_type": "slide"
    },
    "tags": []
   },
   "source": [
    "# Gaussian process regression - hands on implementation"
   ]
  },
  {
   "cell_type": "markdown",
   "id": "87a6f995",
   "metadata": {
    "editable": true,
    "slideshow": {
     "slide_type": ""
    },
    "tags": []
   },
   "source": [
    "## Overview"
   ]
  },
  {
   "cell_type": "markdown",
   "id": "dcb462c6",
   "metadata": {
    "editable": true,
    "slideshow": {
     "slide_type": ""
    },
    "tags": []
   },
   "source": [
    "Disclaimer: Original notebook from https://gitlab.com/youtube-optimization-geeks/uncertainty-quantification @fabrang-paretos\n",
    "\n",
    "This notebook contains a complete implementation of a Gaussian Process Regressor (GPR) with a squared exponential kernel using Numpy for matrix operations and Plotly for visualisation. \n",
    "\n",
    "The purpose of this notebook is to understand the main components of a GPR and to visualise the effects of certain parameters on the output. \n",
    "It is _not_ intended as a theoretical introduction to GPRs.\n",
    "A good introduction can be found [here](http://www.gaussianprocess.org/gpml/chapters/RW.pdf). \n",
    "\n",
    "Stable and effective implementations of GPR's are available, for example, in the [gpytorch](https://gpytorch.ai) package."
   ]
  },
  {
   "cell_type": "markdown",
   "id": "bfc98796",
   "metadata": {
    "editable": true,
    "slideshow": {
     "slide_type": "slide"
    },
    "tags": []
   },
   "source": [
    "## Packages"
   ]
  },
  {
   "cell_type": "code",
   "execution_count": 1,
   "id": "b48ebe22",
   "metadata": {
    "editable": true,
    "slideshow": {
     "slide_type": ""
    },
    "tags": []
   },
   "outputs": [],
   "source": [
    "import numpy as np\n",
    "import plotly.graph_objects as go\n",
    "import matplotlib.pyplot as plt\n",
    "from ipywidgets import interact, widgets"
   ]
  },
  {
   "cell_type": "markdown",
   "id": "4575ccbd",
   "metadata": {
    "editable": true,
    "jp-MarkdownHeadingCollapsed": true,
    "slideshow": {
     "slide_type": ""
    },
    "tags": []
   },
   "source": [
    "## Plotting helper functions"
   ]
  },
  {
   "cell_type": "markdown",
   "id": "caa8c0bf",
   "metadata": {
    "editable": true,
    "slideshow": {
     "slide_type": ""
    },
    "tags": []
   },
   "source": [
    "To have nice visualizations of the later GPR, we use Plotly and to have structured and lean code, we define a few commonly used 'helpers' here. "
   ]
  },
  {
   "cell_type": "code",
   "execution_count": 2,
   "id": "ad8a0219",
   "metadata": {
    "code_folding": [
     0
    ],
    "editable": true,
    "slideshow": {
     "slide_type": ""
    },
    "tags": []
   },
   "outputs": [],
   "source": [
    "def update_layout_of_graph(fig: go.Figure,title: str = 'Plot')->go.Figure:\n",
    "    fig.update_layout(\n",
    "        width=800,\n",
    "        height=600,\n",
    "        autosize=False,\n",
    "        plot_bgcolor='rgba(0,0,0,0)',\n",
    "        title=title,\n",
    "        \n",
    "    )\n",
    "    fig.update_layout(plot_bgcolor='rgba(0,0,0,0)',\n",
    "                      xaxis_title = 'input values',\n",
    "                      yaxis_title = 'output values',\n",
    "                      legend=dict(yanchor=\"top\",\n",
    "                                  y=0.3,\n",
    "                                  xanchor=\"right\",\n",
    "                                  x=0.95),\n",
    "                      title={\n",
    "                          'x': 0.5,\n",
    "                          'xanchor': 'center'\n",
    "                      })\n",
    "    fig.update_xaxes(showline=True, linewidth=1, linecolor='black')\n",
    "    fig.update_yaxes(showline=True, linewidth=1, linecolor='black')\n",
    "    return fig"
   ]
  },
  {
   "cell_type": "code",
   "execution_count": 3,
   "id": "66e5a661",
   "metadata": {
    "code_folding": [
     0,
     6
    ],
    "editable": true,
    "slideshow": {
     "slide_type": ""
    },
    "tags": []
   },
   "outputs": [],
   "source": [
    "def line_scatter(\n",
    "    visible: bool = True,\n",
    "    x_lines: np.array = np.array([]),\n",
    "    y_lines: np.array = np.array([]),\n",
    "    name_line: str = 'Predicted function',\n",
    "    showlegend: bool = True,\n",
    ") -> go.Scatter:\n",
    "    # Adding the lines\n",
    "    return go.Scatter(\n",
    "        visible=visible,\n",
    "        line=dict(color=\"blue\", width=2),\n",
    "        x=x_lines,\n",
    "        y=y_lines,\n",
    "        name=name_line,\n",
    "        showlegend= showlegend\n",
    "    )"
   ]
  },
  {
   "cell_type": "code",
   "execution_count": 4,
   "id": "f0b4e5ac",
   "metadata": {
    "code_folding": [
     0,
     6
    ]
   },
   "outputs": [],
   "source": [
    "def dot_scatter(\n",
    "    visible: bool = True,\n",
    "    x_dots: np.array = np.array([]),\n",
    "    y_dots: np.array = np.array([]),\n",
    "    name_dots: str = 'Observed points',\n",
    "    showlegend: bool = True\n",
    ") -> go.Scatter:\n",
    "    # Adding the dots\n",
    "    return go.Scatter(\n",
    "        x=x_dots,\n",
    "        visible=visible,\n",
    "        y=y_dots,\n",
    "        mode=\"markers\",\n",
    "        name=name_dots,\n",
    "        marker=dict(color='red', size=8),\n",
    "        showlegend=showlegend\n",
    "    )"
   ]
  },
  {
   "cell_type": "code",
   "execution_count": 5,
   "id": "a50951ad",
   "metadata": {},
   "outputs": [],
   "source": [
    "def dot_scatter2(\n",
    "    visible: bool = True,\n",
    "    x_dots: np.array = np.array([]),\n",
    "    y_dots: np.array = np.array([]),\n",
    "    name_dots: str = 'True function',\n",
    "    showlegend: bool = True\n",
    ") -> go.Scatter:\n",
    "    # Adding the dots\n",
    "    return go.Scatter(\n",
    "        x=x_dots,\n",
    "        visible=visible,\n",
    "        y=y_dots,\n",
    "        line=dict(color=\"pink\", width=2),\n",
    "#        mode=\"markers\",\n",
    "        name=name_dots,\n",
    "#        marker=dict(color='red', size=8),\n",
    "        showlegend=showlegend\n",
    "    )"
   ]
  },
  {
   "cell_type": "code",
   "execution_count": 6,
   "id": "8dda25c4",
   "metadata": {
    "code_folding": [
     0,
     6
    ]
   },
   "outputs": [],
   "source": [
    "def uncertainty_area_scatter(\n",
    "        visible: bool = True,\n",
    "        x_lines: np.array = np.array([]),\n",
    "        y_upper: np.array = np.array([]),\n",
    "        y_lower: np.array = np.array([]),\n",
    "        name: str = \"mean plus/minus standard deviation\",\n",
    ") -> go.Scatter:\n",
    "\n",
    "    return go.Scatter(\n",
    "        visible=visible,\n",
    "        x=np.concatenate((x_lines, x_lines[::-1])),  # x, then x reversed\n",
    "        # upper, then lower reversed\n",
    "        y=np.concatenate((y_upper, y_lower[::-1])),\n",
    "        fill='toself',\n",
    "        fillcolor='rgba(189,195,199,0.5)',\n",
    "        line=dict(color='rgba(200,200,200,0)'),\n",
    "        hoverinfo=\"skip\",\n",
    "        showlegend=True,\n",
    "        name= name,\n",
    "    )"
   ]
  },
  {
   "cell_type": "code",
   "execution_count": 7,
   "id": "6a0be169",
   "metadata": {
    "code_folding": [
     0
    ]
   },
   "outputs": [],
   "source": [
    "def add_slider_GPR(figure: go.Figure, parameters):\n",
    "    figure.data[0].visible = True\n",
    "    figure.data[1].visible = True\n",
    "\n",
    "    # Create and add slider\n",
    "    steps = []\n",
    "    for i in range(int((len(figure.data) - 1) / 2)):\n",
    "        step = dict(\n",
    "            method=\"update\",\n",
    "            label=f'{parameters[i]: .2f}',\n",
    "            args=[{\n",
    "                \"visible\": [False] * (len(figure.data) - 1) + [True]\n",
    "            }],\n",
    "        )\n",
    "        step[\"args\"][0][\"visible\"][2 *\n",
    "                                   i] = True  # Toggle i'th trace to \"visible\"\n",
    "        step[\"args\"][0][\"visible\"][2 * i + 1] = True\n",
    "        steps.append(step)\n",
    "\n",
    "    sliders = [dict(\n",
    "        active=0,\n",
    "        pad={\"t\": 50},\n",
    "        steps=steps,\n",
    "    )]\n",
    "    figure.update_layout(sliders=sliders, )\n",
    "    return figure"
   ]
  },
  {
   "cell_type": "code",
   "execution_count": 8,
   "id": "cf44e383",
   "metadata": {
    "code_folding": [
     0
    ]
   },
   "outputs": [],
   "source": [
    "def add_slider_to_function(figure:go.Figure, parameters):\n",
    "    figure.data[0].visible = True\n",
    "\n",
    "    # Create and add slider\n",
    "    steps = []\n",
    "    for i in range(len(figure.data)):\n",
    "        step = dict(\n",
    "            method=\"update\",\n",
    "            label=f'{parameters[i]: .2f}',\n",
    "            args=[{\n",
    "                \"visible\": [False] *len(figure.data) \n",
    "            }],\n",
    "        )\n",
    "        step[\"args\"][0][\"visible\"][i] = True  # Toggle i'th trace to \"visible\"\n",
    "        steps.append(step)\n",
    "\n",
    "    sliders = [dict(\n",
    "        active=0,\n",
    "        pad={\"t\": 50},\n",
    "        steps=steps,\n",
    "    )]\n",
    "    figure.update_layout(sliders=sliders, )\n",
    "    return figure"
   ]
  },
  {
   "cell_type": "markdown",
   "id": "9058664e",
   "metadata": {},
   "source": [
    "## Implementation of GPR with squared exponential kernel"
   ]
  },
  {
   "cell_type": "markdown",
   "id": "fa792ab3",
   "metadata": {},
   "source": [
    "In order to define a gaussian process regressor (GPR) we need a covariance function (also called kernel). The choice of this function will determine the 'shape' of the later GPR. \n",
    "\n",
    "In this notebook we choose the popular _squared exponential_ kernel:\n",
    "$$ k(x_1,x_2):= \\sigma^2*\\exp(-\\|x_1-x_2\\|^2_2)/(2*l^2))$$\n",
    "with $$l>0$$ the lengthscale and $$\\sigma^2>0$$ the signal variance. \n",
    "You are encouraged to implement a different kernel and see the difference in the resulting GPR!\n",
    "\n"
   ]
  },
  {
   "cell_type": "code",
   "execution_count": 9,
   "id": "cbc55090",
   "metadata": {},
   "outputs": [],
   "source": [
    "class SquaredExponentialKernel:\n",
    "    def __init__(self, sigma_f: float = 1, length: float = 0.5):\n",
    "        self.sigma_f = sigma_f\n",
    "        self.length = length\n",
    "\n",
    "    def __call__(self, argument_1: np.array, argument_2: np.array) -> float:\n",
    "        return float(self.sigma_f *\n",
    "                     np.exp(-(np.linalg.norm(argument_1 - argument_2)**2) /\n",
    "                            (2 * self.length**2)))"
   ]
  },
  {
   "cell_type": "markdown",
   "id": "b23258da",
   "metadata": {},
   "source": [
    "Let us visualize this kernel."
   ]
  },
  {
   "cell_type": "code",
   "execution_count": 10,
   "id": "e1cd79c0",
   "metadata": {},
   "outputs": [
    {
     "data": {
      "application/vnd.jupyter.widget-view+json": {
       "model_id": "2053f5d103b448a384a08027a44d7c9a",
       "version_major": 2,
       "version_minor": 0
      },
      "text/plain": [
       "interactive(children=(FloatSlider(value=1.0, description='length', max=3.0, min=0.1), FloatSlider(value=1.0, d…"
      ]
     },
     "metadata": {},
     "output_type": "display_data"
    },
    {
     "data": {
      "application/vnd.jupyter.widget-view+json": {
       "model_id": "010f0a710ff1483aa547502f93c9ba19",
       "version_major": 2,
       "version_minor": 0
      },
      "text/plain": [
       "FigureWidget({\n",
       "    'data': [{'line': {'color': 'blue', 'width': 2},\n",
       "              'name': 'Predicted function',\n",
       "              'showlegend': True,\n",
       "              'type': 'scatter',\n",
       "              'uid': '6f90cd0f-044d-415d-8031-e8d0f68edd85',\n",
       "              'visible': True,\n",
       "              'x': array([-1.00000000e+01, -9.90000000e+00, -9.80000000e+00, -9.70000000e+00,\n",
       "                          -9.60000000e+00, -9.50000000e+00, -9.40000000e+00, -9.30000000e+00,\n",
       "                          -9.20000000e+00, -9.10000000e+00, -9.00000000e+00, -8.90000000e+00,\n",
       "                          -8.80000000e+00, -8.70000000e+00, -8.60000000e+00, -8.50000000e+00,\n",
       "                          -8.40000000e+00, -8.30000000e+00, -8.20000000e+00, -8.10000000e+00,\n",
       "                          -8.00000000e+00, -7.90000000e+00, -7.80000000e+00, -7.70000000e+00,\n",
       "                          -7.60000000e+00, -7.50000000e+00, -7.40000000e+00, -7.30000000e+00,\n",
       "                          -7.20000000e+00, -7.10000000e+00, -7.00000000e+00, -6.90000000e+00,\n",
       "                          -6.80000000e+00, -6.70000000e+00, -6.60000000e+00, -6.50000000e+00,\n",
       "                          -6.40000000e+00, -6.30000000e+00, -6.20000000e+00, -6.10000000e+00,\n",
       "                          -6.00000000e+00, -5.90000000e+00, -5.80000000e+00, -5.70000000e+00,\n",
       "                          -5.60000000e+00, -5.50000000e+00, -5.40000000e+00, -5.30000000e+00,\n",
       "                          -5.20000000e+00, -5.10000000e+00, -5.00000000e+00, -4.90000000e+00,\n",
       "                          -4.80000000e+00, -4.70000000e+00, -4.60000000e+00, -4.50000000e+00,\n",
       "                          -4.40000000e+00, -4.30000000e+00, -4.20000000e+00, -4.10000000e+00,\n",
       "                          -4.00000000e+00, -3.90000000e+00, -3.80000000e+00, -3.70000000e+00,\n",
       "                          -3.60000000e+00, -3.50000000e+00, -3.40000000e+00, -3.30000000e+00,\n",
       "                          -3.20000000e+00, -3.10000000e+00, -3.00000000e+00, -2.90000000e+00,\n",
       "                          -2.80000000e+00, -2.70000000e+00, -2.60000000e+00, -2.50000000e+00,\n",
       "                          -2.40000000e+00, -2.30000000e+00, -2.20000000e+00, -2.10000000e+00,\n",
       "                          -2.00000000e+00, -1.90000000e+00, -1.80000000e+00, -1.70000000e+00,\n",
       "                          -1.60000000e+00, -1.50000000e+00, -1.40000000e+00, -1.30000000e+00,\n",
       "                          -1.20000000e+00, -1.10000000e+00, -1.00000000e+00, -9.00000000e-01,\n",
       "                          -8.00000000e-01, -7.00000000e-01, -6.00000000e-01, -5.00000000e-01,\n",
       "                          -4.00000000e-01, -3.00000000e-01, -2.00000000e-01, -1.00000000e-01,\n",
       "                          -3.55271368e-14,  1.00000000e-01,  2.00000000e-01,  3.00000000e-01,\n",
       "                           4.00000000e-01,  5.00000000e-01,  6.00000000e-01,  7.00000000e-01,\n",
       "                           8.00000000e-01,  9.00000000e-01,  1.00000000e+00,  1.10000000e+00,\n",
       "                           1.20000000e+00,  1.30000000e+00,  1.40000000e+00,  1.50000000e+00,\n",
       "                           1.60000000e+00,  1.70000000e+00,  1.80000000e+00,  1.90000000e+00,\n",
       "                           2.00000000e+00,  2.10000000e+00,  2.20000000e+00,  2.30000000e+00,\n",
       "                           2.40000000e+00,  2.50000000e+00,  2.60000000e+00,  2.70000000e+00,\n",
       "                           2.80000000e+00,  2.90000000e+00,  3.00000000e+00,  3.10000000e+00,\n",
       "                           3.20000000e+00,  3.30000000e+00,  3.40000000e+00,  3.50000000e+00,\n",
       "                           3.60000000e+00,  3.70000000e+00,  3.80000000e+00,  3.90000000e+00,\n",
       "                           4.00000000e+00,  4.10000000e+00,  4.20000000e+00,  4.30000000e+00,\n",
       "                           4.40000000e+00,  4.50000000e+00,  4.60000000e+00,  4.70000000e+00,\n",
       "                           4.80000000e+00,  4.90000000e+00,  5.00000000e+00,  5.10000000e+00,\n",
       "                           5.20000000e+00,  5.30000000e+00,  5.40000000e+00,  5.50000000e+00,\n",
       "                           5.60000000e+00,  5.70000000e+00,  5.80000000e+00,  5.90000000e+00,\n",
       "                           6.00000000e+00,  6.10000000e+00,  6.20000000e+00,  6.30000000e+00,\n",
       "                           6.40000000e+00,  6.50000000e+00,  6.60000000e+00,  6.70000000e+00,\n",
       "                           6.80000000e+00,  6.90000000e+00,  7.00000000e+00,  7.10000000e+00,\n",
       "                           7.20000000e+00,  7.30000000e+00,  7.40000000e+00,  7.50000000e+00,\n",
       "                           7.60000000e+00,  7.70000000e+00,  7.80000000e+00,  7.90000000e+00,\n",
       "                           8.00000000e+00,  8.10000000e+00,  8.20000000e+00,  8.30000000e+00,\n",
       "                           8.40000000e+00,  8.50000000e+00,  8.60000000e+00,  8.70000000e+00,\n",
       "                           8.80000000e+00,  8.90000000e+00,  9.00000000e+00,  9.10000000e+00,\n",
       "                           9.20000000e+00,  9.30000000e+00,  9.40000000e+00,  9.50000000e+00,\n",
       "                           9.60000000e+00,  9.70000000e+00,  9.80000000e+00,  9.90000000e+00]),\n",
       "              'y': array([1.92874985e-22, 5.21673666e-22, 1.39694394e-21, 3.70353198e-21,\n",
       "                          9.72098502e-21, 2.52616378e-20, 6.49934797e-20, 1.65552266e-19,\n",
       "                          4.17501006e-19, 1.04240618e-18, 2.57675711e-18, 6.30618989e-18,\n",
       "                          1.52797997e-17, 3.66543340e-17, 8.70542662e-17, 2.04697171e-16,\n",
       "                          4.76530474e-16, 1.09831413e-15, 2.50622189e-15, 5.66199552e-15,\n",
       "                          1.26641655e-14, 2.80440474e-14, 6.14839641e-14, 1.33456608e-13,\n",
       "                          2.86797501e-13, 6.10193668e-13, 1.28533723e-12, 2.68054764e-12,\n",
       "                          5.53461007e-12, 1.13137762e-11, 2.28973485e-11, 4.58796249e-11,\n",
       "                          9.10147076e-11, 1.78755887e-10, 3.47589128e-10, 6.69158609e-10,\n",
       "                          1.27540763e-09, 2.40672244e-09, 4.49634946e-09, 8.31670246e-09,\n",
       "                          1.52299797e-08, 2.76124246e-08, 4.95640532e-08, 8.80817920e-08,\n",
       "                          1.54975314e-07, 2.69957850e-07, 4.65571572e-07, 7.94939362e-07,\n",
       "                          1.34381228e-06, 2.24905597e-06, 3.72665317e-06, 6.11356797e-06,\n",
       "                          9.92950431e-06, 1.59667839e-05, 2.54193465e-05, 4.00652974e-05,\n",
       "                          6.25215038e-05, 9.65934137e-05, 1.47748360e-04, 2.23745794e-04,\n",
       "                          3.35462628e-04, 4.97955422e-04, 7.31802419e-04, 1.06476624e-03,\n",
       "                          1.53381068e-03, 2.18749112e-03, 3.08871541e-03, 4.31784001e-03,\n",
       "                          5.97602290e-03, 8.18870101e-03, 1.11089965e-02, 1.49207861e-02,\n",
       "                          1.98410947e-02, 2.61214099e-02, 3.40474547e-02, 4.39369336e-02,\n",
       "                          5.61347628e-02, 7.10053537e-02, 8.89216175e-02, 1.10250525e-01,\n",
       "                          1.35335283e-01, 1.64474457e-01, 1.97898699e-01, 2.35746077e-01,\n",
       "                          2.78037300e-01, 3.24652467e-01, 3.75311099e-01, 4.29557358e-01,\n",
       "                          4.86752256e-01, 5.46074427e-01, 6.06530660e-01, 6.66976811e-01,\n",
       "                          7.26149037e-01, 7.82704538e-01, 8.35270211e-01, 8.82496903e-01,\n",
       "                          9.23116346e-01, 9.55997482e-01, 9.80198673e-01, 9.95012479e-01,\n",
       "                          1.00000000e+00, 9.95012479e-01, 9.80198673e-01, 9.55997482e-01,\n",
       "                          9.23116346e-01, 8.82496903e-01, 8.35270211e-01, 7.82704538e-01,\n",
       "                          7.26149037e-01, 6.66976811e-01, 6.06530660e-01, 5.46074427e-01,\n",
       "                          4.86752256e-01, 4.29557358e-01, 3.75311099e-01, 3.24652467e-01,\n",
       "                          2.78037300e-01, 2.35746077e-01, 1.97898699e-01, 1.64474457e-01,\n",
       "                          1.35335283e-01, 1.10250525e-01, 8.89216175e-02, 7.10053537e-02,\n",
       "                          5.61347628e-02, 4.39369336e-02, 3.40474547e-02, 2.61214099e-02,\n",
       "                          1.98410947e-02, 1.49207861e-02, 1.11089965e-02, 8.18870101e-03,\n",
       "                          5.97602290e-03, 4.31784001e-03, 3.08871541e-03, 2.18749112e-03,\n",
       "                          1.53381068e-03, 1.06476624e-03, 7.31802419e-04, 4.97955422e-04,\n",
       "                          3.35462628e-04, 2.23745794e-04, 1.47748360e-04, 9.65934137e-05,\n",
       "                          6.25215038e-05, 4.00652974e-05, 2.54193465e-05, 1.59667839e-05,\n",
       "                          9.92950431e-06, 6.11356797e-06, 3.72665317e-06, 2.24905597e-06,\n",
       "                          1.34381228e-06, 7.94939362e-07, 4.65571572e-07, 2.69957850e-07,\n",
       "                          1.54975314e-07, 8.80817920e-08, 4.95640532e-08, 2.76124246e-08,\n",
       "                          1.52299797e-08, 8.31670246e-09, 4.49634946e-09, 2.40672244e-09,\n",
       "                          1.27540763e-09, 6.69158609e-10, 3.47589128e-10, 1.78755887e-10,\n",
       "                          9.10147076e-11, 4.58796249e-11, 2.28973485e-11, 1.13137762e-11,\n",
       "                          5.53461007e-12, 2.68054764e-12, 1.28533723e-12, 6.10193668e-13,\n",
       "                          2.86797501e-13, 1.33456608e-13, 6.14839641e-14, 2.80440474e-14,\n",
       "                          1.26641655e-14, 5.66199552e-15, 2.50622189e-15, 1.09831413e-15,\n",
       "                          4.76530474e-16, 2.04697171e-16, 8.70542662e-17, 3.66543340e-17,\n",
       "                          1.52797997e-17, 6.30618989e-18, 2.57675711e-18, 1.04240618e-18,\n",
       "                          4.17501006e-19, 1.65552266e-19, 6.49934797e-20, 2.52616378e-20,\n",
       "                          9.72098502e-21, 3.70353198e-21, 1.39694394e-21, 5.21673666e-22])}],\n",
       "    'layout': {'autosize': False,\n",
       "               'height': 600,\n",
       "               'legend': {'x': 0.95, 'xanchor': 'right', 'y': 0.3, 'yanchor': 'top'},\n",
       "               'plot_bgcolor': 'rgba(0,0,0,0)',\n",
       "               'template': '...',\n",
       "               'title': {'text': 'Squared exponential kernel', 'x': 0.5, 'xanchor': 'center'},\n",
       "               'width': 800,\n",
       "               'xaxis': {'linecolor': 'black', 'linewidth': 1, 'showline': True, 'title': {'text': 'input values'}},\n",
       "               'yaxis': {'linecolor': 'black',\n",
       "                         'linewidth': 1,\n",
       "                         'range': [0, 5.0],\n",
       "                         'showline': True,\n",
       "                         'title': {'text': 'output values'}}}\n",
       "})"
      ]
     },
     "execution_count": 10,
     "metadata": {},
     "output_type": "execute_result"
    }
   ],
   "source": [
    "x_lines = np.arange(-10, 10, 0.1)\n",
    "kernel = SquaredExponentialKernel(length=1)\n",
    "\n",
    "fig0 = go.FigureWidget(data=[\n",
    "    line_scatter(\n",
    "        x_lines=x_lines,\n",
    "        y_lines=np.array([kernel(x, 0) for x in x_lines]),\n",
    "    )\n",
    "])\n",
    "\n",
    "fig0 = update_layout_of_graph(fig0, title='Squared exponential kernel')\n",
    "\n",
    "\n",
    "@interact(length=(0.1, 3, 0.1), sigma_f=(1, 5, 0.5))\n",
    "def update(length=1, sigma_f=1):\n",
    "    with fig0.batch_update():\n",
    "        kernel = SquaredExponentialKernel(length=length, sigma_f=sigma_f)\n",
    "        fig0.data[0].y = np.array([kernel(x, 0) for x in x_lines])\n",
    "\n",
    "fig0.update_yaxes(range=(0, 5.0))\n",
    "fig0\n",
    "#fig0.write_image(\"fig1.png\", scale=2)"
   ]
  },
  {
   "cell_type": "markdown",
   "id": "613a3946",
   "metadata": {},
   "source": [
    "In the practical implementation of the GPR you will face a couple of stability problems. Among others, numeric approximations in dealing with matrix (operations) may lead to non-invertible/non-positive-semi-definite covariance matrices which result in errors when calculating the GPR. \n",
    "\n",
    "In order to prevent this error we add the _machine epsilon_ to the diagonal of the later covariance matrix:"
   ]
  },
  {
   "cell_type": "code",
   "execution_count": 11,
   "id": "517a082d",
   "metadata": {},
   "outputs": [
    {
     "name": "stdout",
     "output_type": "stream",
     "text": [
      "2.220446049250313e-16\n",
      "1.1920929e-07\n"
     ]
    }
   ],
   "source": [
    "#fig0.write_image(\"fig2.png\", scale=2)\n",
    "print(np.finfo(float).eps)\n",
    "# 2.22044604925e-16\n",
    "\n",
    "print(np.finfo(np.float32).eps)\n",
    "# 1.19209e-07"
   ]
  },
  {
   "cell_type": "markdown",
   "id": "18f81bfc",
   "metadata": {},
   "source": [
    "Let us shortly recall the formula:\n",
    "Given training points $x_1,...,x_n\\in \\mathbb{R}^m$ with values $y_1,...,y_n\\in \\mathbb{R}$, $y = (y_i)\\in \\mathbb{R}^n$ with noise in each point $\\mathcal{N}_{0,\\sigma}$  and points $x_{n+1},...,x_k\\in \\mathbb{R}^m$ for which we want to predict the output, adapting our probability distribution leads to:\n",
    "\n",
    "$$\\mathcal{N}(K_*K^{-1}y,K_{**}-K_*K^{-1}K_*^T)$$\n",
    "with \n",
    "$$K= (k(x_i,x_j))_{i,j\\leq n}+\\sigma^2*\\mathbb{1}_n$$\n",
    "$$K_*= (k(x_i,x_j))_{n+1\\leq i, j\\leq n}$$\n",
    "$$K_{**}= (k(x_i,x_j))_{n+1\\leq i,j}$$"
   ]
  },
  {
   "cell_type": "code",
   "execution_count": 12,
   "id": "06c65a7a",
   "metadata": {},
   "outputs": [],
   "source": [
    "# Helper function to calculate the respective covariance matrices\n",
    "def cov_matrix(x1, x2, cov_function) -> np.array:\n",
    "    return np.array([[cov_function(a, b) for a in x1] for b in x2])"
   ]
  },
  {
   "cell_type": "code",
   "execution_count": 13,
   "id": "d9bdfc5b",
   "metadata": {},
   "outputs": [],
   "source": [
    "class GPR:\n",
    "    def __init__(self,\n",
    "                 data_x: np.array,\n",
    "                 data_y: np.array,\n",
    "                 covariance_function=SquaredExponentialKernel(),\n",
    "                 white_noise_sigma: float = 0):\n",
    "        self.noise = white_noise_sigma\n",
    "        self.data_x = data_x\n",
    "        self.data_y = data_y\n",
    "        self.covariance_function = covariance_function\n",
    "\n",
    "        # Store the inverse of covariance matrix of input (+ machine epsilon on diagonal) since it is needed for every prediction\n",
    "        self._inverse_of_covariance_matrix_of_input = np.linalg.inv(\n",
    "            cov_matrix(data_x, data_x, covariance_function) +\n",
    "            (3e-7 + self.noise) * np.identity(len(self.data_x)))\n",
    "\n",
    "        self._memory = None\n",
    "\n",
    "    # function to predict output at new input values. Store the mean and covariance matrix in memory.\n",
    "\n",
    "    def predict(self, at_values: np.array) -> np.array:\n",
    "        k_lower_left = cov_matrix(self.data_x, at_values,\n",
    "                                  self.covariance_function)\n",
    "        k_lower_right = cov_matrix(at_values, at_values,\n",
    "                                   self.covariance_function)\n",
    "\n",
    "        # Mean.\n",
    "        mean_at_values = np.dot(\n",
    "            k_lower_left,\n",
    "            np.dot(self.data_y,\n",
    "                   self._inverse_of_covariance_matrix_of_input.T).T).flatten()\n",
    "\n",
    "        # Covariance.\n",
    "        cov_at_values = k_lower_right - \\\n",
    "            np.dot(k_lower_left, np.dot(\n",
    "                self._inverse_of_covariance_matrix_of_input, k_lower_left.T))\n",
    "\n",
    "        # Adding value larger than machine epsilon to ensure positive semi definite\n",
    "        cov_at_values = cov_at_values + 3e-7 * np.ones(\n",
    "            np.shape(cov_at_values)[0])\n",
    "\n",
    "        var_at_values = np.diag(cov_at_values)\n",
    "\n",
    "        self._memory = {\n",
    "            'mean': mean_at_values,\n",
    "            'covariance_matrix': cov_at_values,\n",
    "            'variance': var_at_values\n",
    "        }\n",
    "        return mean_at_values"
   ]
  },
  {
   "cell_type": "markdown",
   "id": "9e6b586e",
   "metadata": {},
   "source": [
    "That's it. The GPR is ready to be used! "
   ]
  },
  {
   "cell_type": "markdown",
   "id": "a5e2f744",
   "metadata": {},
   "source": [
    "## Testing"
   ]
  },
  {
   "cell_type": "markdown",
   "id": "decbe1a4",
   "metadata": {},
   "source": [
    "Let us initialize our GPR on a random training set and visualize the GPR. "
   ]
  },
  {
   "cell_type": "code",
   "execution_count": 14,
   "id": "7506b7de",
   "metadata": {},
   "outputs": [],
   "source": [
    "def simple_fps(datax, nsamples):\n",
    "    n=len(datax)\n",
    "    distances=np.zeros(n)\n",
    "    sampled=np.zeros((nsamples,), dtype=int)\n",
    "    distances[:]=1e10\n",
    "    index=np.random.choice(1, 1, replace=False)\n",
    "    sampled[0]=index\n",
    "    for i in range(nsamples):\n",
    "        for j in range(n):\n",
    "            dist=np.abs(datax[j]-datax[index])\n",
    "            if dist <= distances[j]:\n",
    "                distances[j]=dist\n",
    "        index=np.argmax(distances)\n",
    "        # print(index)\n",
    "        sampled[i]=index\n",
    "    return sampled\n",
    "    "
   ]
  },
  {
   "cell_type": "markdown",
   "id": "4a9aa377",
   "metadata": {},
   "source": [
    "### Initializing training data"
   ]
  },
  {
   "cell_type": "code",
   "execution_count": 15,
   "id": "12f59452",
   "metadata": {},
   "outputs": [
    {
     "data": {
      "image/png": "[encoded data removed]",
      "text/plain": [
       "<Figure size 800x500 with 1 Axes>"
      ]
     },
     "metadata": {},
     "output_type": "display_data"
    }
   ],
   "source": [
    "fulldata = np.loadtxt('dists-energies/combineddata.dat')\n",
    "fullx = fulldata.T[0]\n",
    "fully = fulldata.T[1]\n",
    "zero=fully[-1]\n",
    "fully = fully - zero\n",
    "curvedata = np.loadtxt('dists-energies/datasmall.dat')\n",
    "curvex = curvedata.T[0]\n",
    "curvey = curvedata.T[1]\n",
    "curvey = curvey - zero\n",
    "plt.figure(figsize=(8, 5))\n",
    "plt.xlim([0.1,7.0])\n",
    "plt.scatter(fullx, fully, marker='o', s=10)\n",
    "plt.ylabel('energy (eV)', fontsize=14)\n",
    "plt.xlabel('distance (A)', fontsize=14)\n",
    "plt.yticks(fontsize=12)\n",
    "plt.xticks(fontsize=12)\n",
    "#plt.scatter(curvex, curvey, marker='o', s=50)\n",
    "plt.show()"
   ]
  },
  {
   "cell_type": "markdown",
   "id": "153fc7d5-1002-4e9e-9f31-bd464c601cc2",
   "metadata": {},
   "source": [
    "### Selecting points randomly"
   ]
  },
  {
   "cell_type": "code",
   "execution_count": 20,
   "id": "1cf4458d-69d1-415f-9877-5ebb23fd1854",
   "metadata": {},
   "outputs": [
    {
     "data": {
      "image/png": "[encoded data removed]",
      "text/plain": [
       "<Figure size 800x500 with 1 Axes>"
      ]
     },
     "metadata": {},
     "output_type": "display_data"
    }
   ],
   "source": [
    "nsamples = 30\n",
    "# Check if nsamples is not greater than the length of the array\n",
    "if nsamples > len(fullx):\n",
    "    raise ValueError(\"nsamples cannot be greater than the length of the array.\")\n",
    "# Draw nsample random indices\n",
    "indices = np.random.choice(len(fullx), nsamples, replace=False)\n",
    "# Select items from your array using these indices\n",
    "selected_x = fullx[indices]\n",
    "selected_y = fully[indices]\n",
    "#x_values = np.array([0, 0.3, 1, 3.1, 4.7])\n",
    "#y_values = np.array([1, 0, 1.4, 0, -0.9])\n",
    "x_valuesrando=selected_x\n",
    "y_valuesrando=selected_y\n",
    "plt.figure(figsize=(8, 5))\n",
    "plt.xlim([0.1,7.0])\n",
    "plt.scatter(fullx, fully, marker='o', s=10)\n",
    "plt.scatter(x_valuesrando, y_valuesrando, marker='o', s=50)\n",
    "plt.ylabel('energy (eV)', fontsize=14)\n",
    "plt.xlabel('distance (A)', fontsize=14)\n",
    "plt.yticks(fontsize=12)\n",
    "plt.xticks(fontsize=12)\n",
    "plt.show()"
   ]
  },
  {
   "cell_type": "markdown",
   "id": "ef27e427-766c-4562-9ade-74a792196452",
   "metadata": {},
   "source": [
    "### Selecting by FPS"
   ]
  },
  {
   "cell_type": "code",
   "execution_count": 21,
   "id": "f68fa124-ccc3-4ca2-acc0-16ac39b5f251",
   "metadata": {},
   "outputs": [
    {
     "data": {
      "image/png": "[encoded data removed]",
      "text/plain": [
       "<Figure size 800x500 with 1 Axes>"
      ]
     },
     "metadata": {},
     "output_type": "display_data"
    }
   ],
   "source": [
    "nsamples = 30\n",
    "# Check if nsamples is not greater than the length of the array\n",
    "if nsamples > len(fullx):\n",
    "    raise ValueError(\"nsamples cannot be greater than the length of the array.\")\n",
    "# Call fps\n",
    "indices = simple_fps(fullx, nsamples)\n",
    "# print(indices)\n",
    "# Select items from your array using these indices\n",
    "selected_x_fps = fullx[indices]\n",
    "selected_y_fps = fully[indices]\n",
    "#x_values = np.array([0, 0.3, 1, 3.1, 4.7])\n",
    "#y_values = np.array([1, 0, 1.4, 0, -0.9])\n",
    "x_values=selected_x_fps\n",
    "y_values=selected_y_fps\n",
    "plt.figure(figsize=(8, 5))\n",
    "plt.xlim([0.1,7.0])\n",
    "plt.ylabel('energy (eV)', fontsize=14)\n",
    "plt.xlabel('distance (A)', fontsize=14)\n",
    "plt.yticks(fontsize=12)\n",
    "plt.xticks(fontsize=12)\n",
    "plt.scatter(fullx, fully, marker='o', s=10)\n",
    "plt.scatter(x_values, y_values, marker='o', s=50)\n",
    "plt.show()"
   ]
  },
  {
   "cell_type": "code",
   "execution_count": 22,
   "id": "8fe13b72-413d-4e4b-bda6-7e09ae3abde2",
   "metadata": {},
   "outputs": [],
   "source": [
    "x = np.arange(0.1,7,0.05)\n",
    "#x = np.arange(-1,7,0.1)"
   ]
  },
  {
   "cell_type": "markdown",
   "id": "8410f233",
   "metadata": {},
   "source": [
    "### Plot the output"
   ]
  },
  {
   "cell_type": "markdown",
   "id": "fe426230",
   "metadata": {},
   "source": [
    "Let us define a helper function which returns a list of all plots of data points, mean, etc. needed to plot a GPR."
   ]
  },
  {
   "cell_type": "code",
   "execution_count": 23,
   "id": "b99b06c2",
   "metadata": {},
   "outputs": [],
   "source": [
    "def plot_GPR(data_x, data_y, model, x, visible=True) -> list:\n",
    "    mean = model.predict(x)\n",
    "\n",
    "    std = np.sqrt(model._memory['variance'])\n",
    "    data = []\n",
    "\n",
    "    for i in range(1, 4):\n",
    "        data.append(\n",
    "            uncertainty_area_scatter(\n",
    "                x_lines=x,\n",
    "                y_lower=mean - i * std,\n",
    "                y_upper=mean + i * std,\n",
    "                name=f\"mean plus/minus {i}*standard deviation\",\n",
    "                visible=visible))\n",
    "\n",
    "    data.append(line_scatter(x_lines=x, y_lines=mean, visible=visible))\n",
    "    data.append(dot_scatter(x_dots=data_x, y_dots=data_y, visible=visible))\n",
    "    data.append(dot_scatter2(x_dots=curvex, y_dots=curvey, visible=visible))\n",
    "    return data"
   ]
  },
  {
   "cell_type": "markdown",
   "id": "51cd9df1",
   "metadata": {},
   "source": [
    "Now, we can visualize our first GPR."
   ]
  },
  {
   "cell_type": "code",
   "execution_count": 33,
   "id": "9a82c61f",
   "metadata": {},
   "outputs": [
    {
     "data": {
      "application/vnd.plotly.v1+json": {
       "config": {
        "plotlyServerURL": "https://plot.ly"
       },
       "data": [
        {
         "fill": "toself",
         "fillcolor": "rgba(189,195,199,0.5)",
         "hoverinfo": "skip",
         "line": {
          "color": "rgba(200,200,200,0)"
         },
         "name": "mean plus/minus 1*standard deviation",
         "showlegend": true,
         "type": "scatter",
         "visible": true,
         "x": [
          0.1,
          0.15000000000000002,
          0.20000000000000004,
          0.25000000000000006,
          0.30000000000000004,
          0.3500000000000001,
          0.40000000000000013,
          0.45000000000000007,
          0.5000000000000001,
          0.5500000000000002,
          0.6000000000000002,
          0.6500000000000001,
          0.7000000000000002,
          0.7500000000000002,
          0.8000000000000002,
          0.8500000000000002,
          0.9000000000000002,
          0.9500000000000003,
          1.0000000000000004,
          1.0500000000000003,
          1.1000000000000005,
          1.1500000000000004,
          1.2000000000000004,
          1.2500000000000004,
          1.3000000000000005,
          1.3500000000000005,
          1.4000000000000006,
          1.4500000000000006,
          1.5000000000000004,
          1.5500000000000005,
          1.6000000000000005,
          1.6500000000000006,
          1.7000000000000006,
          1.7500000000000007,
          1.8000000000000007,
          1.8500000000000008,
          1.9000000000000008,
          1.9500000000000006,
          2.0000000000000004,
          2.0500000000000007,
          2.100000000000001,
          2.150000000000001,
          2.2000000000000006,
          2.250000000000001,
          2.3000000000000007,
          2.350000000000001,
          2.400000000000001,
          2.450000000000001,
          2.500000000000001,
          2.5500000000000007,
          2.600000000000001,
          2.650000000000001,
          2.700000000000001,
          2.750000000000001,
          2.800000000000001,
          2.850000000000001,
          2.900000000000001,
          2.950000000000001,
          3.000000000000001,
          3.050000000000001,
          3.100000000000001,
          3.1500000000000012,
          3.200000000000001,
          3.2500000000000013,
          3.300000000000001,
          3.350000000000001,
          3.4000000000000012,
          3.450000000000001,
          3.5000000000000013,
          3.550000000000001,
          3.6000000000000014,
          3.6500000000000012,
          3.7000000000000015,
          3.7500000000000013,
          3.800000000000001,
          3.8500000000000014,
          3.9000000000000012,
          3.9500000000000015,
          4.000000000000001,
          4.050000000000002,
          4.100000000000001,
          4.150000000000001,
          4.200000000000001,
          4.250000000000001,
          4.300000000000001,
          4.350000000000001,
          4.400000000000001,
          4.450000000000001,
          4.500000000000001,
          4.550000000000001,
          4.600000000000001,
          4.650000000000001,
          4.700000000000001,
          4.750000000000001,
          4.800000000000002,
          4.850000000000001,
          4.900000000000001,
          4.950000000000001,
          5.000000000000001,
          5.050000000000002,
          5.100000000000001,
          5.150000000000001,
          5.200000000000001,
          5.250000000000002,
          5.300000000000002,
          5.350000000000001,
          5.400000000000001,
          5.450000000000001,
          5.500000000000002,
          5.550000000000002,
          5.600000000000001,
          5.650000000000001,
          5.700000000000001,
          5.750000000000002,
          5.800000000000002,
          5.850000000000001,
          5.900000000000001,
          5.950000000000002,
          6.000000000000002,
          6.050000000000002,
          6.100000000000001,
          6.150000000000001,
          6.200000000000002,
          6.250000000000002,
          6.300000000000002,
          6.350000000000001,
          6.400000000000002,
          6.450000000000002,
          6.500000000000002,
          6.550000000000002,
          6.600000000000001,
          6.650000000000002,
          6.700000000000002,
          6.750000000000002,
          6.800000000000002,
          6.850000000000002,
          6.900000000000002,
          6.950000000000002,
          6.950000000000002,
          6.900000000000002,
          6.850000000000002,
          6.800000000000002,
          6.750000000000002,
          6.700000000000002,
          6.650000000000002,
          6.600000000000001,
          6.550000000000002,
          6.500000000000002,
          6.450000000000002,
          6.400000000000002,
          6.350000000000001,
          6.300000000000002,
          6.250000000000002,
          6.200000000000002,
          6.150000000000001,
          6.100000000000001,
          6.050000000000002,
          6.000000000000002,
          5.950000000000002,
          5.900000000000001,
          5.850000000000001,
          5.800000000000002,
          5.750000000000002,
          5.700000000000001,
          5.650000000000001,
          5.600000000000001,
          5.550000000000002,
          5.500000000000002,
          5.450000000000001,
          5.400000000000001,
          5.350000000000001,
          5.300000000000002,
          5.250000000000002,
          5.200000000000001,
          5.150000000000001,
          5.100000000000001,
          5.050000000000002,
          5.000000000000001,
          4.950000000000001,
          4.900000000000001,
          4.850000000000001,
          4.800000000000002,
          4.750000000000001,
          4.700000000000001,
          4.650000000000001,
          4.600000000000001,
          4.550000000000001,
          4.500000000000001,
          4.450000000000001,
          4.400000000000001,
          4.350000000000001,
          4.300000000000001,
          4.250000000000001,
          4.200000000000001,
          4.150000000000001,
          4.100000000000001,
          4.050000000000002,
          4.000000000000001,
          3.9500000000000015,
          3.9000000000000012,
          3.8500000000000014,
          3.800000000000001,
          3.7500000000000013,
          3.7000000000000015,
          3.6500000000000012,
          3.6000000000000014,
          3.550000000000001,
          3.5000000000000013,
          3.450000000000001,
          3.4000000000000012,
          3.350000000000001,
          3.300000000000001,
          3.2500000000000013,
          3.200000000000001,
          3.1500000000000012,
          3.100000000000001,
          3.050000000000001,
          3.000000000000001,
          2.950000000000001,
          2.900000000000001,
          2.850000000000001,
          2.800000000000001,
          2.750000000000001,
          2.700000000000001,
          2.650000000000001,
          2.600000000000001,
          2.5500000000000007,
          2.500000000000001,
          2.450000000000001,
          2.400000000000001,
          2.350000000000001,
          2.3000000000000007,
          2.250000000000001,
          2.2000000000000006,
          2.150000000000001,
          2.100000000000001,
          2.0500000000000007,
          2.0000000000000004,
          1.9500000000000006,
          1.9000000000000008,
          1.8500000000000008,
          1.8000000000000007,
          1.7500000000000007,
          1.7000000000000006,
          1.6500000000000006,
          1.6000000000000005,
          1.5500000000000005,
          1.5000000000000004,
          1.4500000000000006,
          1.4000000000000006,
          1.3500000000000005,
          1.3000000000000005,
          1.2500000000000004,
          1.2000000000000004,
          1.1500000000000004,
          1.1000000000000005,
          1.0500000000000003,
          1.0000000000000004,
          0.9500000000000003,
          0.9000000000000002,
          0.8500000000000002,
          0.8000000000000002,
          0.7500000000000002,
          0.7000000000000002,
          0.6500000000000001,
          0.6000000000000002,
          0.5500000000000002,
          0.5000000000000001,
          0.45000000000000007,
          0.40000000000000013,
          0.3500000000000001,
          0.30000000000000004,
          0.25000000000000006,
          0.20000000000000004,
          0.15000000000000002,
          0.1
         ],
         "y": [
          44.13940190987437,
          31.49874122736396,
          21.086280058448295,
          12.830795093380097,
          6.541287014916871,
          1.9448080316532623,
          -1.2722067026016308,
          -3.4256937314482414,
          -4.804926090098129,
          -5.65240882596697,
          -6.154292165299513,
          -6.440568714660283,
          -6.5926449783118,
          -6.65514142478792,
          -6.648906935363223,
          -6.582732551620306,
          -6.462053200767183,
          -6.2939483213996334,
          -6.088714730435666,
          -5.858921953601515,
          -5.617200898100997,
          -5.3739734232880005,
          -5.1359895752394085,
          -4.906025643391565,
          -4.683671329525502,
          -4.4667774451444675,
          -4.253034364156028,
          -4.0411795456461235,
          -3.8315537245578564,
          -3.625941120229053,
          -3.4269003773903437,
          -3.236868586734319,
          -3.0574151101170473,
          -2.888847883493547,
          -2.7302699581259953,
          -2.580022661835869,
          -2.436302094940691,
          -2.2977407936624044,
          -2.1637672649820323,
          -2.0346467069953196,
          -1.911229913989504,
          -1.7945254125290717,
          -1.6852600435441814,
          -1.5835728036627439,
          -1.4889453075705488,
          -1.4003427458195663,
          -1.3165388074926532,
          -1.2364697189521008,
          -1.1595083619830149,
          -1.085575227138491,
          -1.015068711618821,
          -0.948624228025931,
          -0.8868191526147656,
          -0.8299084719109405,
          -0.7776825266192096,
          -0.7294988778025433,
          -0.6844562459991955,
          -0.6416478415076953,
          -0.60040376514155,
          -0.5604507053608321,
          -0.5219399651080857,
          -0.4853490920429675,
          -0.4512753710333437,
          -0.420181842891307,
          -0.3921745997728837,
          -0.3669028482837393,
          -0.34363368095079505,
          -0.32146278947695534,
          -0.29954827188608696,
          -0.27728230562623957,
          -0.25435190950326625,
          -0.23091550055816487,
          -0.20793067596942927,
          -0.18675037562618105,
          -0.16870258563403914,
          -0.1547916724537728,
          -0.1454350701189391,
          -0.14027213452436146,
          -0.13729056479424329,
          -0.13305650281233397,
          -0.1280416425021046,
          -0.12141262938550174,
          -0.11254453221860121,
          -0.10135175921589416,
          -0.088304704442584,
          -0.07430054070544462,
          -0.05838124307440724,
          -0.03636081707538666,
          -0.016444388352632934,
          -0.001053600515799901,
          0.007995676424001877,
          0.0095922967397296,
          0.0034794165801268484,
          -0.009696553642299911,
          -0.02360204851194908,
          -0.021230956789425777,
          -0.01672148448978528,
          -0.010204981975684042,
          -0.0022335003017778868,
          0.006226760714025822,
          0.013948632705200616,
          0.019645880045046103,
          0.022189808982969884,
          0.0208079364348885,
          0.01523695672260757,
          0.005813289683601111,
          0.0033117269379756018,
          0.033015043847392476,
          0.05783429544979453,
          0.07505529589282978,
          0.08241990529712406,
          0.07823723740067247,
          0.061483271606368184,
          0.03185045219551916,
          0.007298117000828505,
          0.046497897625056676,
          0.09531675190114856,
          0.15258031764562938,
          0.21670534944394304,
          0.2858078452126572,
          0.3578446732021829,
          0.43075483845819634,
          0.502588180191028,
          0.5716123150896882,
          0.6363917515742599,
          0.6958363056390026,
          0.7492189688015548,
          0.7961659702408042,
          0.8366237711987569,
          0.870809040083641,
          0.8991482594933491,
          0.9222135451403298,
          0.9406605898930637,
          0.9551735015461988,
          0.9664198349032416,
          0.9750175131543027,
          0.9815137922285325,
          0.9863751341114378,
          -1.002767448940355,
          -1.0017168599022162,
          -0.9996215995226546,
          -0.9960204670150556,
          -0.9903434510581473,
          -0.9819150923913736,
          -0.9699692980641784,
          -0.9536774264162098,
          -0.9321902718361963,
          -0.9046930886000099,
          -0.8704711741983362,
          -0.8289819689081527,
          -0.7799282915641287,
          -0.7233263671913046,
          -0.6595618270052442,
          -0.5894269626150382,
          -0.514133248421527,
          -0.4352945216544492,
          -0.3548781873912134,
          -0.2751242932448271,
          -0.1984351309079995,
          -0.1272409767942564,
          -0.0638507843616503,
          -0.010318889558865063,
          -0.02176820375851137,
          -0.0405631759779759,
          -0.04974574584876697,
          -0.050496059874164674,
          -0.044482410281683336,
          -0.033715906016798025,
          -0.020370689812745188,
          -0.006620790513663675,
          -0.028547359969017735,
          -0.05943113308366299,
          -0.08672710759377872,
          -0.10814525687105583,
          -0.12200902898370719,
          -0.1273917139252998,
          -0.12419514389160739,
          -0.1131565108216438,
          -0.09577782105876054,
          -0.07417999709981271,
          -0.05089324995126602,
          -0.028672975333721228,
          -0.02463796352029319,
          -0.02474719459472793,
          -0.025209413378528393,
          -0.027115696124458848,
          -0.03136355854334112,
          -0.03846394025484892,
          -0.048434575672895525,
          -0.06094115883766433,
          -0.08088762123892099,
          -0.1007672389043391,
          -0.11683412508354575,
          -0.1282101759540967,
          -0.13491663587293207,
          -0.1378245614474729,
          -0.13849199701691065,
          -0.13908252343480215,
          -0.14330972124228317,
          -0.15061415933028074,
          -0.16096215682773662,
          -0.17474525139740085,
          -0.19184653475565192,
          -0.21167278529638334,
          -0.23334477528264078,
          -0.25597386694466895,
          -0.27879908923997376,
          -0.30118658781494084,
          -0.3231088456641284,
          -0.34518815371023226,
          -0.3683825269862564,
          -0.3936491201044018,
          -0.4216817326028236,
          -0.45277931655968806,
          -0.4868305668140198,
          -0.5233997989976479,
          -0.561907055517626,
          -0.6018675760419684,
          -0.6431125811263129,
          -0.6859128137341252,
          -0.7309462467758843,
          -0.7791279252628196,
          -0.8313549894847793,
          -0.888257129623622,
          -0.9500334441467723,
          -1.0164366604117303,
          -1.0869040368330904,
          -1.16080959204389,
          -1.2377622888991413,
          -1.3178302697810786,
          -1.4016338754023447,
          -1.4902364554106216,
          -1.5848647859956804,
          -1.6865484482303914,
          -1.795814510337334,
          -1.9125198096910172,
          -2.0359372356783734,
          -2.165057564262663,
          -2.2990307768422387,
          -2.4375920147264716,
          -2.581312911608507,
          -2.7315595337431438,
          -2.890137319590174,
          -3.058707644813937,
          -3.2381611183652677,
          -3.4281916223602407,
          -3.6272338182652866,
          -3.832849453392733,
          -4.042491091636798,
          -4.2543690747439,
          -4.4681375892715405,
          -4.685048576009315,
          -4.907412040625552,
          -5.137380873973553,
          -5.375371167988894,
          -5.61860169632579,
          -5.860320381564685,
          -6.090111621447224,
          -6.295373933768011,
          -6.463562239879469,
          -6.584361115581392,
          -6.650627890303119,
          -6.656868960075323,
          -6.594277209605134,
          -6.442058404067841,
          -6.15569246409218,
          -5.653813679493058,
          -4.806359066646869,
          -3.427136363011691,
          -1.2736989490976551,
          1.9432740957245942,
          6.539829650994524,
          12.827666212049131,
          21.07750675662365,
          31.47911913147077,
          44.10187961966489
         ]
        },
        {
         "fill": "toself",
         "fillcolor": "rgba(189,195,199,0.5)",
         "hoverinfo": "skip",
         "line": {
          "color": "rgba(200,200,200,0)"
         },
         "name": "mean plus/minus 2*standard deviation",
         "showlegend": true,
         "type": "scatter",
         "visible": true,
         "x": [
          0.1,
          0.15000000000000002,
          0.20000000000000004,
          0.25000000000000006,
          0.30000000000000004,
          0.3500000000000001,
          0.40000000000000013,
          0.45000000000000007,
          0.5000000000000001,
          0.5500000000000002,
          0.6000000000000002,
          0.6500000000000001,
          0.7000000000000002,
          0.7500000000000002,
          0.8000000000000002,
          0.8500000000000002,
          0.9000000000000002,
          0.9500000000000003,
          1.0000000000000004,
          1.0500000000000003,
          1.1000000000000005,
          1.1500000000000004,
          1.2000000000000004,
          1.2500000000000004,
          1.3000000000000005,
          1.3500000000000005,
          1.4000000000000006,
          1.4500000000000006,
          1.5000000000000004,
          1.5500000000000005,
          1.6000000000000005,
          1.6500000000000006,
          1.7000000000000006,
          1.7500000000000007,
          1.8000000000000007,
          1.8500000000000008,
          1.9000000000000008,
          1.9500000000000006,
          2.0000000000000004,
          2.0500000000000007,
          2.100000000000001,
          2.150000000000001,
          2.2000000000000006,
          2.250000000000001,
          2.3000000000000007,
          2.350000000000001,
          2.400000000000001,
          2.450000000000001,
          2.500000000000001,
          2.5500000000000007,
          2.600000000000001,
          2.650000000000001,
          2.700000000000001,
          2.750000000000001,
          2.800000000000001,
          2.850000000000001,
          2.900000000000001,
          2.950000000000001,
          3.000000000000001,
          3.050000000000001,
          3.100000000000001,
          3.1500000000000012,
          3.200000000000001,
          3.2500000000000013,
          3.300000000000001,
          3.350000000000001,
          3.4000000000000012,
          3.450000000000001,
          3.5000000000000013,
          3.550000000000001,
          3.6000000000000014,
          3.6500000000000012,
          3.7000000000000015,
          3.7500000000000013,
          3.800000000000001,
          3.8500000000000014,
          3.9000000000000012,
          3.9500000000000015,
          4.000000000000001,
          4.050000000000002,
          4.100000000000001,
          4.150000000000001,
          4.200000000000001,
          4.250000000000001,
          4.300000000000001,
          4.350000000000001,
          4.400000000000001,
          4.450000000000001,
          4.500000000000001,
          4.550000000000001,
          4.600000000000001,
          4.650000000000001,
          4.700000000000001,
          4.750000000000001,
          4.800000000000002,
          4.850000000000001,
          4.900000000000001,
          4.950000000000001,
          5.000000000000001,
          5.050000000000002,
          5.100000000000001,
          5.150000000000001,
          5.200000000000001,
          5.250000000000002,
          5.300000000000002,
          5.350000000000001,
          5.400000000000001,
          5.450000000000001,
          5.500000000000002,
          5.550000000000002,
          5.600000000000001,
          5.650000000000001,
          5.700000000000001,
          5.750000000000002,
          5.800000000000002,
          5.850000000000001,
          5.900000000000001,
          5.950000000000002,
          6.000000000000002,
          6.050000000000002,
          6.100000000000001,
          6.150000000000001,
          6.200000000000002,
          6.250000000000002,
          6.300000000000002,
          6.350000000000001,
          6.400000000000002,
          6.450000000000002,
          6.500000000000002,
          6.550000000000002,
          6.600000000000001,
          6.650000000000002,
          6.700000000000002,
          6.750000000000002,
          6.800000000000002,
          6.850000000000002,
          6.900000000000002,
          6.950000000000002,
          6.950000000000002,
          6.900000000000002,
          6.850000000000002,
          6.800000000000002,
          6.750000000000002,
          6.700000000000002,
          6.650000000000002,
          6.600000000000001,
          6.550000000000002,
          6.500000000000002,
          6.450000000000002,
          6.400000000000002,
          6.350000000000001,
          6.300000000000002,
          6.250000000000002,
          6.200000000000002,
          6.150000000000001,
          6.100000000000001,
          6.050000000000002,
          6.000000000000002,
          5.950000000000002,
          5.900000000000001,
          5.850000000000001,
          5.800000000000002,
          5.750000000000002,
          5.700000000000001,
          5.650000000000001,
          5.600000000000001,
          5.550000000000002,
          5.500000000000002,
          5.450000000000001,
          5.400000000000001,
          5.350000000000001,
          5.300000000000002,
          5.250000000000002,
          5.200000000000001,
          5.150000000000001,
          5.100000000000001,
          5.050000000000002,
          5.000000000000001,
          4.950000000000001,
          4.900000000000001,
          4.850000000000001,
          4.800000000000002,
          4.750000000000001,
          4.700000000000001,
          4.650000000000001,
          4.600000000000001,
          4.550000000000001,
          4.500000000000001,
          4.450000000000001,
          4.400000000000001,
          4.350000000000001,
          4.300000000000001,
          4.250000000000001,
          4.200000000000001,
          4.150000000000001,
          4.100000000000001,
          4.050000000000002,
          4.000000000000001,
          3.9500000000000015,
          3.9000000000000012,
          3.8500000000000014,
          3.800000000000001,
          3.7500000000000013,
          3.7000000000000015,
          3.6500000000000012,
          3.6000000000000014,
          3.550000000000001,
          3.5000000000000013,
          3.450000000000001,
          3.4000000000000012,
          3.350000000000001,
          3.300000000000001,
          3.2500000000000013,
          3.200000000000001,
          3.1500000000000012,
          3.100000000000001,
          3.050000000000001,
          3.000000000000001,
          2.950000000000001,
          2.900000000000001,
          2.850000000000001,
          2.800000000000001,
          2.750000000000001,
          2.700000000000001,
          2.650000000000001,
          2.600000000000001,
          2.5500000000000007,
          2.500000000000001,
          2.450000000000001,
          2.400000000000001,
          2.350000000000001,
          2.3000000000000007,
          2.250000000000001,
          2.2000000000000006,
          2.150000000000001,
          2.100000000000001,
          2.0500000000000007,
          2.0000000000000004,
          1.9500000000000006,
          1.9000000000000008,
          1.8500000000000008,
          1.8000000000000007,
          1.7500000000000007,
          1.7000000000000006,
          1.6500000000000006,
          1.6000000000000005,
          1.5500000000000005,
          1.5000000000000004,
          1.4500000000000006,
          1.4000000000000006,
          1.3500000000000005,
          1.3000000000000005,
          1.2500000000000004,
          1.2000000000000004,
          1.1500000000000004,
          1.1000000000000005,
          1.0500000000000003,
          1.0000000000000004,
          0.9500000000000003,
          0.9000000000000002,
          0.8500000000000002,
          0.8000000000000002,
          0.7500000000000002,
          0.7000000000000002,
          0.6500000000000001,
          0.6000000000000002,
          0.5500000000000002,
          0.5000000000000001,
          0.45000000000000007,
          0.40000000000000013,
          0.3500000000000001,
          0.30000000000000004,
          0.25000000000000006,
          0.20000000000000004,
          0.15000000000000002,
          0.1
         ],
         "y": [
          44.15816305497911,
          31.508552275310556,
          21.090666709360622,
          12.832359534045578,
          6.542015696878044,
          1.9455749996175966,
          -1.2714605793536184,
          -3.4249724156665167,
          -4.804209601823759,
          -5.651706399203926,
          -6.153592015903179,
          -6.439823869956504,
          -6.591828862665134,
          -6.654277657144219,
          -6.648046457893274,
          -6.581918269639763,
          -6.46129868121104,
          -6.293235515215445,
          -6.088016284929887,
          -5.85822273961993,
          -5.6165004989886,
          -5.373274550937553,
          -5.135293925872336,
          -4.905332444774571,
          -4.682982706283595,
          -4.466097373080932,
          -4.252367008862093,
          -4.040523772650787,
          -3.830905860140418,
          -3.6252947712109362,
          -3.4262547549053957,
          -3.236222320918845,
          -3.056768842768603,
          -2.888203165445233,
          -2.729625170317421,
          -2.57937753694955,
          -2.4356571350478005,
          -2.2970958020724876,
          -2.1631221153417166,
          -2.0340014426537927,
          -1.910584966138747,
          -1.7938808636249408,
          -1.6846158412010763,
          -1.5829268124962756,
          -1.4882997336505124,
          -1.399697181028177,
          -1.3158930763484407,
          -1.2358234339785805,
          -1.1588577469525772,
          -1.0849108222911916,
          -1.0143847372223662,
          -0.9479196199655104,
          -0.8861001641103374,
          -0.829185213124021,
          -0.7769598272974045,
          -0.7287751933158728,
          -0.6837279621317306,
          -0.6409154716983865,
          -0.5996718596913408,
          -0.5597225302824352,
          -0.5212100481633046,
          -0.4846083546574414,
          -0.45052339827017146,
          -0.41943189803554876,
          -0.3914373396071247,
          -0.36616300893248077,
          -0.34285644457107645,
          -0.32063976138336886,
          -0.29872911392166,
          -0.2765239138193724,
          -0.25354093078256484,
          -0.22970086319592695,
          -0.20605962130595223,
          -0.1842022960614456,
          -0.1656812527523583,
          -0.15170643026679087,
          -0.14284552551326826,
          -0.13875334116540064,
          -0.13639458547396385,
          -0.1303387557100456,
          -0.12315018302942043,
          -0.11466062614178657,
          -0.10471171035085347,
          -0.09361057628206837,
          -0.08207343721170644,
          -0.07100700043870643,
          -0.05710128519277869,
          -0.03032393777663223,
          -0.005434612401524944,
          0.014101378497970708,
          0.025551362698232237,
          0.026993151798858597,
          0.01759272216755424,
          -0.0022258487033032723,
          -0.02106658510106301,
          -0.006399810208505656,
          0.012007771815228434,
          0.03258143756585421,
          0.053228004958155065,
          0.07143771301684243,
          0.08461880602045083,
          0.09047333455942275,
          0.08735734190998273,
          0.07457545844922212,
          0.05257100162574285,
          0.022993614509910533,
          0.008277985663795239,
          0.059707910677461305,
          0.1036093961830908,
          0.13482414898008632,
          0.14887788788276843,
          0.1422287290253922,
          0.11250649539854023,
          0.05865978017253442,
          0.016106620280675287,
          0.10167223861841015,
          0.20659561624885103,
          0.3280880419224438,
          0.4626201707883281,
          0.6061508615145924,
          0.7544142706304989,
          0.903198881898058,
          1.0485957515940612,
          1.1871993861371546,
          1.316250810957042,
          1.4337186042405683,
          1.5383194376564084,
          1.6294845424603743,
          1.70728220109814,
          1.7723086960435597,
          1.8255611024481284,
          1.868304966742584,
          1.9019484310352823,
          1.927931977848372,
          1.9476399858623903,
          1.9623370694927813,
          1.9731291182939068,
          1.9809464256373341,
          -1.9973387404662515,
          -1.9933321859675903,
          -1.9869411558611334,
          -1.9772406179742041,
          -1.9631019273603203,
          -1.9432029335335923,
          -1.9160607196664325,
          -1.8800902693709893,
          -1.833689927796115,
          -1.7753515184993933,
          -1.7037897464179064,
          -1.6180824377630065,
          -1.5178105901656942,
          -1.4031854265740868,
          -1.2751488980527104,
          -1.1354345340180714,
          -0.9865772918613885,
          -0.8318641190827653,
          -0.6752212036931488,
          -0.5210391145892123,
          -0.37394285518481396,
          -0.23851984114195884,
          -0.11902512535500379,
          -0.019127392838711847,
          -0.04857753173552664,
          -0.09158639977014794,
          -0.11373723747348669,
          -0.11695404245980903,
          -0.10425126336893989,
          -0.07949100675009431,
          -0.047063556642814024,
          -0.011587049239483314,
          -0.04572768479532716,
          -0.09676517798679826,
          -0.14049462960811232,
          -0.1733127897980687,
          -0.19283648349808385,
          -0.19806188724055,
          -0.189406096194424,
          -0.16861801608157673,
          -0.1385642406002988,
          -0.10290925340482643,
          -0.06572439653218615,
          -0.031208438744607297,
          -0.03210866845928983,
          -0.03886050018215532,
          -0.04261026843765739,
          -0.04467138239868921,
          -0.04651853755711173,
          -0.04947371620595691,
          -0.05447145497164996,
          -0.062221116719292875,
          -0.08418116150565917,
          -0.10699850613521665,
          -0.12457530801737154,
          -0.13604299782184445,
          -0.14166863911664723,
          -0.14271602092015706,
          -0.141209744119199,
          -0.13997850275508159,
          -0.144828514601244,
          -0.1532037039359516,
          -0.16404739901471854,
          -0.1777665842790817,
          -0.19439461432038738,
          -0.21354383995986037,
          -0.2345594126448787,
          -0.25678484566537035,
          -0.2795574810468409,
          -0.3020057457793678,
          -0.32393187375771487,
          -0.34596539008995086,
          -0.36912236633751494,
          -0.3943863802701608,
          -0.42243167745858184,
          -0.4535312893228603,
          -0.4875713041995459,
          -0.524129715942429,
          -0.5626352305960228,
          -0.6025994814921776,
          -0.6438449509356217,
          -0.6866410976015901,
          -0.7316699312625548,
          -0.7798506245846246,
          -0.8320782482716987,
          -0.8889761181280502,
          -0.9507380522071929,
          -1.0171206348081852,
          -1.08756844168039,
          -1.1614602070743276,
          -1.2384085738726616,
          -1.3184760009252912,
          -1.402279440193734,
          -1.490882029330658,
          -1.5855107771621486,
          -1.6871926505734964,
          -1.7964590592414649,
          -1.913164757541774,
          -2.0365825000199003,
          -2.1657027139029785,
          -2.2996757684321554,
          -2.438236974619362,
          -2.5819580364948256,
          -2.732204321551718,
          -2.890782037638488,
          -3.0593539121623814,
          -3.238807384180742,
          -3.4288372448451887,
          -3.6278801672834033,
          -3.8334973178101714,
          -4.043146864632134,
          -4.255036430037835,
          -4.468817661335076,
          -4.685737199251222,
          -4.908105239242546,
          -5.138076523340626,
          -5.376070040339342,
          -5.6193020954381865,
          -5.86101959554627,
          -6.0908100669530025,
          -6.2960867399522,
          -6.464316759435612,
          -6.585175397561935,
          -6.651488367773068,
          -6.657732727719024,
          -6.595093325251801,
          -6.44280324877162,
          -6.156392613488514,
          -5.654516106256102,
          -4.807075554921239,
          -3.4278576787934156,
          -1.2744450723456675,
          1.94250712776026,
          6.539100969033351,
          12.82610177138365,
          21.07312010571132,
          31.469308083524176,
          44.08311847456015
         ]
        },
        {
         "fill": "toself",
         "fillcolor": "rgba(189,195,199,0.5)",
         "hoverinfo": "skip",
         "line": {
          "color": "rgba(200,200,200,0)"
         },
         "name": "mean plus/minus 3*standard deviation",
         "showlegend": true,
         "type": "scatter",
         "visible": true,
         "x": [
          0.1,
          0.15000000000000002,
          0.20000000000000004,
          0.25000000000000006,
          0.30000000000000004,
          0.3500000000000001,
          0.40000000000000013,
          0.45000000000000007,
          0.5000000000000001,
          0.5500000000000002,
          0.6000000000000002,
          0.6500000000000001,
          0.7000000000000002,
          0.7500000000000002,
          0.8000000000000002,
          0.8500000000000002,
          0.9000000000000002,
          0.9500000000000003,
          1.0000000000000004,
          1.0500000000000003,
          1.1000000000000005,
          1.1500000000000004,
          1.2000000000000004,
          1.2500000000000004,
          1.3000000000000005,
          1.3500000000000005,
          1.4000000000000006,
          1.4500000000000006,
          1.5000000000000004,
          1.5500000000000005,
          1.6000000000000005,
          1.6500000000000006,
          1.7000000000000006,
          1.7500000000000007,
          1.8000000000000007,
          1.8500000000000008,
          1.9000000000000008,
          1.9500000000000006,
          2.0000000000000004,
          2.0500000000000007,
          2.100000000000001,
          2.150000000000001,
          2.2000000000000006,
          2.250000000000001,
          2.3000000000000007,
          2.350000000000001,
          2.400000000000001,
          2.450000000000001,
          2.500000000000001,
          2.5500000000000007,
          2.600000000000001,
          2.650000000000001,
          2.700000000000001,
          2.750000000000001,
          2.800000000000001,
          2.850000000000001,
          2.900000000000001,
          2.950000000000001,
          3.000000000000001,
          3.050000000000001,
          3.100000000000001,
          3.1500000000000012,
          3.200000000000001,
          3.2500000000000013,
          3.300000000000001,
          3.350000000000001,
          3.4000000000000012,
          3.450000000000001,
          3.5000000000000013,
          3.550000000000001,
          3.6000000000000014,
          3.6500000000000012,
          3.7000000000000015,
          3.7500000000000013,
          3.800000000000001,
          3.8500000000000014,
          3.9000000000000012,
          3.9500000000000015,
          4.000000000000001,
          4.050000000000002,
          4.100000000000001,
          4.150000000000001,
          4.200000000000001,
          4.250000000000001,
          4.300000000000001,
          4.350000000000001,
          4.400000000000001,
          4.450000000000001,
          4.500000000000001,
          4.550000000000001,
          4.600000000000001,
          4.650000000000001,
          4.700000000000001,
          4.750000000000001,
          4.800000000000002,
          4.850000000000001,
          4.900000000000001,
          4.950000000000001,
          5.000000000000001,
          5.050000000000002,
          5.100000000000001,
          5.150000000000001,
          5.200000000000001,
          5.250000000000002,
          5.300000000000002,
          5.350000000000001,
          5.400000000000001,
          5.450000000000001,
          5.500000000000002,
          5.550000000000002,
          5.600000000000001,
          5.650000000000001,
          5.700000000000001,
          5.750000000000002,
          5.800000000000002,
          5.850000000000001,
          5.900000000000001,
          5.950000000000002,
          6.000000000000002,
          6.050000000000002,
          6.100000000000001,
          6.150000000000001,
          6.200000000000002,
          6.250000000000002,
          6.300000000000002,
          6.350000000000001,
          6.400000000000002,
          6.450000000000002,
          6.500000000000002,
          6.550000000000002,
          6.600000000000001,
          6.650000000000002,
          6.700000000000002,
          6.750000000000002,
          6.800000000000002,
          6.850000000000002,
          6.900000000000002,
          6.950000000000002,
          6.950000000000002,
          6.900000000000002,
          6.850000000000002,
          6.800000000000002,
          6.750000000000002,
          6.700000000000002,
          6.650000000000002,
          6.600000000000001,
          6.550000000000002,
          6.500000000000002,
          6.450000000000002,
          6.400000000000002,
          6.350000000000001,
          6.300000000000002,
          6.250000000000002,
          6.200000000000002,
          6.150000000000001,
          6.100000000000001,
          6.050000000000002,
          6.000000000000002,
          5.950000000000002,
          5.900000000000001,
          5.850000000000001,
          5.800000000000002,
          5.750000000000002,
          5.700000000000001,
          5.650000000000001,
          5.600000000000001,
          5.550000000000002,
          5.500000000000002,
          5.450000000000001,
          5.400000000000001,
          5.350000000000001,
          5.300000000000002,
          5.250000000000002,
          5.200000000000001,
          5.150000000000001,
          5.100000000000001,
          5.050000000000002,
          5.000000000000001,
          4.950000000000001,
          4.900000000000001,
          4.850000000000001,
          4.800000000000002,
          4.750000000000001,
          4.700000000000001,
          4.650000000000001,
          4.600000000000001,
          4.550000000000001,
          4.500000000000001,
          4.450000000000001,
          4.400000000000001,
          4.350000000000001,
          4.300000000000001,
          4.250000000000001,
          4.200000000000001,
          4.150000000000001,
          4.100000000000001,
          4.050000000000002,
          4.000000000000001,
          3.9500000000000015,
          3.9000000000000012,
          3.8500000000000014,
          3.800000000000001,
          3.7500000000000013,
          3.7000000000000015,
          3.6500000000000012,
          3.6000000000000014,
          3.550000000000001,
          3.5000000000000013,
          3.450000000000001,
          3.4000000000000012,
          3.350000000000001,
          3.300000000000001,
          3.2500000000000013,
          3.200000000000001,
          3.1500000000000012,
          3.100000000000001,
          3.050000000000001,
          3.000000000000001,
          2.950000000000001,
          2.900000000000001,
          2.850000000000001,
          2.800000000000001,
          2.750000000000001,
          2.700000000000001,
          2.650000000000001,
          2.600000000000001,
          2.5500000000000007,
          2.500000000000001,
          2.450000000000001,
          2.400000000000001,
          2.350000000000001,
          2.3000000000000007,
          2.250000000000001,
          2.2000000000000006,
          2.150000000000001,
          2.100000000000001,
          2.0500000000000007,
          2.0000000000000004,
          1.9500000000000006,
          1.9000000000000008,
          1.8500000000000008,
          1.8000000000000007,
          1.7500000000000007,
          1.7000000000000006,
          1.6500000000000006,
          1.6000000000000005,
          1.5500000000000005,
          1.5000000000000004,
          1.4500000000000006,
          1.4000000000000006,
          1.3500000000000005,
          1.3000000000000005,
          1.2500000000000004,
          1.2000000000000004,
          1.1500000000000004,
          1.1000000000000005,
          1.0500000000000003,
          1.0000000000000004,
          0.9500000000000003,
          0.9000000000000002,
          0.8500000000000002,
          0.8000000000000002,
          0.7500000000000002,
          0.7000000000000002,
          0.6500000000000001,
          0.6000000000000002,
          0.5500000000000002,
          0.5000000000000001,
          0.45000000000000007,
          0.40000000000000013,
          0.3500000000000001,
          0.30000000000000004,
          0.25000000000000006,
          0.20000000000000004,
          0.15000000000000002,
          0.1
         ],
         "y": [
          44.17692420008386,
          31.51836332325715,
          21.095053360272946,
          12.83392397471106,
          6.542744378839218,
          1.9463419675819307,
          -1.2707144561056063,
          -3.4242510998847915,
          -4.80349311354939,
          -5.651003972440883,
          -6.152891866506845,
          -6.439079025252724,
          -6.591012747018468,
          -6.653413889500516,
          -6.647185980423326,
          -6.58110398765922,
          -6.460544161654897,
          -6.292522709031256,
          -6.0873178394241085,
          -5.857523525638345,
          -5.6158000998762025,
          -5.372575678587106,
          -5.1345982765052645,
          -4.904639246157578,
          -4.682294083041689,
          -4.465417301017395,
          -4.251699653568156,
          -4.03986799965545,
          -3.8302579957229796,
          -3.62464842219282,
          -3.425609132420447,
          -3.2355760551033703,
          -3.056122575420158,
          -2.8875584473969194,
          -2.728980382508847,
          -2.578732412063231,
          -2.4350121751549105,
          -2.2964508104825705,
          -2.1624769657014014,
          -2.033356178312266,
          -1.9099400182879904,
          -1.7932363147208097,
          -1.6839716388579713,
          -1.5822808213298074,
          -1.4876541597304762,
          -1.3990516162367879,
          -1.315247345204228,
          -1.2351771490050603,
          -1.1582071319221396,
          -1.084246417443892,
          -1.0137007628259116,
          -0.9472150119050897,
          -0.8853811756059091,
          -0.8284619543371017,
          -0.7762371279755995,
          -0.7280515088292023,
          -0.6829996782642658,
          -0.6401831018890777,
          -0.5989399542411318,
          -0.5589943552040383,
          -0.5204801312185234,
          -0.48386761727191524,
          -0.4497714255069993,
          -0.41868195317979046,
          -0.3907000794413657,
          -0.3654231695812222,
          -0.3420792081913578,
          -0.31981673328978233,
          -0.2979099559572331,
          -0.2757655220125053,
          -0.2527299520618635,
          -0.228486225833689,
          -0.20418856664247523,
          -0.18165421649671015,
          -0.1626599198706774,
          -0.14862118807980895,
          -0.14025598090759744,
          -0.1372345478064398,
          -0.13549860615368442,
          -0.12762100860775727,
          -0.11825872355673626,
          -0.1079086228980714,
          -0.09687888848310572,
          -0.08586939334824259,
          -0.07584216998082889,
          -0.06771346017196825,
          -0.05582132731115014,
          -0.0242870584778778,
          0.00557516354958305,
          0.029256357511741316,
          0.0431070489724626,
          0.04439400685798759,
          0.031706027754981624,
          0.005244856235693367,
          -0.018531121690176938,
          0.008431336372414465,
          0.040737028120242144,
          0.07536785710739247,
          0.10868951021808801,
          0.13664866531965905,
          0.15528897933570102,
          0.16130078907379938,
          0.1525248748369956,
          0.12834298046355572,
          0.08990504652887814,
          0.04017393933621996,
          0.013244244389614877,
          0.08640077750753014,
          0.14938449691638708,
          0.19459300206734287,
          0.2153358704684128,
          0.2062202206501119,
          0.16352971919071227,
          0.08546910814954968,
          0.02491512356052207,
          0.15684657961176363,
          0.3178744805965535,
          0.5035957661992583,
          0.7085349921327131,
          0.9264938778165277,
          1.150983868058815,
          1.3756429253379197,
          1.5946033229970942,
          1.8027864571846208,
          1.9961098703398243,
          2.1716009028421337,
          2.327419906511262,
          2.4628031146799447,
          2.5779406309975235,
          2.6738083520034786,
          2.751973945402908,
          2.8143963883448384,
          2.863236272177501,
          2.900690454150545,
          2.928860136821539,
          2.94965662583126,
          2.964744444359281,
          2.9755177171632305,
          -2.991910031992148,
          -2.984947512032965,
          -2.974260712199612,
          -2.9584607689333526,
          -2.935860403662493,
          -2.904490774675811,
          -2.8621521412686866,
          -2.806503112325769,
          -2.7351895837560334,
          -2.6460099483987767,
          -2.5371083186374763,
          -2.40718290661786,
          -2.25569288876726,
          -2.083044485956869,
          -1.8907359691001766,
          -1.6814421054211044,
          -1.4590213353012502,
          -1.2284337165110812,
          -0.995564219995084,
          -0.7669539359335973,
          -0.5494505794616285,
          -0.34979870548966135,
          -0.17419946634835726,
          -0.02793589611855863,
          -0.0753868597125419,
          -0.14260962356231996,
          -0.1777287290982064,
          -0.1834120250454534,
          -0.16402011645619646,
          -0.1252661074833906,
          -0.07375642347288286,
          -0.016553307965302952,
          -0.06290800962163659,
          -0.13409922288993356,
          -0.19426215162244595,
          -0.23848032272508154,
          -0.26366393801246046,
          -0.2687320605558002,
          -0.25461704849724065,
          -0.22407952134150969,
          -0.18135066014183704,
          -0.13163850970984015,
          -0.08055554311310625,
          -0.033743902155493374,
          -0.03957937339828647,
          -0.05297380576958271,
          -0.06001112349678638,
          -0.06222706867291957,
          -0.06167351657088234,
          -0.0604834921570649,
          -0.06050833427040438,
          -0.06350107460092143,
          -0.08747470177239736,
          -0.1132297733660942,
          -0.13231649095119732,
          -0.1438758196895922,
          -0.1484206423603624,
          -0.14760748039284122,
          -0.14392749122148735,
          -0.14087448207536102,
          -0.14634730796020484,
          -0.1557932485416224,
          -0.16713264120170046,
          -0.1807879171607626,
          -0.1969426938851228,
          -0.21541489462333738,
          -0.23577405000711665,
          -0.2575958243860717,
          -0.280315872853708,
          -0.3028249037437947,
          -0.3247549018513014,
          -0.3467426264696695,
          -0.36986220568877354,
          -0.3951236404359198,
          -0.42318162231434014,
          -0.4542832620860325,
          -0.4883120415850721,
          -0.5248596328872102,
          -0.5633634056744198,
          -0.6033313869423866,
          -0.6445773207449305,
          -0.6873693814690549,
          -0.7323936157492252,
          -0.7805733239064296,
          -0.8328015070586181,
          -0.8896951066324785,
          -0.9514426602676136,
          -1.0178046092046398,
          -1.0882328465276896,
          -1.1621108221047651,
          -1.2390548588461818,
          -1.319121732069504,
          -1.4029250049851232,
          -1.4915276032506941,
          -1.5861567683286169,
          -1.6878368529166015,
          -1.797103608145596,
          -1.9138097053925307,
          -2.037227764361427,
          -2.166347863543294,
          -2.3003207600220725,
          -2.438881934512252,
          -2.5826031613811447,
          -2.7328491093602922,
          -2.8914267556868016,
          -3.0600001795108263,
          -3.2394536499962165,
          -3.429482867330137,
          -3.6285265163015197,
          -3.83414518222761,
          -4.043802637627471,
          -4.255703785331772,
          -4.469497733398613,
          -4.686425822493129,
          -4.908798437859539,
          -5.138772172707697,
          -5.376768912689789,
          -5.620002494550584,
          -5.861718809527855,
          -6.091508512458781,
          -6.296799546136389,
          -6.465071278991755,
          -6.585989679542478,
          -6.652348845243016,
          -6.658596495362726,
          -6.595909440898467,
          -6.4435480934754,
          -6.157092762884847,
          -5.655218533019145,
          -4.807792043195608,
          -3.428578994575141,
          -1.2751911955936797,
          1.9417401597959258,
          6.538372287072177,
          12.824537330718167,
          21.068733454799,
          31.45949703557758,
          44.064357329455405
         ]
        },
        {
         "line": {
          "color": "blue",
          "width": 2
         },
         "name": "Predicted function",
         "showlegend": true,
         "type": "scatter",
         "visible": true,
         "x": [
          0.1,
          0.15000000000000002,
          0.20000000000000004,
          0.25000000000000006,
          0.30000000000000004,
          0.3500000000000001,
          0.40000000000000013,
          0.45000000000000007,
          0.5000000000000001,
          0.5500000000000002,
          0.6000000000000002,
          0.6500000000000001,
          0.7000000000000002,
          0.7500000000000002,
          0.8000000000000002,
          0.8500000000000002,
          0.9000000000000002,
          0.9500000000000003,
          1.0000000000000004,
          1.0500000000000003,
          1.1000000000000005,
          1.1500000000000004,
          1.2000000000000004,
          1.2500000000000004,
          1.3000000000000005,
          1.3500000000000005,
          1.4000000000000006,
          1.4500000000000006,
          1.5000000000000004,
          1.5500000000000005,
          1.6000000000000005,
          1.6500000000000006,
          1.7000000000000006,
          1.7500000000000007,
          1.8000000000000007,
          1.8500000000000008,
          1.9000000000000008,
          1.9500000000000006,
          2.0000000000000004,
          2.0500000000000007,
          2.100000000000001,
          2.150000000000001,
          2.2000000000000006,
          2.250000000000001,
          2.3000000000000007,
          2.350000000000001,
          2.400000000000001,
          2.450000000000001,
          2.500000000000001,
          2.5500000000000007,
          2.600000000000001,
          2.650000000000001,
          2.700000000000001,
          2.750000000000001,
          2.800000000000001,
          2.850000000000001,
          2.900000000000001,
          2.950000000000001,
          3.000000000000001,
          3.050000000000001,
          3.100000000000001,
          3.1500000000000012,
          3.200000000000001,
          3.2500000000000013,
          3.300000000000001,
          3.350000000000001,
          3.4000000000000012,
          3.450000000000001,
          3.5000000000000013,
          3.550000000000001,
          3.6000000000000014,
          3.6500000000000012,
          3.7000000000000015,
          3.7500000000000013,
          3.800000000000001,
          3.8500000000000014,
          3.9000000000000012,
          3.9500000000000015,
          4.000000000000001,
          4.050000000000002,
          4.100000000000001,
          4.150000000000001,
          4.200000000000001,
          4.250000000000001,
          4.300000000000001,
          4.350000000000001,
          4.400000000000001,
          4.450000000000001,
          4.500000000000001,
          4.550000000000001,
          4.600000000000001,
          4.650000000000001,
          4.700000000000001,
          4.750000000000001,
          4.800000000000002,
          4.850000000000001,
          4.900000000000001,
          4.950000000000001,
          5.000000000000001,
          5.050000000000002,
          5.100000000000001,
          5.150000000000001,
          5.200000000000001,
          5.250000000000002,
          5.300000000000002,
          5.350000000000001,
          5.400000000000001,
          5.450000000000001,
          5.500000000000002,
          5.550000000000002,
          5.600000000000001,
          5.650000000000001,
          5.700000000000001,
          5.750000000000002,
          5.800000000000002,
          5.850000000000001,
          5.900000000000001,
          5.950000000000002,
          6.000000000000002,
          6.050000000000002,
          6.100000000000001,
          6.150000000000001,
          6.200000000000002,
          6.250000000000002,
          6.300000000000002,
          6.350000000000001,
          6.400000000000002,
          6.450000000000002,
          6.500000000000002,
          6.550000000000002,
          6.600000000000001,
          6.650000000000002,
          6.700000000000002,
          6.750000000000002,
          6.800000000000002,
          6.850000000000002,
          6.900000000000002,
          6.950000000000002
         ],
         "y": [
          44.12064076476963,
          31.488930179417366,
          21.081893407535972,
          12.829230652714614,
          6.5405583329556976,
          1.9440410636889283,
          -1.272952825849643,
          -3.426415047229966,
          -4.805642578372499,
          -5.653111252730014,
          -6.154992314695846,
          -6.441313559364062,
          -6.593461093958467,
          -6.656005192431621,
          -6.649767412833171,
          -6.583546833600849,
          -6.462807720323326,
          -6.294661127583822,
          -6.089413175941445,
          -5.8596211675831,
          -5.617901297213393,
          -5.374672295638447,
          -5.136685224606481,
          -4.906718842008559,
          -4.684359952767409,
          -4.467457517208004,
          -4.253701719449964,
          -4.041835318641461,
          -3.8322015889752947,
          -3.62658746924717,
          -3.427545999875292,
          -3.2375148525497934,
          -3.058061377465492,
          -2.8894926015418605,
          -2.7309147459345695,
          -2.580667786722188,
          -2.436947054833581,
          -2.2983857852523215,
          -2.1644124146223476,
          -2.0352919713368465,
          -1.9118748618402606,
          -1.7951699614332028,
          -1.6859042458872864,
          -1.5842187948292121,
          -1.4895908814905852,
          -1.4009883106109555,
          -1.317184538636866,
          -1.237116003925621,
          -1.1601589770134524,
          -1.0862396319857908,
          -1.0157526860152757,
          -0.9493288360863517,
          -0.8875381411191938,
          -0.8306317306978599,
          -0.7784052259410146,
          -0.7302225622892138,
          -0.6851845298666603,
          -0.6423802113170041,
          -0.6011356705917592,
          -0.561178880439229,
          -0.5226698820528668,
          -0.48608982942849366,
          -0.4520273437965159,
          -0.4209317877470653,
          -0.39291185993864275,
          -0.36764268763499786,
          -0.34441091733051366,
          -0.32228581757054187,
          -0.3003674298505139,
          -0.27804069743310666,
          -0.2551628882239676,
          -0.23213013792040282,
          -0.2098017306329063,
          -0.18929845519091648,
          -0.17172391851572,
          -0.1578769146407547,
          -0.14802461472460993,
          -0.14179092788332232,
          -0.13818654411452272,
          -0.1357742499146223,
          -0.13293310197478875,
          -0.1281646326292169,
          -0.12037735408634896,
          -0.10909294214971996,
          -0.09453597167346155,
          -0.0775940809721828,
          -0.05966120095603578,
          -0.04239769637414109,
          -0.027454164303740928,
          -0.01620857952957051,
          -0.009560009850228484,
          -0.007808558319399396,
          -0.010633889007300541,
          -0.01716725858129655,
          -0.026137511922835154,
          -0.0360621033703459,
          -0.045450740794798994,
          -0.05299140151722229,
          -0.05769500556171084,
          -0.058984191588790785,
          -0.05672154061004959,
          -0.05118157446933055,
          -0.04297772394404297,
          -0.03295958557944511,
          -0.022097088180527708,
          -0.011367035142708313,
          -0.0016545317878440366,
          0.006322177017323643,
          0.01205919471649825,
          0.015286442805573217,
          0.01596192271147969,
          0.014245745775952749,
          0.010460047814196145,
          0.005041124218503891,
          -0.001510386279018279,
          -0.00867644336829681,
          -0.01596211244655391,
          -0.022927406631185067,
          -0.029209471900442048,
          -0.03453517108927814,
          -0.03872492422613314,
          -0.041689204981665305,
          -0.0434193912120051,
          -0.04397475595777799,
          -0.04346730780852235,
          -0.04204599296256305,
          -0.039881500053298984,
          -0.037152601978765964,
          -0.034034658700626545,
          -0.030690615876277617,
          -0.02726458346143038,
          -0.023877876461924276,
          -0.02062725124915497,
          -0.017584974755974172,
          -0.014800316055907013,
          -0.012302043184175989,
          -0.010101533836841788,
          -0.008196157414458572
         ]
        },
        {
         "marker": {
          "color": "red",
          "size": 8
         },
         "mode": "markers",
         "name": "Observed points",
         "showlegend": true,
         "type": "scatter",
         "visible": true,
         "x": [
          5.789011774065019,
          3.1890177942845357,
          4.389014129421709,
          1.9890258812452397,
          2.5890209007003793,
          1.3890351645165082,
          0.2891522613838655,
          5.38901232214804,
          4.789013315941333,
          3.989015106046028,
          3.5890163003618976,
          1.0719149307852758,
          2.2890230645983896,
          1.6890296984551227,
          0.5224711870448977,
          3.3890170032420026,
          2.9890186911866916,
          2.7890197167218815,
          0.9129802213227155,
          1.226009944241065,
          0.6382551523366189,
          2.4890215640414612,
          2.3890222829147914,
          2.1890239177001707,
          2.0890248524762463,
          1.8890270189341927,
          1.7890282838075544,
          1.5890312911530102,
          1.489033097772982,
          0.3891142611925234
         ],
         "y": [
          0,
          -0.4614966804297005,
          -0.06360573355020094,
          -2.1873964687144998,
          -1.0311521395875012,
          -4.293239790203302,
          7.768548062944898,
          -0.0036619567789024643,
          -0.02403130818260024,
          -0.13880486390100089,
          -0.26045902363910045,
          -5.751334940733901,
          -1.512899700815602,
          -3.1049248894996992,
          -5.1544351645245,
          -0.34842525636150157,
          -0.6065915124077996,
          -0.792933480363402,
          -6.4059202857595,
          -5.034605189136801,
          -6.447769448783699,
          -1.1734520451894994,
          -1.333427961933502,
          -1.713749753485402,
          -1.9379328744996016,
          -2.4639937487285017,
          -2.769407687643401,
          -3.4712173673584026,
          -3.8679647626182003,
          -0.7293387378510019
         ]
        },
        {
         "line": {
          "color": "pink",
          "width": 2
         },
         "name": "True function",
         "showlegend": true,
         "type": "scatter",
         "visible": true,
         "x": [
          0.2891522613838655,
          0.3891142611925234,
          0.4890917973789821,
          0.5890769595421326,
          0.6890664280484163,
          0.7890585658006655,
          0.8890524721653966,
          0.9890476107161894,
          1.0890436420380054,
          1.18904034088983,
          1.2890375519213562,
          1.3890351645165082,
          1.489033097772982,
          1.5890312911530102,
          1.6890296984551227,
          1.7890282838075544,
          1.8890270189341927,
          1.9890258812452397,
          2.0890248524762463,
          2.1890239177001707,
          2.2890230645983896,
          2.3890222829147914,
          2.4890215640414612,
          2.5890209007003793,
          2.7890197167218815,
          2.9890186911866916,
          3.1890177942845357,
          3.3890170032420026,
          3.5890163003618976,
          3.989015106046028,
          4.389014129421709,
          4.789013315941333,
          5.38901232214804,
          5.789011774065019
         ],
         "y": [
          7.768548062944898,
          -0.7293387378510019,
          -4.451645301694899,
          -6.0691337854804,
          -6.6566226379277005,
          -6.7113534465391,
          -6.485169821945,
          -6.113701719524901,
          -5.673165765260499,
          -5.207558879405102,
          -4.742593917006502,
          -4.293239790203302,
          -3.8679647626182003,
          -3.4712173673584026,
          -3.1049248894996992,
          -2.769407687643401,
          -2.4639937487285017,
          -2.1873964687144998,
          -1.9379328744996016,
          -1.713749753485402,
          -1.512899700815602,
          -1.333427961933502,
          -1.1734520451894994,
          -1.0311521395875012,
          -0.792933480363402,
          -0.6065915124077996,
          -0.4614966804297005,
          -0.34842525636150157,
          -0.26045902363910045,
          -0.13880486390100089,
          -0.06360573355020094,
          -0.02403130818260024,
          -0.0036619567789024643,
          0
         ]
        }
       ],
       "layout": {
        "autosize": false,
        "height": 600,
        "legend": {
         "x": 0.95,
         "xanchor": "right",
         "y": 0.3,
         "yanchor": "top"
        },
        "plot_bgcolor": "rgba(0, 0, 0, 0)",
        "template": {
         "data": {
          "bar": [
           {
            "error_x": {
             "color": "#2a3f5f"
            },
            "error_y": {
             "color": "#2a3f5f"
            },
            "marker": {
             "line": {
              "color": "#E5ECF6",
              "width": 0.5
             },
             "pattern": {
              "fillmode": "overlay",
              "size": 10,
              "solidity": 0.2
             }
            },
            "type": "bar"
           }
          ],
          "barpolar": [
           {
            "marker": {
             "line": {
              "color": "#E5ECF6",
              "width": 0.5
             },
             "pattern": {
              "fillmode": "overlay",
              "size": 10,
              "solidity": 0.2
             }
            },
            "type": "barpolar"
           }
          ],
          "carpet": [
           {
            "aaxis": {
             "endlinecolor": "#2a3f5f",
             "gridcolor": "white",
             "linecolor": "white",
             "minorgridcolor": "white",
             "startlinecolor": "#2a3f5f"
            },
            "baxis": {
             "endlinecolor": "#2a3f5f",
             "gridcolor": "white",
             "linecolor": "white",
             "minorgridcolor": "white",
             "startlinecolor": "#2a3f5f"
            },
            "type": "carpet"
           }
          ],
          "choropleth": [
           {
            "colorbar": {
             "outlinewidth": 0,
             "ticks": ""
            },
            "type": "choropleth"
           }
          ],
          "contour": [
           {
            "colorbar": {
             "outlinewidth": 0,
             "ticks": ""
            },
            "colorscale": [
             [
              0,
              "#0d0887"
             ],
             [
              0.1111111111111111,
              "#46039f"
             ],
             [
              0.2222222222222222,
              "#7201a8"
             ],
             [
              0.3333333333333333,
              "#9c179e"
             ],
             [
              0.4444444444444444,
              "#bd3786"
             ],
             [
              0.5555555555555556,
              "#d8576b"
             ],
             [
              0.6666666666666666,
              "#ed7953"
             ],
             [
              0.7777777777777778,
              "#fb9f3a"
             ],
             [
              0.8888888888888888,
              "#fdca26"
             ],
             [
              1,
              "#f0f921"
             ]
            ],
            "type": "contour"
           }
          ],
          "contourcarpet": [
           {
            "colorbar": {
             "outlinewidth": 0,
             "ticks": ""
            },
            "type": "contourcarpet"
           }
          ],
          "heatmap": [
           {
            "colorbar": {
             "outlinewidth": 0,
             "ticks": ""
            },
            "colorscale": [
             [
              0,
              "#0d0887"
             ],
             [
              0.1111111111111111,
              "#46039f"
             ],
             [
              0.2222222222222222,
              "#7201a8"
             ],
             [
              0.3333333333333333,
              "#9c179e"
             ],
             [
              0.4444444444444444,
              "#bd3786"
             ],
             [
              0.5555555555555556,
              "#d8576b"
             ],
             [
              0.6666666666666666,
              "#ed7953"
             ],
             [
              0.7777777777777778,
              "#fb9f3a"
             ],
             [
              0.8888888888888888,
              "#fdca26"
             ],
             [
              1,
              "#f0f921"
             ]
            ],
            "type": "heatmap"
           }
          ],
          "heatmapgl": [
           {
            "colorbar": {
             "outlinewidth": 0,
             "ticks": ""
            },
            "colorscale": [
             [
              0,
              "#0d0887"
             ],
             [
              0.1111111111111111,
              "#46039f"
             ],
             [
              0.2222222222222222,
              "#7201a8"
             ],
             [
              0.3333333333333333,
              "#9c179e"
             ],
             [
              0.4444444444444444,
              "#bd3786"
             ],
             [
              0.5555555555555556,
              "#d8576b"
             ],
             [
              0.6666666666666666,
              "#ed7953"
             ],
             [
              0.7777777777777778,
              "#fb9f3a"
             ],
             [
              0.8888888888888888,
              "#fdca26"
             ],
             [
              1,
              "#f0f921"
             ]
            ],
            "type": "heatmapgl"
           }
          ],
          "histogram": [
           {
            "marker": {
             "pattern": {
              "fillmode": "overlay",
              "size": 10,
              "solidity": 0.2
             }
            },
            "type": "histogram"
           }
          ],
          "histogram2d": [
           {
            "colorbar": {
             "outlinewidth": 0,
             "ticks": ""
            },
            "colorscale": [
             [
              0,
              "#0d0887"
             ],
             [
              0.1111111111111111,
              "#46039f"
             ],
             [
              0.2222222222222222,
              "#7201a8"
             ],
             [
              0.3333333333333333,
              "#9c179e"
             ],
             [
              0.4444444444444444,
              "#bd3786"
             ],
             [
              0.5555555555555556,
              "#d8576b"
             ],
             [
              0.6666666666666666,
              "#ed7953"
             ],
             [
              0.7777777777777778,
              "#fb9f3a"
             ],
             [
              0.8888888888888888,
              "#fdca26"
             ],
             [
              1,
              "#f0f921"
             ]
            ],
            "type": "histogram2d"
           }
          ],
          "histogram2dcontour": [
           {
            "colorbar": {
             "outlinewidth": 0,
             "ticks": ""
            },
            "colorscale": [
             [
              0,
              "#0d0887"
             ],
             [
              0.1111111111111111,
              "#46039f"
             ],
             [
              0.2222222222222222,
              "#7201a8"
             ],
             [
              0.3333333333333333,
              "#9c179e"
             ],
             [
              0.4444444444444444,
              "#bd3786"
             ],
             [
              0.5555555555555556,
              "#d8576b"
             ],
             [
              0.6666666666666666,
              "#ed7953"
             ],
             [
              0.7777777777777778,
              "#fb9f3a"
             ],
             [
              0.8888888888888888,
              "#fdca26"
             ],
             [
              1,
              "#f0f921"
             ]
            ],
            "type": "histogram2dcontour"
           }
          ],
          "mesh3d": [
           {
            "colorbar": {
             "outlinewidth": 0,
             "ticks": ""
            },
            "type": "mesh3d"
           }
          ],
          "parcoords": [
           {
            "line": {
             "colorbar": {
              "outlinewidth": 0,
              "ticks": ""
             }
            },
            "type": "parcoords"
           }
          ],
          "pie": [
           {
            "automargin": true,
            "type": "pie"
           }
          ],
          "scatter": [
           {
            "fillpattern": {
             "fillmode": "overlay",
             "size": 10,
             "solidity": 0.2
            },
            "type": "scatter"
           }
          ],
          "scatter3d": [
           {
            "line": {
             "colorbar": {
              "outlinewidth": 0,
              "ticks": ""
             }
            },
            "marker": {
             "colorbar": {
              "outlinewidth": 0,
              "ticks": ""
             }
            },
            "type": "scatter3d"
           }
          ],
          "scattercarpet": [
           {
            "marker": {
             "colorbar": {
              "outlinewidth": 0,
              "ticks": ""
             }
            },
            "type": "scattercarpet"
           }
          ],
          "scattergeo": [
           {
            "marker": {
             "colorbar": {
              "outlinewidth": 0,
              "ticks": ""
             }
            },
            "type": "scattergeo"
           }
          ],
          "scattergl": [
           {
            "marker": {
             "colorbar": {
              "outlinewidth": 0,
              "ticks": ""
             }
            },
            "type": "scattergl"
           }
          ],
          "scattermapbox": [
           {
            "marker": {
             "colorbar": {
              "outlinewidth": 0,
              "ticks": ""
             }
            },
            "type": "scattermapbox"
           }
          ],
          "scatterpolar": [
           {
            "marker": {
             "colorbar": {
              "outlinewidth": 0,
              "ticks": ""
             }
            },
            "type": "scatterpolar"
           }
          ],
          "scatterpolargl": [
           {
            "marker": {
             "colorbar": {
              "outlinewidth": 0,
              "ticks": ""
             }
            },
            "type": "scatterpolargl"
           }
          ],
          "scatterternary": [
           {
            "marker": {
             "colorbar": {
              "outlinewidth": 0,
              "ticks": ""
             }
            },
            "type": "scatterternary"
           }
          ],
          "surface": [
           {
            "colorbar": {
             "outlinewidth": 0,
             "ticks": ""
            },
            "colorscale": [
             [
              0,
              "#0d0887"
             ],
             [
              0.1111111111111111,
              "#46039f"
             ],
             [
              0.2222222222222222,
              "#7201a8"
             ],
             [
              0.3333333333333333,
              "#9c179e"
             ],
             [
              0.4444444444444444,
              "#bd3786"
             ],
             [
              0.5555555555555556,
              "#d8576b"
             ],
             [
              0.6666666666666666,
              "#ed7953"
             ],
             [
              0.7777777777777778,
              "#fb9f3a"
             ],
             [
              0.8888888888888888,
              "#fdca26"
             ],
             [
              1,
              "#f0f921"
             ]
            ],
            "type": "surface"
           }
          ],
          "table": [
           {
            "cells": {
             "fill": {
              "color": "#EBF0F8"
             },
             "line": {
              "color": "white"
             }
            },
            "header": {
             "fill": {
              "color": "#C8D4E3"
             },
             "line": {
              "color": "white"
             }
            },
            "type": "table"
           }
          ]
         },
         "layout": {
          "annotationdefaults": {
           "arrowcolor": "#2a3f5f",
           "arrowhead": 0,
           "arrowwidth": 1
          },
          "autotypenumbers": "strict",
          "coloraxis": {
           "colorbar": {
            "outlinewidth": 0,
            "ticks": ""
           }
          },
          "colorscale": {
           "diverging": [
            [
             0,
             "#8e0152"
            ],
            [
             0.1,
             "#c51b7d"
            ],
            [
             0.2,
             "#de77ae"
            ],
            [
             0.3,
             "#f1b6da"
            ],
            [
             0.4,
             "#fde0ef"
            ],
            [
             0.5,
             "#f7f7f7"
            ],
            [
             0.6,
             "#e6f5d0"
            ],
            [
             0.7,
             "#b8e186"
            ],
            [
             0.8,
             "#7fbc41"
            ],
            [
             0.9,
             "#4d9221"
            ],
            [
             1,
             "#276419"
            ]
           ],
           "sequential": [
            [
             0,
             "#0d0887"
            ],
            [
             0.1111111111111111,
             "#46039f"
            ],
            [
             0.2222222222222222,
             "#7201a8"
            ],
            [
             0.3333333333333333,
             "#9c179e"
            ],
            [
             0.4444444444444444,
             "#bd3786"
            ],
            [
             0.5555555555555556,
             "#d8576b"
            ],
            [
             0.6666666666666666,
             "#ed7953"
            ],
            [
             0.7777777777777778,
             "#fb9f3a"
            ],
            [
             0.8888888888888888,
             "#fdca26"
            ],
            [
             1,
             "#f0f921"
            ]
           ],
           "sequentialminus": [
            [
             0,
             "#0d0887"
            ],
            [
             0.1111111111111111,
             "#46039f"
            ],
            [
             0.2222222222222222,
             "#7201a8"
            ],
            [
             0.3333333333333333,
             "#9c179e"
            ],
            [
             0.4444444444444444,
             "#bd3786"
            ],
            [
             0.5555555555555556,
             "#d8576b"
            ],
            [
             0.6666666666666666,
             "#ed7953"
            ],
            [
             0.7777777777777778,
             "#fb9f3a"
            ],
            [
             0.8888888888888888,
             "#fdca26"
            ],
            [
             1,
             "#f0f921"
            ]
           ]
          },
          "colorway": [
           "#636efa",
           "#EF553B",
           "#00cc96",
           "#ab63fa",
           "#FFA15A",
           "#19d3f3",
           "#FF6692",
           "#B6E880",
           "#FF97FF",
           "#FECB52"
          ],
          "font": {
           "color": "#2a3f5f"
          },
          "geo": {
           "bgcolor": "white",
           "lakecolor": "white",
           "landcolor": "#E5ECF6",
           "showlakes": true,
           "showland": true,
           "subunitcolor": "white"
          },
          "hoverlabel": {
           "align": "left"
          },
          "hovermode": "closest",
          "mapbox": {
           "style": "light"
          },
          "paper_bgcolor": "white",
          "plot_bgcolor": "#E5ECF6",
          "polar": {
           "angularaxis": {
            "gridcolor": "white",
            "linecolor": "white",
            "ticks": ""
           },
           "bgcolor": "#E5ECF6",
           "radialaxis": {
            "gridcolor": "white",
            "linecolor": "white",
            "ticks": ""
           }
          },
          "scene": {
           "xaxis": {
            "backgroundcolor": "#E5ECF6",
            "gridcolor": "white",
            "gridwidth": 2,
            "linecolor": "white",
            "showbackground": true,
            "ticks": "",
            "zerolinecolor": "white"
           },
           "yaxis": {
            "backgroundcolor": "#E5ECF6",
            "gridcolor": "white",
            "gridwidth": 2,
            "linecolor": "white",
            "showbackground": true,
            "ticks": "",
            "zerolinecolor": "white"
           },
           "zaxis": {
            "backgroundcolor": "#E5ECF6",
            "gridcolor": "white",
            "gridwidth": 2,
            "linecolor": "white",
            "showbackground": true,
            "ticks": "",
            "zerolinecolor": "white"
           }
          },
          "shapedefaults": {
           "line": {
            "color": "#2a3f5f"
           }
          },
          "ternary": {
           "aaxis": {
            "gridcolor": "white",
            "linecolor": "white",
            "ticks": ""
           },
           "baxis": {
            "gridcolor": "white",
            "linecolor": "white",
            "ticks": ""
           },
           "bgcolor": "#E5ECF6",
           "caxis": {
            "gridcolor": "white",
            "linecolor": "white",
            "ticks": ""
           }
          },
          "title": {
           "x": 0.05
          },
          "xaxis": {
           "automargin": true,
           "gridcolor": "white",
           "linecolor": "white",
           "ticks": "",
           "title": {
            "standoff": 15
           },
           "zerolinecolor": "white",
           "zerolinewidth": 2
          },
          "yaxis": {
           "automargin": true,
           "gridcolor": "white",
           "linecolor": "white",
           "ticks": "",
           "title": {
            "standoff": 15
           },
           "zerolinecolor": "white",
           "zerolinewidth": 2
          }
         }
        },
        "title": {
         "text": "GPR with length 0.5, sigma 1 and noise 0",
         "x": 0.5,
         "xanchor": "center"
        },
        "width": 800,
        "xaxis": {
         "linecolor": "black",
         "linewidth": 1,
         "range": [
          0.2,
          7
         ],
         "showline": true,
         "title": {
          "text": "input values"
         },
         "type": "linear"
        },
        "yaxis": {
         "linecolor": "black",
         "linewidth": 1,
         "range": [
          -15,
          20
         ],
         "showline": true,
         "title": {
          "text": "output values"
         },
         "type": "linear"
        }
       }
      },
      "image/png": "[encoded data removed]",
      "text/html": [
       "<div>                            <div id=\"8eaaa9c0-ac59-48a3-b843-30e5464ab295\" class=\"plotly-graph-div\" style=\"height:600px; width:800px;\"></div>            <script type=\"text/javascript\">                require([\"plotly\"], function(Plotly) {                    window.PLOTLYENV=window.PLOTLYENV || {};                                    if (document.getElementById(\"8eaaa9c0-ac59-48a3-b843-30e5464ab295\")) {                    Plotly.newPlot(                        \"8eaaa9c0-ac59-48a3-b843-30e5464ab295\",                        [{\"fill\":\"toself\",\"fillcolor\":\"rgba(189,195,199,0.5)\",\"hoverinfo\":\"skip\",\"line\":{\"color\":\"rgba(200,200,200,0)\"},\"name\":\"mean plus\\u002fminus 1*standard deviation\",\"showlegend\":true,\"visible\":true,\"x\":[0.1,0.15000000000000002,0.20000000000000004,0.25000000000000006,0.30000000000000004,0.3500000000000001,0.40000000000000013,0.45000000000000007,0.5000000000000001,0.5500000000000002,0.6000000000000002,0.6500000000000001,0.7000000000000002,0.7500000000000002,0.8000000000000002,0.8500000000000002,0.9000000000000002,0.9500000000000003,1.0000000000000004,1.0500000000000003,1.1000000000000005,1.1500000000000004,1.2000000000000004,1.2500000000000004,1.3000000000000005,1.3500000000000005,1.4000000000000006,1.4500000000000006,1.5000000000000004,1.5500000000000005,1.6000000000000005,1.6500000000000006,1.7000000000000006,1.7500000000000007,1.8000000000000007,1.8500000000000008,1.9000000000000008,1.9500000000000006,2.0000000000000004,2.0500000000000007,2.100000000000001,2.150000000000001,2.2000000000000006,2.250000000000001,2.3000000000000007,2.350000000000001,2.400000000000001,2.450000000000001,2.500000000000001,2.5500000000000007,2.600000000000001,2.650000000000001,2.700000000000001,2.750000000000001,2.800000000000001,2.850000000000001,2.900000000000001,2.950000000000001,3.000000000000001,3.050000000000001,3.100000000000001,3.1500000000000012,3.200000000000001,3.2500000000000013,3.300000000000001,3.350000000000001,3.4000000000000012,3.450000000000001,3.5000000000000013,3.550000000000001,3.6000000000000014,3.6500000000000012,3.7000000000000015,3.7500000000000013,3.800000000000001,3.8500000000000014,3.9000000000000012,3.9500000000000015,4.000000000000001,4.050000000000002,4.100000000000001,4.150000000000001,4.200000000000001,4.250000000000001,4.300000000000001,4.350000000000001,4.400000000000001,4.450000000000001,4.500000000000001,4.550000000000001,4.600000000000001,4.650000000000001,4.700000000000001,4.750000000000001,4.800000000000002,4.850000000000001,4.900000000000001,4.950000000000001,5.000000000000001,5.050000000000002,5.100000000000001,5.150000000000001,5.200000000000001,5.250000000000002,5.300000000000002,5.350000000000001,5.400000000000001,5.450000000000001,5.500000000000002,5.550000000000002,5.600000000000001,5.650000000000001,5.700000000000001,5.750000000000002,5.800000000000002,5.850000000000001,5.900000000000001,5.950000000000002,6.000000000000002,6.050000000000002,6.100000000000001,6.150000000000001,6.200000000000002,6.250000000000002,6.300000000000002,6.350000000000001,6.400000000000002,6.450000000000002,6.500000000000002,6.550000000000002,6.600000000000001,6.650000000000002,6.700000000000002,6.750000000000002,6.800000000000002,6.850000000000002,6.900000000000002,6.950000000000002,6.950000000000002,6.900000000000002,6.850000000000002,6.800000000000002,6.750000000000002,6.700000000000002,6.650000000000002,6.600000000000001,6.550000000000002,6.500000000000002,6.450000000000002,6.400000000000002,6.350000000000001,6.300000000000002,6.250000000000002,6.200000000000002,6.150000000000001,6.100000000000001,6.050000000000002,6.000000000000002,5.950000000000002,5.900000000000001,5.850000000000001,5.800000000000002,5.750000000000002,5.700000000000001,5.650000000000001,5.600000000000001,5.550000000000002,5.500000000000002,5.450000000000001,5.400000000000001,5.350000000000001,5.300000000000002,5.250000000000002,5.200000000000001,5.150000000000001,5.100000000000001,5.050000000000002,5.000000000000001,4.950000000000001,4.900000000000001,4.850000000000001,4.800000000000002,4.750000000000001,4.700000000000001,4.650000000000001,4.600000000000001,4.550000000000001,4.500000000000001,4.450000000000001,4.400000000000001,4.350000000000001,4.300000000000001,4.250000000000001,4.200000000000001,4.150000000000001,4.100000000000001,4.050000000000002,4.000000000000001,3.9500000000000015,3.9000000000000012,3.8500000000000014,3.800000000000001,3.7500000000000013,3.7000000000000015,3.6500000000000012,3.6000000000000014,3.550000000000001,3.5000000000000013,3.450000000000001,3.4000000000000012,3.350000000000001,3.300000000000001,3.2500000000000013,3.200000000000001,3.1500000000000012,3.100000000000001,3.050000000000001,3.000000000000001,2.950000000000001,2.900000000000001,2.850000000000001,2.800000000000001,2.750000000000001,2.700000000000001,2.650000000000001,2.600000000000001,2.5500000000000007,2.500000000000001,2.450000000000001,2.400000000000001,2.350000000000001,2.3000000000000007,2.250000000000001,2.2000000000000006,2.150000000000001,2.100000000000001,2.0500000000000007,2.0000000000000004,1.9500000000000006,1.9000000000000008,1.8500000000000008,1.8000000000000007,1.7500000000000007,1.7000000000000006,1.6500000000000006,1.6000000000000005,1.5500000000000005,1.5000000000000004,1.4500000000000006,1.4000000000000006,1.3500000000000005,1.3000000000000005,1.2500000000000004,1.2000000000000004,1.1500000000000004,1.1000000000000005,1.0500000000000003,1.0000000000000004,0.9500000000000003,0.9000000000000002,0.8500000000000002,0.8000000000000002,0.7500000000000002,0.7000000000000002,0.6500000000000001,0.6000000000000002,0.5500000000000002,0.5000000000000001,0.45000000000000007,0.40000000000000013,0.3500000000000001,0.30000000000000004,0.25000000000000006,0.20000000000000004,0.15000000000000002,0.1],\"y\":[44.13940190987437,31.49874122736396,21.086280058448295,12.830795093380097,6.541287014916871,1.9448080316532623,-1.2722067026016308,-3.4256937314482414,-4.804926090098129,-5.65240882596697,-6.154292165299513,-6.440568714660283,-6.5926449783118,-6.65514142478792,-6.648906935363223,-6.582732551620306,-6.462053200767183,-6.2939483213996334,-6.088714730435666,-5.858921953601515,-5.617200898100997,-5.3739734232880005,-5.1359895752394085,-4.906025643391565,-4.683671329525502,-4.4667774451444675,-4.253034364156028,-4.0411795456461235,-3.8315537245578564,-3.625941120229053,-3.4269003773903437,-3.236868586734319,-3.0574151101170473,-2.888847883493547,-2.7302699581259953,-2.580022661835869,-2.436302094940691,-2.2977407936624044,-2.1637672649820323,-2.0346467069953196,-1.911229913989504,-1.7945254125290717,-1.6852600435441814,-1.5835728036627439,-1.4889453075705488,-1.4003427458195663,-1.3165388074926532,-1.2364697189521008,-1.1595083619830149,-1.085575227138491,-1.015068711618821,-0.948624228025931,-0.8868191526147656,-0.8299084719109405,-0.7776825266192096,-0.7294988778025433,-0.6844562459991955,-0.6416478415076953,-0.60040376514155,-0.5604507053608321,-0.5219399651080857,-0.4853490920429675,-0.4512753710333437,-0.420181842891307,-0.3921745997728837,-0.3669028482837393,-0.34363368095079505,-0.32146278947695534,-0.29954827188608696,-0.27728230562623957,-0.25435190950326625,-0.23091550055816487,-0.20793067596942927,-0.18675037562618105,-0.16870258563403914,-0.1547916724537728,-0.1454350701189391,-0.14027213452436146,-0.13729056479424329,-0.13305650281233397,-0.1280416425021046,-0.12141262938550174,-0.11254453221860121,-0.10135175921589416,-0.088304704442584,-0.07430054070544462,-0.05838124307440724,-0.03636081707538666,-0.016444388352632934,-0.001053600515799901,0.007995676424001877,0.0095922967397296,0.0034794165801268484,-0.009696553642299911,-0.02360204851194908,-0.021230956789425777,-0.01672148448978528,-0.010204981975684042,-0.0022335003017778868,0.006226760714025822,0.013948632705200616,0.019645880045046103,0.022189808982969884,0.0208079364348885,0.01523695672260757,0.005813289683601111,0.0033117269379756018,0.033015043847392476,0.05783429544979453,0.07505529589282978,0.08241990529712406,0.07823723740067247,0.061483271606368184,0.03185045219551916,0.007298117000828505,0.046497897625056676,0.09531675190114856,0.15258031764562938,0.21670534944394304,0.2858078452126572,0.3578446732021829,0.43075483845819634,0.502588180191028,0.5716123150896882,0.6363917515742599,0.6958363056390026,0.7492189688015548,0.7961659702408042,0.8366237711987569,0.870809040083641,0.8991482594933491,0.9222135451403298,0.9406605898930637,0.9551735015461988,0.9664198349032416,0.9750175131543027,0.9815137922285325,0.9863751341114378,-1.002767448940355,-1.0017168599022162,-0.9996215995226546,-0.9960204670150556,-0.9903434510581473,-0.9819150923913736,-0.9699692980641784,-0.9536774264162098,-0.9321902718361963,-0.9046930886000099,-0.8704711741983362,-0.8289819689081527,-0.7799282915641287,-0.7233263671913046,-0.6595618270052442,-0.5894269626150382,-0.514133248421527,-0.4352945216544492,-0.3548781873912134,-0.2751242932448271,-0.1984351309079995,-0.1272409767942564,-0.0638507843616503,-0.010318889558865063,-0.02176820375851137,-0.0405631759779759,-0.04974574584876697,-0.050496059874164674,-0.044482410281683336,-0.033715906016798025,-0.020370689812745188,-0.006620790513663675,-0.028547359969017735,-0.05943113308366299,-0.08672710759377872,-0.10814525687105583,-0.12200902898370719,-0.1273917139252998,-0.12419514389160739,-0.1131565108216438,-0.09577782105876054,-0.07417999709981271,-0.05089324995126602,-0.028672975333721228,-0.02463796352029319,-0.02474719459472793,-0.025209413378528393,-0.027115696124458848,-0.03136355854334112,-0.03846394025484892,-0.048434575672895525,-0.06094115883766433,-0.08088762123892099,-0.1007672389043391,-0.11683412508354575,-0.1282101759540967,-0.13491663587293207,-0.1378245614474729,-0.13849199701691065,-0.13908252343480215,-0.14330972124228317,-0.15061415933028074,-0.16096215682773662,-0.17474525139740085,-0.19184653475565192,-0.21167278529638334,-0.23334477528264078,-0.25597386694466895,-0.27879908923997376,-0.30118658781494084,-0.3231088456641284,-0.34518815371023226,-0.3683825269862564,-0.3936491201044018,-0.4216817326028236,-0.45277931655968806,-0.4868305668140198,-0.5233997989976479,-0.561907055517626,-0.6018675760419684,-0.6431125811263129,-0.6859128137341252,-0.7309462467758843,-0.7791279252628196,-0.8313549894847793,-0.888257129623622,-0.9500334441467723,-1.0164366604117303,-1.0869040368330904,-1.16080959204389,-1.2377622888991413,-1.3178302697810786,-1.4016338754023447,-1.4902364554106216,-1.5848647859956804,-1.6865484482303914,-1.795814510337334,-1.9125198096910172,-2.0359372356783734,-2.165057564262663,-2.2990307768422387,-2.4375920147264716,-2.581312911608507,-2.7315595337431438,-2.890137319590174,-3.058707644813937,-3.2381611183652677,-3.4281916223602407,-3.6272338182652866,-3.832849453392733,-4.042491091636798,-4.2543690747439,-4.4681375892715405,-4.685048576009315,-4.907412040625552,-5.137380873973553,-5.375371167988894,-5.61860169632579,-5.860320381564685,-6.090111621447224,-6.295373933768011,-6.463562239879469,-6.584361115581392,-6.650627890303119,-6.656868960075323,-6.594277209605134,-6.442058404067841,-6.15569246409218,-5.653813679493058,-4.806359066646869,-3.427136363011691,-1.2736989490976551,1.9432740957245942,6.539829650994524,12.827666212049131,21.07750675662365,31.47911913147077,44.10187961966489],\"type\":\"scatter\"},{\"fill\":\"toself\",\"fillcolor\":\"rgba(189,195,199,0.5)\",\"hoverinfo\":\"skip\",\"line\":{\"color\":\"rgba(200,200,200,0)\"},\"name\":\"mean plus\\u002fminus 2*standard deviation\",\"showlegend\":true,\"visible\":true,\"x\":[0.1,0.15000000000000002,0.20000000000000004,0.25000000000000006,0.30000000000000004,0.3500000000000001,0.40000000000000013,0.45000000000000007,0.5000000000000001,0.5500000000000002,0.6000000000000002,0.6500000000000001,0.7000000000000002,0.7500000000000002,0.8000000000000002,0.8500000000000002,0.9000000000000002,0.9500000000000003,1.0000000000000004,1.0500000000000003,1.1000000000000005,1.1500000000000004,1.2000000000000004,1.2500000000000004,1.3000000000000005,1.3500000000000005,1.4000000000000006,1.4500000000000006,1.5000000000000004,1.5500000000000005,1.6000000000000005,1.6500000000000006,1.7000000000000006,1.7500000000000007,1.8000000000000007,1.8500000000000008,1.9000000000000008,1.9500000000000006,2.0000000000000004,2.0500000000000007,2.100000000000001,2.150000000000001,2.2000000000000006,2.250000000000001,2.3000000000000007,2.350000000000001,2.400000000000001,2.450000000000001,2.500000000000001,2.5500000000000007,2.600000000000001,2.650000000000001,2.700000000000001,2.750000000000001,2.800000000000001,2.850000000000001,2.900000000000001,2.950000000000001,3.000000000000001,3.050000000000001,3.100000000000001,3.1500000000000012,3.200000000000001,3.2500000000000013,3.300000000000001,3.350000000000001,3.4000000000000012,3.450000000000001,3.5000000000000013,3.550000000000001,3.6000000000000014,3.6500000000000012,3.7000000000000015,3.7500000000000013,3.800000000000001,3.8500000000000014,3.9000000000000012,3.9500000000000015,4.000000000000001,4.050000000000002,4.100000000000001,4.150000000000001,4.200000000000001,4.250000000000001,4.300000000000001,4.350000000000001,4.400000000000001,4.450000000000001,4.500000000000001,4.550000000000001,4.600000000000001,4.650000000000001,4.700000000000001,4.750000000000001,4.800000000000002,4.850000000000001,4.900000000000001,4.950000000000001,5.000000000000001,5.050000000000002,5.100000000000001,5.150000000000001,5.200000000000001,5.250000000000002,5.300000000000002,5.350000000000001,5.400000000000001,5.450000000000001,5.500000000000002,5.550000000000002,5.600000000000001,5.650000000000001,5.700000000000001,5.750000000000002,5.800000000000002,5.850000000000001,5.900000000000001,5.950000000000002,6.000000000000002,6.050000000000002,6.100000000000001,6.150000000000001,6.200000000000002,6.250000000000002,6.300000000000002,6.350000000000001,6.400000000000002,6.450000000000002,6.500000000000002,6.550000000000002,6.600000000000001,6.650000000000002,6.700000000000002,6.750000000000002,6.800000000000002,6.850000000000002,6.900000000000002,6.950000000000002,6.950000000000002,6.900000000000002,6.850000000000002,6.800000000000002,6.750000000000002,6.700000000000002,6.650000000000002,6.600000000000001,6.550000000000002,6.500000000000002,6.450000000000002,6.400000000000002,6.350000000000001,6.300000000000002,6.250000000000002,6.200000000000002,6.150000000000001,6.100000000000001,6.050000000000002,6.000000000000002,5.950000000000002,5.900000000000001,5.850000000000001,5.800000000000002,5.750000000000002,5.700000000000001,5.650000000000001,5.600000000000001,5.550000000000002,5.500000000000002,5.450000000000001,5.400000000000001,5.350000000000001,5.300000000000002,5.250000000000002,5.200000000000001,5.150000000000001,5.100000000000001,5.050000000000002,5.000000000000001,4.950000000000001,4.900000000000001,4.850000000000001,4.800000000000002,4.750000000000001,4.700000000000001,4.650000000000001,4.600000000000001,4.550000000000001,4.500000000000001,4.450000000000001,4.400000000000001,4.350000000000001,4.300000000000001,4.250000000000001,4.200000000000001,4.150000000000001,4.100000000000001,4.050000000000002,4.000000000000001,3.9500000000000015,3.9000000000000012,3.8500000000000014,3.800000000000001,3.7500000000000013,3.7000000000000015,3.6500000000000012,3.6000000000000014,3.550000000000001,3.5000000000000013,3.450000000000001,3.4000000000000012,3.350000000000001,3.300000000000001,3.2500000000000013,3.200000000000001,3.1500000000000012,3.100000000000001,3.050000000000001,3.000000000000001,2.950000000000001,2.900000000000001,2.850000000000001,2.800000000000001,2.750000000000001,2.700000000000001,2.650000000000001,2.600000000000001,2.5500000000000007,2.500000000000001,2.450000000000001,2.400000000000001,2.350000000000001,2.3000000000000007,2.250000000000001,2.2000000000000006,2.150000000000001,2.100000000000001,2.0500000000000007,2.0000000000000004,1.9500000000000006,1.9000000000000008,1.8500000000000008,1.8000000000000007,1.7500000000000007,1.7000000000000006,1.6500000000000006,1.6000000000000005,1.5500000000000005,1.5000000000000004,1.4500000000000006,1.4000000000000006,1.3500000000000005,1.3000000000000005,1.2500000000000004,1.2000000000000004,1.1500000000000004,1.1000000000000005,1.0500000000000003,1.0000000000000004,0.9500000000000003,0.9000000000000002,0.8500000000000002,0.8000000000000002,0.7500000000000002,0.7000000000000002,0.6500000000000001,0.6000000000000002,0.5500000000000002,0.5000000000000001,0.45000000000000007,0.40000000000000013,0.3500000000000001,0.30000000000000004,0.25000000000000006,0.20000000000000004,0.15000000000000002,0.1],\"y\":[44.15816305497911,31.508552275310556,21.090666709360622,12.832359534045578,6.542015696878044,1.9455749996175966,-1.2714605793536184,-3.4249724156665167,-4.804209601823759,-5.651706399203926,-6.153592015903179,-6.439823869956504,-6.591828862665134,-6.654277657144219,-6.648046457893274,-6.581918269639763,-6.46129868121104,-6.293235515215445,-6.088016284929887,-5.85822273961993,-5.6165004989886,-5.373274550937553,-5.135293925872336,-4.905332444774571,-4.682982706283595,-4.466097373080932,-4.252367008862093,-4.040523772650787,-3.830905860140418,-3.6252947712109362,-3.4262547549053957,-3.236222320918845,-3.056768842768603,-2.888203165445233,-2.729625170317421,-2.57937753694955,-2.4356571350478005,-2.2970958020724876,-2.1631221153417166,-2.0340014426537927,-1.910584966138747,-1.7938808636249408,-1.6846158412010763,-1.5829268124962756,-1.4882997336505124,-1.399697181028177,-1.3158930763484407,-1.2358234339785805,-1.1588577469525772,-1.0849108222911916,-1.0143847372223662,-0.9479196199655104,-0.8861001641103374,-0.829185213124021,-0.7769598272974045,-0.7287751933158728,-0.6837279621317306,-0.6409154716983865,-0.5996718596913408,-0.5597225302824352,-0.5212100481633046,-0.4846083546574414,-0.45052339827017146,-0.41943189803554876,-0.3914373396071247,-0.36616300893248077,-0.34285644457107645,-0.32063976138336886,-0.29872911392166,-0.2765239138193724,-0.25354093078256484,-0.22970086319592695,-0.20605962130595223,-0.1842022960614456,-0.1656812527523583,-0.15170643026679087,-0.14284552551326826,-0.13875334116540064,-0.13639458547396385,-0.1303387557100456,-0.12315018302942043,-0.11466062614178657,-0.10471171035085347,-0.09361057628206837,-0.08207343721170644,-0.07100700043870643,-0.05710128519277869,-0.03032393777663223,-0.005434612401524944,0.014101378497970708,0.025551362698232237,0.026993151798858597,0.01759272216755424,-0.0022258487033032723,-0.02106658510106301,-0.006399810208505656,0.012007771815228434,0.03258143756585421,0.053228004958155065,0.07143771301684243,0.08461880602045083,0.09047333455942275,0.08735734190998273,0.07457545844922212,0.05257100162574285,0.022993614509910533,0.008277985663795239,0.059707910677461305,0.1036093961830908,0.13482414898008632,0.14887788788276843,0.1422287290253922,0.11250649539854023,0.05865978017253442,0.016106620280675287,0.10167223861841015,0.20659561624885103,0.3280880419224438,0.4626201707883281,0.6061508615145924,0.7544142706304989,0.903198881898058,1.0485957515940612,1.1871993861371546,1.316250810957042,1.4337186042405683,1.5383194376564084,1.6294845424603743,1.70728220109814,1.7723086960435597,1.8255611024481284,1.868304966742584,1.9019484310352823,1.927931977848372,1.9476399858623903,1.9623370694927813,1.9731291182939068,1.9809464256373341,-1.9973387404662515,-1.9933321859675903,-1.9869411558611334,-1.9772406179742041,-1.9631019273603203,-1.9432029335335923,-1.9160607196664325,-1.8800902693709893,-1.833689927796115,-1.7753515184993933,-1.7037897464179064,-1.6180824377630065,-1.5178105901656942,-1.4031854265740868,-1.2751488980527104,-1.1354345340180714,-0.9865772918613885,-0.8318641190827653,-0.6752212036931488,-0.5210391145892123,-0.37394285518481396,-0.23851984114195884,-0.11902512535500379,-0.019127392838711847,-0.04857753173552664,-0.09158639977014794,-0.11373723747348669,-0.11695404245980903,-0.10425126336893989,-0.07949100675009431,-0.047063556642814024,-0.011587049239483314,-0.04572768479532716,-0.09676517798679826,-0.14049462960811232,-0.1733127897980687,-0.19283648349808385,-0.19806188724055,-0.189406096194424,-0.16861801608157673,-0.1385642406002988,-0.10290925340482643,-0.06572439653218615,-0.031208438744607297,-0.03210866845928983,-0.03886050018215532,-0.04261026843765739,-0.04467138239868921,-0.04651853755711173,-0.04947371620595691,-0.05447145497164996,-0.062221116719292875,-0.08418116150565917,-0.10699850613521665,-0.12457530801737154,-0.13604299782184445,-0.14166863911664723,-0.14271602092015706,-0.141209744119199,-0.13997850275508159,-0.144828514601244,-0.1532037039359516,-0.16404739901471854,-0.1777665842790817,-0.19439461432038738,-0.21354383995986037,-0.2345594126448787,-0.25678484566537035,-0.2795574810468409,-0.3020057457793678,-0.32393187375771487,-0.34596539008995086,-0.36912236633751494,-0.3943863802701608,-0.42243167745858184,-0.4535312893228603,-0.4875713041995459,-0.524129715942429,-0.5626352305960228,-0.6025994814921776,-0.6438449509356217,-0.6866410976015901,-0.7316699312625548,-0.7798506245846246,-0.8320782482716987,-0.8889761181280502,-0.9507380522071929,-1.0171206348081852,-1.08756844168039,-1.1614602070743276,-1.2384085738726616,-1.3184760009252912,-1.402279440193734,-1.490882029330658,-1.5855107771621486,-1.6871926505734964,-1.7964590592414649,-1.913164757541774,-2.0365825000199003,-2.1657027139029785,-2.2996757684321554,-2.438236974619362,-2.5819580364948256,-2.732204321551718,-2.890782037638488,-3.0593539121623814,-3.238807384180742,-3.4288372448451887,-3.6278801672834033,-3.8334973178101714,-4.043146864632134,-4.255036430037835,-4.468817661335076,-4.685737199251222,-4.908105239242546,-5.138076523340626,-5.376070040339342,-5.6193020954381865,-5.86101959554627,-6.0908100669530025,-6.2960867399522,-6.464316759435612,-6.585175397561935,-6.651488367773068,-6.657732727719024,-6.595093325251801,-6.44280324877162,-6.156392613488514,-5.654516106256102,-4.807075554921239,-3.4278576787934156,-1.2744450723456675,1.94250712776026,6.539100969033351,12.82610177138365,21.07312010571132,31.469308083524176,44.08311847456015],\"type\":\"scatter\"},{\"fill\":\"toself\",\"fillcolor\":\"rgba(189,195,199,0.5)\",\"hoverinfo\":\"skip\",\"line\":{\"color\":\"rgba(200,200,200,0)\"},\"name\":\"mean plus\\u002fminus 3*standard deviation\",\"showlegend\":true,\"visible\":true,\"x\":[0.1,0.15000000000000002,0.20000000000000004,0.25000000000000006,0.30000000000000004,0.3500000000000001,0.40000000000000013,0.45000000000000007,0.5000000000000001,0.5500000000000002,0.6000000000000002,0.6500000000000001,0.7000000000000002,0.7500000000000002,0.8000000000000002,0.8500000000000002,0.9000000000000002,0.9500000000000003,1.0000000000000004,1.0500000000000003,1.1000000000000005,1.1500000000000004,1.2000000000000004,1.2500000000000004,1.3000000000000005,1.3500000000000005,1.4000000000000006,1.4500000000000006,1.5000000000000004,1.5500000000000005,1.6000000000000005,1.6500000000000006,1.7000000000000006,1.7500000000000007,1.8000000000000007,1.8500000000000008,1.9000000000000008,1.9500000000000006,2.0000000000000004,2.0500000000000007,2.100000000000001,2.150000000000001,2.2000000000000006,2.250000000000001,2.3000000000000007,2.350000000000001,2.400000000000001,2.450000000000001,2.500000000000001,2.5500000000000007,2.600000000000001,2.650000000000001,2.700000000000001,2.750000000000001,2.800000000000001,2.850000000000001,2.900000000000001,2.950000000000001,3.000000000000001,3.050000000000001,3.100000000000001,3.1500000000000012,3.200000000000001,3.2500000000000013,3.300000000000001,3.350000000000001,3.4000000000000012,3.450000000000001,3.5000000000000013,3.550000000000001,3.6000000000000014,3.6500000000000012,3.7000000000000015,3.7500000000000013,3.800000000000001,3.8500000000000014,3.9000000000000012,3.9500000000000015,4.000000000000001,4.050000000000002,4.100000000000001,4.150000000000001,4.200000000000001,4.250000000000001,4.300000000000001,4.350000000000001,4.400000000000001,4.450000000000001,4.500000000000001,4.550000000000001,4.600000000000001,4.650000000000001,4.700000000000001,4.750000000000001,4.800000000000002,4.850000000000001,4.900000000000001,4.950000000000001,5.000000000000001,5.050000000000002,5.100000000000001,5.150000000000001,5.200000000000001,5.250000000000002,5.300000000000002,5.350000000000001,5.400000000000001,5.450000000000001,5.500000000000002,5.550000000000002,5.600000000000001,5.650000000000001,5.700000000000001,5.750000000000002,5.800000000000002,5.850000000000001,5.900000000000001,5.950000000000002,6.000000000000002,6.050000000000002,6.100000000000001,6.150000000000001,6.200000000000002,6.250000000000002,6.300000000000002,6.350000000000001,6.400000000000002,6.450000000000002,6.500000000000002,6.550000000000002,6.600000000000001,6.650000000000002,6.700000000000002,6.750000000000002,6.800000000000002,6.850000000000002,6.900000000000002,6.950000000000002,6.950000000000002,6.900000000000002,6.850000000000002,6.800000000000002,6.750000000000002,6.700000000000002,6.650000000000002,6.600000000000001,6.550000000000002,6.500000000000002,6.450000000000002,6.400000000000002,6.350000000000001,6.300000000000002,6.250000000000002,6.200000000000002,6.150000000000001,6.100000000000001,6.050000000000002,6.000000000000002,5.950000000000002,5.900000000000001,5.850000000000001,5.800000000000002,5.750000000000002,5.700000000000001,5.650000000000001,5.600000000000001,5.550000000000002,5.500000000000002,5.450000000000001,5.400000000000001,5.350000000000001,5.300000000000002,5.250000000000002,5.200000000000001,5.150000000000001,5.100000000000001,5.050000000000002,5.000000000000001,4.950000000000001,4.900000000000001,4.850000000000001,4.800000000000002,4.750000000000001,4.700000000000001,4.650000000000001,4.600000000000001,4.550000000000001,4.500000000000001,4.450000000000001,4.400000000000001,4.350000000000001,4.300000000000001,4.250000000000001,4.200000000000001,4.150000000000001,4.100000000000001,4.050000000000002,4.000000000000001,3.9500000000000015,3.9000000000000012,3.8500000000000014,3.800000000000001,3.7500000000000013,3.7000000000000015,3.6500000000000012,3.6000000000000014,3.550000000000001,3.5000000000000013,3.450000000000001,3.4000000000000012,3.350000000000001,3.300000000000001,3.2500000000000013,3.200000000000001,3.1500000000000012,3.100000000000001,3.050000000000001,3.000000000000001,2.950000000000001,2.900000000000001,2.850000000000001,2.800000000000001,2.750000000000001,2.700000000000001,2.650000000000001,2.600000000000001,2.5500000000000007,2.500000000000001,2.450000000000001,2.400000000000001,2.350000000000001,2.3000000000000007,2.250000000000001,2.2000000000000006,2.150000000000001,2.100000000000001,2.0500000000000007,2.0000000000000004,1.9500000000000006,1.9000000000000008,1.8500000000000008,1.8000000000000007,1.7500000000000007,1.7000000000000006,1.6500000000000006,1.6000000000000005,1.5500000000000005,1.5000000000000004,1.4500000000000006,1.4000000000000006,1.3500000000000005,1.3000000000000005,1.2500000000000004,1.2000000000000004,1.1500000000000004,1.1000000000000005,1.0500000000000003,1.0000000000000004,0.9500000000000003,0.9000000000000002,0.8500000000000002,0.8000000000000002,0.7500000000000002,0.7000000000000002,0.6500000000000001,0.6000000000000002,0.5500000000000002,0.5000000000000001,0.45000000000000007,0.40000000000000013,0.3500000000000001,0.30000000000000004,0.25000000000000006,0.20000000000000004,0.15000000000000002,0.1],\"y\":[44.17692420008386,31.51836332325715,21.095053360272946,12.83392397471106,6.542744378839218,1.9463419675819307,-1.2707144561056063,-3.4242510998847915,-4.80349311354939,-5.651003972440883,-6.152891866506845,-6.439079025252724,-6.591012747018468,-6.653413889500516,-6.647185980423326,-6.58110398765922,-6.460544161654897,-6.292522709031256,-6.0873178394241085,-5.857523525638345,-5.6158000998762025,-5.372575678587106,-5.1345982765052645,-4.904639246157578,-4.682294083041689,-4.465417301017395,-4.251699653568156,-4.03986799965545,-3.8302579957229796,-3.62464842219282,-3.425609132420447,-3.2355760551033703,-3.056122575420158,-2.8875584473969194,-2.728980382508847,-2.578732412063231,-2.4350121751549105,-2.2964508104825705,-2.1624769657014014,-2.033356178312266,-1.9099400182879904,-1.7932363147208097,-1.6839716388579713,-1.5822808213298074,-1.4876541597304762,-1.3990516162367879,-1.315247345204228,-1.2351771490050603,-1.1582071319221396,-1.084246417443892,-1.0137007628259116,-0.9472150119050897,-0.8853811756059091,-0.8284619543371017,-0.7762371279755995,-0.7280515088292023,-0.6829996782642658,-0.6401831018890777,-0.5989399542411318,-0.5589943552040383,-0.5204801312185234,-0.48386761727191524,-0.4497714255069993,-0.41868195317979046,-0.3907000794413657,-0.3654231695812222,-0.3420792081913578,-0.31981673328978233,-0.2979099559572331,-0.2757655220125053,-0.2527299520618635,-0.228486225833689,-0.20418856664247523,-0.18165421649671015,-0.1626599198706774,-0.14862118807980895,-0.14025598090759744,-0.1372345478064398,-0.13549860615368442,-0.12762100860775727,-0.11825872355673626,-0.1079086228980714,-0.09687888848310572,-0.08586939334824259,-0.07584216998082889,-0.06771346017196825,-0.05582132731115014,-0.0242870584778778,0.00557516354958305,0.029256357511741316,0.0431070489724626,0.04439400685798759,0.031706027754981624,0.005244856235693367,-0.018531121690176938,0.008431336372414465,0.040737028120242144,0.07536785710739247,0.10868951021808801,0.13664866531965905,0.15528897933570102,0.16130078907379938,0.1525248748369956,0.12834298046355572,0.08990504652887814,0.04017393933621996,0.013244244389614877,0.08640077750753014,0.14938449691638708,0.19459300206734287,0.2153358704684128,0.2062202206501119,0.16352971919071227,0.08546910814954968,0.02491512356052207,0.15684657961176363,0.3178744805965535,0.5035957661992583,0.7085349921327131,0.9264938778165277,1.150983868058815,1.3756429253379197,1.5946033229970942,1.8027864571846208,1.9961098703398243,2.1716009028421337,2.327419906511262,2.4628031146799447,2.5779406309975235,2.6738083520034786,2.751973945402908,2.8143963883448384,2.863236272177501,2.900690454150545,2.928860136821539,2.94965662583126,2.964744444359281,2.9755177171632305,-2.991910031992148,-2.984947512032965,-2.974260712199612,-2.9584607689333526,-2.935860403662493,-2.904490774675811,-2.8621521412686866,-2.806503112325769,-2.7351895837560334,-2.6460099483987767,-2.5371083186374763,-2.40718290661786,-2.25569288876726,-2.083044485956869,-1.8907359691001766,-1.6814421054211044,-1.4590213353012502,-1.2284337165110812,-0.995564219995084,-0.7669539359335973,-0.5494505794616285,-0.34979870548966135,-0.17419946634835726,-0.02793589611855863,-0.0753868597125419,-0.14260962356231996,-0.1777287290982064,-0.1834120250454534,-0.16402011645619646,-0.1252661074833906,-0.07375642347288286,-0.016553307965302952,-0.06290800962163659,-0.13409922288993356,-0.19426215162244595,-0.23848032272508154,-0.26366393801246046,-0.2687320605558002,-0.25461704849724065,-0.22407952134150969,-0.18135066014183704,-0.13163850970984015,-0.08055554311310625,-0.033743902155493374,-0.03957937339828647,-0.05297380576958271,-0.06001112349678638,-0.06222706867291957,-0.06167351657088234,-0.0604834921570649,-0.06050833427040438,-0.06350107460092143,-0.08747470177239736,-0.1132297733660942,-0.13231649095119732,-0.1438758196895922,-0.1484206423603624,-0.14760748039284122,-0.14392749122148735,-0.14087448207536102,-0.14634730796020484,-0.1557932485416224,-0.16713264120170046,-0.1807879171607626,-0.1969426938851228,-0.21541489462333738,-0.23577405000711665,-0.2575958243860717,-0.280315872853708,-0.3028249037437947,-0.3247549018513014,-0.3467426264696695,-0.36986220568877354,-0.3951236404359198,-0.42318162231434014,-0.4542832620860325,-0.4883120415850721,-0.5248596328872102,-0.5633634056744198,-0.6033313869423866,-0.6445773207449305,-0.6873693814690549,-0.7323936157492252,-0.7805733239064296,-0.8328015070586181,-0.8896951066324785,-0.9514426602676136,-1.0178046092046398,-1.0882328465276896,-1.1621108221047651,-1.2390548588461818,-1.319121732069504,-1.4029250049851232,-1.4915276032506941,-1.5861567683286169,-1.6878368529166015,-1.797103608145596,-1.9138097053925307,-2.037227764361427,-2.166347863543294,-2.3003207600220725,-2.438881934512252,-2.5826031613811447,-2.7328491093602922,-2.8914267556868016,-3.0600001795108263,-3.2394536499962165,-3.429482867330137,-3.6285265163015197,-3.83414518222761,-4.043802637627471,-4.255703785331772,-4.469497733398613,-4.686425822493129,-4.908798437859539,-5.138772172707697,-5.376768912689789,-5.620002494550584,-5.861718809527855,-6.091508512458781,-6.296799546136389,-6.465071278991755,-6.585989679542478,-6.652348845243016,-6.658596495362726,-6.595909440898467,-6.4435480934754,-6.157092762884847,-5.655218533019145,-4.807792043195608,-3.428578994575141,-1.2751911955936797,1.9417401597959258,6.538372287072177,12.824537330718167,21.068733454799,31.45949703557758,44.064357329455405],\"type\":\"scatter\"},{\"line\":{\"color\":\"blue\",\"width\":2},\"name\":\"Predicted function\",\"showlegend\":true,\"visible\":true,\"x\":[0.1,0.15000000000000002,0.20000000000000004,0.25000000000000006,0.30000000000000004,0.3500000000000001,0.40000000000000013,0.45000000000000007,0.5000000000000001,0.5500000000000002,0.6000000000000002,0.6500000000000001,0.7000000000000002,0.7500000000000002,0.8000000000000002,0.8500000000000002,0.9000000000000002,0.9500000000000003,1.0000000000000004,1.0500000000000003,1.1000000000000005,1.1500000000000004,1.2000000000000004,1.2500000000000004,1.3000000000000005,1.3500000000000005,1.4000000000000006,1.4500000000000006,1.5000000000000004,1.5500000000000005,1.6000000000000005,1.6500000000000006,1.7000000000000006,1.7500000000000007,1.8000000000000007,1.8500000000000008,1.9000000000000008,1.9500000000000006,2.0000000000000004,2.0500000000000007,2.100000000000001,2.150000000000001,2.2000000000000006,2.250000000000001,2.3000000000000007,2.350000000000001,2.400000000000001,2.450000000000001,2.500000000000001,2.5500000000000007,2.600000000000001,2.650000000000001,2.700000000000001,2.750000000000001,2.800000000000001,2.850000000000001,2.900000000000001,2.950000000000001,3.000000000000001,3.050000000000001,3.100000000000001,3.1500000000000012,3.200000000000001,3.2500000000000013,3.300000000000001,3.350000000000001,3.4000000000000012,3.450000000000001,3.5000000000000013,3.550000000000001,3.6000000000000014,3.6500000000000012,3.7000000000000015,3.7500000000000013,3.800000000000001,3.8500000000000014,3.9000000000000012,3.9500000000000015,4.000000000000001,4.050000000000002,4.100000000000001,4.150000000000001,4.200000000000001,4.250000000000001,4.300000000000001,4.350000000000001,4.400000000000001,4.450000000000001,4.500000000000001,4.550000000000001,4.600000000000001,4.650000000000001,4.700000000000001,4.750000000000001,4.800000000000002,4.850000000000001,4.900000000000001,4.950000000000001,5.000000000000001,5.050000000000002,5.100000000000001,5.150000000000001,5.200000000000001,5.250000000000002,5.300000000000002,5.350000000000001,5.400000000000001,5.450000000000001,5.500000000000002,5.550000000000002,5.600000000000001,5.650000000000001,5.700000000000001,5.750000000000002,5.800000000000002,5.850000000000001,5.900000000000001,5.950000000000002,6.000000000000002,6.050000000000002,6.100000000000001,6.150000000000001,6.200000000000002,6.250000000000002,6.300000000000002,6.350000000000001,6.400000000000002,6.450000000000002,6.500000000000002,6.550000000000002,6.600000000000001,6.650000000000002,6.700000000000002,6.750000000000002,6.800000000000002,6.850000000000002,6.900000000000002,6.950000000000002],\"y\":[44.12064076476963,31.488930179417366,21.081893407535972,12.829230652714614,6.5405583329556976,1.9440410636889283,-1.272952825849643,-3.426415047229966,-4.805642578372499,-5.653111252730014,-6.154992314695846,-6.441313559364062,-6.593461093958467,-6.656005192431621,-6.649767412833171,-6.583546833600849,-6.462807720323326,-6.294661127583822,-6.089413175941445,-5.8596211675831,-5.617901297213393,-5.374672295638447,-5.136685224606481,-4.906718842008559,-4.684359952767409,-4.467457517208004,-4.253701719449964,-4.041835318641461,-3.8322015889752947,-3.62658746924717,-3.427545999875292,-3.2375148525497934,-3.058061377465492,-2.8894926015418605,-2.7309147459345695,-2.580667786722188,-2.436947054833581,-2.2983857852523215,-2.1644124146223476,-2.0352919713368465,-1.9118748618402606,-1.7951699614332028,-1.6859042458872864,-1.5842187948292121,-1.4895908814905852,-1.4009883106109555,-1.317184538636866,-1.237116003925621,-1.1601589770134524,-1.0862396319857908,-1.0157526860152757,-0.9493288360863517,-0.8875381411191938,-0.8306317306978599,-0.7784052259410146,-0.7302225622892138,-0.6851845298666603,-0.6423802113170041,-0.6011356705917592,-0.561178880439229,-0.5226698820528668,-0.48608982942849366,-0.4520273437965159,-0.4209317877470653,-0.39291185993864275,-0.36764268763499786,-0.34441091733051366,-0.32228581757054187,-0.3003674298505139,-0.27804069743310666,-0.2551628882239676,-0.23213013792040282,-0.2098017306329063,-0.18929845519091648,-0.17172391851572,-0.1578769146407547,-0.14802461472460993,-0.14179092788332232,-0.13818654411452272,-0.1357742499146223,-0.13293310197478875,-0.1281646326292169,-0.12037735408634896,-0.10909294214971996,-0.09453597167346155,-0.0775940809721828,-0.05966120095603578,-0.04239769637414109,-0.027454164303740928,-0.01620857952957051,-0.009560009850228484,-0.007808558319399396,-0.010633889007300541,-0.01716725858129655,-0.026137511922835154,-0.0360621033703459,-0.045450740794798994,-0.05299140151722229,-0.05769500556171084,-0.058984191588790785,-0.05672154061004959,-0.05118157446933055,-0.04297772394404297,-0.03295958557944511,-0.022097088180527708,-0.011367035142708313,-0.0016545317878440366,0.006322177017323643,0.01205919471649825,0.015286442805573217,0.01596192271147969,0.014245745775952749,0.010460047814196145,0.005041124218503891,-0.001510386279018279,-0.00867644336829681,-0.01596211244655391,-0.022927406631185067,-0.029209471900442048,-0.03453517108927814,-0.03872492422613314,-0.041689204981665305,-0.0434193912120051,-0.04397475595777799,-0.04346730780852235,-0.04204599296256305,-0.039881500053298984,-0.037152601978765964,-0.034034658700626545,-0.030690615876277617,-0.02726458346143038,-0.023877876461924276,-0.02062725124915497,-0.017584974755974172,-0.014800316055907013,-0.012302043184175989,-0.010101533836841788,-0.008196157414458572],\"type\":\"scatter\"},{\"marker\":{\"color\":\"red\",\"size\":8},\"mode\":\"markers\",\"name\":\"Observed points\",\"showlegend\":true,\"visible\":true,\"x\":[5.789011774065019,3.1890177942845357,4.389014129421709,1.9890258812452397,2.5890209007003793,1.3890351645165082,0.2891522613838655,5.38901232214804,4.789013315941333,3.989015106046028,3.5890163003618976,1.0719149307852758,2.2890230645983896,1.6890296984551227,0.5224711870448977,3.3890170032420026,2.9890186911866916,2.7890197167218815,0.9129802213227155,1.226009944241065,0.6382551523366189,2.4890215640414612,2.3890222829147914,2.1890239177001707,2.0890248524762463,1.8890270189341927,1.7890282838075544,1.5890312911530102,1.489033097772982,0.3891142611925234],\"y\":[0.0,-0.4614966804297005,-0.06360573355020094,-2.1873964687144998,-1.0311521395875012,-4.293239790203302,7.768548062944898,-0.0036619567789024643,-0.02403130818260024,-0.13880486390100089,-0.26045902363910045,-5.751334940733901,-1.512899700815602,-3.1049248894996992,-5.1544351645245,-0.34842525636150157,-0.6065915124077996,-0.792933480363402,-6.4059202857595,-5.034605189136801,-6.447769448783699,-1.1734520451894994,-1.333427961933502,-1.713749753485402,-1.9379328744996016,-2.4639937487285017,-2.769407687643401,-3.4712173673584026,-3.8679647626182003,-0.7293387378510019],\"type\":\"scatter\"},{\"line\":{\"color\":\"pink\",\"width\":2},\"name\":\"True function\",\"showlegend\":true,\"visible\":true,\"x\":[0.2891522613838655,0.3891142611925234,0.4890917973789821,0.5890769595421326,0.6890664280484163,0.7890585658006655,0.8890524721653966,0.9890476107161894,1.0890436420380054,1.18904034088983,1.2890375519213562,1.3890351645165082,1.489033097772982,1.5890312911530102,1.6890296984551227,1.7890282838075544,1.8890270189341927,1.9890258812452397,2.0890248524762463,2.1890239177001707,2.2890230645983896,2.3890222829147914,2.4890215640414612,2.5890209007003793,2.7890197167218815,2.9890186911866916,3.1890177942845357,3.3890170032420026,3.5890163003618976,3.989015106046028,4.389014129421709,4.789013315941333,5.38901232214804,5.789011774065019],\"y\":[7.768548062944898,-0.7293387378510019,-4.451645301694899,-6.0691337854804,-6.6566226379277005,-6.7113534465391,-6.485169821945,-6.113701719524901,-5.673165765260499,-5.207558879405102,-4.742593917006502,-4.293239790203302,-3.8679647626182003,-3.4712173673584026,-3.1049248894996992,-2.769407687643401,-2.4639937487285017,-2.1873964687144998,-1.9379328744996016,-1.713749753485402,-1.512899700815602,-1.333427961933502,-1.1734520451894994,-1.0311521395875012,-0.792933480363402,-0.6065915124077996,-0.4614966804297005,-0.34842525636150157,-0.26045902363910045,-0.13880486390100089,-0.06360573355020094,-0.02403130818260024,-0.0036619567789024643,0.0],\"type\":\"scatter\"}],                        {\"template\":{\"data\":{\"histogram2dcontour\":[{\"type\":\"histogram2dcontour\",\"colorbar\":{\"outlinewidth\":0,\"ticks\":\"\"},\"colorscale\":[[0.0,\"#0d0887\"],[0.1111111111111111,\"#46039f\"],[0.2222222222222222,\"#7201a8\"],[0.3333333333333333,\"#9c179e\"],[0.4444444444444444,\"#bd3786\"],[0.5555555555555556,\"#d8576b\"],[0.6666666666666666,\"#ed7953\"],[0.7777777777777778,\"#fb9f3a\"],[0.8888888888888888,\"#fdca26\"],[1.0,\"#f0f921\"]]}],\"choropleth\":[{\"type\":\"choropleth\",\"colorbar\":{\"outlinewidth\":0,\"ticks\":\"\"}}],\"histogram2d\":[{\"type\":\"histogram2d\",\"colorbar\":{\"outlinewidth\":0,\"ticks\":\"\"},\"colorscale\":[[0.0,\"#0d0887\"],[0.1111111111111111,\"#46039f\"],[0.2222222222222222,\"#7201a8\"],[0.3333333333333333,\"#9c179e\"],[0.4444444444444444,\"#bd3786\"],[0.5555555555555556,\"#d8576b\"],[0.6666666666666666,\"#ed7953\"],[0.7777777777777778,\"#fb9f3a\"],[0.8888888888888888,\"#fdca26\"],[1.0,\"#f0f921\"]]}],\"heatmap\":[{\"type\":\"heatmap\",\"colorbar\":{\"outlinewidth\":0,\"ticks\":\"\"},\"colorscale\":[[0.0,\"#0d0887\"],[0.1111111111111111,\"#46039f\"],[0.2222222222222222,\"#7201a8\"],[0.3333333333333333,\"#9c179e\"],[0.4444444444444444,\"#bd3786\"],[0.5555555555555556,\"#d8576b\"],[0.6666666666666666,\"#ed7953\"],[0.7777777777777778,\"#fb9f3a\"],[0.8888888888888888,\"#fdca26\"],[1.0,\"#f0f921\"]]}],\"heatmapgl\":[{\"type\":\"heatmapgl\",\"colorbar\":{\"outlinewidth\":0,\"ticks\":\"\"},\"colorscale\":[[0.0,\"#0d0887\"],[0.1111111111111111,\"#46039f\"],[0.2222222222222222,\"#7201a8\"],[0.3333333333333333,\"#9c179e\"],[0.4444444444444444,\"#bd3786\"],[0.5555555555555556,\"#d8576b\"],[0.6666666666666666,\"#ed7953\"],[0.7777777777777778,\"#fb9f3a\"],[0.8888888888888888,\"#fdca26\"],[1.0,\"#f0f921\"]]}],\"contourcarpet\":[{\"type\":\"contourcarpet\",\"colorbar\":{\"outlinewidth\":0,\"ticks\":\"\"}}],\"contour\":[{\"type\":\"contour\",\"colorbar\":{\"outlinewidth\":0,\"ticks\":\"\"},\"colorscale\":[[0.0,\"#0d0887\"],[0.1111111111111111,\"#46039f\"],[0.2222222222222222,\"#7201a8\"],[0.3333333333333333,\"#9c179e\"],[0.4444444444444444,\"#bd3786\"],[0.5555555555555556,\"#d8576b\"],[0.6666666666666666,\"#ed7953\"],[0.7777777777777778,\"#fb9f3a\"],[0.8888888888888888,\"#fdca26\"],[1.0,\"#f0f921\"]]}],\"surface\":[{\"type\":\"surface\",\"colorbar\":{\"outlinewidth\":0,\"ticks\":\"\"},\"colorscale\":[[0.0,\"#0d0887\"],[0.1111111111111111,\"#46039f\"],[0.2222222222222222,\"#7201a8\"],[0.3333333333333333,\"#9c179e\"],[0.4444444444444444,\"#bd3786\"],[0.5555555555555556,\"#d8576b\"],[0.6666666666666666,\"#ed7953\"],[0.7777777777777778,\"#fb9f3a\"],[0.8888888888888888,\"#fdca26\"],[1.0,\"#f0f921\"]]}],\"mesh3d\":[{\"type\":\"mesh3d\",\"colorbar\":{\"outlinewidth\":0,\"ticks\":\"\"}}],\"scatter\":[{\"fillpattern\":{\"fillmode\":\"overlay\",\"size\":10,\"solidity\":0.2},\"type\":\"scatter\"}],\"parcoords\":[{\"type\":\"parcoords\",\"line\":{\"colorbar\":{\"outlinewidth\":0,\"ticks\":\"\"}}}],\"scatterpolargl\":[{\"type\":\"scatterpolargl\",\"marker\":{\"colorbar\":{\"outlinewidth\":0,\"ticks\":\"\"}}}],\"bar\":[{\"error_x\":{\"color\":\"#2a3f5f\"},\"error_y\":{\"color\":\"#2a3f5f\"},\"marker\":{\"line\":{\"color\":\"#E5ECF6\",\"width\":0.5},\"pattern\":{\"fillmode\":\"overlay\",\"size\":10,\"solidity\":0.2}},\"type\":\"bar\"}],\"scattergeo\":[{\"type\":\"scattergeo\",\"marker\":{\"colorbar\":{\"outlinewidth\":0,\"ticks\":\"\"}}}],\"scatterpolar\":[{\"type\":\"scatterpolar\",\"marker\":{\"colorbar\":{\"outlinewidth\":0,\"ticks\":\"\"}}}],\"histogram\":[{\"marker\":{\"pattern\":{\"fillmode\":\"overlay\",\"size\":10,\"solidity\":0.2}},\"type\":\"histogram\"}],\"scattergl\":[{\"type\":\"scattergl\",\"marker\":{\"colorbar\":{\"outlinewidth\":0,\"ticks\":\"\"}}}],\"scatter3d\":[{\"type\":\"scatter3d\",\"line\":{\"colorbar\":{\"outlinewidth\":0,\"ticks\":\"\"}},\"marker\":{\"colorbar\":{\"outlinewidth\":0,\"ticks\":\"\"}}}],\"scattermapbox\":[{\"type\":\"scattermapbox\",\"marker\":{\"colorbar\":{\"outlinewidth\":0,\"ticks\":\"\"}}}],\"scatterternary\":[{\"type\":\"scatterternary\",\"marker\":{\"colorbar\":{\"outlinewidth\":0,\"ticks\":\"\"}}}],\"scattercarpet\":[{\"type\":\"scattercarpet\",\"marker\":{\"colorbar\":{\"outlinewidth\":0,\"ticks\":\"\"}}}],\"carpet\":[{\"aaxis\":{\"endlinecolor\":\"#2a3f5f\",\"gridcolor\":\"white\",\"linecolor\":\"white\",\"minorgridcolor\":\"white\",\"startlinecolor\":\"#2a3f5f\"},\"baxis\":{\"endlinecolor\":\"#2a3f5f\",\"gridcolor\":\"white\",\"linecolor\":\"white\",\"minorgridcolor\":\"white\",\"startlinecolor\":\"#2a3f5f\"},\"type\":\"carpet\"}],\"table\":[{\"cells\":{\"fill\":{\"color\":\"#EBF0F8\"},\"line\":{\"color\":\"white\"}},\"header\":{\"fill\":{\"color\":\"#C8D4E3\"},\"line\":{\"color\":\"white\"}},\"type\":\"table\"}],\"barpolar\":[{\"marker\":{\"line\":{\"color\":\"#E5ECF6\",\"width\":0.5},\"pattern\":{\"fillmode\":\"overlay\",\"size\":10,\"solidity\":0.2}},\"type\":\"barpolar\"}],\"pie\":[{\"automargin\":true,\"type\":\"pie\"}]},\"layout\":{\"autotypenumbers\":\"strict\",\"colorway\":[\"#636efa\",\"#EF553B\",\"#00cc96\",\"#ab63fa\",\"#FFA15A\",\"#19d3f3\",\"#FF6692\",\"#B6E880\",\"#FF97FF\",\"#FECB52\"],\"font\":{\"color\":\"#2a3f5f\"},\"hovermode\":\"closest\",\"hoverlabel\":{\"align\":\"left\"},\"paper_bgcolor\":\"white\",\"plot_bgcolor\":\"#E5ECF6\",\"polar\":{\"bgcolor\":\"#E5ECF6\",\"angularaxis\":{\"gridcolor\":\"white\",\"linecolor\":\"white\",\"ticks\":\"\"},\"radialaxis\":{\"gridcolor\":\"white\",\"linecolor\":\"white\",\"ticks\":\"\"}},\"ternary\":{\"bgcolor\":\"#E5ECF6\",\"aaxis\":{\"gridcolor\":\"white\",\"linecolor\":\"white\",\"ticks\":\"\"},\"baxis\":{\"gridcolor\":\"white\",\"linecolor\":\"white\",\"ticks\":\"\"},\"caxis\":{\"gridcolor\":\"white\",\"linecolor\":\"white\",\"ticks\":\"\"}},\"coloraxis\":{\"colorbar\":{\"outlinewidth\":0,\"ticks\":\"\"}},\"colorscale\":{\"sequential\":[[0.0,\"#0d0887\"],[0.1111111111111111,\"#46039f\"],[0.2222222222222222,\"#7201a8\"],[0.3333333333333333,\"#9c179e\"],[0.4444444444444444,\"#bd3786\"],[0.5555555555555556,\"#d8576b\"],[0.6666666666666666,\"#ed7953\"],[0.7777777777777778,\"#fb9f3a\"],[0.8888888888888888,\"#fdca26\"],[1.0,\"#f0f921\"]],\"sequentialminus\":[[0.0,\"#0d0887\"],[0.1111111111111111,\"#46039f\"],[0.2222222222222222,\"#7201a8\"],[0.3333333333333333,\"#9c179e\"],[0.4444444444444444,\"#bd3786\"],[0.5555555555555556,\"#d8576b\"],[0.6666666666666666,\"#ed7953\"],[0.7777777777777778,\"#fb9f3a\"],[0.8888888888888888,\"#fdca26\"],[1.0,\"#f0f921\"]],\"diverging\":[[0,\"#8e0152\"],[0.1,\"#c51b7d\"],[0.2,\"#de77ae\"],[0.3,\"#f1b6da\"],[0.4,\"#fde0ef\"],[0.5,\"#f7f7f7\"],[0.6,\"#e6f5d0\"],[0.7,\"#b8e186\"],[0.8,\"#7fbc41\"],[0.9,\"#4d9221\"],[1,\"#276419\"]]},\"xaxis\":{\"gridcolor\":\"white\",\"linecolor\":\"white\",\"ticks\":\"\",\"title\":{\"standoff\":15},\"zerolinecolor\":\"white\",\"automargin\":true,\"zerolinewidth\":2},\"yaxis\":{\"gridcolor\":\"white\",\"linecolor\":\"white\",\"ticks\":\"\",\"title\":{\"standoff\":15},\"zerolinecolor\":\"white\",\"automargin\":true,\"zerolinewidth\":2},\"scene\":{\"xaxis\":{\"backgroundcolor\":\"#E5ECF6\",\"gridcolor\":\"white\",\"linecolor\":\"white\",\"showbackground\":true,\"ticks\":\"\",\"zerolinecolor\":\"white\",\"gridwidth\":2},\"yaxis\":{\"backgroundcolor\":\"#E5ECF6\",\"gridcolor\":\"white\",\"linecolor\":\"white\",\"showbackground\":true,\"ticks\":\"\",\"zerolinecolor\":\"white\",\"gridwidth\":2},\"zaxis\":{\"backgroundcolor\":\"#E5ECF6\",\"gridcolor\":\"white\",\"linecolor\":\"white\",\"showbackground\":true,\"ticks\":\"\",\"zerolinecolor\":\"white\",\"gridwidth\":2}},\"shapedefaults\":{\"line\":{\"color\":\"#2a3f5f\"}},\"annotationdefaults\":{\"arrowcolor\":\"#2a3f5f\",\"arrowhead\":0,\"arrowwidth\":1},\"geo\":{\"bgcolor\":\"white\",\"landcolor\":\"#E5ECF6\",\"subunitcolor\":\"white\",\"showland\":true,\"showlakes\":true,\"lakecolor\":\"white\"},\"title\":{\"x\":0.05},\"mapbox\":{\"style\":\"light\"}}},\"width\":800,\"height\":600,\"autosize\":false,\"plot_bgcolor\":\"rgba(0,0,0,0)\",\"title\":{\"text\":\"GPR with length 0.5, sigma 1 and noise 0\",\"x\":0.5,\"xanchor\":\"center\"},\"legend\":{\"yanchor\":\"top\",\"y\":0.3,\"xanchor\":\"right\",\"x\":0.95},\"xaxis\":{\"title\":{\"text\":\"input values\"},\"showline\":true,\"linewidth\":1,\"linecolor\":\"black\",\"range\":[0.2,7.0]},\"yaxis\":{\"title\":{\"text\":\"output values\"},\"showline\":true,\"linewidth\":1,\"linecolor\":\"black\",\"range\":[-15,20.0]}},                        {\"responsive\": true}                    ).then(function(){\n",
       "                            \n",
       "var gd = document.getElementById('8eaaa9c0-ac59-48a3-b843-30e5464ab295');\n",
       "var x = new MutationObserver(function (mutations, observer) {{\n",
       "        var display = window.getComputedStyle(gd).display;\n",
       "        if (!display || display === 'none') {{\n",
       "            console.log([gd, 'removed!']);\n",
       "            Plotly.purge(gd);\n",
       "            observer.disconnect();\n",
       "        }}\n",
       "}});\n",
       "\n",
       "// Listen for the removal of the full notebook cells\n",
       "var notebookContainer = gd.closest('#notebook-container');\n",
       "if (notebookContainer) {{\n",
       "    x.observe(notebookContainer, {childList: true});\n",
       "}}\n",
       "\n",
       "// Listen for the clearing of the current output cell\n",
       "var outputEl = gd.closest('.output');\n",
       "if (outputEl) {{\n",
       "    x.observe(outputEl, {childList: true});\n",
       "}}\n",
       "\n",
       "                        })                };                });            </script>        </div>"
      ]
     },
     "metadata": {},
     "output_type": "display_data"
    }
   ],
   "source": [
    "model = GPR(x_values[:], y_values[:])\n",
    "#model = GPR([-10], [10])\n",
    "data = plot_GPR(data_x=x_values, data_y=y_values, x=x, model=model)\n",
    "fig4 = go.Figure(data=data)\n",
    "fig4 = update_layout_of_graph(fig=fig4,\n",
    "                              title='GPR with length 0.5, sigma 1 and noise 0')\n",
    "fig4.update_xaxes(\n",
    "    range=(0.2, 7.0))\n",
    "fig4.update_yaxes(\n",
    "    range=(-15, 20.0))\n",
    "fig4.show()"
   ]
  },
  {
   "cell_type": "markdown",
   "id": "b409d823",
   "metadata": {},
   "source": [
    "A cool feature of the GPR is that it is sort of a probability distribution over function - so we can literally 'draw' random functions!"
   ]
  },
  {
   "cell_type": "code",
   "execution_count": 35,
   "id": "045e7091",
   "metadata": {},
   "outputs": [
    {
     "data": {
      "application/vnd.jupyter.widget-view+json": {
       "model_id": "13d55085b92641ef8580e1acb96f056b",
       "version_major": 2,
       "version_minor": 0
      },
      "text/plain": [
       "VBox(children=(FigureWidget({\n",
       "    'data': [{'marker': {'color': 'red', 'size': 8},\n",
       "              'mode': 'mark…"
      ]
     },
     "execution_count": 35,
     "metadata": {},
     "output_type": "execute_result"
    }
   ],
   "source": [
    "#model = GPR([-10],[-10])\n",
    "model = GPR(x_values[:2], y_values[:2])\n",
    "#model = GPR(x_values[:], y_values[:])\n",
    "\n",
    "mean = model.predict(x)\n",
    "covariance_matrix = model._memory['covariance_matrix']\n",
    "\n",
    "fig1 = go.FigureWidget(data=[dot_scatter(x_dots=x_values, y_dots=y_values)])\n",
    "fig1 = update_layout_of_graph(\n",
    "    fig1,\n",
    "    title='Random drawings (i.e. random functions) of the Gaussian process')\n",
    "\n",
    "button = widgets.Button(description='Add random drawing')\n",
    "\n",
    "\n",
    "def update(_):\n",
    "    with fig1.batch_update():\n",
    "        fig1.add_trace(\n",
    "            line_scatter(x_lines=x,\n",
    "                         y_lines=np.random.multivariate_normal(\n",
    "                             mean, covariance_matrix),\n",
    "                         name_line='random function',\n",
    "                         showlegend=False))\n",
    "        fig1.add_trace(\n",
    "            dot_scatter(x_dots=x_values, y_dots=y_values, showlegend=False))\n",
    "        fig1.add_trace(\n",
    "            dot_scatter2(x_dots=curvex, y_dots=curvey, showlegend=False))\n",
    "\n",
    "\n",
    "button.on_click(update)\n",
    "widgets.VBox([fig1, button])"
   ]
  },
  {
   "cell_type": "markdown",
   "id": "876ee73f",
   "metadata": {},
   "source": [
    "Doing predictions with a GPR is usually done by taking the mean function as our best guess. Since GPR's are a probabilistic model, we get in addition some sort of certainty of our prediction. (But be careful how to interpret this uncertainty area! Believing that every 'new' point must be in the uncertainty area is simply wrong!)"
   ]
  },
  {
   "cell_type": "code",
   "execution_count": 36,
   "id": "36354bda",
   "metadata": {},
   "outputs": [
    {
     "data": {
      "application/vnd.jupyter.widget-view+json": {
       "model_id": "964cd5fcec3941a6ba0eddc607c96752",
       "version_major": 2,
       "version_minor": 0
      },
      "text/plain": [
       "VBox(children=(FigureWidget({\n",
       "    'data': [{'fill': 'toself',\n",
       "              'fillcolor': 'rgba(189,195,199,0.5…"
      ]
     },
     "execution_count": 36,
     "metadata": {},
     "output_type": "execute_result"
    }
   ],
   "source": [
    "#model = GPR([-10], [-10])\n",
    "model = GPR(x_values[:1], y_values[:1])\n",
    "\n",
    "data = plot_GPR(data_x=[-10], data_y=[-10], x=x, model=model)\n",
    "#data = plot_GPR(data_x=x_values[:1], data_y=y_values[:1], x=x, model=model)\n",
    "\n",
    "\n",
    "fig2 = go.FigureWidget(data=data)\n",
    "fig2 = update_layout_of_graph(fig2, title='Prediction (i.e. mean) of GPR')\n",
    "fig2.update_xaxes(range=(0.2, 7.0))\n",
    "fig2.update_yaxes(range=(-15, 20.0))\n",
    "\n",
    "button = widgets.Button(description='Add data point')\n",
    "\n",
    "number_of_points = 1\n",
    "\n",
    "# we update the y values of our 4 scatter plots \n",
    "def update(_):\n",
    "    with fig2.batch_update():\n",
    "        global number_of_points\n",
    "        if number_of_points <= len(x_values):\n",
    "            model = GPR(x_values[:number_of_points],\n",
    "                        y_values[:number_of_points])\n",
    "            mean = model.predict(x)\n",
    "            fig2.data[3].y = mean\n",
    "            for i in range(1, 4):\n",
    "                y_upper = mean + i * np.sqrt(model._memory['variance'])\n",
    "                y_lower = mean - i * np.sqrt(model._memory['variance'])\n",
    "                fig2.data[i - 1].y = np.concatenate((y_upper, y_lower[::-1]))\n",
    "\n",
    "            fig2.data[4].x = x_values[:number_of_points]\n",
    "            fig2.data[4].y = y_values[:number_of_points]\n",
    "            fig2.update_xaxes(range=(0.2, 7.0))\n",
    "            fig2.update_yaxes(range=(-15, 20.0))\n",
    "            number_of_points += 1\n",
    "\n",
    "\n",
    "button.on_click(update)\n",
    "widgets.VBox([fig2, button])"
   ]
  },
  {
   "cell_type": "markdown",
   "id": "ce23fd04",
   "metadata": {},
   "source": [
    "You can test the GPR with different data. Try using multi-dimensional input!"
   ]
  },
  {
   "cell_type": "markdown",
   "id": "1d17146a",
   "metadata": {},
   "source": [
    "### Visualization of effect of free parameters"
   ]
  },
  {
   "cell_type": "markdown",
   "id": "e7e03650",
   "metadata": {},
   "source": [
    "Awesome! Now that we can make predictions with our GPR, lets visualize how the GPR changes if we change the free parameters, i.e. length-scale, variance and white noise."
   ]
  },
  {
   "cell_type": "code",
   "execution_count": 37,
   "id": "cd6e6019",
   "metadata": {},
   "outputs": [
    {
     "data": {
      "application/vnd.jupyter.widget-view+json": {
       "model_id": "7619ed3405034e5987095ef56fa7ae44",
       "version_major": 2,
       "version_minor": 0
      },
      "text/plain": [
       "interactive(children=(FloatSlider(value=1.0, description='sigma', max=3.0, min=0.01, step=0.01), FloatSlider(v…"
      ]
     },
     "metadata": {},
     "output_type": "display_data"
    },
    {
     "data": {
      "application/vnd.jupyter.widget-view+json": {
       "model_id": "4ac374d0b5104ac39658d2abd8f3d3cf",
       "version_major": 2,
       "version_minor": 0
      },
      "text/plain": [
       "FigureWidget({\n",
       "    'data': [{'fill': 'toself',\n",
       "              'fillcolor': 'rgba(189,195,199,0.5)',\n",
       "              'hoverinfo': 'skip',\n",
       "              'line': {'color': 'rgba(200,200,200,0)'},\n",
       "              'name': 'mean plus/minus 1*standard deviation',\n",
       "              'showlegend': True,\n",
       "              'type': 'scatter',\n",
       "              'uid': '99878aaa-ac7a-4730-b88f-9914efbbe840',\n",
       "              'visible': True,\n",
       "              'x': array([0.1 , 0.15, 0.2 , ..., 0.2 , 0.15, 0.1 ]),\n",
       "              'y': array([24.74658478, 19.80240057, 14.96909988, ..., 14.86527935, 19.64040918,\n",
       "                          24.51068584])},\n",
       "             {'fill': 'toself',\n",
       "              'fillcolor': 'rgba(189,195,199,0.5)',\n",
       "              'hoverinfo': 'skip',\n",
       "              'line': {'color': 'rgba(200,200,200,0)'},\n",
       "              'name': 'mean plus/minus 2*standard deviation',\n",
       "              'showlegend': True,\n",
       "              'type': 'scatter',\n",
       "              'uid': '3750a937-6fb2-4316-b1fd-f2517df59cde',\n",
       "              'visible': True,\n",
       "              'x': array([0.1 , 0.15, 0.2 , ..., 0.2 , 0.15, 0.1 ]),\n",
       "              'y': array([24.86453425, 19.88339626, 15.02101014, ..., 14.81336909, 19.55941349,\n",
       "                          24.39273637])},\n",
       "             {'fill': 'toself',\n",
       "              'fillcolor': 'rgba(189,195,199,0.5)',\n",
       "              'hoverinfo': 'skip',\n",
       "              'line': {'color': 'rgba(200,200,200,0)'},\n",
       "              'name': 'mean plus/minus 3*standard deviation',\n",
       "              'showlegend': True,\n",
       "              'type': 'scatter',\n",
       "              'uid': 'c1baa1f5-1591-43dc-af5f-f64278e0bf39',\n",
       "              'visible': True,\n",
       "              'x': array([0.1 , 0.15, 0.2 , ..., 0.2 , 0.15, 0.1 ]),\n",
       "              'y': array([24.98248372, 19.96439195, 15.07292041, ..., 14.76145882, 19.4784178 ,\n",
       "                          24.2747869 ])},\n",
       "             {'line': {'color': 'blue', 'width': 2},\n",
       "              'name': 'Predicted function',\n",
       "              'showlegend': True,\n",
       "              'type': 'scatter',\n",
       "              'uid': 'cbab881b-292f-4dcf-bd59-8b847689d2fd',\n",
       "              'visible': True,\n",
       "              'x': array([0.1 , 0.15, 0.2 , 0.25, 0.3 , 0.35, 0.4 , 0.45, 0.5 , 0.55, 0.6 , 0.65,\n",
       "                          0.7 , 0.75, 0.8 , 0.85, 0.9 , 0.95, 1.  , 1.05, 1.1 , 1.15, 1.2 , 1.25,\n",
       "                          1.3 , 1.35, 1.4 , 1.45, 1.5 , 1.55, 1.6 , 1.65, 1.7 , 1.75, 1.8 , 1.85,\n",
       "                          1.9 , 1.95, 2.  , 2.05, 2.1 , 2.15, 2.2 , 2.25, 2.3 , 2.35, 2.4 , 2.45,\n",
       "                          2.5 , 2.55, 2.6 , 2.65, 2.7 , 2.75, 2.8 , 2.85, 2.9 , 2.95, 3.  , 3.05,\n",
       "                          3.1 , 3.15, 3.2 , 3.25, 3.3 , 3.35, 3.4 , 3.45, 3.5 , 3.55, 3.6 , 3.65,\n",
       "                          3.7 , 3.75, 3.8 , 3.85, 3.9 , 3.95, 4.  , 4.05, 4.1 , 4.15, 4.2 , 4.25,\n",
       "                          4.3 , 4.35, 4.4 , 4.45, 4.5 , 4.55, 4.6 , 4.65, 4.7 , 4.75, 4.8 , 4.85,\n",
       "                          4.9 , 4.95, 5.  , 5.05, 5.1 , 5.15, 5.2 , 5.25, 5.3 , 5.35, 5.4 , 5.45,\n",
       "                          5.5 , 5.55, 5.6 , 5.65, 5.7 , 5.75, 5.8 , 5.85, 5.9 , 5.95, 6.  , 6.05,\n",
       "                          6.1 , 6.15, 6.2 , 6.25, 6.3 , 6.35, 6.4 , 6.45, 6.5 , 6.55, 6.6 , 6.65,\n",
       "                          6.7 , 6.75, 6.8 , 6.85, 6.9 , 6.95]),\n",
       "              'y': array([ 2.46286353e+01,  1.97214049e+01,  1.49171896e+01,  1.03848667e+01,\n",
       "                           6.26625191e+00,  2.66775700e+00, -3.44623022e-01, -2.74659152e+00,\n",
       "                          -4.55311622e+00, -5.81270902e+00, -6.59920470e+00, -7.00207251e+00,\n",
       "                          -7.11640707e+00, -7.03370644e+00, -6.83436763e+00, -6.58254227e+00,\n",
       "                          -6.32364296e+00, -6.08442737e+00, -5.87526485e+00, -5.69395193e+00,\n",
       "                          -5.53031740e+00, -5.37085284e+00, -5.20271099e+00, -5.01660396e+00,\n",
       "                          -4.80836997e+00, -4.57921792e+00, -4.33486538e+00, -4.08393016e+00,\n",
       "                          -3.83599973e+00, -3.59978914e+00, -3.38171607e+00, -3.18509602e+00,\n",
       "                          -3.01001731e+00, -2.85382275e+00, -2.71202366e+00, -2.57941665e+00,\n",
       "                          -2.45116783e+00, -2.32366726e+00, -2.19502587e+00, -2.06517104e+00,\n",
       "                          -1.93557762e+00, -1.80873487e+00, -1.68748604e+00, -1.57438332e+00,\n",
       "                          -1.47117968e+00, -1.37853749e+00, -1.29598272e+00, -1.22208347e+00,\n",
       "                          -1.15479166e+00, -1.09186359e+00, -1.03127043e+00, -9.71522169e-01,\n",
       "                          -9.11854402e-01, -8.52258529e-01, -7.93367894e-01, -7.36237472e-01,\n",
       "                          -6.82070107e-01, -6.31945974e-01, -5.86604756e-01, -5.46314657e-01,\n",
       "                          -5.10842608e-01, -4.79520030e-01, -4.51381960e-01, -4.25346663e-01,\n",
       "                          -4.00399416e-01, -3.75747470e-01, -3.50921969e-01, -3.25814581e-01,\n",
       "                          -3.00649220e-01, -2.75900350e-01, -2.52177123e-01, -2.30096239e-01,\n",
       "                          -2.10165729e-01, -1.92697604e-01, -1.77760618e-01, -1.65176680e-01,\n",
       "                          -1.54557111e-01, -1.45369108e-01, -1.37019176e-01, -1.28939171e-01,\n",
       "                          -1.20661822e-01, -1.11875664e-01, -1.02453439e-01, -9.24525509e-02,\n",
       "                          -8.20902821e-02, -7.16996750e-02, -6.16739730e-02, -5.24081265e-02,\n",
       "                          -4.42452711e-02, -3.74345034e-02, -3.21040851e-02, -2.82517747e-02,\n",
       "                          -2.57516625e-02, -2.43749604e-02, -2.38208335e-02, -2.37526644e-02,\n",
       "                          -2.38350705e-02, -2.37674839e-02, -2.33109980e-02, -2.23063286e-02,\n",
       "                          -2.06819594e-02, -1.84526988e-02, -1.57098483e-02, -1.26048971e-02,\n",
       "                          -9.32907519e-03, -6.09122025e-03, -3.09627153e-03, -5.26350173e-04,\n",
       "                           1.47411128e-03,  2.80829951e-03,  3.43169863e-03,  3.35173131e-03,\n",
       "                           2.62301212e-03,  1.33917373e-03, -3.77595043e-04, -2.38811310e-03,\n",
       "                          -4.54775525e-03, -6.71702693e-03, -8.77043091e-03, -1.06031465e-02,\n",
       "                          -1.21353001e-02, -1.33138451e-02, -1.41122635e-02, -1.45284538e-02,\n",
       "                          -1.45812542e-02, -1.43060896e-02, -1.37502167e-02, -1.29679888e-02,\n",
       "                          -1.20164856e-02, -1.09517567e-02, -9.82583516e-03, -8.68458243e-03,\n",
       "                          -7.56635122e-03, -6.50139163e-03, -5.51188413e-03, -4.61246094e-03,\n",
       "                          -3.81107087e-03, -3.11005016e-03])},\n",
       "             {'marker': {'color': 'red', 'size': 8},\n",
       "              'mode': 'markers',\n",
       "              'name': 'Observed points',\n",
       "              'showlegend': True,\n",
       "              'type': 'scatter',\n",
       "              'uid': '5cf8a781-bf32-4650-8122-817e51b7cdc0',\n",
       "              'visible': True,\n",
       "              'x': array([5.78901177, 3.18901779, 4.38901413, 1.98902588, 2.5890209 , 1.38903516,\n",
       "                          0.28915226, 5.38901232, 4.78901332, 3.98901511, 3.5890163 , 1.07191493,\n",
       "                          2.28902306, 1.6890297 , 0.52247119, 3.389017  , 2.98901869, 2.78901972,\n",
       "                          0.91298022, 1.22600994, 0.63825515, 2.48902156, 2.38902228, 2.18902392,\n",
       "                          2.08902485, 1.88902702, 1.78902828, 1.58903129, 1.4890331 , 0.38911426]),\n",
       "              'y': array([ 0.00000000e+00, -4.61496680e-01, -6.36057336e-02, -2.18739647e+00,\n",
       "                          -1.03115214e+00, -4.29323979e+00,  7.76854806e+00, -3.66195678e-03,\n",
       "                          -2.40313082e-02, -1.38804864e-01, -2.60459024e-01, -5.75133494e+00,\n",
       "                          -1.51289970e+00, -3.10492489e+00, -5.15443516e+00, -3.48425256e-01,\n",
       "                          -6.06591512e-01, -7.92933480e-01, -6.40592029e+00, -5.03460519e+00,\n",
       "                          -6.44776945e+00, -1.17345205e+00, -1.33342796e+00, -1.71374975e+00,\n",
       "                          -1.93793287e+00, -2.46399375e+00, -2.76940769e+00, -3.47121737e+00,\n",
       "                          -3.86796476e+00, -7.29338738e-01])},\n",
       "             {'line': {'color': 'pink', 'width': 2},\n",
       "              'name': 'True function',\n",
       "              'showlegend': True,\n",
       "              'type': 'scatter',\n",
       "              'uid': '870c6c57-fd2c-4214-a12e-66875b457120',\n",
       "              'visible': True,\n",
       "              'x': array([0.28915226, 0.38911426, 0.4890918 , 0.58907696, 0.68906643, 0.78905857,\n",
       "                          0.88905247, 0.98904761, 1.08904364, 1.18904034, 1.28903755, 1.38903516,\n",
       "                          1.4890331 , 1.58903129, 1.6890297 , 1.78902828, 1.88902702, 1.98902588,\n",
       "                          2.08902485, 2.18902392, 2.28902306, 2.38902228, 2.48902156, 2.5890209 ,\n",
       "                          2.78901972, 2.98901869, 3.18901779, 3.389017  , 3.5890163 , 3.98901511,\n",
       "                          4.38901413, 4.78901332, 5.38901232, 5.78901177]),\n",
       "              'y': array([ 7.76854806e+00, -7.29338738e-01, -4.45164530e+00, -6.06913379e+00,\n",
       "                          -6.65662264e+00, -6.71135345e+00, -6.48516982e+00, -6.11370172e+00,\n",
       "                          -5.67316577e+00, -5.20755888e+00, -4.74259392e+00, -4.29323979e+00,\n",
       "                          -3.86796476e+00, -3.47121737e+00, -3.10492489e+00, -2.76940769e+00,\n",
       "                          -2.46399375e+00, -2.18739647e+00, -1.93793287e+00, -1.71374975e+00,\n",
       "                          -1.51289970e+00, -1.33342796e+00, -1.17345205e+00, -1.03115214e+00,\n",
       "                          -7.92933480e-01, -6.06591512e-01, -4.61496680e-01, -3.48425256e-01,\n",
       "                          -2.60459024e-01, -1.38804864e-01, -6.36057336e-02, -2.40313082e-02,\n",
       "                          -3.66195678e-03,  0.00000000e+00])}],\n",
       "    'layout': {'autosize': False,\n",
       "               'height': 600,\n",
       "               'legend': {'x': 0.95, 'xanchor': 'right', 'y': 0.3, 'yanchor': 'top'},\n",
       "               'plot_bgcolor': 'rgba(0,0,0,0)',\n",
       "               'template': '...',\n",
       "               'title': {'text': 'GPR with varying length, sigma and white noise', 'x': 0.5, 'xanchor': 'center'},\n",
       "               'width': 800,\n",
       "               'xaxis': {'linecolor': 'black',\n",
       "                         'linewidth': 1,\n",
       "                         'range': [0.2, 7.0],\n",
       "                         'showline': True,\n",
       "                         'title': {'text': 'input values'}},\n",
       "               'yaxis': {'linecolor': 'black',\n",
       "                         'linewidth': 1,\n",
       "                         'range': [-15, 20.0],\n",
       "                         'showline': True,\n",
       "                         'title': {'text': 'output values'}}}\n",
       "})"
      ]
     },
     "execution_count": 37,
     "metadata": {},
     "output_type": "execute_result"
    }
   ],
   "source": [
    "model = GPR(x_values,\n",
    "            y_values,\n",
    "            covariance_function=SquaredExponentialKernel(length=0.5),\n",
    "            white_noise_sigma=0.1)\n",
    "\n",
    "data = plot_GPR(x_values, y_values, model=model, x=x)\n",
    "\n",
    "fig3 = go.FigureWidget(data=data)\n",
    "fig3.update_xaxes(range=(0.2, 7.0))\n",
    "fig3.update_yaxes(range=(-15, 20.0))\n",
    "\n",
    "\n",
    "# we update the y values of our 4 scatter plots \n",
    "@interact(sigma=(0.01, 3, 0.01), length=(0.01, 3, 0.01), noise=(0.000, 1.000, 0.0001))\n",
    "\n",
    "def update(sigma=1, length=0.5, noise=0.0005):\n",
    "    with fig3.batch_update():\n",
    "        model = GPR(x_values,\n",
    "                    y_values,\n",
    "                    covariance_function=SquaredExponentialKernel(\n",
    "                        sigma_f=sigma, length=length),\n",
    "                    white_noise_sigma=noise)\n",
    "\n",
    "        mean = model.predict(x)\n",
    "        y_upper = mean + np.sqrt(model._memory['variance'])\n",
    "        y_lower = mean - np.sqrt(model._memory['variance'])\n",
    "\n",
    "        \n",
    "        for i in range(1, 4):\n",
    "            y_upper = mean + i * np.sqrt(model._memory['variance'])\n",
    "            y_lower = mean - i * np.sqrt(model._memory['variance'])\n",
    "            fig3.data[i-1].y = np.concatenate((y_upper, y_lower[::-1]))\n",
    "            fig3.update_xaxes(range=(0.2, 7.0))\n",
    "            fig3.update_yaxes(range=(-15, 20.0))\n",
    "        \n",
    "        fig3.data[3].y = mean\n",
    "\n",
    "\n",
    "fig3 = update_layout_of_graph(\n",
    "    fig3, title=\"GPR with varying length, sigma and white noise\")\n",
    "fig3.update_xaxes(range=(0.2, 7.0))\n",
    "fig3.update_yaxes(range=(-15, 20.0))\n",
    "fig3"
   ]
  },
  {
   "cell_type": "markdown",
   "id": "188b1f24",
   "metadata": {},
   "source": [
    "Pretty impressive how many function 'shapes' we can generate with a GPR!\n",
    "\n",
    "But now we naturally raise the question:\n",
    "\n",
    "_What are the best parameters for our GPR and problem?_"
   ]
  },
  {
   "cell_type": "markdown",
   "id": "b5a19410-f281-438d-a275-32f895cd6d5e",
   "metadata": {},
   "source": [
    "#### Can train aquisition function a(x) = meanGPR(x) - kappa*sqrt(variance(x)) - the minimum position is how you choose next point"
   ]
  },
  {
   "cell_type": "code",
   "execution_count": 24,
   "id": "e4468839",
   "metadata": {},
   "outputs": [],
   "source": [
    "#### Hyperparam optimization in GPR: "
   ]
  },
  {
   "cell_type": "code",
   "execution_count": null,
   "id": "24744c22",
   "metadata": {},
   "outputs": [],
   "source": []
  },
  {
   "cell_type": "code",
   "execution_count": null,
   "id": "41e8e79d-0741-46af-b442-c3436995b4f5",
   "metadata": {},
   "outputs": [],
   "source": []
  }
 ],
 "metadata": {
  "kernelspec": {
   "display_name": "Python 3 (ipykernel)",
   "language": "python",
   "name": "python3"
  },
  "language_info": {
   "codemirror_mode": {
    "name": "ipython",
    "version": 3
   },
   "file_extension": ".py",
   "mimetype": "text/x-python",
   "name": "python",
   "nbconvert_exporter": "python",
   "pygments_lexer": "ipython3",
   "version": "3.13.3"
  },
  "toc": {
   "base_numbering": 1,
   "nav_menu": {},
   "number_sections": true,
   "sideBar": true,
   "skip_h1_title": false,
   "title_cell": "Table of Contents",
   "title_sidebar": "Contents",
   "toc_cell": false,
   "toc_position": {},
   "toc_section_display": true,
   "toc_window_display": false
  },
  "varInspector": {
   "cols": {
    "lenName": 16,
    "lenType": 16,
    "lenVar": 40
   },
   "kernels_config": {
    "python": {
     "delete_cmd_postfix": "",
     "delete_cmd_prefix": "del ",
     "library": "var_list.py",
     "varRefreshCmd": "print(var_dic_list())"
    },
    "r": {
     "delete_cmd_postfix": ") ",
     "delete_cmd_prefix": "rm(",
     "library": "var_list.r",
     "varRefreshCmd": "cat(var_dic_list()) "
    }
   },
   "types_to_exclude": [
    "module",
    "function",
    "builtin_function_or_method",
    "instance",
    "_Feature"
   ],
   "window_display": false
  }
 },
 "nbformat": 4,
 "nbformat_minor": 5
}
