{
 "cells": [
  {
   "cell_type": "markdown",
   "id": "117d3726",
   "metadata": {
    "editable": true,
    "slideshow": {
     "slide_type": "slide"
    },
    "tags": []
   },
   "source": [
    "# Gaussian process regression - hands on implementation"
   ]
  },
  {
   "cell_type": "markdown",
   "id": "87a6f995",
   "metadata": {
    "editable": true,
    "slideshow": {
     "slide_type": ""
    },
    "tags": []
   },
   "source": [
    "## Overview"
   ]
  },
  {
   "cell_type": "markdown",
   "id": "dcb462c6",
   "metadata": {
    "editable": true,
    "slideshow": {
     "slide_type": ""
    },
    "tags": []
   },
   "source": [
    "Disclaimer: This book is based on the original notebook from https://gitlab.com/youtube-optimization-geeks/uncertainty-quantification @fabrang-paretos\n",
    "\n",
    "In this notebook, we will present an implmentation of a Gaussian Process Regressor (GPR) \"from scratch\", using a squared exponential kernel. \n",
    "\n",
    "The notebook intends to increase the understanding and intuition about how GPR can be used in regression problems. It is _not_ intended as a theoretical introduction to GPRs.\n",
    "The book of Rasmussen and Williams, _Gaussian Processes for Machine Learning_, contains perhaps the best theoretical introduction to GPR and a pdf version of the book can be accessed [here](http://www.gaussianprocess.org/gpml/chapters/RW.pdf). \n",
    "\n",
    "Optimized implementations of GPR's are available, for example, in the [gpytorch](https://gpytorch.ai) package or in the [scikit-learn](https://scikit-learn.org/stable/) package."
   ]
  },
  {
   "cell_type": "markdown",
   "id": "bfc98796",
   "metadata": {
    "editable": true,
    "slideshow": {
     "slide_type": "slide"
    },
    "tags": []
   },
   "source": [
    "## Packages"
   ]
  },
  {
   "cell_type": "code",
   "execution_count": 1,
   "id": "b48ebe22",
   "metadata": {
    "editable": true,
    "slideshow": {
     "slide_type": ""
    },
    "tags": []
   },
   "outputs": [],
   "source": [
    "import numpy as np\n",
    "import plotly.graph_objects as go\n",
    "import matplotlib.pyplot as plt\n",
    "from ipywidgets import interact, widgets"
   ]
  },
  {
   "cell_type": "markdown",
   "id": "4575ccbd",
   "metadata": {
    "editable": true,
    "slideshow": {
     "slide_type": ""
    },
    "tags": []
   },
   "source": [
    "## Plotting helper functions"
   ]
  },
  {
   "cell_type": "markdown",
   "id": "caa8c0bf",
   "metadata": {
    "editable": true,
    "slideshow": {
     "slide_type": ""
    },
    "tags": []
   },
   "source": [
    "To have nice visualizations of the later GPR, we use Plotly and to have structured and lean code, we define a few commonly used 'helpers' here. "
   ]
  },
  {
   "cell_type": "code",
   "execution_count": 2,
   "id": "ad8a0219",
   "metadata": {
    "code_folding": [
     0
    ],
    "editable": true,
    "slideshow": {
     "slide_type": ""
    },
    "tags": []
   },
   "outputs": [],
   "source": [
    "def update_layout_of_graph(fig: go.Figure,title: str = 'Plot')->go.Figure:\n",
    "    fig.update_layout(\n",
    "        width=800,\n",
    "        height=600,\n",
    "        autosize=False,\n",
    "        plot_bgcolor='rgba(0,0,0,0)',\n",
    "        title=title,\n",
    "        \n",
    "    )\n",
    "    fig.update_layout(plot_bgcolor='rgba(0,0,0,0)',\n",
    "                      xaxis_title = 'input values',\n",
    "                      yaxis_title = 'output values',\n",
    "                      legend=dict(yanchor=\"top\",\n",
    "                                  y=0.3,\n",
    "                                  xanchor=\"right\",\n",
    "                                  x=0.95),\n",
    "                      title={\n",
    "                          'x': 0.5,\n",
    "                          'xanchor': 'center'\n",
    "                      })\n",
    "    fig.update_xaxes(showline=True, linewidth=1, linecolor='black')\n",
    "    fig.update_yaxes(showline=True, linewidth=1, linecolor='black')\n",
    "    return fig"
   ]
  },
  {
   "cell_type": "code",
   "execution_count": 3,
   "id": "66e5a661",
   "metadata": {
    "code_folding": [
     0,
     6
    ],
    "editable": true,
    "slideshow": {
     "slide_type": ""
    },
    "tags": []
   },
   "outputs": [],
   "source": [
    "def line_scatter(\n",
    "    visible: bool = True,\n",
    "    x_lines: np.array = np.array([]),\n",
    "    y_lines: np.array = np.array([]),\n",
    "    name_line: str = 'Predicted function',\n",
    "    showlegend: bool = True,\n",
    ") -> go.Scatter:\n",
    "    # Adding the lines\n",
    "    return go.Scatter(\n",
    "        visible=visible,\n",
    "        line=dict(color=\"blue\", width=2),\n",
    "        x=x_lines,\n",
    "        y=y_lines,\n",
    "        name=name_line,\n",
    "        showlegend= showlegend\n",
    "    )"
   ]
  },
  {
   "cell_type": "code",
   "execution_count": 4,
   "id": "f0b4e5ac",
   "metadata": {
    "code_folding": [
     0,
     6
    ]
   },
   "outputs": [],
   "source": [
    "def dot_scatter(\n",
    "    visible: bool = True,\n",
    "    x_dots: np.array = np.array([]),\n",
    "    y_dots: np.array = np.array([]),\n",
    "    name_dots: str = 'Training points',\n",
    "    showlegend: bool = True\n",
    ") -> go.Scatter:\n",
    "    # Adding the dots\n",
    "    return go.Scatter(\n",
    "        x=x_dots,\n",
    "        visible=visible,\n",
    "        y=y_dots,\n",
    "        mode=\"markers\",\n",
    "        name=name_dots,\n",
    "        marker=dict(color='red', size=8),\n",
    "        showlegend=showlegend\n",
    "    )"
   ]
  },
  {
   "cell_type": "code",
   "execution_count": 5,
   "id": "a50951ad",
   "metadata": {},
   "outputs": [],
   "source": [
    "def dot_scatter2(\n",
    "    visible: bool = True,\n",
    "    x_dots: np.array = np.array([]),\n",
    "    y_dots: np.array = np.array([]),\n",
    "    name_dots: str = 'True function',\n",
    "    showlegend: bool = True\n",
    ") -> go.Scatter:\n",
    "    # Adding the dots\n",
    "    return go.Scatter(\n",
    "        x=x_dots,\n",
    "        visible=visible,\n",
    "        y=y_dots,\n",
    "        line=dict(color=\"pink\", width=2),\n",
    "#        mode=\"markers\",\n",
    "        name=name_dots,\n",
    "#        marker=dict(color='red', size=8),\n",
    "        showlegend=showlegend\n",
    "    )"
   ]
  },
  {
   "cell_type": "code",
   "execution_count": 6,
   "id": "8dda25c4",
   "metadata": {
    "code_folding": [
     0,
     6
    ]
   },
   "outputs": [],
   "source": [
    "def uncertainty_area_scatter(\n",
    "        visible: bool = True,\n",
    "        x_lines: np.array = np.array([]),\n",
    "        y_upper: np.array = np.array([]),\n",
    "        y_lower: np.array = np.array([]),\n",
    "        name: str = \"mean plus/minus standard deviation\",\n",
    ") -> go.Scatter:\n",
    "\n",
    "    return go.Scatter(\n",
    "        visible=visible,\n",
    "        x=np.concatenate((x_lines, x_lines[::-1])),  # x, then x reversed\n",
    "        # upper, then lower reversed\n",
    "        y=np.concatenate((y_upper, y_lower[::-1])),\n",
    "        fill='toself',\n",
    "        fillcolor='rgba(189,195,199,0.5)',\n",
    "        line=dict(color='rgba(200,200,200,0)'),\n",
    "        hoverinfo=\"skip\",\n",
    "        showlegend=True,\n",
    "        name= name,\n",
    "    )"
   ]
  },
  {
   "cell_type": "code",
   "execution_count": 7,
   "id": "6a0be169",
   "metadata": {
    "code_folding": [
     0
    ]
   },
   "outputs": [],
   "source": [
    "def add_slider_GPR(figure: go.Figure, parameters):\n",
    "    figure.data[0].visible = True\n",
    "    figure.data[1].visible = True\n",
    "\n",
    "    # Create and add slider\n",
    "    steps = []\n",
    "    for i in range(int((len(figure.data) - 1) / 2)):\n",
    "        step = dict(\n",
    "            method=\"update\",\n",
    "            label=f'{parameters[i]: .2f}',\n",
    "            args=[{\n",
    "                \"visible\": [False] * (len(figure.data) - 1) + [True]\n",
    "            }],\n",
    "        )\n",
    "        step[\"args\"][0][\"visible\"][2 *\n",
    "                                   i] = True  # Toggle i'th trace to \"visible\"\n",
    "        step[\"args\"][0][\"visible\"][2 * i + 1] = True\n",
    "        steps.append(step)\n",
    "\n",
    "    sliders = [dict(\n",
    "        active=0,\n",
    "        pad={\"t\": 50},\n",
    "        steps=steps,\n",
    "    )]\n",
    "    figure.update_layout(sliders=sliders, )\n",
    "    return figure"
   ]
  },
  {
   "cell_type": "code",
   "execution_count": 8,
   "id": "cf44e383",
   "metadata": {
    "code_folding": [
     0
    ]
   },
   "outputs": [],
   "source": [
    "def add_slider_to_function(figure:go.Figure, parameters):\n",
    "    figure.data[0].visible = True\n",
    "\n",
    "    # Create and add slider\n",
    "    steps = []\n",
    "    for i in range(len(figure.data)):\n",
    "        step = dict(\n",
    "            method=\"update\",\n",
    "            label=f'{parameters[i]: .2f}',\n",
    "            args=[{\n",
    "                \"visible\": [False] *len(figure.data) \n",
    "            }],\n",
    "        )\n",
    "        step[\"args\"][0][\"visible\"][i] = True  # Toggle i'th trace to \"visible\"\n",
    "        steps.append(step)\n",
    "\n",
    "    sliders = [dict(\n",
    "        active=0,\n",
    "        pad={\"t\": 50},\n",
    "        steps=steps,\n",
    "    )]\n",
    "    figure.update_layout(sliders=sliders, )\n",
    "    return figure"
   ]
  },
  {
   "cell_type": "markdown",
   "id": "9058664e",
   "metadata": {},
   "source": [
    "## Implementation of GPR with squared exponential kernel"
   ]
  },
  {
   "cell_type": "markdown",
   "id": "db40cace-ee4b-46d5-a975-d50b10298ee3",
   "metadata": {},
   "source": [
    "### The kernel (or covariance) function"
   ]
  },
  {
   "cell_type": "markdown",
   "id": "fa792ab3",
   "metadata": {},
   "source": [
    "As discussed in the lecture, the definition of a gaussian process regressor (GPR) relies on the definition of the kernel, which can also be called the covariance function. There are many possible choices for this function. \n",
    "\n",
    "In this notebook we choose the popular _squared exponential_ kernel:\n",
    "$$ k(x_1,x_2):= \\sigma^2*\\exp[-(x_1-x_2)^2/(2*l^2)]$$\n",
    "with $$l>0$$ the lengthscale and $$\\sigma^2>0$$ the signal variance. The squared exponential kernel is really a Gaussian function, but this should not be confused with the _Gaussian process_ that we will define below. A _Gaussian process_ can be defined with many different kernels. \n",
    "\n",
    "**Bonus exercise**: Could you implement a different kernel and see the difference in the resulting GPR? Some examples are the [Dot Product kernel](https://scikit-learn.org/stable/modules/generated/sklearn.gaussian_process.kernels.DotProduct.html#sklearn.gaussian_process.kernels.DotProduct) or the [Rational Quadratic kernel](https://scikit-learn.org/stable/modules/generated/sklearn.gaussian_process.kernels.RationalQuadratic.html#sklearn.gaussian_process.kernels.RationalQuadratic). Examples of how GPRs look with different kernels can be found [here](https://scikit-learn.org/stable/modules/gaussian_process.html)."
   ]
  },
  {
   "cell_type": "code",
   "execution_count": 9,
   "id": "cbc55090",
   "metadata": {},
   "outputs": [],
   "source": [
    "class SquaredExponentialKernel:\n",
    "    def __init__(self, sigma_f: float = 1, length: float = 0.5):\n",
    "        self.sigma_f = sigma_f\n",
    "        self.length = length\n",
    "\n",
    "    def __call__(self, argument_1: np.array, argument_2: np.array) -> float:\n",
    "        return float(self.sigma_f *\n",
    "                     np.exp(-(np.linalg.norm(argument_1 - argument_2)**2) /\n",
    "                            (2 * self.length**2)))"
   ]
  },
  {
   "cell_type": "markdown",
   "id": "b23258da",
   "metadata": {},
   "source": [
    "Let us visualize this kernel."
   ]
  },
  {
   "cell_type": "code",
   "execution_count": 10,
   "id": "e1cd79c0",
   "metadata": {},
   "outputs": [
    {
     "data": {
      "application/vnd.jupyter.widget-view+json": {
       "model_id": "3cf57c58f61f4e4cb5ee077ae7580e6e",
       "version_major": 2,
       "version_minor": 0
      },
      "text/plain": [
       "interactive(children=(FloatSlider(value=1.0, description='length', max=3.0, min=0.1), FloatSlider(value=1.0, d…"
      ]
     },
     "metadata": {},
     "output_type": "display_data"
    },
    {
     "data": {
      "application/vnd.jupyter.widget-view+json": {
       "model_id": "9c320f9bdd8e41a187c7c1fe70e8a5d2",
       "version_major": 2,
       "version_minor": 0
      },
      "text/plain": [
       "FigureWidget({\n",
       "    'data': [{'line': {'color': 'blue', 'width': 2},\n",
       "              'name': 'Predicted function',\n",
       "              'showlegend': True,\n",
       "              'type': 'scatter',\n",
       "              'uid': 'f25e1fcd-b5f7-41f3-a055-2e1e19c87773',\n",
       "              'visible': True,\n",
       "              'x': array([-1.00000000e+01, -9.90000000e+00, -9.80000000e+00, -9.70000000e+00,\n",
       "                          -9.60000000e+00, -9.50000000e+00, -9.40000000e+00, -9.30000000e+00,\n",
       "                          -9.20000000e+00, -9.10000000e+00, -9.00000000e+00, -8.90000000e+00,\n",
       "                          -8.80000000e+00, -8.70000000e+00, -8.60000000e+00, -8.50000000e+00,\n",
       "                          -8.40000000e+00, -8.30000000e+00, -8.20000000e+00, -8.10000000e+00,\n",
       "                          -8.00000000e+00, -7.90000000e+00, -7.80000000e+00, -7.70000000e+00,\n",
       "                          -7.60000000e+00, -7.50000000e+00, -7.40000000e+00, -7.30000000e+00,\n",
       "                          -7.20000000e+00, -7.10000000e+00, -7.00000000e+00, -6.90000000e+00,\n",
       "                          -6.80000000e+00, -6.70000000e+00, -6.60000000e+00, -6.50000000e+00,\n",
       "                          -6.40000000e+00, -6.30000000e+00, -6.20000000e+00, -6.10000000e+00,\n",
       "                          -6.00000000e+00, -5.90000000e+00, -5.80000000e+00, -5.70000000e+00,\n",
       "                          -5.60000000e+00, -5.50000000e+00, -5.40000000e+00, -5.30000000e+00,\n",
       "                          -5.20000000e+00, -5.10000000e+00, -5.00000000e+00, -4.90000000e+00,\n",
       "                          -4.80000000e+00, -4.70000000e+00, -4.60000000e+00, -4.50000000e+00,\n",
       "                          -4.40000000e+00, -4.30000000e+00, -4.20000000e+00, -4.10000000e+00,\n",
       "                          -4.00000000e+00, -3.90000000e+00, -3.80000000e+00, -3.70000000e+00,\n",
       "                          -3.60000000e+00, -3.50000000e+00, -3.40000000e+00, -3.30000000e+00,\n",
       "                          -3.20000000e+00, -3.10000000e+00, -3.00000000e+00, -2.90000000e+00,\n",
       "                          -2.80000000e+00, -2.70000000e+00, -2.60000000e+00, -2.50000000e+00,\n",
       "                          -2.40000000e+00, -2.30000000e+00, -2.20000000e+00, -2.10000000e+00,\n",
       "                          -2.00000000e+00, -1.90000000e+00, -1.80000000e+00, -1.70000000e+00,\n",
       "                          -1.60000000e+00, -1.50000000e+00, -1.40000000e+00, -1.30000000e+00,\n",
       "                          -1.20000000e+00, -1.10000000e+00, -1.00000000e+00, -9.00000000e-01,\n",
       "                          -8.00000000e-01, -7.00000000e-01, -6.00000000e-01, -5.00000000e-01,\n",
       "                          -4.00000000e-01, -3.00000000e-01, -2.00000000e-01, -1.00000000e-01,\n",
       "                          -3.55271368e-14,  1.00000000e-01,  2.00000000e-01,  3.00000000e-01,\n",
       "                           4.00000000e-01,  5.00000000e-01,  6.00000000e-01,  7.00000000e-01,\n",
       "                           8.00000000e-01,  9.00000000e-01,  1.00000000e+00,  1.10000000e+00,\n",
       "                           1.20000000e+00,  1.30000000e+00,  1.40000000e+00,  1.50000000e+00,\n",
       "                           1.60000000e+00,  1.70000000e+00,  1.80000000e+00,  1.90000000e+00,\n",
       "                           2.00000000e+00,  2.10000000e+00,  2.20000000e+00,  2.30000000e+00,\n",
       "                           2.40000000e+00,  2.50000000e+00,  2.60000000e+00,  2.70000000e+00,\n",
       "                           2.80000000e+00,  2.90000000e+00,  3.00000000e+00,  3.10000000e+00,\n",
       "                           3.20000000e+00,  3.30000000e+00,  3.40000000e+00,  3.50000000e+00,\n",
       "                           3.60000000e+00,  3.70000000e+00,  3.80000000e+00,  3.90000000e+00,\n",
       "                           4.00000000e+00,  4.10000000e+00,  4.20000000e+00,  4.30000000e+00,\n",
       "                           4.40000000e+00,  4.50000000e+00,  4.60000000e+00,  4.70000000e+00,\n",
       "                           4.80000000e+00,  4.90000000e+00,  5.00000000e+00,  5.10000000e+00,\n",
       "                           5.20000000e+00,  5.30000000e+00,  5.40000000e+00,  5.50000000e+00,\n",
       "                           5.60000000e+00,  5.70000000e+00,  5.80000000e+00,  5.90000000e+00,\n",
       "                           6.00000000e+00,  6.10000000e+00,  6.20000000e+00,  6.30000000e+00,\n",
       "                           6.40000000e+00,  6.50000000e+00,  6.60000000e+00,  6.70000000e+00,\n",
       "                           6.80000000e+00,  6.90000000e+00,  7.00000000e+00,  7.10000000e+00,\n",
       "                           7.20000000e+00,  7.30000000e+00,  7.40000000e+00,  7.50000000e+00,\n",
       "                           7.60000000e+00,  7.70000000e+00,  7.80000000e+00,  7.90000000e+00,\n",
       "                           8.00000000e+00,  8.10000000e+00,  8.20000000e+00,  8.30000000e+00,\n",
       "                           8.40000000e+00,  8.50000000e+00,  8.60000000e+00,  8.70000000e+00,\n",
       "                           8.80000000e+00,  8.90000000e+00,  9.00000000e+00,  9.10000000e+00,\n",
       "                           9.20000000e+00,  9.30000000e+00,  9.40000000e+00,  9.50000000e+00,\n",
       "                           9.60000000e+00,  9.70000000e+00,  9.80000000e+00,  9.90000000e+00]),\n",
       "              'y': array([1.92874985e-22, 5.21673666e-22, 1.39694394e-21, 3.70353198e-21,\n",
       "                          9.72098502e-21, 2.52616378e-20, 6.49934797e-20, 1.65552266e-19,\n",
       "                          4.17501006e-19, 1.04240618e-18, 2.57675711e-18, 6.30618989e-18,\n",
       "                          1.52797997e-17, 3.66543340e-17, 8.70542662e-17, 2.04697171e-16,\n",
       "                          4.76530474e-16, 1.09831413e-15, 2.50622189e-15, 5.66199552e-15,\n",
       "                          1.26641655e-14, 2.80440474e-14, 6.14839641e-14, 1.33456608e-13,\n",
       "                          2.86797501e-13, 6.10193668e-13, 1.28533723e-12, 2.68054764e-12,\n",
       "                          5.53461007e-12, 1.13137762e-11, 2.28973485e-11, 4.58796249e-11,\n",
       "                          9.10147076e-11, 1.78755887e-10, 3.47589128e-10, 6.69158609e-10,\n",
       "                          1.27540763e-09, 2.40672244e-09, 4.49634946e-09, 8.31670246e-09,\n",
       "                          1.52299797e-08, 2.76124246e-08, 4.95640532e-08, 8.80817920e-08,\n",
       "                          1.54975314e-07, 2.69957850e-07, 4.65571572e-07, 7.94939362e-07,\n",
       "                          1.34381228e-06, 2.24905597e-06, 3.72665317e-06, 6.11356797e-06,\n",
       "                          9.92950431e-06, 1.59667839e-05, 2.54193465e-05, 4.00652974e-05,\n",
       "                          6.25215038e-05, 9.65934137e-05, 1.47748360e-04, 2.23745794e-04,\n",
       "                          3.35462628e-04, 4.97955422e-04, 7.31802419e-04, 1.06476624e-03,\n",
       "                          1.53381068e-03, 2.18749112e-03, 3.08871541e-03, 4.31784001e-03,\n",
       "                          5.97602290e-03, 8.18870101e-03, 1.11089965e-02, 1.49207861e-02,\n",
       "                          1.98410947e-02, 2.61214099e-02, 3.40474547e-02, 4.39369336e-02,\n",
       "                          5.61347628e-02, 7.10053537e-02, 8.89216175e-02, 1.10250525e-01,\n",
       "                          1.35335283e-01, 1.64474457e-01, 1.97898699e-01, 2.35746077e-01,\n",
       "                          2.78037300e-01, 3.24652467e-01, 3.75311099e-01, 4.29557358e-01,\n",
       "                          4.86752256e-01, 5.46074427e-01, 6.06530660e-01, 6.66976811e-01,\n",
       "                          7.26149037e-01, 7.82704538e-01, 8.35270211e-01, 8.82496903e-01,\n",
       "                          9.23116346e-01, 9.55997482e-01, 9.80198673e-01, 9.95012479e-01,\n",
       "                          1.00000000e+00, 9.95012479e-01, 9.80198673e-01, 9.55997482e-01,\n",
       "                          9.23116346e-01, 8.82496903e-01, 8.35270211e-01, 7.82704538e-01,\n",
       "                          7.26149037e-01, 6.66976811e-01, 6.06530660e-01, 5.46074427e-01,\n",
       "                          4.86752256e-01, 4.29557358e-01, 3.75311099e-01, 3.24652467e-01,\n",
       "                          2.78037300e-01, 2.35746077e-01, 1.97898699e-01, 1.64474457e-01,\n",
       "                          1.35335283e-01, 1.10250525e-01, 8.89216175e-02, 7.10053537e-02,\n",
       "                          5.61347628e-02, 4.39369336e-02, 3.40474547e-02, 2.61214099e-02,\n",
       "                          1.98410947e-02, 1.49207861e-02, 1.11089965e-02, 8.18870101e-03,\n",
       "                          5.97602290e-03, 4.31784001e-03, 3.08871541e-03, 2.18749112e-03,\n",
       "                          1.53381068e-03, 1.06476624e-03, 7.31802419e-04, 4.97955422e-04,\n",
       "                          3.35462628e-04, 2.23745794e-04, 1.47748360e-04, 9.65934137e-05,\n",
       "                          6.25215038e-05, 4.00652974e-05, 2.54193465e-05, 1.59667839e-05,\n",
       "                          9.92950431e-06, 6.11356797e-06, 3.72665317e-06, 2.24905597e-06,\n",
       "                          1.34381228e-06, 7.94939362e-07, 4.65571572e-07, 2.69957850e-07,\n",
       "                          1.54975314e-07, 8.80817920e-08, 4.95640532e-08, 2.76124246e-08,\n",
       "                          1.52299797e-08, 8.31670246e-09, 4.49634946e-09, 2.40672244e-09,\n",
       "                          1.27540763e-09, 6.69158609e-10, 3.47589128e-10, 1.78755887e-10,\n",
       "                          9.10147076e-11, 4.58796249e-11, 2.28973485e-11, 1.13137762e-11,\n",
       "                          5.53461007e-12, 2.68054764e-12, 1.28533723e-12, 6.10193668e-13,\n",
       "                          2.86797501e-13, 1.33456608e-13, 6.14839641e-14, 2.80440474e-14,\n",
       "                          1.26641655e-14, 5.66199552e-15, 2.50622189e-15, 1.09831413e-15,\n",
       "                          4.76530474e-16, 2.04697171e-16, 8.70542662e-17, 3.66543340e-17,\n",
       "                          1.52797997e-17, 6.30618989e-18, 2.57675711e-18, 1.04240618e-18,\n",
       "                          4.17501006e-19, 1.65552266e-19, 6.49934797e-20, 2.52616378e-20,\n",
       "                          9.72098502e-21, 3.70353198e-21, 1.39694394e-21, 5.21673666e-22])}],\n",
       "    'layout': {'autosize': False,\n",
       "               'height': 600,\n",
       "               'legend': {'x': 0.95, 'xanchor': 'right', 'y': 0.3, 'yanchor': 'top'},\n",
       "               'plot_bgcolor': 'rgba(0,0,0,0)',\n",
       "               'template': '...',\n",
       "               'title': {'text': 'Squared exponential kernel', 'x': 0.5, 'xanchor': 'center'},\n",
       "               'width': 800,\n",
       "               'xaxis': {'linecolor': 'black', 'linewidth': 1, 'showline': True, 'title': {'text': 'input values'}},\n",
       "               'yaxis': {'linecolor': 'black',\n",
       "                         'linewidth': 1,\n",
       "                         'range': [0, 5.0],\n",
       "                         'showline': True,\n",
       "                         'title': {'text': 'output values'}}}\n",
       "})"
      ]
     },
     "execution_count": 10,
     "metadata": {},
     "output_type": "execute_result"
    }
   ],
   "source": [
    "x_lines = np.arange(-10, 10, 0.1)\n",
    "kernel = SquaredExponentialKernel(length=1)\n",
    "\n",
    "fig0 = go.FigureWidget(data=[\n",
    "    line_scatter(\n",
    "        x_lines=x_lines,\n",
    "        y_lines=np.array([kernel(x, 0) for x in x_lines]),\n",
    "    )\n",
    "])\n",
    "\n",
    "fig0 = update_layout_of_graph(fig0, title='Squared exponential kernel')\n",
    "\n",
    "\n",
    "@interact(length=(0.1, 3, 0.1), sigma_f=(1, 5, 0.5))\n",
    "def update(length=1, sigma_f=1):\n",
    "    with fig0.batch_update():\n",
    "        kernel = SquaredExponentialKernel(length=length, sigma_f=sigma_f)\n",
    "        fig0.data[0].y = np.array([kernel(x, 0) for x in x_lines])\n",
    "\n",
    "fig0.update_yaxes(range=(0, 5.0))\n",
    "fig0\n",
    "#fig0.write_image(\"fig1.png\", scale=2)"
   ]
  },
  {
   "cell_type": "markdown",
   "id": "a05f015e-1ff5-44cf-b9cc-b4808417da24",
   "metadata": {},
   "source": [
    "### The GPR"
   ]
  },
  {
   "cell_type": "markdown",
   "id": "613a3946",
   "metadata": {},
   "source": [
    "In practical implementations of the GPR you will likely face a couple of stability problems. Among others, numeric approximations in dealing with matrix operations may lead to non-invertible/non-positive-semi-definite covariance matrices which result in errors when calculating the GPR. \n",
    "\n",
    "In order to prevent this error we add the _machine epsilon_ to the diagonal of the later covariance matrix:"
   ]
  },
  {
   "cell_type": "code",
   "execution_count": 11,
   "id": "517a082d",
   "metadata": {},
   "outputs": [
    {
     "name": "stdout",
     "output_type": "stream",
     "text": [
      "Double precision: 2.220446049250313e-16\n",
      "Single precision: 1.1920929e-07\n"
     ]
    }
   ],
   "source": [
    "print(\"Double precision:\", np.finfo(float).eps)\n",
    "# 2.22044604925e-16\n",
    "\n",
    "print(\"Single precision:\", np.finfo(np.float32).eps)\n",
    "# 1.19209e-07"
   ]
  },
  {
   "cell_type": "markdown",
   "id": "18f81bfc",
   "metadata": {},
   "source": [
    "Let us shortly recall the formula to define the GPR:\n",
    "Given training points $x_1,...,x_n\\in \\mathbb{R}^m$ with values $y_1,...,y_n\\in \\mathbb{R}$, $y = (y_i)\\in \\mathbb{R}^n$ and with noise in each point $\\mathcal{N}_{0,\\sigma}$ and points $x_{n+1},...,x_k\\in \\mathbb{R}^m$ for which we want to predict the output, adapting our probability distribution based on the training points leads to:\n",
    "\n",
    "$$\\mathcal{N}(K_*K^{-1}y,K_{**}-K_*K^{-1}K_*^T),$$\n",
    "meaning that we defined a normal (Gaussian) distribtion with mean vector $K_*K^{-1}y$ and covariance matrix $K_{**}-K_*K^{-1}K_*^T$, where \n",
    "$$K= (k(x_i,x_j))_{i,j\\leq n}+\\sigma^2*\\mathbb{1}_n$$\n",
    "$$K_*= (k(x_{i*},x_{j}))_{n+1\\leq i*, j\\leq n}$$\n",
    "$$K_{**}= (k(x_{i*},x_{j*}))_{n+1\\leq i*,j*}$$\n",
    "\n",
    "Above, $K$ is the covariance (kernel) matrix of the training set, $K_*$ the covariance matrix between training and test/prediction set, and $K_{**}$ the covariance of the test set. In practice, the mean on a new point $x_*$ is your prediction."
   ]
  },
  {
   "cell_type": "code",
   "execution_count": 12,
   "id": "06c65a7a",
   "metadata": {},
   "outputs": [],
   "source": [
    "# Helper function to calculate the respective covariance matrices\n",
    "def cov_matrix(x1, x2, cov_function) -> np.array:\n",
    "    return np.array([[cov_function(a, b) for a in x1] for b in x2])"
   ]
  },
  {
   "cell_type": "code",
   "execution_count": 13,
   "id": "d9bdfc5b",
   "metadata": {},
   "outputs": [],
   "source": [
    "class GPR:\n",
    "    def __init__(self,\n",
    "                 data_x: np.array,\n",
    "                 data_y: np.array,\n",
    "                 covariance_function=SquaredExponentialKernel(),\n",
    "                 white_noise_sigma: float = 0):\n",
    "        self.noise = white_noise_sigma\n",
    "        self.data_x = data_x\n",
    "        self.data_y = data_y\n",
    "        self.covariance_function = covariance_function\n",
    "\n",
    "        # Store the inverse of covariance matrix of input (+ machine epsilon on diagonal) since it is needed for every prediction\n",
    "        self._inverse_of_covariance_matrix_of_input = np.linalg.inv(\n",
    "            cov_matrix(data_x, data_x, covariance_function) +\n",
    "            (3e-7 + self.noise) * np.identity(len(self.data_x)))\n",
    "\n",
    "        self._memory = None\n",
    "\n",
    "    # function to predict output at new input values. Store the mean and covariance matrix in memory.\n",
    "\n",
    "    def predict(self, at_values: np.array) -> np.array:\n",
    "        k_lower_left = cov_matrix(self.data_x, at_values,\n",
    "                                  self.covariance_function)\n",
    "        k_lower_right = cov_matrix(at_values, at_values,\n",
    "                                   self.covariance_function)\n",
    "\n",
    "        # Mean.\n",
    "        mean_at_values = np.dot(\n",
    "            k_lower_left,\n",
    "            np.dot(self.data_y,\n",
    "                   self._inverse_of_covariance_matrix_of_input.T).T).flatten()\n",
    "\n",
    "        # Covariance.\n",
    "        cov_at_values = k_lower_right - \\\n",
    "            np.dot(k_lower_left, np.dot(\n",
    "                self._inverse_of_covariance_matrix_of_input, k_lower_left.T))\n",
    "\n",
    "        # Adding value larger than machine epsilon to ensure positive semi definite\n",
    "        cov_at_values = cov_at_values + 3e-7 * np.ones(\n",
    "            np.shape(cov_at_values)[0])\n",
    "\n",
    "        var_at_values = np.diag(cov_at_values)\n",
    "\n",
    "        self._memory = {\n",
    "            'mean': mean_at_values,\n",
    "            'covariance_matrix': cov_at_values,\n",
    "            'variance': var_at_values\n",
    "        }\n",
    "        return mean_at_values"
   ]
  },
  {
   "cell_type": "markdown",
   "id": "9e6b586e",
   "metadata": {},
   "source": [
    "That's it. The GPR is ready to be used! "
   ]
  },
  {
   "cell_type": "markdown",
   "id": "a5e2f744",
   "metadata": {},
   "source": [
    "## Testing"
   ]
  },
  {
   "cell_type": "markdown",
   "id": "9beaf81e-fcd3-4521-9693-cd050a7bdbf6",
   "metadata": {},
   "source": [
    "### Defining the training set by subsampling"
   ]
  },
  {
   "cell_type": "markdown",
   "id": "4a9aa377",
   "metadata": {},
   "source": [
    "First, let us load the training data and plot it. Can you guess what this simple training data corresponds to?"
   ]
  },
  {
   "cell_type": "code",
   "execution_count": 14,
   "id": "12f59452",
   "metadata": {},
   "outputs": [
    {
     "name": "stdout",
     "output_type": "stream",
     "text": [
      "Size of training set:  120035\n"
     ]
    },
    {
     "data": {
      "image/png": "[encoded data removed]",
      "text/plain": [
       "<Figure size 800x500 with 1 Axes>"
      ]
     },
     "metadata": {},
     "output_type": "display_data"
    }
   ],
   "source": [
    "fulldata = np.loadtxt('dists-energies/combineddata.dat')\n",
    "fullx = fulldata.T[0]\n",
    "fully = fulldata.T[1]\n",
    "zero=fully[-1]\n",
    "fully = fully - zero\n",
    "print(\"Size of training set: \", len(fully))\n",
    "plt.figure(figsize=(8, 5))\n",
    "plt.xlim([0.1,7.0])\n",
    "plt.scatter(fullx, fully, marker='o', s=10)\n",
    "plt.ylabel('energy (eV)', fontsize=14)\n",
    "plt.xlabel('distance (A)', fontsize=14)\n",
    "plt.yticks(fontsize=12)\n",
    "plt.xticks(fontsize=12)\n",
    "#plt.scatter(curvex, curvey, marker='o', s=50)\n",
    "plt.show()"
   ]
  },
  {
   "cell_type": "markdown",
   "id": "eeef3b40-26a8-4acc-a444-7464c03d2c1f",
   "metadata": {},
   "source": [
    "It is clear that there should be much simpler ways to fit this training data than using GPR, but here we will see how GPR performs for illustration purposes."
   ]
  },
  {
   "cell_type": "markdown",
   "id": "153fc7d5-1002-4e9e-9f31-bd464c601cc2",
   "metadata": {},
   "source": [
    "### Sub-selecting points randomly"
   ]
  },
  {
   "cell_type": "markdown",
   "id": "880a62b0-be76-4218-bd11-c83a8f686cbe",
   "metadata": {},
   "source": [
    "Instead of using all the data, because the GPR model is non-parametric, meaning that the kernel matrices (amount of parameters) grow with the amount of training data points, we will tran the GPR with a small subsampled set of the 120035 datapoints that we have in total.\n",
    "\n",
    "We will start by seeing what happens if we just take a random subset of points on this dataset."
   ]
  },
  {
   "cell_type": "code",
   "execution_count": 15,
   "id": "1cf4458d-69d1-415f-9877-5ebb23fd1854",
   "metadata": {},
   "outputs": [
    {
     "data": {
      "image/png": "[encoded data removed]",
      "text/plain": [
       "<Figure size 800x500 with 1 Axes>"
      ]
     },
     "metadata": {},
     "output_type": "display_data"
    }
   ],
   "source": [
    "nsamples = 30\n",
    "# Check if nsamples is not greater than the length of the array\n",
    "if nsamples > len(fullx):\n",
    "    raise ValueError(\"nsamples cannot be greater than the length of the array.\")\n",
    "# Draw nsample random indices\n",
    "indices = np.random.choice(len(fullx), nsamples, replace=False)\n",
    "# Select items from your array using these indices\n",
    "selected_x = fullx[indices]\n",
    "selected_y = fully[indices]\n",
    "x_valuesrando=selected_x\n",
    "y_valuesrando=selected_y\n",
    "plt.figure(figsize=(8, 5))\n",
    "plt.xlim([0.1,7.0])\n",
    "plt.scatter(fullx, fully, marker='o', s=10)\n",
    "plt.scatter(x_valuesrando, y_valuesrando, marker='o', s=50)\n",
    "plt.ylabel('energy (eV)', fontsize=14)\n",
    "plt.xlabel('distance (A)', fontsize=14)\n",
    "plt.yticks(fontsize=12)\n",
    "plt.xticks(fontsize=12)\n",
    "plt.show()"
   ]
  },
  {
   "cell_type": "markdown",
   "id": "f0530ccb-6683-4e79-8351-5f05484d9622",
   "metadata": {},
   "source": [
    "Because we have not fixed a random seed, every time you press enter on the cell above, a different random selection of 30 points will be chosen. \n",
    "\n",
    "**Question**: Choose the points many times. Where are they localized? Can you understand why a random selection \"always\" select points only in that region?"
   ]
  },
  {
   "cell_type": "markdown",
   "id": "ef27e427-766c-4562-9ade-74a792196452",
   "metadata": {},
   "source": [
    "### Selecting by FPS"
   ]
  },
  {
   "cell_type": "markdown",
   "id": "67dc4338-1d43-42b2-adab-0fa014b0ab0e",
   "metadata": {},
   "source": [
    "A better way to avoid the bias of the random selection for datasets that are much denser in a particular part of phase space than others, thus ensuring diversity in the training set, is to use techniques such as [farthest-point-sampling](https://minibatchai.com/2021/08/07/FPS.html) (FPS). The first point is selected randomly, and each subsequent point is selected as being the most distant (in a given metric) from the previously selected ones. \n",
    "\n",
    "A simple FPS implementation follows."
   ]
  },
  {
   "cell_type": "code",
   "execution_count": 16,
   "id": "7506b7de",
   "metadata": {},
   "outputs": [],
   "source": [
    "def simple_fps(datax, nsamples):\n",
    "    n=len(datax)\n",
    "    distances=np.zeros((n,), dtype=float)\n",
    "    sampled=np.zeros((nsamples,), dtype=int)\n",
    "    distances[:]=1e10\n",
    "    index=np.random.choice(1, 1, replace=False)[0]\n",
    "    sampled[0]=index\n",
    "    for i in range(nsamples):\n",
    "        for j in range(n):\n",
    "            dist=np.abs(datax[j]-datax[index])\n",
    "            if dist <= distances[j]:\n",
    "                distances[j]=dist\n",
    "        index=np.argmax(distances)\n",
    "        sampled[i]=index\n",
    "    return sampled\n",
    "    "
   ]
  },
  {
   "cell_type": "markdown",
   "id": "68bebd7a-e09d-4ca6-b76a-d0a04e6f806a",
   "metadata": {},
   "source": [
    "Now let us see how FPS chooses 30 points from our training set:"
   ]
  },
  {
   "cell_type": "code",
   "execution_count": 17,
   "id": "f68fa124-ccc3-4ca2-acc0-16ac39b5f251",
   "metadata": {},
   "outputs": [
    {
     "data": {
      "image/png": "[encoded data removed]",
      "text/plain": [
       "<Figure size 800x500 with 1 Axes>"
      ]
     },
     "metadata": {},
     "output_type": "display_data"
    }
   ],
   "source": [
    "nsamples = 30\n",
    "# Check if nsamples is not greater than the length of the array\n",
    "if nsamples > len(fullx):\n",
    "    raise ValueError(\"nsamples cannot be greater than the length of the array.\")\n",
    "# Call fps\n",
    "indices = simple_fps(fullx, nsamples)\n",
    "# print(indices)\n",
    "# Select items from your array using these indices\n",
    "selected_x_fps = fullx[indices]\n",
    "selected_y_fps = fully[indices]\n",
    "x_values=selected_x_fps\n",
    "y_values=selected_y_fps\n",
    "plt.figure(figsize=(8, 5))\n",
    "plt.xlim([0.1,7.0])\n",
    "plt.ylabel('energy (eV)', fontsize=14)\n",
    "plt.xlabel('distance (A)', fontsize=14)\n",
    "plt.yticks(fontsize=12)\n",
    "plt.xticks(fontsize=12)\n",
    "plt.scatter(fullx, fully, marker='o', s=10)\n",
    "plt.scatter(x_values, y_values, marker='o', s=50)\n",
    "plt.show()"
   ]
  },
  {
   "cell_type": "markdown",
   "id": "8410f233",
   "metadata": {},
   "source": [
    "### Training the GPR"
   ]
  },
  {
   "cell_type": "markdown",
   "id": "fe426230",
   "metadata": {},
   "source": [
    "Let us define a helper function which returns a list of all plots of data points, mean, etc. needed to plot a GPR."
   ]
  },
  {
   "cell_type": "code",
   "execution_count": 18,
   "id": "b99b06c2",
   "metadata": {},
   "outputs": [],
   "source": [
    "def plot_GPR(data_x, data_y, model, x, visible=True) -> list:\n",
    "    mean = model.predict(x)\n",
    "\n",
    "    std = np.sqrt(model._memory['variance'])\n",
    "    data = []\n",
    "\n",
    "    for i in range(1, 4):\n",
    "        data.append(\n",
    "            uncertainty_area_scatter(\n",
    "                x_lines=x,\n",
    "                y_lower=mean - i * std,\n",
    "                y_upper=mean + i * std,\n",
    "                name=f\"mean plus/minus {i}*standard deviation\",\n",
    "                visible=visible))\n",
    "\n",
    "    data.append(line_scatter(x_lines=x, y_lines=mean, visible=visible))\n",
    "    data.append(dot_scatter(x_dots=data_x, y_dots=data_y, visible=visible))\n",
    "    data.append(dot_scatter2(x_dots=curvex, y_dots=curvey, visible=visible))\n",
    "    return data"
   ]
  },
  {
   "cell_type": "markdown",
   "id": "51cd9df1",
   "metadata": {},
   "source": [
    "Now, we can visualize our first GPR. \n",
    "\n",
    "**Exercise**: Please comment and uncomment the lines below as suggested in order to see how the GPR evolves as you give more data to it"
   ]
  },
  {
   "cell_type": "code",
   "execution_count": 26,
   "id": "9a82c61f",
   "metadata": {},
   "outputs": [
    {
     "data": {
      "application/vnd.plotly.v1+json": {
       "config": {
        "plotlyServerURL": "https://plot.ly"
       },
       "data": [
        {
         "fill": "toself",
         "fillcolor": "rgba(189,195,199,0.5)",
         "hoverinfo": "skip",
         "line": {
          "color": "rgba(200,200,200,0)"
         },
         "name": "mean plus/minus 1*standard deviation",
         "showlegend": true,
         "type": "scatter",
         "visible": true,
         "x": [
          0.1,
          0.15000000000000002,
          0.20000000000000004,
          0.25000000000000006,
          0.30000000000000004,
          0.3500000000000001,
          0.40000000000000013,
          0.45000000000000007,
          0.5000000000000001,
          0.5500000000000002,
          0.6000000000000002,
          0.6500000000000001,
          0.7000000000000002,
          0.7500000000000002,
          0.8000000000000002,
          0.8500000000000002,
          0.9000000000000002,
          0.9500000000000003,
          1.0000000000000004,
          1.0500000000000003,
          1.1000000000000005,
          1.1500000000000004,
          1.2000000000000004,
          1.2500000000000004,
          1.3000000000000005,
          1.3500000000000005,
          1.4000000000000006,
          1.4500000000000006,
          1.5000000000000004,
          1.5500000000000005,
          1.6000000000000005,
          1.6500000000000006,
          1.7000000000000006,
          1.7500000000000007,
          1.8000000000000007,
          1.8500000000000008,
          1.9000000000000008,
          1.9500000000000006,
          2.0000000000000004,
          2.0500000000000007,
          2.100000000000001,
          2.150000000000001,
          2.2000000000000006,
          2.250000000000001,
          2.3000000000000007,
          2.350000000000001,
          2.400000000000001,
          2.450000000000001,
          2.500000000000001,
          2.5500000000000007,
          2.600000000000001,
          2.650000000000001,
          2.700000000000001,
          2.750000000000001,
          2.800000000000001,
          2.850000000000001,
          2.900000000000001,
          2.950000000000001,
          3.000000000000001,
          3.050000000000001,
          3.100000000000001,
          3.1500000000000012,
          3.200000000000001,
          3.2500000000000013,
          3.300000000000001,
          3.350000000000001,
          3.4000000000000012,
          3.450000000000001,
          3.5000000000000013,
          3.550000000000001,
          3.6000000000000014,
          3.6500000000000012,
          3.7000000000000015,
          3.7500000000000013,
          3.800000000000001,
          3.8500000000000014,
          3.9000000000000012,
          3.9500000000000015,
          4.000000000000001,
          4.050000000000002,
          4.100000000000001,
          4.150000000000001,
          4.200000000000001,
          4.250000000000001,
          4.300000000000001,
          4.350000000000001,
          4.400000000000001,
          4.450000000000001,
          4.500000000000001,
          4.550000000000001,
          4.600000000000001,
          4.650000000000001,
          4.700000000000001,
          4.750000000000001,
          4.800000000000002,
          4.850000000000001,
          4.900000000000001,
          4.950000000000001,
          5.000000000000001,
          5.050000000000002,
          5.100000000000001,
          5.150000000000001,
          5.200000000000001,
          5.250000000000002,
          5.300000000000002,
          5.350000000000001,
          5.400000000000001,
          5.450000000000001,
          5.500000000000002,
          5.550000000000002,
          5.600000000000001,
          5.650000000000001,
          5.700000000000001,
          5.750000000000002,
          5.800000000000002,
          5.850000000000001,
          5.900000000000001,
          5.950000000000002,
          6.000000000000002,
          6.050000000000002,
          6.100000000000001,
          6.150000000000001,
          6.200000000000002,
          6.250000000000002,
          6.300000000000002,
          6.350000000000001,
          6.400000000000002,
          6.450000000000002,
          6.500000000000002,
          6.550000000000002,
          6.600000000000001,
          6.650000000000002,
          6.700000000000002,
          6.750000000000002,
          6.800000000000002,
          6.850000000000002,
          6.900000000000002,
          6.950000000000002,
          6.950000000000002,
          6.900000000000002,
          6.850000000000002,
          6.800000000000002,
          6.750000000000002,
          6.700000000000002,
          6.650000000000002,
          6.600000000000001,
          6.550000000000002,
          6.500000000000002,
          6.450000000000002,
          6.400000000000002,
          6.350000000000001,
          6.300000000000002,
          6.250000000000002,
          6.200000000000002,
          6.150000000000001,
          6.100000000000001,
          6.050000000000002,
          6.000000000000002,
          5.950000000000002,
          5.900000000000001,
          5.850000000000001,
          5.800000000000002,
          5.750000000000002,
          5.700000000000001,
          5.650000000000001,
          5.600000000000001,
          5.550000000000002,
          5.500000000000002,
          5.450000000000001,
          5.400000000000001,
          5.350000000000001,
          5.300000000000002,
          5.250000000000002,
          5.200000000000001,
          5.150000000000001,
          5.100000000000001,
          5.050000000000002,
          5.000000000000001,
          4.950000000000001,
          4.900000000000001,
          4.850000000000001,
          4.800000000000002,
          4.750000000000001,
          4.700000000000001,
          4.650000000000001,
          4.600000000000001,
          4.550000000000001,
          4.500000000000001,
          4.450000000000001,
          4.400000000000001,
          4.350000000000001,
          4.300000000000001,
          4.250000000000001,
          4.200000000000001,
          4.150000000000001,
          4.100000000000001,
          4.050000000000002,
          4.000000000000001,
          3.9500000000000015,
          3.9000000000000012,
          3.8500000000000014,
          3.800000000000001,
          3.7500000000000013,
          3.7000000000000015,
          3.6500000000000012,
          3.6000000000000014,
          3.550000000000001,
          3.5000000000000013,
          3.450000000000001,
          3.4000000000000012,
          3.350000000000001,
          3.300000000000001,
          3.2500000000000013,
          3.200000000000001,
          3.1500000000000012,
          3.100000000000001,
          3.050000000000001,
          3.000000000000001,
          2.950000000000001,
          2.900000000000001,
          2.850000000000001,
          2.800000000000001,
          2.750000000000001,
          2.700000000000001,
          2.650000000000001,
          2.600000000000001,
          2.5500000000000007,
          2.500000000000001,
          2.450000000000001,
          2.400000000000001,
          2.350000000000001,
          2.3000000000000007,
          2.250000000000001,
          2.2000000000000006,
          2.150000000000001,
          2.100000000000001,
          2.0500000000000007,
          2.0000000000000004,
          1.9500000000000006,
          1.9000000000000008,
          1.8500000000000008,
          1.8000000000000007,
          1.7500000000000007,
          1.7000000000000006,
          1.6500000000000006,
          1.6000000000000005,
          1.5500000000000005,
          1.5000000000000004,
          1.4500000000000006,
          1.4000000000000006,
          1.3500000000000005,
          1.3000000000000005,
          1.2500000000000004,
          1.2000000000000004,
          1.1500000000000004,
          1.1000000000000005,
          1.0500000000000003,
          1.0000000000000004,
          0.9500000000000003,
          0.9000000000000002,
          0.8500000000000002,
          0.8000000000000002,
          0.7500000000000002,
          0.7000000000000002,
          0.6500000000000001,
          0.6000000000000002,
          0.5500000000000002,
          0.5000000000000001,
          0.45000000000000007,
          0.40000000000000013,
          0.3500000000000001,
          0.30000000000000004,
          0.25000000000000006,
          0.20000000000000004,
          0.15000000000000002,
          0.1
         ],
         "y": [
          1.0000001499999887,
          1.0000001499999887,
          1.0000001499999887,
          1.0000001499999887,
          1.0000001499999887,
          1.0000001499999887,
          1.0000001499999887,
          1.0000001499999887,
          1.0000001499999887,
          1.0000001499999887,
          1.0000001499999887,
          1.0000001499999887,
          1.0000001499999887,
          1.0000001499999887,
          1.0000001499999887,
          1.0000001499999887,
          1.0000001499999887,
          1.0000001499999887,
          1.0000001499999887,
          1.0000001499999887,
          1.0000001499999887,
          1.0000001499999887,
          1.0000001499999887,
          1.0000001499999887,
          1.0000001499999887,
          1.0000001499999887,
          1.0000001499999887,
          1.0000001499999887,
          1.0000001499999887,
          1.0000001499999887,
          1.0000001499999887,
          1.0000001499999887,
          1.0000001499999887,
          1.0000001499999887,
          1.0000001499999887,
          1.0000001499999887,
          1.0000001499999887,
          1.0000001499999887,
          1.0000001499999887,
          1.0000001499999887,
          1.0000001499999887,
          1.0000001499999887,
          1.0000001499999887,
          1.0000001499999887,
          1.0000001499999887,
          1.0000001499999887,
          1.0000001499999887,
          1.0000001499999887,
          1.0000001499999887,
          1.0000001499999887,
          1.0000001499999887,
          1.0000001499999887,
          1.0000001499999887,
          1.0000001499999887,
          1.0000001499999887,
          1.0000001499999887,
          1.0000001499999887,
          1.0000001499999887,
          1.0000001499999887,
          1.0000001499999887,
          1.0000001499999887,
          1.0000001499999887,
          1.0000001499999887,
          1.0000001499999887,
          1.0000001499999887,
          1.0000001499999887,
          1.0000001499999887,
          1.0000001499999887,
          1.0000001499999887,
          1.0000001499999887,
          1.0000001499999887,
          1.0000001499999887,
          1.0000001499999887,
          1.0000001499999887,
          1.0000001499999887,
          1.0000001499999887,
          1.0000001499999887,
          1.0000001499999887,
          1.0000001499999887,
          1.0000001499999887,
          1.0000001499999887,
          1.0000001499999887,
          1.0000001499999887,
          1.0000001499999887,
          1.0000001499999887,
          1.0000001499999887,
          1.0000001499999887,
          1.0000001499999887,
          1.0000001499999887,
          1.0000001499999887,
          1.0000001499999887,
          1.0000001499999887,
          1.0000001499999887,
          1.0000001499999887,
          1.0000001499999887,
          1.0000001499999887,
          1.0000001499999887,
          1.0000001499999887,
          1.0000001499999887,
          1.0000001499999887,
          1.0000001499999887,
          1.0000001499999887,
          1.0000001499999887,
          1.0000001499999887,
          1.0000001499999887,
          1.0000001499999887,
          1.0000001499999887,
          1.0000001499999887,
          1.0000001499999887,
          1.0000001499999887,
          1.0000001499999887,
          1.0000001499999887,
          1.0000001499999887,
          1.0000001499999887,
          1.0000001499999887,
          1.0000001499999887,
          1.0000001499999887,
          1.0000001499999887,
          1.0000001499999887,
          1.0000001499999887,
          1.0000001499999887,
          1.0000001499999887,
          1.0000001499999887,
          1.0000001499999887,
          1.0000001499999887,
          1.0000001499999887,
          1.0000001499999887,
          1.0000001499999887,
          1.0000001499999887,
          1.0000001499999887,
          1.0000001499999887,
          1.0000001499999887,
          1.0000001499999887,
          1.0000001499999887,
          1.0000001499999887,
          1.0000001499999887,
          1.0000001499999887,
          1.0000001499999887,
          -1.0000001499999887,
          -1.0000001499999887,
          -1.0000001499999887,
          -1.0000001499999887,
          -1.0000001499999887,
          -1.0000001499999887,
          -1.0000001499999887,
          -1.0000001499999887,
          -1.0000001499999887,
          -1.0000001499999887,
          -1.0000001499999887,
          -1.0000001499999887,
          -1.0000001499999887,
          -1.0000001499999887,
          -1.0000001499999887,
          -1.0000001499999887,
          -1.0000001499999887,
          -1.0000001499999887,
          -1.0000001499999887,
          -1.0000001499999887,
          -1.0000001499999887,
          -1.0000001499999887,
          -1.0000001499999887,
          -1.0000001499999887,
          -1.0000001499999887,
          -1.0000001499999887,
          -1.0000001499999887,
          -1.0000001499999887,
          -1.0000001499999887,
          -1.0000001499999887,
          -1.0000001499999887,
          -1.0000001499999887,
          -1.0000001499999887,
          -1.0000001499999887,
          -1.0000001499999887,
          -1.0000001499999887,
          -1.0000001499999887,
          -1.0000001499999887,
          -1.0000001499999887,
          -1.0000001499999887,
          -1.0000001499999887,
          -1.0000001499999887,
          -1.0000001499999887,
          -1.0000001499999887,
          -1.0000001499999887,
          -1.0000001499999887,
          -1.0000001499999887,
          -1.0000001499999887,
          -1.0000001499999887,
          -1.0000001499999887,
          -1.0000001499999887,
          -1.0000001499999887,
          -1.0000001499999887,
          -1.0000001499999887,
          -1.0000001499999887,
          -1.0000001499999887,
          -1.0000001499999887,
          -1.0000001499999887,
          -1.0000001499999887,
          -1.0000001499999887,
          -1.0000001499999887,
          -1.0000001499999887,
          -1.0000001499999887,
          -1.0000001499999887,
          -1.0000001499999887,
          -1.0000001499999887,
          -1.0000001499999887,
          -1.0000001499999887,
          -1.0000001499999887,
          -1.0000001499999887,
          -1.0000001499999887,
          -1.0000001499999887,
          -1.0000001499999887,
          -1.0000001499999887,
          -1.0000001499999887,
          -1.0000001499999887,
          -1.0000001499999887,
          -1.0000001499999887,
          -1.0000001499999887,
          -1.0000001499999887,
          -1.0000001499999887,
          -1.0000001499999887,
          -1.0000001499999887,
          -1.0000001499999887,
          -1.0000001499999887,
          -1.0000001499999887,
          -1.0000001499999887,
          -1.0000001499999887,
          -1.0000001499999887,
          -1.0000001499999887,
          -1.0000001499999887,
          -1.0000001499999887,
          -1.0000001499999887,
          -1.0000001499999887,
          -1.0000001499999887,
          -1.0000001499999887,
          -1.0000001499999887,
          -1.0000001499999887,
          -1.0000001499999887,
          -1.0000001499999887,
          -1.0000001499999887,
          -1.0000001499999887,
          -1.0000001499999887,
          -1.0000001499999887,
          -1.0000001499999887,
          -1.0000001499999887,
          -1.0000001499999887,
          -1.0000001499999887,
          -1.0000001499999887,
          -1.0000001499999887,
          -1.0000001499999887,
          -1.0000001499999887,
          -1.0000001499999887,
          -1.0000001499999887,
          -1.0000001499999887,
          -1.0000001499999887,
          -1.0000001499999887,
          -1.0000001499999887,
          -1.0000001499999887,
          -1.0000001499999887,
          -1.0000001499999887,
          -1.0000001499999887,
          -1.0000001499999887,
          -1.0000001499999887,
          -1.0000001499999887,
          -1.0000001499999887,
          -1.0000001499999887,
          -1.0000001499999887,
          -1.0000001499999887,
          -1.0000001499999887,
          -1.0000001499999887,
          -1.0000001499999887,
          -1.0000001499999887,
          -1.0000001499999887,
          -1.0000001499999887,
          -1.0000001499999887,
          -1.0000001499999887,
          -1.0000001499999887
         ]
        },
        {
         "fill": "toself",
         "fillcolor": "rgba(189,195,199,0.5)",
         "hoverinfo": "skip",
         "line": {
          "color": "rgba(200,200,200,0)"
         },
         "name": "mean plus/minus 2*standard deviation",
         "showlegend": true,
         "type": "scatter",
         "visible": true,
         "x": [
          0.1,
          0.15000000000000002,
          0.20000000000000004,
          0.25000000000000006,
          0.30000000000000004,
          0.3500000000000001,
          0.40000000000000013,
          0.45000000000000007,
          0.5000000000000001,
          0.5500000000000002,
          0.6000000000000002,
          0.6500000000000001,
          0.7000000000000002,
          0.7500000000000002,
          0.8000000000000002,
          0.8500000000000002,
          0.9000000000000002,
          0.9500000000000003,
          1.0000000000000004,
          1.0500000000000003,
          1.1000000000000005,
          1.1500000000000004,
          1.2000000000000004,
          1.2500000000000004,
          1.3000000000000005,
          1.3500000000000005,
          1.4000000000000006,
          1.4500000000000006,
          1.5000000000000004,
          1.5500000000000005,
          1.6000000000000005,
          1.6500000000000006,
          1.7000000000000006,
          1.7500000000000007,
          1.8000000000000007,
          1.8500000000000008,
          1.9000000000000008,
          1.9500000000000006,
          2.0000000000000004,
          2.0500000000000007,
          2.100000000000001,
          2.150000000000001,
          2.2000000000000006,
          2.250000000000001,
          2.3000000000000007,
          2.350000000000001,
          2.400000000000001,
          2.450000000000001,
          2.500000000000001,
          2.5500000000000007,
          2.600000000000001,
          2.650000000000001,
          2.700000000000001,
          2.750000000000001,
          2.800000000000001,
          2.850000000000001,
          2.900000000000001,
          2.950000000000001,
          3.000000000000001,
          3.050000000000001,
          3.100000000000001,
          3.1500000000000012,
          3.200000000000001,
          3.2500000000000013,
          3.300000000000001,
          3.350000000000001,
          3.4000000000000012,
          3.450000000000001,
          3.5000000000000013,
          3.550000000000001,
          3.6000000000000014,
          3.6500000000000012,
          3.7000000000000015,
          3.7500000000000013,
          3.800000000000001,
          3.8500000000000014,
          3.9000000000000012,
          3.9500000000000015,
          4.000000000000001,
          4.050000000000002,
          4.100000000000001,
          4.150000000000001,
          4.200000000000001,
          4.250000000000001,
          4.300000000000001,
          4.350000000000001,
          4.400000000000001,
          4.450000000000001,
          4.500000000000001,
          4.550000000000001,
          4.600000000000001,
          4.650000000000001,
          4.700000000000001,
          4.750000000000001,
          4.800000000000002,
          4.850000000000001,
          4.900000000000001,
          4.950000000000001,
          5.000000000000001,
          5.050000000000002,
          5.100000000000001,
          5.150000000000001,
          5.200000000000001,
          5.250000000000002,
          5.300000000000002,
          5.350000000000001,
          5.400000000000001,
          5.450000000000001,
          5.500000000000002,
          5.550000000000002,
          5.600000000000001,
          5.650000000000001,
          5.700000000000001,
          5.750000000000002,
          5.800000000000002,
          5.850000000000001,
          5.900000000000001,
          5.950000000000002,
          6.000000000000002,
          6.050000000000002,
          6.100000000000001,
          6.150000000000001,
          6.200000000000002,
          6.250000000000002,
          6.300000000000002,
          6.350000000000001,
          6.400000000000002,
          6.450000000000002,
          6.500000000000002,
          6.550000000000002,
          6.600000000000001,
          6.650000000000002,
          6.700000000000002,
          6.750000000000002,
          6.800000000000002,
          6.850000000000002,
          6.900000000000002,
          6.950000000000002,
          6.950000000000002,
          6.900000000000002,
          6.850000000000002,
          6.800000000000002,
          6.750000000000002,
          6.700000000000002,
          6.650000000000002,
          6.600000000000001,
          6.550000000000002,
          6.500000000000002,
          6.450000000000002,
          6.400000000000002,
          6.350000000000001,
          6.300000000000002,
          6.250000000000002,
          6.200000000000002,
          6.150000000000001,
          6.100000000000001,
          6.050000000000002,
          6.000000000000002,
          5.950000000000002,
          5.900000000000001,
          5.850000000000001,
          5.800000000000002,
          5.750000000000002,
          5.700000000000001,
          5.650000000000001,
          5.600000000000001,
          5.550000000000002,
          5.500000000000002,
          5.450000000000001,
          5.400000000000001,
          5.350000000000001,
          5.300000000000002,
          5.250000000000002,
          5.200000000000001,
          5.150000000000001,
          5.100000000000001,
          5.050000000000002,
          5.000000000000001,
          4.950000000000001,
          4.900000000000001,
          4.850000000000001,
          4.800000000000002,
          4.750000000000001,
          4.700000000000001,
          4.650000000000001,
          4.600000000000001,
          4.550000000000001,
          4.500000000000001,
          4.450000000000001,
          4.400000000000001,
          4.350000000000001,
          4.300000000000001,
          4.250000000000001,
          4.200000000000001,
          4.150000000000001,
          4.100000000000001,
          4.050000000000002,
          4.000000000000001,
          3.9500000000000015,
          3.9000000000000012,
          3.8500000000000014,
          3.800000000000001,
          3.7500000000000013,
          3.7000000000000015,
          3.6500000000000012,
          3.6000000000000014,
          3.550000000000001,
          3.5000000000000013,
          3.450000000000001,
          3.4000000000000012,
          3.350000000000001,
          3.300000000000001,
          3.2500000000000013,
          3.200000000000001,
          3.1500000000000012,
          3.100000000000001,
          3.050000000000001,
          3.000000000000001,
          2.950000000000001,
          2.900000000000001,
          2.850000000000001,
          2.800000000000001,
          2.750000000000001,
          2.700000000000001,
          2.650000000000001,
          2.600000000000001,
          2.5500000000000007,
          2.500000000000001,
          2.450000000000001,
          2.400000000000001,
          2.350000000000001,
          2.3000000000000007,
          2.250000000000001,
          2.2000000000000006,
          2.150000000000001,
          2.100000000000001,
          2.0500000000000007,
          2.0000000000000004,
          1.9500000000000006,
          1.9000000000000008,
          1.8500000000000008,
          1.8000000000000007,
          1.7500000000000007,
          1.7000000000000006,
          1.6500000000000006,
          1.6000000000000005,
          1.5500000000000005,
          1.5000000000000004,
          1.4500000000000006,
          1.4000000000000006,
          1.3500000000000005,
          1.3000000000000005,
          1.2500000000000004,
          1.2000000000000004,
          1.1500000000000004,
          1.1000000000000005,
          1.0500000000000003,
          1.0000000000000004,
          0.9500000000000003,
          0.9000000000000002,
          0.8500000000000002,
          0.8000000000000002,
          0.7500000000000002,
          0.7000000000000002,
          0.6500000000000001,
          0.6000000000000002,
          0.5500000000000002,
          0.5000000000000001,
          0.45000000000000007,
          0.40000000000000013,
          0.3500000000000001,
          0.30000000000000004,
          0.25000000000000006,
          0.20000000000000004,
          0.15000000000000002,
          0.1
         ],
         "y": [
          2.0000002999999773,
          2.0000002999999773,
          2.0000002999999773,
          2.0000002999999773,
          2.0000002999999773,
          2.0000002999999773,
          2.0000002999999773,
          2.0000002999999773,
          2.0000002999999773,
          2.0000002999999773,
          2.0000002999999773,
          2.0000002999999773,
          2.0000002999999773,
          2.0000002999999773,
          2.0000002999999773,
          2.0000002999999773,
          2.0000002999999773,
          2.0000002999999773,
          2.0000002999999773,
          2.0000002999999773,
          2.0000002999999773,
          2.0000002999999773,
          2.0000002999999773,
          2.0000002999999773,
          2.0000002999999773,
          2.0000002999999773,
          2.0000002999999773,
          2.0000002999999773,
          2.0000002999999773,
          2.0000002999999773,
          2.0000002999999773,
          2.0000002999999773,
          2.0000002999999773,
          2.0000002999999773,
          2.0000002999999773,
          2.0000002999999773,
          2.0000002999999773,
          2.0000002999999773,
          2.0000002999999773,
          2.0000002999999773,
          2.0000002999999773,
          2.0000002999999773,
          2.0000002999999773,
          2.0000002999999773,
          2.0000002999999773,
          2.0000002999999773,
          2.0000002999999773,
          2.0000002999999773,
          2.0000002999999773,
          2.0000002999999773,
          2.0000002999999773,
          2.0000002999999773,
          2.0000002999999773,
          2.0000002999999773,
          2.0000002999999773,
          2.0000002999999773,
          2.0000002999999773,
          2.0000002999999773,
          2.0000002999999773,
          2.0000002999999773,
          2.0000002999999773,
          2.0000002999999773,
          2.0000002999999773,
          2.0000002999999773,
          2.0000002999999773,
          2.0000002999999773,
          2.0000002999999773,
          2.0000002999999773,
          2.0000002999999773,
          2.0000002999999773,
          2.0000002999999773,
          2.0000002999999773,
          2.0000002999999773,
          2.0000002999999773,
          2.0000002999999773,
          2.0000002999999773,
          2.0000002999999773,
          2.0000002999999773,
          2.0000002999999773,
          2.0000002999999773,
          2.0000002999999773,
          2.0000002999999773,
          2.0000002999999773,
          2.0000002999999773,
          2.0000002999999773,
          2.0000002999999773,
          2.0000002999999773,
          2.0000002999999773,
          2.0000002999999773,
          2.0000002999999773,
          2.0000002999999773,
          2.0000002999999773,
          2.0000002999999773,
          2.0000002999999773,
          2.0000002999999773,
          2.0000002999999773,
          2.0000002999999773,
          2.0000002999999773,
          2.0000002999999773,
          2.0000002999999773,
          2.0000002999999773,
          2.0000002999999773,
          2.0000002999999773,
          2.0000002999999773,
          2.0000002999999773,
          2.0000002999999773,
          2.0000002999999773,
          2.0000002999999773,
          2.0000002999999773,
          2.0000002999999773,
          2.0000002999999773,
          2.0000002999999773,
          2.0000002999999773,
          2.0000002999999773,
          2.0000002999999773,
          2.0000002999999773,
          2.0000002999999773,
          2.0000002999999773,
          2.0000002999999773,
          2.0000002999999773,
          2.0000002999999773,
          2.0000002999999773,
          2.0000002999999773,
          2.0000002999999773,
          2.0000002999999773,
          2.0000002999999773,
          2.0000002999999773,
          2.0000002999999773,
          2.0000002999999773,
          2.0000002999999773,
          2.0000002999999773,
          2.0000002999999773,
          2.0000002999999773,
          2.0000002999999773,
          2.0000002999999773,
          2.0000002999999773,
          2.0000002999999773,
          2.0000002999999773,
          -2.0000002999999773,
          -2.0000002999999773,
          -2.0000002999999773,
          -2.0000002999999773,
          -2.0000002999999773,
          -2.0000002999999773,
          -2.0000002999999773,
          -2.0000002999999773,
          -2.0000002999999773,
          -2.0000002999999773,
          -2.0000002999999773,
          -2.0000002999999773,
          -2.0000002999999773,
          -2.0000002999999773,
          -2.0000002999999773,
          -2.0000002999999773,
          -2.0000002999999773,
          -2.0000002999999773,
          -2.0000002999999773,
          -2.0000002999999773,
          -2.0000002999999773,
          -2.0000002999999773,
          -2.0000002999999773,
          -2.0000002999999773,
          -2.0000002999999773,
          -2.0000002999999773,
          -2.0000002999999773,
          -2.0000002999999773,
          -2.0000002999999773,
          -2.0000002999999773,
          -2.0000002999999773,
          -2.0000002999999773,
          -2.0000002999999773,
          -2.0000002999999773,
          -2.0000002999999773,
          -2.0000002999999773,
          -2.0000002999999773,
          -2.0000002999999773,
          -2.0000002999999773,
          -2.0000002999999773,
          -2.0000002999999773,
          -2.0000002999999773,
          -2.0000002999999773,
          -2.0000002999999773,
          -2.0000002999999773,
          -2.0000002999999773,
          -2.0000002999999773,
          -2.0000002999999773,
          -2.0000002999999773,
          -2.0000002999999773,
          -2.0000002999999773,
          -2.0000002999999773,
          -2.0000002999999773,
          -2.0000002999999773,
          -2.0000002999999773,
          -2.0000002999999773,
          -2.0000002999999773,
          -2.0000002999999773,
          -2.0000002999999773,
          -2.0000002999999773,
          -2.0000002999999773,
          -2.0000002999999773,
          -2.0000002999999773,
          -2.0000002999999773,
          -2.0000002999999773,
          -2.0000002999999773,
          -2.0000002999999773,
          -2.0000002999999773,
          -2.0000002999999773,
          -2.0000002999999773,
          -2.0000002999999773,
          -2.0000002999999773,
          -2.0000002999999773,
          -2.0000002999999773,
          -2.0000002999999773,
          -2.0000002999999773,
          -2.0000002999999773,
          -2.0000002999999773,
          -2.0000002999999773,
          -2.0000002999999773,
          -2.0000002999999773,
          -2.0000002999999773,
          -2.0000002999999773,
          -2.0000002999999773,
          -2.0000002999999773,
          -2.0000002999999773,
          -2.0000002999999773,
          -2.0000002999999773,
          -2.0000002999999773,
          -2.0000002999999773,
          -2.0000002999999773,
          -2.0000002999999773,
          -2.0000002999999773,
          -2.0000002999999773,
          -2.0000002999999773,
          -2.0000002999999773,
          -2.0000002999999773,
          -2.0000002999999773,
          -2.0000002999999773,
          -2.0000002999999773,
          -2.0000002999999773,
          -2.0000002999999773,
          -2.0000002999999773,
          -2.0000002999999773,
          -2.0000002999999773,
          -2.0000002999999773,
          -2.0000002999999773,
          -2.0000002999999773,
          -2.0000002999999773,
          -2.0000002999999773,
          -2.0000002999999773,
          -2.0000002999999773,
          -2.0000002999999773,
          -2.0000002999999773,
          -2.0000002999999773,
          -2.0000002999999773,
          -2.0000002999999773,
          -2.0000002999999773,
          -2.0000002999999773,
          -2.0000002999999773,
          -2.0000002999999773,
          -2.0000002999999773,
          -2.0000002999999773,
          -2.0000002999999773,
          -2.0000002999999773,
          -2.0000002999999773,
          -2.0000002999999773,
          -2.0000002999999773,
          -2.0000002999999773,
          -2.0000002999999773,
          -2.0000002999999773,
          -2.0000002999999773,
          -2.0000002999999773,
          -2.0000002999999773,
          -2.0000002999999773,
          -2.0000002999999773,
          -2.0000002999999773,
          -2.0000002999999773
         ]
        },
        {
         "fill": "toself",
         "fillcolor": "rgba(189,195,199,0.5)",
         "hoverinfo": "skip",
         "line": {
          "color": "rgba(200,200,200,0)"
         },
         "name": "mean plus/minus 3*standard deviation",
         "showlegend": true,
         "type": "scatter",
         "visible": true,
         "x": [
          0.1,
          0.15000000000000002,
          0.20000000000000004,
          0.25000000000000006,
          0.30000000000000004,
          0.3500000000000001,
          0.40000000000000013,
          0.45000000000000007,
          0.5000000000000001,
          0.5500000000000002,
          0.6000000000000002,
          0.6500000000000001,
          0.7000000000000002,
          0.7500000000000002,
          0.8000000000000002,
          0.8500000000000002,
          0.9000000000000002,
          0.9500000000000003,
          1.0000000000000004,
          1.0500000000000003,
          1.1000000000000005,
          1.1500000000000004,
          1.2000000000000004,
          1.2500000000000004,
          1.3000000000000005,
          1.3500000000000005,
          1.4000000000000006,
          1.4500000000000006,
          1.5000000000000004,
          1.5500000000000005,
          1.6000000000000005,
          1.6500000000000006,
          1.7000000000000006,
          1.7500000000000007,
          1.8000000000000007,
          1.8500000000000008,
          1.9000000000000008,
          1.9500000000000006,
          2.0000000000000004,
          2.0500000000000007,
          2.100000000000001,
          2.150000000000001,
          2.2000000000000006,
          2.250000000000001,
          2.3000000000000007,
          2.350000000000001,
          2.400000000000001,
          2.450000000000001,
          2.500000000000001,
          2.5500000000000007,
          2.600000000000001,
          2.650000000000001,
          2.700000000000001,
          2.750000000000001,
          2.800000000000001,
          2.850000000000001,
          2.900000000000001,
          2.950000000000001,
          3.000000000000001,
          3.050000000000001,
          3.100000000000001,
          3.1500000000000012,
          3.200000000000001,
          3.2500000000000013,
          3.300000000000001,
          3.350000000000001,
          3.4000000000000012,
          3.450000000000001,
          3.5000000000000013,
          3.550000000000001,
          3.6000000000000014,
          3.6500000000000012,
          3.7000000000000015,
          3.7500000000000013,
          3.800000000000001,
          3.8500000000000014,
          3.9000000000000012,
          3.9500000000000015,
          4.000000000000001,
          4.050000000000002,
          4.100000000000001,
          4.150000000000001,
          4.200000000000001,
          4.250000000000001,
          4.300000000000001,
          4.350000000000001,
          4.400000000000001,
          4.450000000000001,
          4.500000000000001,
          4.550000000000001,
          4.600000000000001,
          4.650000000000001,
          4.700000000000001,
          4.750000000000001,
          4.800000000000002,
          4.850000000000001,
          4.900000000000001,
          4.950000000000001,
          5.000000000000001,
          5.050000000000002,
          5.100000000000001,
          5.150000000000001,
          5.200000000000001,
          5.250000000000002,
          5.300000000000002,
          5.350000000000001,
          5.400000000000001,
          5.450000000000001,
          5.500000000000002,
          5.550000000000002,
          5.600000000000001,
          5.650000000000001,
          5.700000000000001,
          5.750000000000002,
          5.800000000000002,
          5.850000000000001,
          5.900000000000001,
          5.950000000000002,
          6.000000000000002,
          6.050000000000002,
          6.100000000000001,
          6.150000000000001,
          6.200000000000002,
          6.250000000000002,
          6.300000000000002,
          6.350000000000001,
          6.400000000000002,
          6.450000000000002,
          6.500000000000002,
          6.550000000000002,
          6.600000000000001,
          6.650000000000002,
          6.700000000000002,
          6.750000000000002,
          6.800000000000002,
          6.850000000000002,
          6.900000000000002,
          6.950000000000002,
          6.950000000000002,
          6.900000000000002,
          6.850000000000002,
          6.800000000000002,
          6.750000000000002,
          6.700000000000002,
          6.650000000000002,
          6.600000000000001,
          6.550000000000002,
          6.500000000000002,
          6.450000000000002,
          6.400000000000002,
          6.350000000000001,
          6.300000000000002,
          6.250000000000002,
          6.200000000000002,
          6.150000000000001,
          6.100000000000001,
          6.050000000000002,
          6.000000000000002,
          5.950000000000002,
          5.900000000000001,
          5.850000000000001,
          5.800000000000002,
          5.750000000000002,
          5.700000000000001,
          5.650000000000001,
          5.600000000000001,
          5.550000000000002,
          5.500000000000002,
          5.450000000000001,
          5.400000000000001,
          5.350000000000001,
          5.300000000000002,
          5.250000000000002,
          5.200000000000001,
          5.150000000000001,
          5.100000000000001,
          5.050000000000002,
          5.000000000000001,
          4.950000000000001,
          4.900000000000001,
          4.850000000000001,
          4.800000000000002,
          4.750000000000001,
          4.700000000000001,
          4.650000000000001,
          4.600000000000001,
          4.550000000000001,
          4.500000000000001,
          4.450000000000001,
          4.400000000000001,
          4.350000000000001,
          4.300000000000001,
          4.250000000000001,
          4.200000000000001,
          4.150000000000001,
          4.100000000000001,
          4.050000000000002,
          4.000000000000001,
          3.9500000000000015,
          3.9000000000000012,
          3.8500000000000014,
          3.800000000000001,
          3.7500000000000013,
          3.7000000000000015,
          3.6500000000000012,
          3.6000000000000014,
          3.550000000000001,
          3.5000000000000013,
          3.450000000000001,
          3.4000000000000012,
          3.350000000000001,
          3.300000000000001,
          3.2500000000000013,
          3.200000000000001,
          3.1500000000000012,
          3.100000000000001,
          3.050000000000001,
          3.000000000000001,
          2.950000000000001,
          2.900000000000001,
          2.850000000000001,
          2.800000000000001,
          2.750000000000001,
          2.700000000000001,
          2.650000000000001,
          2.600000000000001,
          2.5500000000000007,
          2.500000000000001,
          2.450000000000001,
          2.400000000000001,
          2.350000000000001,
          2.3000000000000007,
          2.250000000000001,
          2.2000000000000006,
          2.150000000000001,
          2.100000000000001,
          2.0500000000000007,
          2.0000000000000004,
          1.9500000000000006,
          1.9000000000000008,
          1.8500000000000008,
          1.8000000000000007,
          1.7500000000000007,
          1.7000000000000006,
          1.6500000000000006,
          1.6000000000000005,
          1.5500000000000005,
          1.5000000000000004,
          1.4500000000000006,
          1.4000000000000006,
          1.3500000000000005,
          1.3000000000000005,
          1.2500000000000004,
          1.2000000000000004,
          1.1500000000000004,
          1.1000000000000005,
          1.0500000000000003,
          1.0000000000000004,
          0.9500000000000003,
          0.9000000000000002,
          0.8500000000000002,
          0.8000000000000002,
          0.7500000000000002,
          0.7000000000000002,
          0.6500000000000001,
          0.6000000000000002,
          0.5500000000000002,
          0.5000000000000001,
          0.45000000000000007,
          0.40000000000000013,
          0.3500000000000001,
          0.30000000000000004,
          0.25000000000000006,
          0.20000000000000004,
          0.15000000000000002,
          0.1
         ],
         "y": [
          3.000000449999966,
          3.000000449999966,
          3.000000449999966,
          3.000000449999966,
          3.000000449999966,
          3.000000449999966,
          3.000000449999966,
          3.000000449999966,
          3.000000449999966,
          3.000000449999966,
          3.000000449999966,
          3.000000449999966,
          3.000000449999966,
          3.000000449999966,
          3.000000449999966,
          3.000000449999966,
          3.000000449999966,
          3.000000449999966,
          3.000000449999966,
          3.000000449999966,
          3.000000449999966,
          3.000000449999966,
          3.000000449999966,
          3.000000449999966,
          3.000000449999966,
          3.000000449999966,
          3.000000449999966,
          3.000000449999966,
          3.000000449999966,
          3.000000449999966,
          3.000000449999966,
          3.000000449999966,
          3.000000449999966,
          3.000000449999966,
          3.000000449999966,
          3.000000449999966,
          3.000000449999966,
          3.000000449999966,
          3.000000449999966,
          3.000000449999966,
          3.000000449999966,
          3.000000449999966,
          3.000000449999966,
          3.000000449999966,
          3.000000449999966,
          3.000000449999966,
          3.000000449999966,
          3.000000449999966,
          3.000000449999966,
          3.000000449999966,
          3.000000449999966,
          3.000000449999966,
          3.000000449999966,
          3.000000449999966,
          3.000000449999966,
          3.000000449999966,
          3.000000449999966,
          3.000000449999966,
          3.000000449999966,
          3.000000449999966,
          3.000000449999966,
          3.000000449999966,
          3.000000449999966,
          3.000000449999966,
          3.000000449999966,
          3.000000449999966,
          3.000000449999966,
          3.000000449999966,
          3.000000449999966,
          3.000000449999966,
          3.000000449999966,
          3.000000449999966,
          3.000000449999966,
          3.000000449999966,
          3.000000449999966,
          3.000000449999966,
          3.000000449999966,
          3.000000449999966,
          3.000000449999966,
          3.000000449999966,
          3.000000449999966,
          3.000000449999966,
          3.000000449999966,
          3.000000449999966,
          3.000000449999966,
          3.000000449999966,
          3.000000449999966,
          3.000000449999966,
          3.000000449999966,
          3.000000449999966,
          3.000000449999966,
          3.000000449999966,
          3.000000449999966,
          3.000000449999966,
          3.000000449999966,
          3.000000449999966,
          3.000000449999966,
          3.000000449999966,
          3.000000449999966,
          3.000000449999966,
          3.000000449999966,
          3.000000449999966,
          3.000000449999966,
          3.000000449999966,
          3.000000449999966,
          3.000000449999966,
          3.000000449999966,
          3.000000449999966,
          3.000000449999966,
          3.000000449999966,
          3.000000449999966,
          3.000000449999966,
          3.000000449999966,
          3.000000449999966,
          3.000000449999966,
          3.000000449999966,
          3.000000449999966,
          3.000000449999966,
          3.000000449999966,
          3.000000449999966,
          3.000000449999966,
          3.000000449999966,
          3.000000449999966,
          3.000000449999966,
          3.000000449999966,
          3.000000449999966,
          3.000000449999966,
          3.000000449999966,
          3.000000449999966,
          3.000000449999966,
          3.000000449999966,
          3.000000449999966,
          3.000000449999966,
          3.000000449999966,
          3.000000449999966,
          3.000000449999966,
          3.000000449999966,
          3.000000449999966,
          -3.000000449999966,
          -3.000000449999966,
          -3.000000449999966,
          -3.000000449999966,
          -3.000000449999966,
          -3.000000449999966,
          -3.000000449999966,
          -3.000000449999966,
          -3.000000449999966,
          -3.000000449999966,
          -3.000000449999966,
          -3.000000449999966,
          -3.000000449999966,
          -3.000000449999966,
          -3.000000449999966,
          -3.000000449999966,
          -3.000000449999966,
          -3.000000449999966,
          -3.000000449999966,
          -3.000000449999966,
          -3.000000449999966,
          -3.000000449999966,
          -3.000000449999966,
          -3.000000449999966,
          -3.000000449999966,
          -3.000000449999966,
          -3.000000449999966,
          -3.000000449999966,
          -3.000000449999966,
          -3.000000449999966,
          -3.000000449999966,
          -3.000000449999966,
          -3.000000449999966,
          -3.000000449999966,
          -3.000000449999966,
          -3.000000449999966,
          -3.000000449999966,
          -3.000000449999966,
          -3.000000449999966,
          -3.000000449999966,
          -3.000000449999966,
          -3.000000449999966,
          -3.000000449999966,
          -3.000000449999966,
          -3.000000449999966,
          -3.000000449999966,
          -3.000000449999966,
          -3.000000449999966,
          -3.000000449999966,
          -3.000000449999966,
          -3.000000449999966,
          -3.000000449999966,
          -3.000000449999966,
          -3.000000449999966,
          -3.000000449999966,
          -3.000000449999966,
          -3.000000449999966,
          -3.000000449999966,
          -3.000000449999966,
          -3.000000449999966,
          -3.000000449999966,
          -3.000000449999966,
          -3.000000449999966,
          -3.000000449999966,
          -3.000000449999966,
          -3.000000449999966,
          -3.000000449999966,
          -3.000000449999966,
          -3.000000449999966,
          -3.000000449999966,
          -3.000000449999966,
          -3.000000449999966,
          -3.000000449999966,
          -3.000000449999966,
          -3.000000449999966,
          -3.000000449999966,
          -3.000000449999966,
          -3.000000449999966,
          -3.000000449999966,
          -3.000000449999966,
          -3.000000449999966,
          -3.000000449999966,
          -3.000000449999966,
          -3.000000449999966,
          -3.000000449999966,
          -3.000000449999966,
          -3.000000449999966,
          -3.000000449999966,
          -3.000000449999966,
          -3.000000449999966,
          -3.000000449999966,
          -3.000000449999966,
          -3.000000449999966,
          -3.000000449999966,
          -3.000000449999966,
          -3.000000449999966,
          -3.000000449999966,
          -3.000000449999966,
          -3.000000449999966,
          -3.000000449999966,
          -3.000000449999966,
          -3.000000449999966,
          -3.000000449999966,
          -3.000000449999966,
          -3.000000449999966,
          -3.000000449999966,
          -3.000000449999966,
          -3.000000449999966,
          -3.000000449999966,
          -3.000000449999966,
          -3.000000449999966,
          -3.000000449999966,
          -3.000000449999966,
          -3.000000449999966,
          -3.000000449999966,
          -3.000000449999966,
          -3.000000449999966,
          -3.000000449999966,
          -3.000000449999966,
          -3.000000449999966,
          -3.000000449999966,
          -3.000000449999966,
          -3.000000449999966,
          -3.000000449999966,
          -3.000000449999966,
          -3.000000449999966,
          -3.000000449999966,
          -3.000000449999966,
          -3.000000449999966,
          -3.000000449999966,
          -3.000000449999966,
          -3.000000449999966,
          -3.000000449999966,
          -3.000000449999966,
          -3.000000449999966,
          -3.000000449999966,
          -3.000000449999966,
          -3.000000449999966
         ]
        },
        {
         "line": {
          "color": "blue",
          "width": 2
         },
         "name": "Predicted function",
         "showlegend": true,
         "type": "scatter",
         "visible": true,
         "x": [
          0.1,
          0.15000000000000002,
          0.20000000000000004,
          0.25000000000000006,
          0.30000000000000004,
          0.3500000000000001,
          0.40000000000000013,
          0.45000000000000007,
          0.5000000000000001,
          0.5500000000000002,
          0.6000000000000002,
          0.6500000000000001,
          0.7000000000000002,
          0.7500000000000002,
          0.8000000000000002,
          0.8500000000000002,
          0.9000000000000002,
          0.9500000000000003,
          1.0000000000000004,
          1.0500000000000003,
          1.1000000000000005,
          1.1500000000000004,
          1.2000000000000004,
          1.2500000000000004,
          1.3000000000000005,
          1.3500000000000005,
          1.4000000000000006,
          1.4500000000000006,
          1.5000000000000004,
          1.5500000000000005,
          1.6000000000000005,
          1.6500000000000006,
          1.7000000000000006,
          1.7500000000000007,
          1.8000000000000007,
          1.8500000000000008,
          1.9000000000000008,
          1.9500000000000006,
          2.0000000000000004,
          2.0500000000000007,
          2.100000000000001,
          2.150000000000001,
          2.2000000000000006,
          2.250000000000001,
          2.3000000000000007,
          2.350000000000001,
          2.400000000000001,
          2.450000000000001,
          2.500000000000001,
          2.5500000000000007,
          2.600000000000001,
          2.650000000000001,
          2.700000000000001,
          2.750000000000001,
          2.800000000000001,
          2.850000000000001,
          2.900000000000001,
          2.950000000000001,
          3.000000000000001,
          3.050000000000001,
          3.100000000000001,
          3.1500000000000012,
          3.200000000000001,
          3.2500000000000013,
          3.300000000000001,
          3.350000000000001,
          3.4000000000000012,
          3.450000000000001,
          3.5000000000000013,
          3.550000000000001,
          3.6000000000000014,
          3.6500000000000012,
          3.7000000000000015,
          3.7500000000000013,
          3.800000000000001,
          3.8500000000000014,
          3.9000000000000012,
          3.9500000000000015,
          4.000000000000001,
          4.050000000000002,
          4.100000000000001,
          4.150000000000001,
          4.200000000000001,
          4.250000000000001,
          4.300000000000001,
          4.350000000000001,
          4.400000000000001,
          4.450000000000001,
          4.500000000000001,
          4.550000000000001,
          4.600000000000001,
          4.650000000000001,
          4.700000000000001,
          4.750000000000001,
          4.800000000000002,
          4.850000000000001,
          4.900000000000001,
          4.950000000000001,
          5.000000000000001,
          5.050000000000002,
          5.100000000000001,
          5.150000000000001,
          5.200000000000001,
          5.250000000000002,
          5.300000000000002,
          5.350000000000001,
          5.400000000000001,
          5.450000000000001,
          5.500000000000002,
          5.550000000000002,
          5.600000000000001,
          5.650000000000001,
          5.700000000000001,
          5.750000000000002,
          5.800000000000002,
          5.850000000000001,
          5.900000000000001,
          5.950000000000002,
          6.000000000000002,
          6.050000000000002,
          6.100000000000001,
          6.150000000000001,
          6.200000000000002,
          6.250000000000002,
          6.300000000000002,
          6.350000000000001,
          6.400000000000002,
          6.450000000000002,
          6.500000000000002,
          6.550000000000002,
          6.600000000000001,
          6.650000000000002,
          6.700000000000002,
          6.750000000000002,
          6.800000000000002,
          6.850000000000002,
          6.900000000000002,
          6.950000000000002
         ],
         "y": [
          2.484503837089337e-88,
          3.279392098723212e-89,
          4.285525417810504e-90,
          5.544620927091667e-91,
          7.10226216753671e-92,
          9.006967472528023e-93,
          1.1308826583979992e-93,
          1.40576766510883e-94,
          1.730081690658083e-95,
          2.1080297013882078e-96,
          2.542985573542264e-97,
          3.0371631530759036e-98,
          3.5912811294249432e-99,
          4.2042423229537506e-100,
          4.8728509934002635e-101,
          5.591593327949854e-102,
          6.352505940661371e-103,
          7.1451547123098e-104,
          7.956741504928949e-105,
          8.772349306303812e-106,
          9.575327549981062e-107,
          1.0347809309094823e-107,
          1.1071341572938933e-108,
          1.1727599814568617e-109,
          1.2299149520748024e-110,
          1.2770211195616746e-111,
          1.3127382309751136e-112,
          1.3360270224855093e-113,
          1.3461994422974876e-114,
          1.3429524180416672e-115,
          1.3263828562640352e-116,
          1.2969828381617305e-117,
          1.255615343909704e-118,
          1.2034721766587256e-119,
          1.142016948599998e-120,
          1.072916933299082e-121,
          9.979682051629129e-123,
          9.190187366601498e-124,
          8.378940020137364e-125,
          7.563291736023328e-126,
          6.7591125593727786e-127,
          5.980335656470793e-128,
          5.238639300979772e-129,
          4.5432693871831116e-130,
          3.900996273335578e-131,
          3.3161917729256096e-132,
          2.791006158761204e-133,
          2.3256213582541285e-134,
          1.9185550933682573e-135,
          1.5669913451857472e-136,
          1.267114835744141e-137,
          1.0144307585670654e-138,
          8.040552599904941e-140,
          6.309667021260854e-141,
          4.902121144831716e-142,
          3.77067145789165e-143,
          2.87151046036078e-144,
          2.165006312448245e-145,
          1.6160879289938726e-146,
          1.1943396793974605e-147,
          8.73871932933748e-149,
          6.330307050077239e-150,
          4.540030976714802e-151,
          3.223665054905316e-152,
          2.2661990960554274e-153,
          1.5772599206313317e-154,
          1.0868397868471486e-155,
          7.414550794142041e-157,
          5.007964204222961e-158,
          3.3488418814856325e-159,
          2.2170991939186795e-160,
          1.4532243321055882e-161,
          9.430555013117977e-163,
          6.0589713655645885e-164,
          3.854052287647467e-165,
          2.4271317975932122e-166,
          1.5133039743679797e-167,
          9.34148757646731e-169,
          5.709038393152584e-170,
          3.4543547966993747e-171,
          2.0693215252483387e-172,
          1.227286802107189e-173,
          7.206447179510294e-175,
          4.189415225801218e-176,
          2.411252333373437e-177,
          1.3740070790503257e-178,
          7.75161750508764e-180,
          4.329649643140288e-181,
          2.3942540426725434e-182,
          1.3108251322904678e-183,
          7.105200614946857e-185,
          3.812984019792594e-186,
          2.0258658367539545e-187,
          1.0656471592468393e-188,
          5.549747670015594e-190,
          2.861475940579741e-191,
          1.4607100423120832e-192,
          7.382356036769559e-194,
          3.693881960322668e-195,
          1.8299031095068578e-196,
          8.974912686604984e-198,
          4.358022061500949e-199,
          2.0951044141108304e-200,
          9.971924334046374e-202,
          4.69904205936129e-203,
          2.1922836515194318e-204,
          1.0126076717091065e-205,
          4.630658315487946e-207,
          2.09653112932894e-208,
          9.397599851669478e-210,
          4.170514521865248e-211,
          1.832396197226397e-212,
          7.9708783497104e-214,
          3.4328121247349357e-215,
          1.4636961990690164e-216,
          6.178867892026329e-218,
          2.5824024780631513e-219,
          1.0685528449432576e-220,
          4.3774897238061344e-222,
          1.7754617512864116e-223,
          7.129425931397972e-225,
          2.8343590009249945e-226,
          1.1156095115022807e-227,
          4.3473701046585894e-229,
          1.6772510636514739e-230,
          6.406584999732205e-232,
          2.4227698714140644e-233,
          9.07099215324247e-235,
          3.3624394575923705e-236,
          1.233988779411992e-237,
          4.483580825504536e-239,
          1.612856953279722e-240,
          5.744123300918914e-242,
          2.0253902348230605e-243,
          7.070509741526463e-245,
          2.4437107164911267e-246,
          8.361918241637954e-248,
          2.8328207551395086e-249
         ]
        },
        {
         "marker": {
          "color": "red",
          "size": 8
         },
         "mode": "markers",
         "name": "Training points",
         "showlegend": true,
         "type": "scatter",
         "visible": true,
         "x": [
          5.789011774065019,
          3.1890177942845357,
          4.389014129421709,
          1.9890258812452397,
          2.5890209007003793,
          1.3890351645165082,
          0.2891522613838655,
          5.38901232214804,
          4.789013315941333,
          3.989015106046028,
          3.5890163003618976,
          1.0719149307852758,
          2.2890230645983896,
          1.6890296984551227,
          0.5224711870448977,
          3.3890170032420026,
          2.9890186911866916,
          2.7890197167218815,
          0.9129802213227155,
          1.226009944241065,
          0.6382551523366189,
          2.4890215640414612,
          2.3890222829147914,
          2.1890239177001707,
          2.0890248524762463,
          1.8890270189341927,
          1.7890282838075544,
          1.5890312911530102,
          1.489033097772982,
          0.3891142611925234
         ],
         "y": [
          0,
          -0.4614966804297005,
          -0.06360573355020094,
          -2.1873964687144998,
          -1.0311521395875012,
          -4.293239790203302,
          7.768548062944898,
          -0.0036619567789024643,
          -0.02403130818260024,
          -0.13880486390100089,
          -0.26045902363910045,
          -5.751334940733901,
          -1.512899700815602,
          -3.1049248894996992,
          -5.1544351645245,
          -0.34842525636150157,
          -0.6065915124077996,
          -0.792933480363402,
          -6.4059202857595,
          -5.034605189136801,
          -6.447769448783699,
          -1.1734520451894994,
          -1.333427961933502,
          -1.713749753485402,
          -1.9379328744996016,
          -2.4639937487285017,
          -2.769407687643401,
          -3.4712173673584026,
          -3.8679647626182003,
          -0.7293387378510019
         ]
        },
        {
         "line": {
          "color": "pink",
          "width": 2
         },
         "name": "True function",
         "showlegend": true,
         "type": "scatter",
         "visible": true,
         "x": [
          0.2891522613838655,
          0.3891142611925234,
          0.4890917973789821,
          0.5890769595421326,
          0.6890664280484163,
          0.7890585658006655,
          0.8890524721653966,
          0.9890476107161894,
          1.0890436420380054,
          1.18904034088983,
          1.2890375519213562,
          1.3890351645165082,
          1.489033097772982,
          1.5890312911530102,
          1.6890296984551227,
          1.7890282838075544,
          1.8890270189341927,
          1.9890258812452397,
          2.0890248524762463,
          2.1890239177001707,
          2.2890230645983896,
          2.3890222829147914,
          2.4890215640414612,
          2.5890209007003793,
          2.7890197167218815,
          2.9890186911866916,
          3.1890177942845357,
          3.3890170032420026,
          3.5890163003618976,
          3.989015106046028,
          4.389014129421709,
          4.789013315941333,
          5.38901232214804,
          5.789011774065019
         ],
         "y": [
          7.768548062944898,
          -0.7293387378510019,
          -4.451645301694899,
          -6.0691337854804,
          -6.6566226379277005,
          -6.7113534465391,
          -6.485169821945,
          -6.113701719524901,
          -5.673165765260499,
          -5.207558879405102,
          -4.742593917006502,
          -4.293239790203302,
          -3.8679647626182003,
          -3.4712173673584026,
          -3.1049248894996992,
          -2.769407687643401,
          -2.4639937487285017,
          -2.1873964687144998,
          -1.9379328744996016,
          -1.713749753485402,
          -1.512899700815602,
          -1.333427961933502,
          -1.1734520451894994,
          -1.0311521395875012,
          -0.792933480363402,
          -0.6065915124077996,
          -0.4614966804297005,
          -0.34842525636150157,
          -0.26045902363910045,
          -0.13880486390100089,
          -0.06360573355020094,
          -0.02403130818260024,
          -0.0036619567789024643,
          0
         ]
        }
       ],
       "layout": {
        "autosize": false,
        "height": 600,
        "legend": {
         "x": 0.95,
         "xanchor": "right",
         "y": 0.3,
         "yanchor": "top"
        },
        "plot_bgcolor": "rgba(0,0,0,0)",
        "template": {
         "data": {
          "bar": [
           {
            "error_x": {
             "color": "#2a3f5f"
            },
            "error_y": {
             "color": "#2a3f5f"
            },
            "marker": {
             "line": {
              "color": "#E5ECF6",
              "width": 0.5
             },
             "pattern": {
              "fillmode": "overlay",
              "size": 10,
              "solidity": 0.2
             }
            },
            "type": "bar"
           }
          ],
          "barpolar": [
           {
            "marker": {
             "line": {
              "color": "#E5ECF6",
              "width": 0.5
             },
             "pattern": {
              "fillmode": "overlay",
              "size": 10,
              "solidity": 0.2
             }
            },
            "type": "barpolar"
           }
          ],
          "carpet": [
           {
            "aaxis": {
             "endlinecolor": "#2a3f5f",
             "gridcolor": "white",
             "linecolor": "white",
             "minorgridcolor": "white",
             "startlinecolor": "#2a3f5f"
            },
            "baxis": {
             "endlinecolor": "#2a3f5f",
             "gridcolor": "white",
             "linecolor": "white",
             "minorgridcolor": "white",
             "startlinecolor": "#2a3f5f"
            },
            "type": "carpet"
           }
          ],
          "choropleth": [
           {
            "colorbar": {
             "outlinewidth": 0,
             "ticks": ""
            },
            "type": "choropleth"
           }
          ],
          "contour": [
           {
            "colorbar": {
             "outlinewidth": 0,
             "ticks": ""
            },
            "colorscale": [
             [
              0,
              "#0d0887"
             ],
             [
              0.1111111111111111,
              "#46039f"
             ],
             [
              0.2222222222222222,
              "#7201a8"
             ],
             [
              0.3333333333333333,
              "#9c179e"
             ],
             [
              0.4444444444444444,
              "#bd3786"
             ],
             [
              0.5555555555555556,
              "#d8576b"
             ],
             [
              0.6666666666666666,
              "#ed7953"
             ],
             [
              0.7777777777777778,
              "#fb9f3a"
             ],
             [
              0.8888888888888888,
              "#fdca26"
             ],
             [
              1,
              "#f0f921"
             ]
            ],
            "type": "contour"
           }
          ],
          "contourcarpet": [
           {
            "colorbar": {
             "outlinewidth": 0,
             "ticks": ""
            },
            "type": "contourcarpet"
           }
          ],
          "heatmap": [
           {
            "colorbar": {
             "outlinewidth": 0,
             "ticks": ""
            },
            "colorscale": [
             [
              0,
              "#0d0887"
             ],
             [
              0.1111111111111111,
              "#46039f"
             ],
             [
              0.2222222222222222,
              "#7201a8"
             ],
             [
              0.3333333333333333,
              "#9c179e"
             ],
             [
              0.4444444444444444,
              "#bd3786"
             ],
             [
              0.5555555555555556,
              "#d8576b"
             ],
             [
              0.6666666666666666,
              "#ed7953"
             ],
             [
              0.7777777777777778,
              "#fb9f3a"
             ],
             [
              0.8888888888888888,
              "#fdca26"
             ],
             [
              1,
              "#f0f921"
             ]
            ],
            "type": "heatmap"
           }
          ],
          "heatmapgl": [
           {
            "colorbar": {
             "outlinewidth": 0,
             "ticks": ""
            },
            "colorscale": [
             [
              0,
              "#0d0887"
             ],
             [
              0.1111111111111111,
              "#46039f"
             ],
             [
              0.2222222222222222,
              "#7201a8"
             ],
             [
              0.3333333333333333,
              "#9c179e"
             ],
             [
              0.4444444444444444,
              "#bd3786"
             ],
             [
              0.5555555555555556,
              "#d8576b"
             ],
             [
              0.6666666666666666,
              "#ed7953"
             ],
             [
              0.7777777777777778,
              "#fb9f3a"
             ],
             [
              0.8888888888888888,
              "#fdca26"
             ],
             [
              1,
              "#f0f921"
             ]
            ],
            "type": "heatmapgl"
           }
          ],
          "histogram": [
           {
            "marker": {
             "pattern": {
              "fillmode": "overlay",
              "size": 10,
              "solidity": 0.2
             }
            },
            "type": "histogram"
           }
          ],
          "histogram2d": [
           {
            "colorbar": {
             "outlinewidth": 0,
             "ticks": ""
            },
            "colorscale": [
             [
              0,
              "#0d0887"
             ],
             [
              0.1111111111111111,
              "#46039f"
             ],
             [
              0.2222222222222222,
              "#7201a8"
             ],
             [
              0.3333333333333333,
              "#9c179e"
             ],
             [
              0.4444444444444444,
              "#bd3786"
             ],
             [
              0.5555555555555556,
              "#d8576b"
             ],
             [
              0.6666666666666666,
              "#ed7953"
             ],
             [
              0.7777777777777778,
              "#fb9f3a"
             ],
             [
              0.8888888888888888,
              "#fdca26"
             ],
             [
              1,
              "#f0f921"
             ]
            ],
            "type": "histogram2d"
           }
          ],
          "histogram2dcontour": [
           {
            "colorbar": {
             "outlinewidth": 0,
             "ticks": ""
            },
            "colorscale": [
             [
              0,
              "#0d0887"
             ],
             [
              0.1111111111111111,
              "#46039f"
             ],
             [
              0.2222222222222222,
              "#7201a8"
             ],
             [
              0.3333333333333333,
              "#9c179e"
             ],
             [
              0.4444444444444444,
              "#bd3786"
             ],
             [
              0.5555555555555556,
              "#d8576b"
             ],
             [
              0.6666666666666666,
              "#ed7953"
             ],
             [
              0.7777777777777778,
              "#fb9f3a"
             ],
             [
              0.8888888888888888,
              "#fdca26"
             ],
             [
              1,
              "#f0f921"
             ]
            ],
            "type": "histogram2dcontour"
           }
          ],
          "mesh3d": [
           {
            "colorbar": {
             "outlinewidth": 0,
             "ticks": ""
            },
            "type": "mesh3d"
           }
          ],
          "parcoords": [
           {
            "line": {
             "colorbar": {
              "outlinewidth": 0,
              "ticks": ""
             }
            },
            "type": "parcoords"
           }
          ],
          "pie": [
           {
            "automargin": true,
            "type": "pie"
           }
          ],
          "scatter": [
           {
            "fillpattern": {
             "fillmode": "overlay",
             "size": 10,
             "solidity": 0.2
            },
            "type": "scatter"
           }
          ],
          "scatter3d": [
           {
            "line": {
             "colorbar": {
              "outlinewidth": 0,
              "ticks": ""
             }
            },
            "marker": {
             "colorbar": {
              "outlinewidth": 0,
              "ticks": ""
             }
            },
            "type": "scatter3d"
           }
          ],
          "scattercarpet": [
           {
            "marker": {
             "colorbar": {
              "outlinewidth": 0,
              "ticks": ""
             }
            },
            "type": "scattercarpet"
           }
          ],
          "scattergeo": [
           {
            "marker": {
             "colorbar": {
              "outlinewidth": 0,
              "ticks": ""
             }
            },
            "type": "scattergeo"
           }
          ],
          "scattergl": [
           {
            "marker": {
             "colorbar": {
              "outlinewidth": 0,
              "ticks": ""
             }
            },
            "type": "scattergl"
           }
          ],
          "scattermapbox": [
           {
            "marker": {
             "colorbar": {
              "outlinewidth": 0,
              "ticks": ""
             }
            },
            "type": "scattermapbox"
           }
          ],
          "scatterpolar": [
           {
            "marker": {
             "colorbar": {
              "outlinewidth": 0,
              "ticks": ""
             }
            },
            "type": "scatterpolar"
           }
          ],
          "scatterpolargl": [
           {
            "marker": {
             "colorbar": {
              "outlinewidth": 0,
              "ticks": ""
             }
            },
            "type": "scatterpolargl"
           }
          ],
          "scatterternary": [
           {
            "marker": {
             "colorbar": {
              "outlinewidth": 0,
              "ticks": ""
             }
            },
            "type": "scatterternary"
           }
          ],
          "surface": [
           {
            "colorbar": {
             "outlinewidth": 0,
             "ticks": ""
            },
            "colorscale": [
             [
              0,
              "#0d0887"
             ],
             [
              0.1111111111111111,
              "#46039f"
             ],
             [
              0.2222222222222222,
              "#7201a8"
             ],
             [
              0.3333333333333333,
              "#9c179e"
             ],
             [
              0.4444444444444444,
              "#bd3786"
             ],
             [
              0.5555555555555556,
              "#d8576b"
             ],
             [
              0.6666666666666666,
              "#ed7953"
             ],
             [
              0.7777777777777778,
              "#fb9f3a"
             ],
             [
              0.8888888888888888,
              "#fdca26"
             ],
             [
              1,
              "#f0f921"
             ]
            ],
            "type": "surface"
           }
          ],
          "table": [
           {
            "cells": {
             "fill": {
              "color": "#EBF0F8"
             },
             "line": {
              "color": "white"
             }
            },
            "header": {
             "fill": {
              "color": "#C8D4E3"
             },
             "line": {
              "color": "white"
             }
            },
            "type": "table"
           }
          ]
         },
         "layout": {
          "annotationdefaults": {
           "arrowcolor": "#2a3f5f",
           "arrowhead": 0,
           "arrowwidth": 1
          },
          "autotypenumbers": "strict",
          "coloraxis": {
           "colorbar": {
            "outlinewidth": 0,
            "ticks": ""
           }
          },
          "colorscale": {
           "diverging": [
            [
             0,
             "#8e0152"
            ],
            [
             0.1,
             "#c51b7d"
            ],
            [
             0.2,
             "#de77ae"
            ],
            [
             0.3,
             "#f1b6da"
            ],
            [
             0.4,
             "#fde0ef"
            ],
            [
             0.5,
             "#f7f7f7"
            ],
            [
             0.6,
             "#e6f5d0"
            ],
            [
             0.7,
             "#b8e186"
            ],
            [
             0.8,
             "#7fbc41"
            ],
            [
             0.9,
             "#4d9221"
            ],
            [
             1,
             "#276419"
            ]
           ],
           "sequential": [
            [
             0,
             "#0d0887"
            ],
            [
             0.1111111111111111,
             "#46039f"
            ],
            [
             0.2222222222222222,
             "#7201a8"
            ],
            [
             0.3333333333333333,
             "#9c179e"
            ],
            [
             0.4444444444444444,
             "#bd3786"
            ],
            [
             0.5555555555555556,
             "#d8576b"
            ],
            [
             0.6666666666666666,
             "#ed7953"
            ],
            [
             0.7777777777777778,
             "#fb9f3a"
            ],
            [
             0.8888888888888888,
             "#fdca26"
            ],
            [
             1,
             "#f0f921"
            ]
           ],
           "sequentialminus": [
            [
             0,
             "#0d0887"
            ],
            [
             0.1111111111111111,
             "#46039f"
            ],
            [
             0.2222222222222222,
             "#7201a8"
            ],
            [
             0.3333333333333333,
             "#9c179e"
            ],
            [
             0.4444444444444444,
             "#bd3786"
            ],
            [
             0.5555555555555556,
             "#d8576b"
            ],
            [
             0.6666666666666666,
             "#ed7953"
            ],
            [
             0.7777777777777778,
             "#fb9f3a"
            ],
            [
             0.8888888888888888,
             "#fdca26"
            ],
            [
             1,
             "#f0f921"
            ]
           ]
          },
          "colorway": [
           "#636efa",
           "#EF553B",
           "#00cc96",
           "#ab63fa",
           "#FFA15A",
           "#19d3f3",
           "#FF6692",
           "#B6E880",
           "#FF97FF",
           "#FECB52"
          ],
          "font": {
           "color": "#2a3f5f"
          },
          "geo": {
           "bgcolor": "white",
           "lakecolor": "white",
           "landcolor": "#E5ECF6",
           "showlakes": true,
           "showland": true,
           "subunitcolor": "white"
          },
          "hoverlabel": {
           "align": "left"
          },
          "hovermode": "closest",
          "mapbox": {
           "style": "light"
          },
          "paper_bgcolor": "white",
          "plot_bgcolor": "#E5ECF6",
          "polar": {
           "angularaxis": {
            "gridcolor": "white",
            "linecolor": "white",
            "ticks": ""
           },
           "bgcolor": "#E5ECF6",
           "radialaxis": {
            "gridcolor": "white",
            "linecolor": "white",
            "ticks": ""
           }
          },
          "scene": {
           "xaxis": {
            "backgroundcolor": "#E5ECF6",
            "gridcolor": "white",
            "gridwidth": 2,
            "linecolor": "white",
            "showbackground": true,
            "ticks": "",
            "zerolinecolor": "white"
           },
           "yaxis": {
            "backgroundcolor": "#E5ECF6",
            "gridcolor": "white",
            "gridwidth": 2,
            "linecolor": "white",
            "showbackground": true,
            "ticks": "",
            "zerolinecolor": "white"
           },
           "zaxis": {
            "backgroundcolor": "#E5ECF6",
            "gridcolor": "white",
            "gridwidth": 2,
            "linecolor": "white",
            "showbackground": true,
            "ticks": "",
            "zerolinecolor": "white"
           }
          },
          "shapedefaults": {
           "line": {
            "color": "#2a3f5f"
           }
          },
          "ternary": {
           "aaxis": {
            "gridcolor": "white",
            "linecolor": "white",
            "ticks": ""
           },
           "baxis": {
            "gridcolor": "white",
            "linecolor": "white",
            "ticks": ""
           },
           "bgcolor": "#E5ECF6",
           "caxis": {
            "gridcolor": "white",
            "linecolor": "white",
            "ticks": ""
           }
          },
          "title": {
           "x": 0.05
          },
          "xaxis": {
           "automargin": true,
           "gridcolor": "white",
           "linecolor": "white",
           "ticks": "",
           "title": {
            "standoff": 15
           },
           "zerolinecolor": "white",
           "zerolinewidth": 2
          },
          "yaxis": {
           "automargin": true,
           "gridcolor": "white",
           "linecolor": "white",
           "ticks": "",
           "title": {
            "standoff": 15
           },
           "zerolinecolor": "white",
           "zerolinewidth": 2
          }
         }
        },
        "title": {
         "text": "GPR analysis",
         "x": 0.5,
         "xanchor": "center"
        },
        "width": 800,
        "xaxis": {
         "linecolor": "black",
         "linewidth": 1,
         "range": [
          0.2,
          7
         ],
         "showline": true,
         "title": {
          "text": "input values"
         }
        },
        "yaxis": {
         "linecolor": "black",
         "linewidth": 1,
         "range": [
          -15,
          20
         ],
         "showline": true,
         "title": {
          "text": "output values"
         }
        }
       }
      },
      "image/png": "[encoded data removed]",
      "text/html": [
       "<div>                            <div id=\"b588d5f2-2a97-4eb0-93d9-76e6b513a10c\" class=\"plotly-graph-div\" style=\"height:600px; width:800px;\"></div>            <script type=\"text/javascript\">                require([\"plotly\"], function(Plotly) {                    window.PLOTLYENV=window.PLOTLYENV || {};                                    if (document.getElementById(\"b588d5f2-2a97-4eb0-93d9-76e6b513a10c\")) {                    Plotly.newPlot(                        \"b588d5f2-2a97-4eb0-93d9-76e6b513a10c\",                        [{\"fill\":\"toself\",\"fillcolor\":\"rgba(189,195,199,0.5)\",\"hoverinfo\":\"skip\",\"line\":{\"color\":\"rgba(200,200,200,0)\"},\"name\":\"mean plus\\u002fminus 1*standard deviation\",\"showlegend\":true,\"visible\":true,\"x\":[0.1,0.15000000000000002,0.20000000000000004,0.25000000000000006,0.30000000000000004,0.3500000000000001,0.40000000000000013,0.45000000000000007,0.5000000000000001,0.5500000000000002,0.6000000000000002,0.6500000000000001,0.7000000000000002,0.7500000000000002,0.8000000000000002,0.8500000000000002,0.9000000000000002,0.9500000000000003,1.0000000000000004,1.0500000000000003,1.1000000000000005,1.1500000000000004,1.2000000000000004,1.2500000000000004,1.3000000000000005,1.3500000000000005,1.4000000000000006,1.4500000000000006,1.5000000000000004,1.5500000000000005,1.6000000000000005,1.6500000000000006,1.7000000000000006,1.7500000000000007,1.8000000000000007,1.8500000000000008,1.9000000000000008,1.9500000000000006,2.0000000000000004,2.0500000000000007,2.100000000000001,2.150000000000001,2.2000000000000006,2.250000000000001,2.3000000000000007,2.350000000000001,2.400000000000001,2.450000000000001,2.500000000000001,2.5500000000000007,2.600000000000001,2.650000000000001,2.700000000000001,2.750000000000001,2.800000000000001,2.850000000000001,2.900000000000001,2.950000000000001,3.000000000000001,3.050000000000001,3.100000000000001,3.1500000000000012,3.200000000000001,3.2500000000000013,3.300000000000001,3.350000000000001,3.4000000000000012,3.450000000000001,3.5000000000000013,3.550000000000001,3.6000000000000014,3.6500000000000012,3.7000000000000015,3.7500000000000013,3.800000000000001,3.8500000000000014,3.9000000000000012,3.9500000000000015,4.000000000000001,4.050000000000002,4.100000000000001,4.150000000000001,4.200000000000001,4.250000000000001,4.300000000000001,4.350000000000001,4.400000000000001,4.450000000000001,4.500000000000001,4.550000000000001,4.600000000000001,4.650000000000001,4.700000000000001,4.750000000000001,4.800000000000002,4.850000000000001,4.900000000000001,4.950000000000001,5.000000000000001,5.050000000000002,5.100000000000001,5.150000000000001,5.200000000000001,5.250000000000002,5.300000000000002,5.350000000000001,5.400000000000001,5.450000000000001,5.500000000000002,5.550000000000002,5.600000000000001,5.650000000000001,5.700000000000001,5.750000000000002,5.800000000000002,5.850000000000001,5.900000000000001,5.950000000000002,6.000000000000002,6.050000000000002,6.100000000000001,6.150000000000001,6.200000000000002,6.250000000000002,6.300000000000002,6.350000000000001,6.400000000000002,6.450000000000002,6.500000000000002,6.550000000000002,6.600000000000001,6.650000000000002,6.700000000000002,6.750000000000002,6.800000000000002,6.850000000000002,6.900000000000002,6.950000000000002,6.950000000000002,6.900000000000002,6.850000000000002,6.800000000000002,6.750000000000002,6.700000000000002,6.650000000000002,6.600000000000001,6.550000000000002,6.500000000000002,6.450000000000002,6.400000000000002,6.350000000000001,6.300000000000002,6.250000000000002,6.200000000000002,6.150000000000001,6.100000000000001,6.050000000000002,6.000000000000002,5.950000000000002,5.900000000000001,5.850000000000001,5.800000000000002,5.750000000000002,5.700000000000001,5.650000000000001,5.600000000000001,5.550000000000002,5.500000000000002,5.450000000000001,5.400000000000001,5.350000000000001,5.300000000000002,5.250000000000002,5.200000000000001,5.150000000000001,5.100000000000001,5.050000000000002,5.000000000000001,4.950000000000001,4.900000000000001,4.850000000000001,4.800000000000002,4.750000000000001,4.700000000000001,4.650000000000001,4.600000000000001,4.550000000000001,4.500000000000001,4.450000000000001,4.400000000000001,4.350000000000001,4.300000000000001,4.250000000000001,4.200000000000001,4.150000000000001,4.100000000000001,4.050000000000002,4.000000000000001,3.9500000000000015,3.9000000000000012,3.8500000000000014,3.800000000000001,3.7500000000000013,3.7000000000000015,3.6500000000000012,3.6000000000000014,3.550000000000001,3.5000000000000013,3.450000000000001,3.4000000000000012,3.350000000000001,3.300000000000001,3.2500000000000013,3.200000000000001,3.1500000000000012,3.100000000000001,3.050000000000001,3.000000000000001,2.950000000000001,2.900000000000001,2.850000000000001,2.800000000000001,2.750000000000001,2.700000000000001,2.650000000000001,2.600000000000001,2.5500000000000007,2.500000000000001,2.450000000000001,2.400000000000001,2.350000000000001,2.3000000000000007,2.250000000000001,2.2000000000000006,2.150000000000001,2.100000000000001,2.0500000000000007,2.0000000000000004,1.9500000000000006,1.9000000000000008,1.8500000000000008,1.8000000000000007,1.7500000000000007,1.7000000000000006,1.6500000000000006,1.6000000000000005,1.5500000000000005,1.5000000000000004,1.4500000000000006,1.4000000000000006,1.3500000000000005,1.3000000000000005,1.2500000000000004,1.2000000000000004,1.1500000000000004,1.1000000000000005,1.0500000000000003,1.0000000000000004,0.9500000000000003,0.9000000000000002,0.8500000000000002,0.8000000000000002,0.7500000000000002,0.7000000000000002,0.6500000000000001,0.6000000000000002,0.5500000000000002,0.5000000000000001,0.45000000000000007,0.40000000000000013,0.3500000000000001,0.30000000000000004,0.25000000000000006,0.20000000000000004,0.15000000000000002,0.1],\"y\":[1.0000001499999887,1.0000001499999887,1.0000001499999887,1.0000001499999887,1.0000001499999887,1.0000001499999887,1.0000001499999887,1.0000001499999887,1.0000001499999887,1.0000001499999887,1.0000001499999887,1.0000001499999887,1.0000001499999887,1.0000001499999887,1.0000001499999887,1.0000001499999887,1.0000001499999887,1.0000001499999887,1.0000001499999887,1.0000001499999887,1.0000001499999887,1.0000001499999887,1.0000001499999887,1.0000001499999887,1.0000001499999887,1.0000001499999887,1.0000001499999887,1.0000001499999887,1.0000001499999887,1.0000001499999887,1.0000001499999887,1.0000001499999887,1.0000001499999887,1.0000001499999887,1.0000001499999887,1.0000001499999887,1.0000001499999887,1.0000001499999887,1.0000001499999887,1.0000001499999887,1.0000001499999887,1.0000001499999887,1.0000001499999887,1.0000001499999887,1.0000001499999887,1.0000001499999887,1.0000001499999887,1.0000001499999887,1.0000001499999887,1.0000001499999887,1.0000001499999887,1.0000001499999887,1.0000001499999887,1.0000001499999887,1.0000001499999887,1.0000001499999887,1.0000001499999887,1.0000001499999887,1.0000001499999887,1.0000001499999887,1.0000001499999887,1.0000001499999887,1.0000001499999887,1.0000001499999887,1.0000001499999887,1.0000001499999887,1.0000001499999887,1.0000001499999887,1.0000001499999887,1.0000001499999887,1.0000001499999887,1.0000001499999887,1.0000001499999887,1.0000001499999887,1.0000001499999887,1.0000001499999887,1.0000001499999887,1.0000001499999887,1.0000001499999887,1.0000001499999887,1.0000001499999887,1.0000001499999887,1.0000001499999887,1.0000001499999887,1.0000001499999887,1.0000001499999887,1.0000001499999887,1.0000001499999887,1.0000001499999887,1.0000001499999887,1.0000001499999887,1.0000001499999887,1.0000001499999887,1.0000001499999887,1.0000001499999887,1.0000001499999887,1.0000001499999887,1.0000001499999887,1.0000001499999887,1.0000001499999887,1.0000001499999887,1.0000001499999887,1.0000001499999887,1.0000001499999887,1.0000001499999887,1.0000001499999887,1.0000001499999887,1.0000001499999887,1.0000001499999887,1.0000001499999887,1.0000001499999887,1.0000001499999887,1.0000001499999887,1.0000001499999887,1.0000001499999887,1.0000001499999887,1.0000001499999887,1.0000001499999887,1.0000001499999887,1.0000001499999887,1.0000001499999887,1.0000001499999887,1.0000001499999887,1.0000001499999887,1.0000001499999887,1.0000001499999887,1.0000001499999887,1.0000001499999887,1.0000001499999887,1.0000001499999887,1.0000001499999887,1.0000001499999887,1.0000001499999887,1.0000001499999887,1.0000001499999887,1.0000001499999887,1.0000001499999887,1.0000001499999887,-1.0000001499999887,-1.0000001499999887,-1.0000001499999887,-1.0000001499999887,-1.0000001499999887,-1.0000001499999887,-1.0000001499999887,-1.0000001499999887,-1.0000001499999887,-1.0000001499999887,-1.0000001499999887,-1.0000001499999887,-1.0000001499999887,-1.0000001499999887,-1.0000001499999887,-1.0000001499999887,-1.0000001499999887,-1.0000001499999887,-1.0000001499999887,-1.0000001499999887,-1.0000001499999887,-1.0000001499999887,-1.0000001499999887,-1.0000001499999887,-1.0000001499999887,-1.0000001499999887,-1.0000001499999887,-1.0000001499999887,-1.0000001499999887,-1.0000001499999887,-1.0000001499999887,-1.0000001499999887,-1.0000001499999887,-1.0000001499999887,-1.0000001499999887,-1.0000001499999887,-1.0000001499999887,-1.0000001499999887,-1.0000001499999887,-1.0000001499999887,-1.0000001499999887,-1.0000001499999887,-1.0000001499999887,-1.0000001499999887,-1.0000001499999887,-1.0000001499999887,-1.0000001499999887,-1.0000001499999887,-1.0000001499999887,-1.0000001499999887,-1.0000001499999887,-1.0000001499999887,-1.0000001499999887,-1.0000001499999887,-1.0000001499999887,-1.0000001499999887,-1.0000001499999887,-1.0000001499999887,-1.0000001499999887,-1.0000001499999887,-1.0000001499999887,-1.0000001499999887,-1.0000001499999887,-1.0000001499999887,-1.0000001499999887,-1.0000001499999887,-1.0000001499999887,-1.0000001499999887,-1.0000001499999887,-1.0000001499999887,-1.0000001499999887,-1.0000001499999887,-1.0000001499999887,-1.0000001499999887,-1.0000001499999887,-1.0000001499999887,-1.0000001499999887,-1.0000001499999887,-1.0000001499999887,-1.0000001499999887,-1.0000001499999887,-1.0000001499999887,-1.0000001499999887,-1.0000001499999887,-1.0000001499999887,-1.0000001499999887,-1.0000001499999887,-1.0000001499999887,-1.0000001499999887,-1.0000001499999887,-1.0000001499999887,-1.0000001499999887,-1.0000001499999887,-1.0000001499999887,-1.0000001499999887,-1.0000001499999887,-1.0000001499999887,-1.0000001499999887,-1.0000001499999887,-1.0000001499999887,-1.0000001499999887,-1.0000001499999887,-1.0000001499999887,-1.0000001499999887,-1.0000001499999887,-1.0000001499999887,-1.0000001499999887,-1.0000001499999887,-1.0000001499999887,-1.0000001499999887,-1.0000001499999887,-1.0000001499999887,-1.0000001499999887,-1.0000001499999887,-1.0000001499999887,-1.0000001499999887,-1.0000001499999887,-1.0000001499999887,-1.0000001499999887,-1.0000001499999887,-1.0000001499999887,-1.0000001499999887,-1.0000001499999887,-1.0000001499999887,-1.0000001499999887,-1.0000001499999887,-1.0000001499999887,-1.0000001499999887,-1.0000001499999887,-1.0000001499999887,-1.0000001499999887,-1.0000001499999887,-1.0000001499999887,-1.0000001499999887,-1.0000001499999887,-1.0000001499999887,-1.0000001499999887,-1.0000001499999887],\"type\":\"scatter\"},{\"fill\":\"toself\",\"fillcolor\":\"rgba(189,195,199,0.5)\",\"hoverinfo\":\"skip\",\"line\":{\"color\":\"rgba(200,200,200,0)\"},\"name\":\"mean plus\\u002fminus 2*standard deviation\",\"showlegend\":true,\"visible\":true,\"x\":[0.1,0.15000000000000002,0.20000000000000004,0.25000000000000006,0.30000000000000004,0.3500000000000001,0.40000000000000013,0.45000000000000007,0.5000000000000001,0.5500000000000002,0.6000000000000002,0.6500000000000001,0.7000000000000002,0.7500000000000002,0.8000000000000002,0.8500000000000002,0.9000000000000002,0.9500000000000003,1.0000000000000004,1.0500000000000003,1.1000000000000005,1.1500000000000004,1.2000000000000004,1.2500000000000004,1.3000000000000005,1.3500000000000005,1.4000000000000006,1.4500000000000006,1.5000000000000004,1.5500000000000005,1.6000000000000005,1.6500000000000006,1.7000000000000006,1.7500000000000007,1.8000000000000007,1.8500000000000008,1.9000000000000008,1.9500000000000006,2.0000000000000004,2.0500000000000007,2.100000000000001,2.150000000000001,2.2000000000000006,2.250000000000001,2.3000000000000007,2.350000000000001,2.400000000000001,2.450000000000001,2.500000000000001,2.5500000000000007,2.600000000000001,2.650000000000001,2.700000000000001,2.750000000000001,2.800000000000001,2.850000000000001,2.900000000000001,2.950000000000001,3.000000000000001,3.050000000000001,3.100000000000001,3.1500000000000012,3.200000000000001,3.2500000000000013,3.300000000000001,3.350000000000001,3.4000000000000012,3.450000000000001,3.5000000000000013,3.550000000000001,3.6000000000000014,3.6500000000000012,3.7000000000000015,3.7500000000000013,3.800000000000001,3.8500000000000014,3.9000000000000012,3.9500000000000015,4.000000000000001,4.050000000000002,4.100000000000001,4.150000000000001,4.200000000000001,4.250000000000001,4.300000000000001,4.350000000000001,4.400000000000001,4.450000000000001,4.500000000000001,4.550000000000001,4.600000000000001,4.650000000000001,4.700000000000001,4.750000000000001,4.800000000000002,4.850000000000001,4.900000000000001,4.950000000000001,5.000000000000001,5.050000000000002,5.100000000000001,5.150000000000001,5.200000000000001,5.250000000000002,5.300000000000002,5.350000000000001,5.400000000000001,5.450000000000001,5.500000000000002,5.550000000000002,5.600000000000001,5.650000000000001,5.700000000000001,5.750000000000002,5.800000000000002,5.850000000000001,5.900000000000001,5.950000000000002,6.000000000000002,6.050000000000002,6.100000000000001,6.150000000000001,6.200000000000002,6.250000000000002,6.300000000000002,6.350000000000001,6.400000000000002,6.450000000000002,6.500000000000002,6.550000000000002,6.600000000000001,6.650000000000002,6.700000000000002,6.750000000000002,6.800000000000002,6.850000000000002,6.900000000000002,6.950000000000002,6.950000000000002,6.900000000000002,6.850000000000002,6.800000000000002,6.750000000000002,6.700000000000002,6.650000000000002,6.600000000000001,6.550000000000002,6.500000000000002,6.450000000000002,6.400000000000002,6.350000000000001,6.300000000000002,6.250000000000002,6.200000000000002,6.150000000000001,6.100000000000001,6.050000000000002,6.000000000000002,5.950000000000002,5.900000000000001,5.850000000000001,5.800000000000002,5.750000000000002,5.700000000000001,5.650000000000001,5.600000000000001,5.550000000000002,5.500000000000002,5.450000000000001,5.400000000000001,5.350000000000001,5.300000000000002,5.250000000000002,5.200000000000001,5.150000000000001,5.100000000000001,5.050000000000002,5.000000000000001,4.950000000000001,4.900000000000001,4.850000000000001,4.800000000000002,4.750000000000001,4.700000000000001,4.650000000000001,4.600000000000001,4.550000000000001,4.500000000000001,4.450000000000001,4.400000000000001,4.350000000000001,4.300000000000001,4.250000000000001,4.200000000000001,4.150000000000001,4.100000000000001,4.050000000000002,4.000000000000001,3.9500000000000015,3.9000000000000012,3.8500000000000014,3.800000000000001,3.7500000000000013,3.7000000000000015,3.6500000000000012,3.6000000000000014,3.550000000000001,3.5000000000000013,3.450000000000001,3.4000000000000012,3.350000000000001,3.300000000000001,3.2500000000000013,3.200000000000001,3.1500000000000012,3.100000000000001,3.050000000000001,3.000000000000001,2.950000000000001,2.900000000000001,2.850000000000001,2.800000000000001,2.750000000000001,2.700000000000001,2.650000000000001,2.600000000000001,2.5500000000000007,2.500000000000001,2.450000000000001,2.400000000000001,2.350000000000001,2.3000000000000007,2.250000000000001,2.2000000000000006,2.150000000000001,2.100000000000001,2.0500000000000007,2.0000000000000004,1.9500000000000006,1.9000000000000008,1.8500000000000008,1.8000000000000007,1.7500000000000007,1.7000000000000006,1.6500000000000006,1.6000000000000005,1.5500000000000005,1.5000000000000004,1.4500000000000006,1.4000000000000006,1.3500000000000005,1.3000000000000005,1.2500000000000004,1.2000000000000004,1.1500000000000004,1.1000000000000005,1.0500000000000003,1.0000000000000004,0.9500000000000003,0.9000000000000002,0.8500000000000002,0.8000000000000002,0.7500000000000002,0.7000000000000002,0.6500000000000001,0.6000000000000002,0.5500000000000002,0.5000000000000001,0.45000000000000007,0.40000000000000013,0.3500000000000001,0.30000000000000004,0.25000000000000006,0.20000000000000004,0.15000000000000002,0.1],\"y\":[2.0000002999999773,2.0000002999999773,2.0000002999999773,2.0000002999999773,2.0000002999999773,2.0000002999999773,2.0000002999999773,2.0000002999999773,2.0000002999999773,2.0000002999999773,2.0000002999999773,2.0000002999999773,2.0000002999999773,2.0000002999999773,2.0000002999999773,2.0000002999999773,2.0000002999999773,2.0000002999999773,2.0000002999999773,2.0000002999999773,2.0000002999999773,2.0000002999999773,2.0000002999999773,2.0000002999999773,2.0000002999999773,2.0000002999999773,2.0000002999999773,2.0000002999999773,2.0000002999999773,2.0000002999999773,2.0000002999999773,2.0000002999999773,2.0000002999999773,2.0000002999999773,2.0000002999999773,2.0000002999999773,2.0000002999999773,2.0000002999999773,2.0000002999999773,2.0000002999999773,2.0000002999999773,2.0000002999999773,2.0000002999999773,2.0000002999999773,2.0000002999999773,2.0000002999999773,2.0000002999999773,2.0000002999999773,2.0000002999999773,2.0000002999999773,2.0000002999999773,2.0000002999999773,2.0000002999999773,2.0000002999999773,2.0000002999999773,2.0000002999999773,2.0000002999999773,2.0000002999999773,2.0000002999999773,2.0000002999999773,2.0000002999999773,2.0000002999999773,2.0000002999999773,2.0000002999999773,2.0000002999999773,2.0000002999999773,2.0000002999999773,2.0000002999999773,2.0000002999999773,2.0000002999999773,2.0000002999999773,2.0000002999999773,2.0000002999999773,2.0000002999999773,2.0000002999999773,2.0000002999999773,2.0000002999999773,2.0000002999999773,2.0000002999999773,2.0000002999999773,2.0000002999999773,2.0000002999999773,2.0000002999999773,2.0000002999999773,2.0000002999999773,2.0000002999999773,2.0000002999999773,2.0000002999999773,2.0000002999999773,2.0000002999999773,2.0000002999999773,2.0000002999999773,2.0000002999999773,2.0000002999999773,2.0000002999999773,2.0000002999999773,2.0000002999999773,2.0000002999999773,2.0000002999999773,2.0000002999999773,2.0000002999999773,2.0000002999999773,2.0000002999999773,2.0000002999999773,2.0000002999999773,2.0000002999999773,2.0000002999999773,2.0000002999999773,2.0000002999999773,2.0000002999999773,2.0000002999999773,2.0000002999999773,2.0000002999999773,2.0000002999999773,2.0000002999999773,2.0000002999999773,2.0000002999999773,2.0000002999999773,2.0000002999999773,2.0000002999999773,2.0000002999999773,2.0000002999999773,2.0000002999999773,2.0000002999999773,2.0000002999999773,2.0000002999999773,2.0000002999999773,2.0000002999999773,2.0000002999999773,2.0000002999999773,2.0000002999999773,2.0000002999999773,2.0000002999999773,2.0000002999999773,2.0000002999999773,2.0000002999999773,2.0000002999999773,2.0000002999999773,-2.0000002999999773,-2.0000002999999773,-2.0000002999999773,-2.0000002999999773,-2.0000002999999773,-2.0000002999999773,-2.0000002999999773,-2.0000002999999773,-2.0000002999999773,-2.0000002999999773,-2.0000002999999773,-2.0000002999999773,-2.0000002999999773,-2.0000002999999773,-2.0000002999999773,-2.0000002999999773,-2.0000002999999773,-2.0000002999999773,-2.0000002999999773,-2.0000002999999773,-2.0000002999999773,-2.0000002999999773,-2.0000002999999773,-2.0000002999999773,-2.0000002999999773,-2.0000002999999773,-2.0000002999999773,-2.0000002999999773,-2.0000002999999773,-2.0000002999999773,-2.0000002999999773,-2.0000002999999773,-2.0000002999999773,-2.0000002999999773,-2.0000002999999773,-2.0000002999999773,-2.0000002999999773,-2.0000002999999773,-2.0000002999999773,-2.0000002999999773,-2.0000002999999773,-2.0000002999999773,-2.0000002999999773,-2.0000002999999773,-2.0000002999999773,-2.0000002999999773,-2.0000002999999773,-2.0000002999999773,-2.0000002999999773,-2.0000002999999773,-2.0000002999999773,-2.0000002999999773,-2.0000002999999773,-2.0000002999999773,-2.0000002999999773,-2.0000002999999773,-2.0000002999999773,-2.0000002999999773,-2.0000002999999773,-2.0000002999999773,-2.0000002999999773,-2.0000002999999773,-2.0000002999999773,-2.0000002999999773,-2.0000002999999773,-2.0000002999999773,-2.0000002999999773,-2.0000002999999773,-2.0000002999999773,-2.0000002999999773,-2.0000002999999773,-2.0000002999999773,-2.0000002999999773,-2.0000002999999773,-2.0000002999999773,-2.0000002999999773,-2.0000002999999773,-2.0000002999999773,-2.0000002999999773,-2.0000002999999773,-2.0000002999999773,-2.0000002999999773,-2.0000002999999773,-2.0000002999999773,-2.0000002999999773,-2.0000002999999773,-2.0000002999999773,-2.0000002999999773,-2.0000002999999773,-2.0000002999999773,-2.0000002999999773,-2.0000002999999773,-2.0000002999999773,-2.0000002999999773,-2.0000002999999773,-2.0000002999999773,-2.0000002999999773,-2.0000002999999773,-2.0000002999999773,-2.0000002999999773,-2.0000002999999773,-2.0000002999999773,-2.0000002999999773,-2.0000002999999773,-2.0000002999999773,-2.0000002999999773,-2.0000002999999773,-2.0000002999999773,-2.0000002999999773,-2.0000002999999773,-2.0000002999999773,-2.0000002999999773,-2.0000002999999773,-2.0000002999999773,-2.0000002999999773,-2.0000002999999773,-2.0000002999999773,-2.0000002999999773,-2.0000002999999773,-2.0000002999999773,-2.0000002999999773,-2.0000002999999773,-2.0000002999999773,-2.0000002999999773,-2.0000002999999773,-2.0000002999999773,-2.0000002999999773,-2.0000002999999773,-2.0000002999999773,-2.0000002999999773,-2.0000002999999773,-2.0000002999999773,-2.0000002999999773,-2.0000002999999773,-2.0000002999999773,-2.0000002999999773,-2.0000002999999773,-2.0000002999999773],\"type\":\"scatter\"},{\"fill\":\"toself\",\"fillcolor\":\"rgba(189,195,199,0.5)\",\"hoverinfo\":\"skip\",\"line\":{\"color\":\"rgba(200,200,200,0)\"},\"name\":\"mean plus\\u002fminus 3*standard deviation\",\"showlegend\":true,\"visible\":true,\"x\":[0.1,0.15000000000000002,0.20000000000000004,0.25000000000000006,0.30000000000000004,0.3500000000000001,0.40000000000000013,0.45000000000000007,0.5000000000000001,0.5500000000000002,0.6000000000000002,0.6500000000000001,0.7000000000000002,0.7500000000000002,0.8000000000000002,0.8500000000000002,0.9000000000000002,0.9500000000000003,1.0000000000000004,1.0500000000000003,1.1000000000000005,1.1500000000000004,1.2000000000000004,1.2500000000000004,1.3000000000000005,1.3500000000000005,1.4000000000000006,1.4500000000000006,1.5000000000000004,1.5500000000000005,1.6000000000000005,1.6500000000000006,1.7000000000000006,1.7500000000000007,1.8000000000000007,1.8500000000000008,1.9000000000000008,1.9500000000000006,2.0000000000000004,2.0500000000000007,2.100000000000001,2.150000000000001,2.2000000000000006,2.250000000000001,2.3000000000000007,2.350000000000001,2.400000000000001,2.450000000000001,2.500000000000001,2.5500000000000007,2.600000000000001,2.650000000000001,2.700000000000001,2.750000000000001,2.800000000000001,2.850000000000001,2.900000000000001,2.950000000000001,3.000000000000001,3.050000000000001,3.100000000000001,3.1500000000000012,3.200000000000001,3.2500000000000013,3.300000000000001,3.350000000000001,3.4000000000000012,3.450000000000001,3.5000000000000013,3.550000000000001,3.6000000000000014,3.6500000000000012,3.7000000000000015,3.7500000000000013,3.800000000000001,3.8500000000000014,3.9000000000000012,3.9500000000000015,4.000000000000001,4.050000000000002,4.100000000000001,4.150000000000001,4.200000000000001,4.250000000000001,4.300000000000001,4.350000000000001,4.400000000000001,4.450000000000001,4.500000000000001,4.550000000000001,4.600000000000001,4.650000000000001,4.700000000000001,4.750000000000001,4.800000000000002,4.850000000000001,4.900000000000001,4.950000000000001,5.000000000000001,5.050000000000002,5.100000000000001,5.150000000000001,5.200000000000001,5.250000000000002,5.300000000000002,5.350000000000001,5.400000000000001,5.450000000000001,5.500000000000002,5.550000000000002,5.600000000000001,5.650000000000001,5.700000000000001,5.750000000000002,5.800000000000002,5.850000000000001,5.900000000000001,5.950000000000002,6.000000000000002,6.050000000000002,6.100000000000001,6.150000000000001,6.200000000000002,6.250000000000002,6.300000000000002,6.350000000000001,6.400000000000002,6.450000000000002,6.500000000000002,6.550000000000002,6.600000000000001,6.650000000000002,6.700000000000002,6.750000000000002,6.800000000000002,6.850000000000002,6.900000000000002,6.950000000000002,6.950000000000002,6.900000000000002,6.850000000000002,6.800000000000002,6.750000000000002,6.700000000000002,6.650000000000002,6.600000000000001,6.550000000000002,6.500000000000002,6.450000000000002,6.400000000000002,6.350000000000001,6.300000000000002,6.250000000000002,6.200000000000002,6.150000000000001,6.100000000000001,6.050000000000002,6.000000000000002,5.950000000000002,5.900000000000001,5.850000000000001,5.800000000000002,5.750000000000002,5.700000000000001,5.650000000000001,5.600000000000001,5.550000000000002,5.500000000000002,5.450000000000001,5.400000000000001,5.350000000000001,5.300000000000002,5.250000000000002,5.200000000000001,5.150000000000001,5.100000000000001,5.050000000000002,5.000000000000001,4.950000000000001,4.900000000000001,4.850000000000001,4.800000000000002,4.750000000000001,4.700000000000001,4.650000000000001,4.600000000000001,4.550000000000001,4.500000000000001,4.450000000000001,4.400000000000001,4.350000000000001,4.300000000000001,4.250000000000001,4.200000000000001,4.150000000000001,4.100000000000001,4.050000000000002,4.000000000000001,3.9500000000000015,3.9000000000000012,3.8500000000000014,3.800000000000001,3.7500000000000013,3.7000000000000015,3.6500000000000012,3.6000000000000014,3.550000000000001,3.5000000000000013,3.450000000000001,3.4000000000000012,3.350000000000001,3.300000000000001,3.2500000000000013,3.200000000000001,3.1500000000000012,3.100000000000001,3.050000000000001,3.000000000000001,2.950000000000001,2.900000000000001,2.850000000000001,2.800000000000001,2.750000000000001,2.700000000000001,2.650000000000001,2.600000000000001,2.5500000000000007,2.500000000000001,2.450000000000001,2.400000000000001,2.350000000000001,2.3000000000000007,2.250000000000001,2.2000000000000006,2.150000000000001,2.100000000000001,2.0500000000000007,2.0000000000000004,1.9500000000000006,1.9000000000000008,1.8500000000000008,1.8000000000000007,1.7500000000000007,1.7000000000000006,1.6500000000000006,1.6000000000000005,1.5500000000000005,1.5000000000000004,1.4500000000000006,1.4000000000000006,1.3500000000000005,1.3000000000000005,1.2500000000000004,1.2000000000000004,1.1500000000000004,1.1000000000000005,1.0500000000000003,1.0000000000000004,0.9500000000000003,0.9000000000000002,0.8500000000000002,0.8000000000000002,0.7500000000000002,0.7000000000000002,0.6500000000000001,0.6000000000000002,0.5500000000000002,0.5000000000000001,0.45000000000000007,0.40000000000000013,0.3500000000000001,0.30000000000000004,0.25000000000000006,0.20000000000000004,0.15000000000000002,0.1],\"y\":[3.000000449999966,3.000000449999966,3.000000449999966,3.000000449999966,3.000000449999966,3.000000449999966,3.000000449999966,3.000000449999966,3.000000449999966,3.000000449999966,3.000000449999966,3.000000449999966,3.000000449999966,3.000000449999966,3.000000449999966,3.000000449999966,3.000000449999966,3.000000449999966,3.000000449999966,3.000000449999966,3.000000449999966,3.000000449999966,3.000000449999966,3.000000449999966,3.000000449999966,3.000000449999966,3.000000449999966,3.000000449999966,3.000000449999966,3.000000449999966,3.000000449999966,3.000000449999966,3.000000449999966,3.000000449999966,3.000000449999966,3.000000449999966,3.000000449999966,3.000000449999966,3.000000449999966,3.000000449999966,3.000000449999966,3.000000449999966,3.000000449999966,3.000000449999966,3.000000449999966,3.000000449999966,3.000000449999966,3.000000449999966,3.000000449999966,3.000000449999966,3.000000449999966,3.000000449999966,3.000000449999966,3.000000449999966,3.000000449999966,3.000000449999966,3.000000449999966,3.000000449999966,3.000000449999966,3.000000449999966,3.000000449999966,3.000000449999966,3.000000449999966,3.000000449999966,3.000000449999966,3.000000449999966,3.000000449999966,3.000000449999966,3.000000449999966,3.000000449999966,3.000000449999966,3.000000449999966,3.000000449999966,3.000000449999966,3.000000449999966,3.000000449999966,3.000000449999966,3.000000449999966,3.000000449999966,3.000000449999966,3.000000449999966,3.000000449999966,3.000000449999966,3.000000449999966,3.000000449999966,3.000000449999966,3.000000449999966,3.000000449999966,3.000000449999966,3.000000449999966,3.000000449999966,3.000000449999966,3.000000449999966,3.000000449999966,3.000000449999966,3.000000449999966,3.000000449999966,3.000000449999966,3.000000449999966,3.000000449999966,3.000000449999966,3.000000449999966,3.000000449999966,3.000000449999966,3.000000449999966,3.000000449999966,3.000000449999966,3.000000449999966,3.000000449999966,3.000000449999966,3.000000449999966,3.000000449999966,3.000000449999966,3.000000449999966,3.000000449999966,3.000000449999966,3.000000449999966,3.000000449999966,3.000000449999966,3.000000449999966,3.000000449999966,3.000000449999966,3.000000449999966,3.000000449999966,3.000000449999966,3.000000449999966,3.000000449999966,3.000000449999966,3.000000449999966,3.000000449999966,3.000000449999966,3.000000449999966,3.000000449999966,3.000000449999966,3.000000449999966,3.000000449999966,3.000000449999966,3.000000449999966,-3.000000449999966,-3.000000449999966,-3.000000449999966,-3.000000449999966,-3.000000449999966,-3.000000449999966,-3.000000449999966,-3.000000449999966,-3.000000449999966,-3.000000449999966,-3.000000449999966,-3.000000449999966,-3.000000449999966,-3.000000449999966,-3.000000449999966,-3.000000449999966,-3.000000449999966,-3.000000449999966,-3.000000449999966,-3.000000449999966,-3.000000449999966,-3.000000449999966,-3.000000449999966,-3.000000449999966,-3.000000449999966,-3.000000449999966,-3.000000449999966,-3.000000449999966,-3.000000449999966,-3.000000449999966,-3.000000449999966,-3.000000449999966,-3.000000449999966,-3.000000449999966,-3.000000449999966,-3.000000449999966,-3.000000449999966,-3.000000449999966,-3.000000449999966,-3.000000449999966,-3.000000449999966,-3.000000449999966,-3.000000449999966,-3.000000449999966,-3.000000449999966,-3.000000449999966,-3.000000449999966,-3.000000449999966,-3.000000449999966,-3.000000449999966,-3.000000449999966,-3.000000449999966,-3.000000449999966,-3.000000449999966,-3.000000449999966,-3.000000449999966,-3.000000449999966,-3.000000449999966,-3.000000449999966,-3.000000449999966,-3.000000449999966,-3.000000449999966,-3.000000449999966,-3.000000449999966,-3.000000449999966,-3.000000449999966,-3.000000449999966,-3.000000449999966,-3.000000449999966,-3.000000449999966,-3.000000449999966,-3.000000449999966,-3.000000449999966,-3.000000449999966,-3.000000449999966,-3.000000449999966,-3.000000449999966,-3.000000449999966,-3.000000449999966,-3.000000449999966,-3.000000449999966,-3.000000449999966,-3.000000449999966,-3.000000449999966,-3.000000449999966,-3.000000449999966,-3.000000449999966,-3.000000449999966,-3.000000449999966,-3.000000449999966,-3.000000449999966,-3.000000449999966,-3.000000449999966,-3.000000449999966,-3.000000449999966,-3.000000449999966,-3.000000449999966,-3.000000449999966,-3.000000449999966,-3.000000449999966,-3.000000449999966,-3.000000449999966,-3.000000449999966,-3.000000449999966,-3.000000449999966,-3.000000449999966,-3.000000449999966,-3.000000449999966,-3.000000449999966,-3.000000449999966,-3.000000449999966,-3.000000449999966,-3.000000449999966,-3.000000449999966,-3.000000449999966,-3.000000449999966,-3.000000449999966,-3.000000449999966,-3.000000449999966,-3.000000449999966,-3.000000449999966,-3.000000449999966,-3.000000449999966,-3.000000449999966,-3.000000449999966,-3.000000449999966,-3.000000449999966,-3.000000449999966,-3.000000449999966,-3.000000449999966,-3.000000449999966,-3.000000449999966,-3.000000449999966,-3.000000449999966,-3.000000449999966,-3.000000449999966,-3.000000449999966,-3.000000449999966],\"type\":\"scatter\"},{\"line\":{\"color\":\"blue\",\"width\":2},\"name\":\"Predicted function\",\"showlegend\":true,\"visible\":true,\"x\":[0.1,0.15000000000000002,0.20000000000000004,0.25000000000000006,0.30000000000000004,0.3500000000000001,0.40000000000000013,0.45000000000000007,0.5000000000000001,0.5500000000000002,0.6000000000000002,0.6500000000000001,0.7000000000000002,0.7500000000000002,0.8000000000000002,0.8500000000000002,0.9000000000000002,0.9500000000000003,1.0000000000000004,1.0500000000000003,1.1000000000000005,1.1500000000000004,1.2000000000000004,1.2500000000000004,1.3000000000000005,1.3500000000000005,1.4000000000000006,1.4500000000000006,1.5000000000000004,1.5500000000000005,1.6000000000000005,1.6500000000000006,1.7000000000000006,1.7500000000000007,1.8000000000000007,1.8500000000000008,1.9000000000000008,1.9500000000000006,2.0000000000000004,2.0500000000000007,2.100000000000001,2.150000000000001,2.2000000000000006,2.250000000000001,2.3000000000000007,2.350000000000001,2.400000000000001,2.450000000000001,2.500000000000001,2.5500000000000007,2.600000000000001,2.650000000000001,2.700000000000001,2.750000000000001,2.800000000000001,2.850000000000001,2.900000000000001,2.950000000000001,3.000000000000001,3.050000000000001,3.100000000000001,3.1500000000000012,3.200000000000001,3.2500000000000013,3.300000000000001,3.350000000000001,3.4000000000000012,3.450000000000001,3.5000000000000013,3.550000000000001,3.6000000000000014,3.6500000000000012,3.7000000000000015,3.7500000000000013,3.800000000000001,3.8500000000000014,3.9000000000000012,3.9500000000000015,4.000000000000001,4.050000000000002,4.100000000000001,4.150000000000001,4.200000000000001,4.250000000000001,4.300000000000001,4.350000000000001,4.400000000000001,4.450000000000001,4.500000000000001,4.550000000000001,4.600000000000001,4.650000000000001,4.700000000000001,4.750000000000001,4.800000000000002,4.850000000000001,4.900000000000001,4.950000000000001,5.000000000000001,5.050000000000002,5.100000000000001,5.150000000000001,5.200000000000001,5.250000000000002,5.300000000000002,5.350000000000001,5.400000000000001,5.450000000000001,5.500000000000002,5.550000000000002,5.600000000000001,5.650000000000001,5.700000000000001,5.750000000000002,5.800000000000002,5.850000000000001,5.900000000000001,5.950000000000002,6.000000000000002,6.050000000000002,6.100000000000001,6.150000000000001,6.200000000000002,6.250000000000002,6.300000000000002,6.350000000000001,6.400000000000002,6.450000000000002,6.500000000000002,6.550000000000002,6.600000000000001,6.650000000000002,6.700000000000002,6.750000000000002,6.800000000000002,6.850000000000002,6.900000000000002,6.950000000000002],\"y\":[2.484503837089337e-88,3.279392098723212e-89,4.285525417810504e-90,5.544620927091667e-91,7.10226216753671e-92,9.006967472528023e-93,1.1308826583979992e-93,1.40576766510883e-94,1.730081690658083e-95,2.1080297013882078e-96,2.542985573542264e-97,3.0371631530759036e-98,3.5912811294249432e-99,4.2042423229537506e-100,4.8728509934002635e-101,5.591593327949854e-102,6.352505940661371e-103,7.1451547123098e-104,7.956741504928949e-105,8.772349306303812e-106,9.575327549981062e-107,1.0347809309094823e-107,1.1071341572938933e-108,1.1727599814568617e-109,1.2299149520748024e-110,1.2770211195616746e-111,1.3127382309751136e-112,1.3360270224855093e-113,1.3461994422974876e-114,1.3429524180416672e-115,1.3263828562640352e-116,1.2969828381617305e-117,1.255615343909704e-118,1.2034721766587256e-119,1.142016948599998e-120,1.072916933299082e-121,9.979682051629129e-123,9.190187366601498e-124,8.378940020137364e-125,7.563291736023328e-126,6.7591125593727786e-127,5.980335656470793e-128,5.238639300979772e-129,4.5432693871831116e-130,3.900996273335578e-131,3.3161917729256096e-132,2.791006158761204e-133,2.3256213582541285e-134,1.9185550933682573e-135,1.5669913451857472e-136,1.267114835744141e-137,1.0144307585670654e-138,8.040552599904941e-140,6.309667021260854e-141,4.902121144831716e-142,3.77067145789165e-143,2.87151046036078e-144,2.165006312448245e-145,1.6160879289938726e-146,1.1943396793974605e-147,8.73871932933748e-149,6.330307050077239e-150,4.540030976714802e-151,3.223665054905316e-152,2.2661990960554274e-153,1.5772599206313317e-154,1.0868397868471486e-155,7.414550794142041e-157,5.007964204222961e-158,3.3488418814856325e-159,2.2170991939186795e-160,1.4532243321055882e-161,9.430555013117977e-163,6.0589713655645885e-164,3.854052287647467e-165,2.4271317975932122e-166,1.5133039743679797e-167,9.34148757646731e-169,5.709038393152584e-170,3.4543547966993747e-171,2.0693215252483387e-172,1.227286802107189e-173,7.206447179510294e-175,4.189415225801218e-176,2.411252333373437e-177,1.3740070790503257e-178,7.75161750508764e-180,4.329649643140288e-181,2.3942540426725434e-182,1.3108251322904678e-183,7.105200614946857e-185,3.812984019792594e-186,2.0258658367539545e-187,1.0656471592468393e-188,5.549747670015594e-190,2.861475940579741e-191,1.4607100423120832e-192,7.382356036769559e-194,3.693881960322668e-195,1.8299031095068578e-196,8.974912686604984e-198,4.358022061500949e-199,2.0951044141108304e-200,9.971924334046374e-202,4.69904205936129e-203,2.1922836515194318e-204,1.0126076717091065e-205,4.630658315487946e-207,2.09653112932894e-208,9.397599851669478e-210,4.170514521865248e-211,1.832396197226397e-212,7.9708783497104e-214,3.4328121247349357e-215,1.4636961990690164e-216,6.178867892026329e-218,2.5824024780631513e-219,1.0685528449432576e-220,4.3774897238061344e-222,1.7754617512864116e-223,7.129425931397972e-225,2.8343590009249945e-226,1.1156095115022807e-227,4.3473701046585894e-229,1.6772510636514739e-230,6.406584999732205e-232,2.4227698714140644e-233,9.07099215324247e-235,3.3624394575923705e-236,1.233988779411992e-237,4.483580825504536e-239,1.612856953279722e-240,5.744123300918914e-242,2.0253902348230605e-243,7.070509741526463e-245,2.4437107164911267e-246,8.361918241637954e-248,2.8328207551395086e-249],\"type\":\"scatter\"},{\"marker\":{\"color\":\"red\",\"size\":8},\"mode\":\"markers\",\"name\":\"Training points\",\"showlegend\":true,\"visible\":true,\"x\":[5.789011774065019,3.1890177942845357,4.389014129421709,1.9890258812452397,2.5890209007003793,1.3890351645165082,0.2891522613838655,5.38901232214804,4.789013315941333,3.989015106046028,3.5890163003618976,1.0719149307852758,2.2890230645983896,1.6890296984551227,0.5224711870448977,3.3890170032420026,2.9890186911866916,2.7890197167218815,0.9129802213227155,1.226009944241065,0.6382551523366189,2.4890215640414612,2.3890222829147914,2.1890239177001707,2.0890248524762463,1.8890270189341927,1.7890282838075544,1.5890312911530102,1.489033097772982,0.3891142611925234],\"y\":[0.0,-0.4614966804297005,-0.06360573355020094,-2.1873964687144998,-1.0311521395875012,-4.293239790203302,7.768548062944898,-0.0036619567789024643,-0.02403130818260024,-0.13880486390100089,-0.26045902363910045,-5.751334940733901,-1.512899700815602,-3.1049248894996992,-5.1544351645245,-0.34842525636150157,-0.6065915124077996,-0.792933480363402,-6.4059202857595,-5.034605189136801,-6.447769448783699,-1.1734520451894994,-1.333427961933502,-1.713749753485402,-1.9379328744996016,-2.4639937487285017,-2.769407687643401,-3.4712173673584026,-3.8679647626182003,-0.7293387378510019],\"type\":\"scatter\"},{\"line\":{\"color\":\"pink\",\"width\":2},\"name\":\"True function\",\"showlegend\":true,\"visible\":true,\"x\":[0.2891522613838655,0.3891142611925234,0.4890917973789821,0.5890769595421326,0.6890664280484163,0.7890585658006655,0.8890524721653966,0.9890476107161894,1.0890436420380054,1.18904034088983,1.2890375519213562,1.3890351645165082,1.489033097772982,1.5890312911530102,1.6890296984551227,1.7890282838075544,1.8890270189341927,1.9890258812452397,2.0890248524762463,2.1890239177001707,2.2890230645983896,2.3890222829147914,2.4890215640414612,2.5890209007003793,2.7890197167218815,2.9890186911866916,3.1890177942845357,3.3890170032420026,3.5890163003618976,3.989015106046028,4.389014129421709,4.789013315941333,5.38901232214804,5.789011774065019],\"y\":[7.768548062944898,-0.7293387378510019,-4.451645301694899,-6.0691337854804,-6.6566226379277005,-6.7113534465391,-6.485169821945,-6.113701719524901,-5.673165765260499,-5.207558879405102,-4.742593917006502,-4.293239790203302,-3.8679647626182003,-3.4712173673584026,-3.1049248894996992,-2.769407687643401,-2.4639937487285017,-2.1873964687144998,-1.9379328744996016,-1.713749753485402,-1.512899700815602,-1.333427961933502,-1.1734520451894994,-1.0311521395875012,-0.792933480363402,-0.6065915124077996,-0.4614966804297005,-0.34842525636150157,-0.26045902363910045,-0.13880486390100089,-0.06360573355020094,-0.02403130818260024,-0.0036619567789024643,0.0],\"type\":\"scatter\"}],                        {\"template\":{\"data\":{\"histogram2dcontour\":[{\"type\":\"histogram2dcontour\",\"colorbar\":{\"outlinewidth\":0,\"ticks\":\"\"},\"colorscale\":[[0.0,\"#0d0887\"],[0.1111111111111111,\"#46039f\"],[0.2222222222222222,\"#7201a8\"],[0.3333333333333333,\"#9c179e\"],[0.4444444444444444,\"#bd3786\"],[0.5555555555555556,\"#d8576b\"],[0.6666666666666666,\"#ed7953\"],[0.7777777777777778,\"#fb9f3a\"],[0.8888888888888888,\"#fdca26\"],[1.0,\"#f0f921\"]]}],\"choropleth\":[{\"type\":\"choropleth\",\"colorbar\":{\"outlinewidth\":0,\"ticks\":\"\"}}],\"histogram2d\":[{\"type\":\"histogram2d\",\"colorbar\":{\"outlinewidth\":0,\"ticks\":\"\"},\"colorscale\":[[0.0,\"#0d0887\"],[0.1111111111111111,\"#46039f\"],[0.2222222222222222,\"#7201a8\"],[0.3333333333333333,\"#9c179e\"],[0.4444444444444444,\"#bd3786\"],[0.5555555555555556,\"#d8576b\"],[0.6666666666666666,\"#ed7953\"],[0.7777777777777778,\"#fb9f3a\"],[0.8888888888888888,\"#fdca26\"],[1.0,\"#f0f921\"]]}],\"heatmap\":[{\"type\":\"heatmap\",\"colorbar\":{\"outlinewidth\":0,\"ticks\":\"\"},\"colorscale\":[[0.0,\"#0d0887\"],[0.1111111111111111,\"#46039f\"],[0.2222222222222222,\"#7201a8\"],[0.3333333333333333,\"#9c179e\"],[0.4444444444444444,\"#bd3786\"],[0.5555555555555556,\"#d8576b\"],[0.6666666666666666,\"#ed7953\"],[0.7777777777777778,\"#fb9f3a\"],[0.8888888888888888,\"#fdca26\"],[1.0,\"#f0f921\"]]}],\"heatmapgl\":[{\"type\":\"heatmapgl\",\"colorbar\":{\"outlinewidth\":0,\"ticks\":\"\"},\"colorscale\":[[0.0,\"#0d0887\"],[0.1111111111111111,\"#46039f\"],[0.2222222222222222,\"#7201a8\"],[0.3333333333333333,\"#9c179e\"],[0.4444444444444444,\"#bd3786\"],[0.5555555555555556,\"#d8576b\"],[0.6666666666666666,\"#ed7953\"],[0.7777777777777778,\"#fb9f3a\"],[0.8888888888888888,\"#fdca26\"],[1.0,\"#f0f921\"]]}],\"contourcarpet\":[{\"type\":\"contourcarpet\",\"colorbar\":{\"outlinewidth\":0,\"ticks\":\"\"}}],\"contour\":[{\"type\":\"contour\",\"colorbar\":{\"outlinewidth\":0,\"ticks\":\"\"},\"colorscale\":[[0.0,\"#0d0887\"],[0.1111111111111111,\"#46039f\"],[0.2222222222222222,\"#7201a8\"],[0.3333333333333333,\"#9c179e\"],[0.4444444444444444,\"#bd3786\"],[0.5555555555555556,\"#d8576b\"],[0.6666666666666666,\"#ed7953\"],[0.7777777777777778,\"#fb9f3a\"],[0.8888888888888888,\"#fdca26\"],[1.0,\"#f0f921\"]]}],\"surface\":[{\"type\":\"surface\",\"colorbar\":{\"outlinewidth\":0,\"ticks\":\"\"},\"colorscale\":[[0.0,\"#0d0887\"],[0.1111111111111111,\"#46039f\"],[0.2222222222222222,\"#7201a8\"],[0.3333333333333333,\"#9c179e\"],[0.4444444444444444,\"#bd3786\"],[0.5555555555555556,\"#d8576b\"],[0.6666666666666666,\"#ed7953\"],[0.7777777777777778,\"#fb9f3a\"],[0.8888888888888888,\"#fdca26\"],[1.0,\"#f0f921\"]]}],\"mesh3d\":[{\"type\":\"mesh3d\",\"colorbar\":{\"outlinewidth\":0,\"ticks\":\"\"}}],\"scatter\":[{\"fillpattern\":{\"fillmode\":\"overlay\",\"size\":10,\"solidity\":0.2},\"type\":\"scatter\"}],\"parcoords\":[{\"type\":\"parcoords\",\"line\":{\"colorbar\":{\"outlinewidth\":0,\"ticks\":\"\"}}}],\"scatterpolargl\":[{\"type\":\"scatterpolargl\",\"marker\":{\"colorbar\":{\"outlinewidth\":0,\"ticks\":\"\"}}}],\"bar\":[{\"error_x\":{\"color\":\"#2a3f5f\"},\"error_y\":{\"color\":\"#2a3f5f\"},\"marker\":{\"line\":{\"color\":\"#E5ECF6\",\"width\":0.5},\"pattern\":{\"fillmode\":\"overlay\",\"size\":10,\"solidity\":0.2}},\"type\":\"bar\"}],\"scattergeo\":[{\"type\":\"scattergeo\",\"marker\":{\"colorbar\":{\"outlinewidth\":0,\"ticks\":\"\"}}}],\"scatterpolar\":[{\"type\":\"scatterpolar\",\"marker\":{\"colorbar\":{\"outlinewidth\":0,\"ticks\":\"\"}}}],\"histogram\":[{\"marker\":{\"pattern\":{\"fillmode\":\"overlay\",\"size\":10,\"solidity\":0.2}},\"type\":\"histogram\"}],\"scattergl\":[{\"type\":\"scattergl\",\"marker\":{\"colorbar\":{\"outlinewidth\":0,\"ticks\":\"\"}}}],\"scatter3d\":[{\"type\":\"scatter3d\",\"line\":{\"colorbar\":{\"outlinewidth\":0,\"ticks\":\"\"}},\"marker\":{\"colorbar\":{\"outlinewidth\":0,\"ticks\":\"\"}}}],\"scattermapbox\":[{\"type\":\"scattermapbox\",\"marker\":{\"colorbar\":{\"outlinewidth\":0,\"ticks\":\"\"}}}],\"scatterternary\":[{\"type\":\"scatterternary\",\"marker\":{\"colorbar\":{\"outlinewidth\":0,\"ticks\":\"\"}}}],\"scattercarpet\":[{\"type\":\"scattercarpet\",\"marker\":{\"colorbar\":{\"outlinewidth\":0,\"ticks\":\"\"}}}],\"carpet\":[{\"aaxis\":{\"endlinecolor\":\"#2a3f5f\",\"gridcolor\":\"white\",\"linecolor\":\"white\",\"minorgridcolor\":\"white\",\"startlinecolor\":\"#2a3f5f\"},\"baxis\":{\"endlinecolor\":\"#2a3f5f\",\"gridcolor\":\"white\",\"linecolor\":\"white\",\"minorgridcolor\":\"white\",\"startlinecolor\":\"#2a3f5f\"},\"type\":\"carpet\"}],\"table\":[{\"cells\":{\"fill\":{\"color\":\"#EBF0F8\"},\"line\":{\"color\":\"white\"}},\"header\":{\"fill\":{\"color\":\"#C8D4E3\"},\"line\":{\"color\":\"white\"}},\"type\":\"table\"}],\"barpolar\":[{\"marker\":{\"line\":{\"color\":\"#E5ECF6\",\"width\":0.5},\"pattern\":{\"fillmode\":\"overlay\",\"size\":10,\"solidity\":0.2}},\"type\":\"barpolar\"}],\"pie\":[{\"automargin\":true,\"type\":\"pie\"}]},\"layout\":{\"autotypenumbers\":\"strict\",\"colorway\":[\"#636efa\",\"#EF553B\",\"#00cc96\",\"#ab63fa\",\"#FFA15A\",\"#19d3f3\",\"#FF6692\",\"#B6E880\",\"#FF97FF\",\"#FECB52\"],\"font\":{\"color\":\"#2a3f5f\"},\"hovermode\":\"closest\",\"hoverlabel\":{\"align\":\"left\"},\"paper_bgcolor\":\"white\",\"plot_bgcolor\":\"#E5ECF6\",\"polar\":{\"bgcolor\":\"#E5ECF6\",\"angularaxis\":{\"gridcolor\":\"white\",\"linecolor\":\"white\",\"ticks\":\"\"},\"radialaxis\":{\"gridcolor\":\"white\",\"linecolor\":\"white\",\"ticks\":\"\"}},\"ternary\":{\"bgcolor\":\"#E5ECF6\",\"aaxis\":{\"gridcolor\":\"white\",\"linecolor\":\"white\",\"ticks\":\"\"},\"baxis\":{\"gridcolor\":\"white\",\"linecolor\":\"white\",\"ticks\":\"\"},\"caxis\":{\"gridcolor\":\"white\",\"linecolor\":\"white\",\"ticks\":\"\"}},\"coloraxis\":{\"colorbar\":{\"outlinewidth\":0,\"ticks\":\"\"}},\"colorscale\":{\"sequential\":[[0.0,\"#0d0887\"],[0.1111111111111111,\"#46039f\"],[0.2222222222222222,\"#7201a8\"],[0.3333333333333333,\"#9c179e\"],[0.4444444444444444,\"#bd3786\"],[0.5555555555555556,\"#d8576b\"],[0.6666666666666666,\"#ed7953\"],[0.7777777777777778,\"#fb9f3a\"],[0.8888888888888888,\"#fdca26\"],[1.0,\"#f0f921\"]],\"sequentialminus\":[[0.0,\"#0d0887\"],[0.1111111111111111,\"#46039f\"],[0.2222222222222222,\"#7201a8\"],[0.3333333333333333,\"#9c179e\"],[0.4444444444444444,\"#bd3786\"],[0.5555555555555556,\"#d8576b\"],[0.6666666666666666,\"#ed7953\"],[0.7777777777777778,\"#fb9f3a\"],[0.8888888888888888,\"#fdca26\"],[1.0,\"#f0f921\"]],\"diverging\":[[0,\"#8e0152\"],[0.1,\"#c51b7d\"],[0.2,\"#de77ae\"],[0.3,\"#f1b6da\"],[0.4,\"#fde0ef\"],[0.5,\"#f7f7f7\"],[0.6,\"#e6f5d0\"],[0.7,\"#b8e186\"],[0.8,\"#7fbc41\"],[0.9,\"#4d9221\"],[1,\"#276419\"]]},\"xaxis\":{\"gridcolor\":\"white\",\"linecolor\":\"white\",\"ticks\":\"\",\"title\":{\"standoff\":15},\"zerolinecolor\":\"white\",\"automargin\":true,\"zerolinewidth\":2},\"yaxis\":{\"gridcolor\":\"white\",\"linecolor\":\"white\",\"ticks\":\"\",\"title\":{\"standoff\":15},\"zerolinecolor\":\"white\",\"automargin\":true,\"zerolinewidth\":2},\"scene\":{\"xaxis\":{\"backgroundcolor\":\"#E5ECF6\",\"gridcolor\":\"white\",\"linecolor\":\"white\",\"showbackground\":true,\"ticks\":\"\",\"zerolinecolor\":\"white\",\"gridwidth\":2},\"yaxis\":{\"backgroundcolor\":\"#E5ECF6\",\"gridcolor\":\"white\",\"linecolor\":\"white\",\"showbackground\":true,\"ticks\":\"\",\"zerolinecolor\":\"white\",\"gridwidth\":2},\"zaxis\":{\"backgroundcolor\":\"#E5ECF6\",\"gridcolor\":\"white\",\"linecolor\":\"white\",\"showbackground\":true,\"ticks\":\"\",\"zerolinecolor\":\"white\",\"gridwidth\":2}},\"shapedefaults\":{\"line\":{\"color\":\"#2a3f5f\"}},\"annotationdefaults\":{\"arrowcolor\":\"#2a3f5f\",\"arrowhead\":0,\"arrowwidth\":1},\"geo\":{\"bgcolor\":\"white\",\"landcolor\":\"#E5ECF6\",\"subunitcolor\":\"white\",\"showland\":true,\"showlakes\":true,\"lakecolor\":\"white\"},\"title\":{\"x\":0.05},\"mapbox\":{\"style\":\"light\"}}},\"width\":800,\"height\":600,\"autosize\":false,\"plot_bgcolor\":\"rgba(0,0,0,0)\",\"title\":{\"text\":\"GPR analysis\",\"x\":0.5,\"xanchor\":\"center\"},\"legend\":{\"yanchor\":\"top\",\"y\":0.3,\"xanchor\":\"right\",\"x\":0.95},\"xaxis\":{\"title\":{\"text\":\"input values\"},\"showline\":true,\"linewidth\":1,\"linecolor\":\"black\",\"range\":[0.2,7.0]},\"yaxis\":{\"title\":{\"text\":\"output values\"},\"showline\":true,\"linewidth\":1,\"linecolor\":\"black\",\"range\":[-15,20.0]}},                        {\"responsive\": true}                    ).then(function(){\n",
       "                            \n",
       "var gd = document.getElementById('b588d5f2-2a97-4eb0-93d9-76e6b513a10c');\n",
       "var x = new MutationObserver(function (mutations, observer) {{\n",
       "        var display = window.getComputedStyle(gd).display;\n",
       "        if (!display || display === 'none') {{\n",
       "            console.log([gd, 'removed!']);\n",
       "            Plotly.purge(gd);\n",
       "            observer.disconnect();\n",
       "        }}\n",
       "}});\n",
       "\n",
       "// Listen for the removal of the full notebook cells\n",
       "var notebookContainer = gd.closest('#notebook-container');\n",
       "if (notebookContainer) {{\n",
       "    x.observe(notebookContainer, {childList: true});\n",
       "}}\n",
       "\n",
       "// Listen for the clearing of the current output cell\n",
       "var outputEl = gd.closest('.output');\n",
       "if (outputEl) {{\n",
       "    x.observe(outputEl, {childList: true});\n",
       "}}\n",
       "\n",
       "                        })                };                });            </script>        </div>"
      ]
     },
     "metadata": {},
     "output_type": "display_data"
    }
   ],
   "source": [
    "# First I just load a smaller dataset to make the plotting lighter\n",
    "curvedata = np.loadtxt('dists-energies/datasmall.dat')\n",
    "curvex = curvedata.T[0]\n",
    "curvey = curvedata.T[1]\n",
    "curvey = curvey - zero\n",
    "\n",
    "# Then, I define a suitable range for the x-axis\n",
    "x = np.arange(0.1,7,0.05)\n",
    "\n",
    "# Finally I put the GPR on the plot\n",
    "# Below, you should uncomment each line and plot to see the effect of adding one point at a time\n",
    "model = GPR([-10], [10]) # With this line, you effectively have the GPR before it sees any data\n",
    "# model = GPR(x_values[:1], y_values[:1]) # With this line, you give only one training point\n",
    "# model = GPR(x_values[:3], y_values[:3]) # With this line, you give only three training point\n",
    "# model = GPR(x_values[:5], y_values[:5]) # With this line, you give only five training point\n",
    "# model = GPR(x_values[:], y_values[:]) # With this line, you give all training points\n",
    "\n",
    "data = plot_GPR(data_x=x_values, data_y=y_values, x=x, model=model)\n",
    "fig4 = go.Figure(data=data)\n",
    "fig4 = update_layout_of_graph(fig=fig4,\n",
    "                              title='GPR analysis')\n",
    "fig4.update_xaxes(\n",
    "    range=(0.2, 7.0))\n",
    "fig4.update_yaxes(\n",
    "    range=(-15, 20.0))\n",
    "fig4.show()"
   ]
  },
  {
   "cell_type": "markdown",
   "id": "b409d823",
   "metadata": {},
   "source": [
    "A cool feature of the GPR is that it is a probability distribution over function - so we can literally 'draw' random functions! \n",
    "\n",
    "Click on the button \"add random function\" below the plot multiple times for each training set size.\n",
    "\n",
    "**Question**: How do you understand these random function in the \"function space\" representation of GPR?"
   ]
  },
  {
   "cell_type": "code",
   "execution_count": 32,
   "id": "045e7091",
   "metadata": {},
   "outputs": [
    {
     "data": {
      "application/vnd.jupyter.widget-view+json": {
       "model_id": "adf7dc58934d4e08808cd5179efdf64a",
       "version_major": 2,
       "version_minor": 0
      },
      "text/plain": [
       "VBox(children=(FigureWidget({\n",
       "    'data': [{'marker': {'color': 'red', 'size': 8},\n",
       "              'mode': 'mark…"
      ]
     },
     "execution_count": 32,
     "metadata": {},
     "output_type": "execute_result"
    }
   ],
   "source": [
    "# Below, you should uncomment each line and plot to see the effect of adding one point at a time\n",
    "model = GPR([-10],[-10])\n",
    "# model = GPR(x_values[:1], y_values[:1]) # With this line, you give only one training point\n",
    "# model = GPR(x_values[:3], y_values[:3]) # With this line, you give only three training point\n",
    "# model = GPR(x_values[:5], y_values[:5]) # With this line, you give only five training point\n",
    "# model = GPR(x_values[:], y_values[:]) # With this line, you give all training points\n",
    "\n",
    "mean = model.predict(x)\n",
    "covariance_matrix = model._memory['covariance_matrix']\n",
    "\n",
    "fig1 = go.FigureWidget(data=[dot_scatter(x_dots=x_values, y_dots=y_values)])\n",
    "fig1 = update_layout_of_graph(\n",
    "    fig1,\n",
    "    title='Random drawings (i.e. random functions) of the Gaussian process')\n",
    "\n",
    "button = widgets.Button(description='Add random drawing')\n",
    "\n",
    "\n",
    "def update(_):\n",
    "    with fig1.batch_update():\n",
    "        fig1.add_trace(\n",
    "            line_scatter(x_lines=x,\n",
    "                         y_lines=np.random.multivariate_normal(\n",
    "                             mean, covariance_matrix),\n",
    "                         name_line='random function',\n",
    "                         showlegend=False))\n",
    "        fig1.add_trace(\n",
    "            dot_scatter(x_dots=x_values, y_dots=y_values, showlegend=False))\n",
    "        fig1.add_trace(\n",
    "            dot_scatter2(x_dots=curvex, y_dots=curvey, showlegend=False))\n",
    "\n",
    "\n",
    "button.on_click(update)\n",
    "widgets.VBox([fig1, button])"
   ]
  },
  {
   "cell_type": "markdown",
   "id": "876ee73f",
   "metadata": {},
   "source": [
    "The GPR predictions assume the mean function as the best guess. This is a good assumption if the predictive distribution is Gaussian. For other cases, please refer to Section 2.4 in Rasmussen and Williams. \n",
    "\n",
    "Because GPR is a probabilistic model, we get in addition a measure of the (un)certainty of our prediction. (But be careful how to interpret this uncertainty area! Believing that every 'new' point must be in the uncertainty area is simply wrong! -- This uncertainty simply tells you where the model knows best or does not know at all.)\n",
    "\n",
    "We have already seen this two plots above. Below, it is simply more interactive."
   ]
  },
  {
   "cell_type": "code",
   "execution_count": 38,
   "id": "36354bda",
   "metadata": {},
   "outputs": [
    {
     "data": {
      "application/vnd.jupyter.widget-view+json": {
       "model_id": "c7c84af63f074f478e6c7c437c4d6271",
       "version_major": 2,
       "version_minor": 0
      },
      "text/plain": [
       "VBox(children=(FigureWidget({\n",
       "    'data': [{'fill': 'toself',\n",
       "              'fillcolor': 'rgba(189,195,199,0.5…"
      ]
     },
     "execution_count": 38,
     "metadata": {},
     "output_type": "execute_result"
    }
   ],
   "source": [
    "model = GPR(x_values[:1], y_values[:1])\n",
    "\n",
    "data = plot_GPR(data_x=[-10], data_y=[-10], x=x, model=model)\n",
    "\n",
    "fig2 = go.FigureWidget(data=data)\n",
    "fig2 = update_layout_of_graph(fig2, title='Prediction (i.e. mean) of GPR')\n",
    "fig2.update_xaxes(range=(0.2, 7.0))\n",
    "fig2.update_yaxes(range=(-15, 20.0))\n",
    "\n",
    "button = widgets.Button(description='Add data point')\n",
    "\n",
    "number_of_points = 1\n",
    "\n",
    "# we update the y values of our 4 scatter plots \n",
    "def update(_):\n",
    "    with fig2.batch_update():\n",
    "        global number_of_points\n",
    "        if number_of_points <= len(x_values):\n",
    "            model = GPR(x_values[:number_of_points],\n",
    "                        y_values[:number_of_points])\n",
    "            mean = model.predict(x)\n",
    "            fig2.data[3].y = mean\n",
    "            for i in range(1, 4):\n",
    "                y_upper = mean + i * np.sqrt(model._memory['variance'])\n",
    "                y_lower = mean - i * np.sqrt(model._memory['variance'])\n",
    "                fig2.data[i - 1].y = np.concatenate((y_upper, y_lower[::-1]))\n",
    "\n",
    "            fig2.data[4].x = x_values[:number_of_points]\n",
    "            fig2.data[4].y = y_values[:number_of_points]\n",
    "            fig2.update_xaxes(range=(0.2, 7.0))\n",
    "            fig2.update_yaxes(range=(-15, 20.0))\n",
    "            number_of_points += 1\n",
    "\n",
    "\n",
    "button.on_click(update)\n",
    "widgets.VBox([fig2, button])"
   ]
  },
  {
   "cell_type": "markdown",
   "id": "ce23fd04",
   "metadata": {},
   "source": [
    "**Bonus exercise**: You can test the GPR with different data. Try using multi-dimensional input!"
   ]
  },
  {
   "cell_type": "markdown",
   "id": "1d17146a",
   "metadata": {},
   "source": [
    "### Visualization of effect of free parameters"
   ]
  },
  {
   "cell_type": "markdown",
   "id": "e7e03650",
   "metadata": {},
   "source": [
    "Awesome! Now that we can make predictions with our GPR, lets visualize how the GPR changes if we change the free parameters of the kernel function and the GPR. There are currently three parameters: the length-scale, the variance and the white noise (regularization)."
   ]
  },
  {
   "cell_type": "code",
   "execution_count": 39,
   "id": "cd6e6019",
   "metadata": {},
   "outputs": [
    {
     "data": {
      "application/vnd.jupyter.widget-view+json": {
       "model_id": "429a038ced9d47c89dc118ebb9e38361",
       "version_major": 2,
       "version_minor": 0
      },
      "text/plain": [
       "interactive(children=(FloatSlider(value=1.0, description='sigma', max=3.0, min=0.01, step=0.01), FloatSlider(v…"
      ]
     },
     "metadata": {},
     "output_type": "display_data"
    },
    {
     "data": {
      "application/vnd.jupyter.widget-view+json": {
       "model_id": "8e4b600419cd460bad645ef31e45ef77",
       "version_major": 2,
       "version_minor": 0
      },
      "text/plain": [
       "FigureWidget({\n",
       "    'data': [{'fill': 'toself',\n",
       "              'fillcolor': 'rgba(189,195,199,0.5)',\n",
       "              'hoverinfo': 'skip',\n",
       "              'line': {'color': 'rgba(200,200,200,0)'},\n",
       "              'name': 'mean plus/minus 1*standard deviation',\n",
       "              'showlegend': True,\n",
       "              'type': 'scatter',\n",
       "              'uid': '73db8ffb-28c0-4971-8cb0-7a29e6bbcc2b',\n",
       "              'visible': True,\n",
       "              'x': array([0.1 , 0.15, 0.2 , ..., 0.2 , 0.15, 0.1 ]),\n",
       "              'y': array([24.74658478, 19.80240057, 14.96909988, ..., 14.86527935, 19.64040918,\n",
       "                          24.51068584])},\n",
       "             {'fill': 'toself',\n",
       "              'fillcolor': 'rgba(189,195,199,0.5)',\n",
       "              'hoverinfo': 'skip',\n",
       "              'line': {'color': 'rgba(200,200,200,0)'},\n",
       "              'name': 'mean plus/minus 2*standard deviation',\n",
       "              'showlegend': True,\n",
       "              'type': 'scatter',\n",
       "              'uid': '90837717-1356-4708-b1b9-c731667ea011',\n",
       "              'visible': True,\n",
       "              'x': array([0.1 , 0.15, 0.2 , ..., 0.2 , 0.15, 0.1 ]),\n",
       "              'y': array([24.86453425, 19.88339626, 15.02101014, ..., 14.81336909, 19.55941349,\n",
       "                          24.39273637])},\n",
       "             {'fill': 'toself',\n",
       "              'fillcolor': 'rgba(189,195,199,0.5)',\n",
       "              'hoverinfo': 'skip',\n",
       "              'line': {'color': 'rgba(200,200,200,0)'},\n",
       "              'name': 'mean plus/minus 3*standard deviation',\n",
       "              'showlegend': True,\n",
       "              'type': 'scatter',\n",
       "              'uid': 'd2d68022-58cb-47ec-ad7e-1d94549c5443',\n",
       "              'visible': True,\n",
       "              'x': array([0.1 , 0.15, 0.2 , ..., 0.2 , 0.15, 0.1 ]),\n",
       "              'y': array([24.98248372, 19.96439195, 15.07292041, ..., 14.76145882, 19.4784178 ,\n",
       "                          24.2747869 ])},\n",
       "             {'line': {'color': 'blue', 'width': 2},\n",
       "              'name': 'Predicted function',\n",
       "              'showlegend': True,\n",
       "              'type': 'scatter',\n",
       "              'uid': '1fa2ea0a-85e5-4c02-aa92-44908cdd3990',\n",
       "              'visible': True,\n",
       "              'x': array([0.1 , 0.15, 0.2 , 0.25, 0.3 , 0.35, 0.4 , 0.45, 0.5 , 0.55, 0.6 , 0.65,\n",
       "                          0.7 , 0.75, 0.8 , 0.85, 0.9 , 0.95, 1.  , 1.05, 1.1 , 1.15, 1.2 , 1.25,\n",
       "                          1.3 , 1.35, 1.4 , 1.45, 1.5 , 1.55, 1.6 , 1.65, 1.7 , 1.75, 1.8 , 1.85,\n",
       "                          1.9 , 1.95, 2.  , 2.05, 2.1 , 2.15, 2.2 , 2.25, 2.3 , 2.35, 2.4 , 2.45,\n",
       "                          2.5 , 2.55, 2.6 , 2.65, 2.7 , 2.75, 2.8 , 2.85, 2.9 , 2.95, 3.  , 3.05,\n",
       "                          3.1 , 3.15, 3.2 , 3.25, 3.3 , 3.35, 3.4 , 3.45, 3.5 , 3.55, 3.6 , 3.65,\n",
       "                          3.7 , 3.75, 3.8 , 3.85, 3.9 , 3.95, 4.  , 4.05, 4.1 , 4.15, 4.2 , 4.25,\n",
       "                          4.3 , 4.35, 4.4 , 4.45, 4.5 , 4.55, 4.6 , 4.65, 4.7 , 4.75, 4.8 , 4.85,\n",
       "                          4.9 , 4.95, 5.  , 5.05, 5.1 , 5.15, 5.2 , 5.25, 5.3 , 5.35, 5.4 , 5.45,\n",
       "                          5.5 , 5.55, 5.6 , 5.65, 5.7 , 5.75, 5.8 , 5.85, 5.9 , 5.95, 6.  , 6.05,\n",
       "                          6.1 , 6.15, 6.2 , 6.25, 6.3 , 6.35, 6.4 , 6.45, 6.5 , 6.55, 6.6 , 6.65,\n",
       "                          6.7 , 6.75, 6.8 , 6.85, 6.9 , 6.95]),\n",
       "              'y': array([ 2.46286353e+01,  1.97214049e+01,  1.49171896e+01,  1.03848667e+01,\n",
       "                           6.26625191e+00,  2.66775700e+00, -3.44623022e-01, -2.74659152e+00,\n",
       "                          -4.55311622e+00, -5.81270902e+00, -6.59920470e+00, -7.00207251e+00,\n",
       "                          -7.11640707e+00, -7.03370644e+00, -6.83436763e+00, -6.58254227e+00,\n",
       "                          -6.32364296e+00, -6.08442737e+00, -5.87526485e+00, -5.69395193e+00,\n",
       "                          -5.53031740e+00, -5.37085284e+00, -5.20271099e+00, -5.01660396e+00,\n",
       "                          -4.80836997e+00, -4.57921792e+00, -4.33486538e+00, -4.08393016e+00,\n",
       "                          -3.83599973e+00, -3.59978914e+00, -3.38171607e+00, -3.18509602e+00,\n",
       "                          -3.01001731e+00, -2.85382275e+00, -2.71202366e+00, -2.57941665e+00,\n",
       "                          -2.45116783e+00, -2.32366726e+00, -2.19502587e+00, -2.06517104e+00,\n",
       "                          -1.93557762e+00, -1.80873487e+00, -1.68748604e+00, -1.57438332e+00,\n",
       "                          -1.47117968e+00, -1.37853749e+00, -1.29598272e+00, -1.22208347e+00,\n",
       "                          -1.15479165e+00, -1.09186359e+00, -1.03127043e+00, -9.71522169e-01,\n",
       "                          -9.11854402e-01, -8.52258529e-01, -7.93367894e-01, -7.36237472e-01,\n",
       "                          -6.82070107e-01, -6.31945974e-01, -5.86604756e-01, -5.46314657e-01,\n",
       "                          -5.10842608e-01, -4.79520030e-01, -4.51381960e-01, -4.25346663e-01,\n",
       "                          -4.00399416e-01, -3.75747470e-01, -3.50921969e-01, -3.25814581e-01,\n",
       "                          -3.00649220e-01, -2.75900350e-01, -2.52177123e-01, -2.30096239e-01,\n",
       "                          -2.10165729e-01, -1.92697604e-01, -1.77760618e-01, -1.65176680e-01,\n",
       "                          -1.54557111e-01, -1.45369108e-01, -1.37019176e-01, -1.28939171e-01,\n",
       "                          -1.20661822e-01, -1.11875664e-01, -1.02453439e-01, -9.24525509e-02,\n",
       "                          -8.20902821e-02, -7.16996750e-02, -6.16739730e-02, -5.24081265e-02,\n",
       "                          -4.42452711e-02, -3.74345034e-02, -3.21040851e-02, -2.82517747e-02,\n",
       "                          -2.57516625e-02, -2.43749604e-02, -2.38208335e-02, -2.37526644e-02,\n",
       "                          -2.38350705e-02, -2.37674839e-02, -2.33109980e-02, -2.23063286e-02,\n",
       "                          -2.06819594e-02, -1.84526988e-02, -1.57098483e-02, -1.26048971e-02,\n",
       "                          -9.32907519e-03, -6.09122025e-03, -3.09627153e-03, -5.26350173e-04,\n",
       "                           1.47411128e-03,  2.80829951e-03,  3.43169863e-03,  3.35173131e-03,\n",
       "                           2.62301212e-03,  1.33917373e-03, -3.77595043e-04, -2.38811310e-03,\n",
       "                          -4.54775525e-03, -6.71702693e-03, -8.77043091e-03, -1.06031465e-02,\n",
       "                          -1.21353001e-02, -1.33138451e-02, -1.41122635e-02, -1.45284538e-02,\n",
       "                          -1.45812542e-02, -1.43060896e-02, -1.37502167e-02, -1.29679888e-02,\n",
       "                          -1.20164856e-02, -1.09517567e-02, -9.82583516e-03, -8.68458243e-03,\n",
       "                          -7.56635122e-03, -6.50139163e-03, -5.51188413e-03, -4.61246094e-03,\n",
       "                          -3.81107087e-03, -3.11005016e-03])},\n",
       "             {'marker': {'color': 'red', 'size': 8},\n",
       "              'mode': 'markers',\n",
       "              'name': 'Training points',\n",
       "              'showlegend': True,\n",
       "              'type': 'scatter',\n",
       "              'uid': '3f3397d0-dd1d-4ecf-8eec-3eb57b1a1b3f',\n",
       "              'visible': True,\n",
       "              'x': array([5.78901177, 3.18901779, 4.38901413, 1.98902588, 2.5890209 , 1.38903516,\n",
       "                          0.28915226, 5.38901232, 4.78901332, 3.98901511, 3.5890163 , 1.07191493,\n",
       "                          2.28902306, 1.6890297 , 0.52247119, 3.389017  , 2.98901869, 2.78901972,\n",
       "                          0.91298022, 1.22600994, 0.63825515, 2.48902156, 2.38902228, 2.18902392,\n",
       "                          2.08902485, 1.88902702, 1.78902828, 1.58903129, 1.4890331 , 0.38911426]),\n",
       "              'y': array([ 0.00000000e+00, -4.61496680e-01, -6.36057336e-02, -2.18739647e+00,\n",
       "                          -1.03115214e+00, -4.29323979e+00,  7.76854806e+00, -3.66195678e-03,\n",
       "                          -2.40313082e-02, -1.38804864e-01, -2.60459024e-01, -5.75133494e+00,\n",
       "                          -1.51289970e+00, -3.10492489e+00, -5.15443516e+00, -3.48425256e-01,\n",
       "                          -6.06591512e-01, -7.92933480e-01, -6.40592029e+00, -5.03460519e+00,\n",
       "                          -6.44776945e+00, -1.17345205e+00, -1.33342796e+00, -1.71374975e+00,\n",
       "                          -1.93793287e+00, -2.46399375e+00, -2.76940769e+00, -3.47121737e+00,\n",
       "                          -3.86796476e+00, -7.29338738e-01])},\n",
       "             {'line': {'color': 'pink', 'width': 2},\n",
       "              'name': 'True function',\n",
       "              'showlegend': True,\n",
       "              'type': 'scatter',\n",
       "              'uid': '0fcaa48e-9fca-401e-980f-4935803183c9',\n",
       "              'visible': True,\n",
       "              'x': array([0.28915226, 0.38911426, 0.4890918 , 0.58907696, 0.68906643, 0.78905857,\n",
       "                          0.88905247, 0.98904761, 1.08904364, 1.18904034, 1.28903755, 1.38903516,\n",
       "                          1.4890331 , 1.58903129, 1.6890297 , 1.78902828, 1.88902702, 1.98902588,\n",
       "                          2.08902485, 2.18902392, 2.28902306, 2.38902228, 2.48902156, 2.5890209 ,\n",
       "                          2.78901972, 2.98901869, 3.18901779, 3.389017  , 3.5890163 , 3.98901511,\n",
       "                          4.38901413, 4.78901332, 5.38901232, 5.78901177]),\n",
       "              'y': array([ 7.76854806e+00, -7.29338738e-01, -4.45164530e+00, -6.06913379e+00,\n",
       "                          -6.65662264e+00, -6.71135345e+00, -6.48516982e+00, -6.11370172e+00,\n",
       "                          -5.67316577e+00, -5.20755888e+00, -4.74259392e+00, -4.29323979e+00,\n",
       "                          -3.86796476e+00, -3.47121737e+00, -3.10492489e+00, -2.76940769e+00,\n",
       "                          -2.46399375e+00, -2.18739647e+00, -1.93793287e+00, -1.71374975e+00,\n",
       "                          -1.51289970e+00, -1.33342796e+00, -1.17345205e+00, -1.03115214e+00,\n",
       "                          -7.92933480e-01, -6.06591512e-01, -4.61496680e-01, -3.48425256e-01,\n",
       "                          -2.60459024e-01, -1.38804864e-01, -6.36057336e-02, -2.40313082e-02,\n",
       "                          -3.66195678e-03,  0.00000000e+00])}],\n",
       "    'layout': {'autosize': False,\n",
       "               'height': 600,\n",
       "               'legend': {'x': 0.95, 'xanchor': 'right', 'y': 0.3, 'yanchor': 'top'},\n",
       "               'plot_bgcolor': 'rgba(0,0,0,0)',\n",
       "               'template': '...',\n",
       "               'title': {'text': 'GPR with varying length, sigma and white noise', 'x': 0.5, 'xanchor': 'center'},\n",
       "               'width': 800,\n",
       "               'xaxis': {'linecolor': 'black',\n",
       "                         'linewidth': 1,\n",
       "                         'range': [0.2, 7.0],\n",
       "                         'showline': True,\n",
       "                         'title': {'text': 'input values'}},\n",
       "               'yaxis': {'linecolor': 'black',\n",
       "                         'linewidth': 1,\n",
       "                         'range': [-15, 20.0],\n",
       "                         'showline': True,\n",
       "                         'title': {'text': 'output values'}}}\n",
       "})"
      ]
     },
     "execution_count": 39,
     "metadata": {},
     "output_type": "execute_result"
    }
   ],
   "source": [
    "model = GPR(x_values,\n",
    "            y_values,\n",
    "            covariance_function=SquaredExponentialKernel(length=0.5),\n",
    "            white_noise_sigma=0.1)\n",
    "\n",
    "data = plot_GPR(x_values, y_values, model=model, x=x)\n",
    "\n",
    "fig3 = go.FigureWidget(data=data)\n",
    "fig3.update_xaxes(range=(0.2, 7.0))\n",
    "fig3.update_yaxes(range=(-15, 20.0))\n",
    "\n",
    "\n",
    "# we update the y values of our 4 scatter plots \n",
    "@interact(sigma=(0.01, 3, 0.01), length=(0.01, 3, 0.01), noise=(0.000, 1.000, 0.0001))\n",
    "\n",
    "def update(sigma=1, length=0.5, noise=0.0005):\n",
    "    with fig3.batch_update():\n",
    "        model = GPR(x_values,\n",
    "                    y_values,\n",
    "                    covariance_function=SquaredExponentialKernel(\n",
    "                        sigma_f=sigma, length=length),\n",
    "                    white_noise_sigma=noise)\n",
    "\n",
    "        mean = model.predict(x)\n",
    "        y_upper = mean + np.sqrt(model._memory['variance'])\n",
    "        y_lower = mean - np.sqrt(model._memory['variance'])\n",
    "\n",
    "        \n",
    "        for i in range(1, 4):\n",
    "            y_upper = mean + i * np.sqrt(model._memory['variance'])\n",
    "            y_lower = mean - i * np.sqrt(model._memory['variance'])\n",
    "            fig3.data[i-1].y = np.concatenate((y_upper, y_lower[::-1]))\n",
    "            fig3.update_xaxes(range=(0.2, 7.0))\n",
    "            fig3.update_yaxes(range=(-15, 20.0))\n",
    "        \n",
    "        fig3.data[3].y = mean\n",
    "\n",
    "\n",
    "fig3 = update_layout_of_graph(\n",
    "    fig3, title=\"GPR with varying length, sigma and white noise\")\n",
    "fig3.update_xaxes(range=(0.2, 7.0))\n",
    "fig3.update_yaxes(range=(-15, 20.0))\n",
    "fig3"
   ]
  },
  {
   "cell_type": "markdown",
   "id": "188b1f24",
   "metadata": {},
   "source": [
    "Pretty impressive how many function 'shapes' we can generate with a GPR!\n",
    "\n",
    "But now we naturally raise the question:\n",
    "\n",
    "_What are the best parameters for our GPR and problem?_\n",
    "\n",
    "This question has good answers, taking advantage of the probabilistic nature of GPR. Indeed, it is possible to optimize all of these hyperparameters based on the training data. We will not have time today to go through them!\n",
    "\n",
    "In the book of Rasmussen and Williams, such techniques are covered in Chapter 5. Optimizing the marginal likelihood is an elegant way of doing this. However, it tends to be computationally expensive. In most practical implementation of GPRs, a cross-validation procedure is sufficient to find the best parameter regime. \n",
    "\n",
    "**Bonus exercise**: Following Rasmussen and Williams Chapter 5, can you write a routine that finds the optimal hyperparameters for the training data presented here? You can do it by cross-validation or by optimizing the marginal likelyhood. \n",
    "\n",
    "**Bonus exervise**: To finalize, because of the embedded estimate of uncertainty in GPR, one can also try to guess in which areas of space are worth being sampled next. This can be understood as an active learning technique. In GPR, this is often done by the definition of a so-called acquisition function, which tells the best point to be added in order to improve the model. See [this webpage](https://ekamperi.github.io/machine%20learning/2021/06/11/acquisition-functions.html) for a detailed explanation. An example of a simple function is \n",
    "\n",
    "$$ a(\\boldsymbol{x}) = \\boldsymbol{\\mu}(\\boldsymbol{x}) - \\kappa \\sqrt{\\Sigma (\\boldsymbol{x})} $$ "
   ]
  },
  {
   "cell_type": "code",
   "execution_count": null,
   "id": "0cf685b4-ec4a-4d1d-8050-bad7e7437920",
   "metadata": {},
   "outputs": [],
   "source": []
  }
 ],
 "metadata": {
  "kernelspec": {
   "display_name": "Python 3 (ipykernel)",
   "language": "python",
   "name": "python3"
  },
  "language_info": {
   "codemirror_mode": {
    "name": "ipython",
    "version": 3
   },
   "file_extension": ".py",
   "mimetype": "text/x-python",
   "name": "python",
   "nbconvert_exporter": "python",
   "pygments_lexer": "ipython3",
   "version": "3.11.3"
  },
  "toc": {
   "base_numbering": 1,
   "nav_menu": {},
   "number_sections": true,
   "sideBar": true,
   "skip_h1_title": false,
   "title_cell": "Table of Contents",
   "title_sidebar": "Contents",
   "toc_cell": false,
   "toc_position": {},
   "toc_section_display": true,
   "toc_window_display": false
  },
  "varInspector": {
   "cols": {
    "lenName": 16,
    "lenType": 16,
    "lenVar": 40
   },
   "kernels_config": {
    "python": {
     "delete_cmd_postfix": "",
     "delete_cmd_prefix": "del ",
     "library": "var_list.py",
     "varRefreshCmd": "print(var_dic_list())"
    },
    "r": {
     "delete_cmd_postfix": ") ",
     "delete_cmd_prefix": "rm(",
     "library": "var_list.r",
     "varRefreshCmd": "cat(var_dic_list()) "
    }
   },
   "types_to_exclude": [
    "module",
    "function",
    "builtin_function_or_method",
    "instance",
    "_Feature"
   ],
   "window_display": false
  }
 },
 "nbformat": 4,
 "nbformat_minor": 5
}
